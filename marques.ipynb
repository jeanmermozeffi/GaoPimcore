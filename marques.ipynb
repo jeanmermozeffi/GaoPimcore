{
 "cells": [
  {
   "metadata": {},
   "cell_type": "markdown",
   "source": "### Importation des Bibliothèques et Packages",
   "id": "92c01a44fcac34c6"
  },
  {
   "cell_type": "code",
   "id": "initial_id",
   "metadata": {
    "collapsed": true,
    "ExecuteTime": {
     "end_time": "2024-05-31T11:14:33.940510Z",
     "start_time": "2024-05-31T11:14:33.890226Z"
    }
   },
   "source": [
    "import requests\n",
    "import os\n",
    "import re\n",
    "import time\n",
    "from datetime import datetime\n",
    "import unidecode\n",
    "import uuid\n",
    "\n",
    "from bs4 import BeautifulSoup\n",
    "from selenium import webdriver\n",
    "from selenium.webdriver.common.by import By\n",
    "from selenium.webdriver.chrome.options import Options\n",
    "from selenium.webdriver.chrome.service import Service\n",
    "from selenium.common.exceptions import NoSuchElementException\n",
    "\n",
    "import pandas as pd\n",
    "from pandas.errors import EmptyDataError\n",
    "import numpy as np"
   ],
   "outputs": [],
   "execution_count": 64
  },
  {
   "metadata": {
    "ExecuteTime": {
     "end_time": "2024-05-21T11:28:28.549492Z",
     "start_time": "2024-05-21T11:28:28.545337Z"
    }
   },
   "cell_type": "code",
   "source": [
    "url = \"https://www.largus.fr/Toutes-Marques.html\"\n",
    "port = 59795\n"
   ],
   "id": "dd641ad69f0bd885",
   "outputs": [],
   "execution_count": 2
  },
  {
   "metadata": {},
   "cell_type": "markdown",
   "source": "### Définition des fonction",
   "id": "c1c4803e5050765a"
  },
  {
   "metadata": {
    "ExecuteTime": {
     "end_time": "2024-05-31T08:42:23.196671Z",
     "start_time": "2024-05-31T08:42:23.192275Z"
    }
   },
   "cell_type": "code",
   "source": [
    "def download_image(url, folder_path):\n",
    "    response = requests.get(url)\n",
    "    if response.status_code == 200:\n",
    "        with open(folder_path, 'wb') as f:\n",
    "            f.write(response.content)\n",
    "        print(f\"Image téléchargée avec succès: {folder_path}\")\n",
    "    else:\n",
    "        print(f\"Échec du téléchargement de l'image depuis l'URL: {url}\")"
   ],
   "id": "339a39f3e29f7f1f",
   "outputs": [],
   "execution_count": 4
  },
  {
   "metadata": {
    "ExecuteTime": {
     "end_time": "2024-05-31T08:42:26.651436Z",
     "start_time": "2024-05-31T08:42:26.647204Z"
    }
   },
   "cell_type": "code",
   "source": [
    "def get_driver():\n",
    "    chrome_option = Options()\n",
    "    headless = True\n",
    "    chrome_option.binary_location = '/Applications/Brave Browser.app'\n",
    "    \n",
    "    # if port:\n",
    "    #     chrome_options.add_argument(f'--remote-debugging-port={port}')\n",
    "    # if headless:\n",
    "    #     chrome_options.add_argument('--headless')\n",
    "\n",
    "    service = Service()\n",
    "    driver = webdriver.Chrome(service=service, options=chrome_option)\n",
    "    \n",
    "    return driver"
   ],
   "id": "a8f2c77e650d68f1",
   "outputs": [],
   "execution_count": 5
  },
  {
   "metadata": {
    "ExecuteTime": {
     "end_time": "2024-05-31T08:42:40.293772Z",
     "start_time": "2024-05-31T08:42:40.288407Z"
    }
   },
   "cell_type": "code",
   "source": [
    "def get_page_html(url, port=None, headless=False):\n",
    "    driver = get_driver()\n",
    "  \n",
    "    driver.get(url)\n",
    "\n",
    "    driver.implicitly_wait(30)\n",
    "\n",
    "    html_content = driver.page_source\n",
    "\n",
    "    # Fermer le navigateur\n",
    "    # driver.quit()\n",
    "\n",
    "    return html_content"
   ],
   "id": "41df02c58c3b42fd",
   "outputs": [],
   "execution_count": 6
  },
  {
   "metadata": {},
   "cell_type": "code",
   "outputs": [],
   "execution_count": null,
   "source": "html_content = get_page_html(url)",
   "id": "7a074113e537c64d"
  },
  {
   "metadata": {},
   "cell_type": "code",
   "outputs": [],
   "execution_count": null,
   "source": "soup = BeautifulSoup(html_content, \"html.parser\")",
   "id": "60dde002111e30d7"
  },
  {
   "metadata": {
    "ExecuteTime": {
     "end_time": "2024-05-17T11:36:00.377660Z",
     "start_time": "2024-05-17T11:36:00.319462Z"
    }
   },
   "cell_type": "code",
   "source": [
    "marques = []\n",
    "\n",
    "for item in soup.find_all(\"div\", class_=\"liste-mm-item\"):\n",
    "    marque = {}\n",
    "    marque[\"libelle\"] = item.find(\"a\", class_=\"libelle\").text.strip()\n",
    "    marque[\"lien_url\"] = \"https://www.largus.fr\" + item.find(\"a\", class_=\"libelle\")[\"href\"].replace(\"\\\\/\", \"/\")\n",
    "    marque[\"logo_url\"] = \"https://www.largus.fr\" + item.find(\"img\")[\"src\"].replace(\"\\\\/\", \"/\")\n",
    "    marque[\"alt_text\"] = item.find(\"img\")[\"alt\"]\n",
    "    marques.append(marque)"
   ],
   "id": "4a8e90ea8b4f981a",
   "outputs": [],
   "execution_count": 26
  },
  {
   "metadata": {
    "ExecuteTime": {
     "end_time": "2024-05-17T11:36:04.446698Z",
     "start_time": "2024-05-17T11:36:04.393910Z"
    }
   },
   "cell_type": "code",
   "source": "marques",
   "id": "645e48d80d624237",
   "outputs": [
    {
     "data": {
      "text/plain": [
       "[{'libelle': 'Abarth',\n",
       "  'lien_url': 'https://www.largus.fr/Abarth.html',\n",
       "  'logo_url': 'https://www.largus.fr/img/logos/abarth.png',\n",
       "  'alt_text': 'Abarth'},\n",
       " {'libelle': 'Aiways',\n",
       "  'lien_url': 'https://www.largus.fr/Aiways.html',\n",
       "  'logo_url': 'https://www.largus.fr/img/logos/aiways.png',\n",
       "  'alt_text': 'Aiways'},\n",
       " {'libelle': 'Alfa-Romeo',\n",
       "  'lien_url': 'https://www.largus.fr/Alfa-Romeo.html',\n",
       "  'logo_url': 'https://www.largus.fr/img/logos/alfa-romeo.png',\n",
       "  'alt_text': 'Alfa-Romeo'},\n",
       " {'libelle': 'Alpine',\n",
       "  'lien_url': 'https://www.largus.fr/Alpine.html',\n",
       "  'logo_url': 'https://www.largus.fr/img/logos/alpine.png',\n",
       "  'alt_text': 'Alpine'},\n",
       " {'libelle': 'Aston-Martin',\n",
       "  'lien_url': 'https://www.largus.fr/Aston-Martin.html',\n",
       "  'logo_url': 'https://www.largus.fr/img/logos/aston-martin.png',\n",
       "  'alt_text': 'Aston-Martin'},\n",
       " {'libelle': 'Audi',\n",
       "  'lien_url': 'https://www.largus.fr/Audi.html',\n",
       "  'logo_url': 'https://www.largus.fr/img/logos/audi.png',\n",
       "  'alt_text': 'Audi'},\n",
       " {'libelle': 'BMW',\n",
       "  'lien_url': 'https://www.largus.fr/Bmw.html',\n",
       "  'logo_url': 'https://www.largus.fr/img/logos/bmw.png',\n",
       "  'alt_text': 'BMW'},\n",
       " {'libelle': 'BMW-Alpina',\n",
       "  'lien_url': 'https://www.largus.fr/Bmw-Alpina.html',\n",
       "  'logo_url': 'https://www.largus.fr/img/logos/bmw-alpina.png',\n",
       "  'alt_text': 'BMW-Alpina'},\n",
       " {'libelle': 'BYD',\n",
       "  'lien_url': 'https://www.largus.fr/Byd.html',\n",
       "  'logo_url': 'https://www.largus.fr/v4/includes/images/refonte2013/icon/no-photo_134x91.png',\n",
       "  'alt_text': ''},\n",
       " {'libelle': 'Bentley',\n",
       "  'lien_url': 'https://www.largus.fr/Bentley.html',\n",
       "  'logo_url': 'https://www.largus.fr/img/logos/bentley.png',\n",
       "  'alt_text': 'Bentley'},\n",
       " {'libelle': 'Bluecar',\n",
       "  'lien_url': 'https://www.largus.fr/Bluecar.html',\n",
       "  'logo_url': 'https://www.largus.fr/img/logos/bluecar.png',\n",
       "  'alt_text': 'Bluecar'},\n",
       " {'libelle': 'Cadillac',\n",
       "  'lien_url': 'https://www.largus.fr/Cadillac.html',\n",
       "  'logo_url': 'https://www.largus.fr/img/logos/cadillac.png',\n",
       "  'alt_text': 'Cadillac'},\n",
       " {'libelle': 'Chevrolet',\n",
       "  'lien_url': 'https://www.largus.fr/Chevrolet.html',\n",
       "  'logo_url': 'https://www.largus.fr/img/logos/chevrolet.png',\n",
       "  'alt_text': 'Chevrolet'},\n",
       " {'libelle': 'Chevrolet USA',\n",
       "  'lien_url': 'https://www.largus.fr/Chevrolet-Usa.html',\n",
       "  'logo_url': 'https://www.largus.fr/img/logos/chevrolet-usa.png',\n",
       "  'alt_text': 'Chevrolet USA'},\n",
       " {'libelle': 'Chrysler',\n",
       "  'lien_url': 'https://www.largus.fr/Chrysler.html',\n",
       "  'logo_url': 'https://www.largus.fr/img/logos/chrysler.png',\n",
       "  'alt_text': 'Chrysler'},\n",
       " {'libelle': 'Citroën',\n",
       "  'lien_url': 'https://www.largus.fr/Citroen.html',\n",
       "  'logo_url': 'https://www.largus.fr/img/logos/citroen.png',\n",
       "  'alt_text': 'Citroën'},\n",
       " {'libelle': 'Cupra',\n",
       "  'lien_url': 'https://www.largus.fr/Cupra.html',\n",
       "  'logo_url': 'https://www.largus.fr/img/logos/cupra.png',\n",
       "  'alt_text': 'Cupra'},\n",
       " {'libelle': 'DAF',\n",
       "  'lien_url': 'https://www.largus.fr/Daf.html',\n",
       "  'logo_url': 'https://www.largus.fr/img/logos/daf.png',\n",
       "  'alt_text': 'DAF'},\n",
       " {'libelle': 'DS',\n",
       "  'lien_url': 'https://www.largus.fr/Ds.html',\n",
       "  'logo_url': 'https://www.largus.fr/img/logos/ds.png',\n",
       "  'alt_text': 'DS'},\n",
       " {'libelle': 'Dacia',\n",
       "  'lien_url': 'https://www.largus.fr/Dacia.html',\n",
       "  'logo_url': 'https://www.largus.fr/img/logos/dacia.png',\n",
       "  'alt_text': 'Dacia'},\n",
       " {'libelle': 'Daihatsu',\n",
       "  'lien_url': 'https://www.largus.fr/Daihatsu.html',\n",
       "  'logo_url': 'https://www.largus.fr/img/logos/daihatsu.png',\n",
       "  'alt_text': 'Daihatsu'},\n",
       " {'libelle': 'Dangel',\n",
       "  'lien_url': 'https://www.largus.fr/Dangel.html',\n",
       "  'logo_url': 'https://www.largus.fr/img/logos/dangel.png',\n",
       "  'alt_text': 'Dangel'},\n",
       " {'libelle': 'Dfsk',\n",
       "  'lien_url': 'https://www.largus.fr/Dfsk.html',\n",
       "  'logo_url': 'https://www.largus.fr/v4/includes/images/refonte2013/icon/no-photo_134x91.png',\n",
       "  'alt_text': ''},\n",
       " {'libelle': 'Dodge',\n",
       "  'lien_url': 'https://www.largus.fr/Dodge.html',\n",
       "  'logo_url': 'https://www.largus.fr/img/logos/dodge.png',\n",
       "  'alt_text': 'Dodge'},\n",
       " {'libelle': 'Ferrari',\n",
       "  'lien_url': 'https://www.largus.fr/Ferrari.html',\n",
       "  'logo_url': 'https://www.largus.fr/img/logos/ferrari.png',\n",
       "  'alt_text': 'Ferrari'},\n",
       " {'libelle': 'Fiat',\n",
       "  'lien_url': 'https://www.largus.fr/Fiat.html',\n",
       "  'logo_url': 'https://www.largus.fr/img/logos/fiat.png',\n",
       "  'alt_text': 'Fiat'},\n",
       " {'libelle': 'Fisker',\n",
       "  'lien_url': 'https://www.largus.fr/Fisker.html',\n",
       "  'logo_url': 'https://www.largus.fr/img/logos/fisker.png',\n",
       "  'alt_text': 'Fisker'},\n",
       " {'libelle': 'Ford',\n",
       "  'lien_url': 'https://www.largus.fr/Ford.html',\n",
       "  'logo_url': 'https://www.largus.fr/img/logos/ford.png',\n",
       "  'alt_text': 'Ford'},\n",
       " {'libelle': 'Hommell',\n",
       "  'lien_url': 'https://www.largus.fr/Hommell.html',\n",
       "  'logo_url': 'https://www.largus.fr/img/logos/hommell.png',\n",
       "  'alt_text': 'Hommell'},\n",
       " {'libelle': 'Honda',\n",
       "  'lien_url': 'https://www.largus.fr/Honda.html',\n",
       "  'logo_url': 'https://www.largus.fr/img/logos/honda.png',\n",
       "  'alt_text': 'Honda'},\n",
       " {'libelle': 'Hyundai',\n",
       "  'lien_url': 'https://www.largus.fr/Hyundai.html',\n",
       "  'logo_url': 'https://www.largus.fr/img/logos/hyundai.png',\n",
       "  'alt_text': 'Hyundai'},\n",
       " {'libelle': 'Ineos',\n",
       "  'lien_url': 'https://www.largus.fr/Ineos.html',\n",
       "  'logo_url': 'https://www.largus.fr/v4/includes/images/refonte2013/icon/no-photo_134x91.png',\n",
       "  'alt_text': ''},\n",
       " {'libelle': 'Infiniti',\n",
       "  'lien_url': 'https://www.largus.fr/Infiniti.html',\n",
       "  'logo_url': 'https://www.largus.fr/img/logos/infiniti.png',\n",
       "  'alt_text': 'Infiniti'},\n",
       " {'libelle': 'Isuzu',\n",
       "  'lien_url': 'https://www.largus.fr/Isuzu.html',\n",
       "  'logo_url': 'https://www.largus.fr/img/logos/isuzu.png',\n",
       "  'alt_text': 'Isuzu'},\n",
       " {'libelle': 'Iveco',\n",
       "  'lien_url': 'https://www.largus.fr/Iveco.html',\n",
       "  'logo_url': 'https://www.largus.fr/img/logos/iveco.png',\n",
       "  'alt_text': 'Iveco'},\n",
       " {'libelle': 'Jaguar',\n",
       "  'lien_url': 'https://www.largus.fr/Jaguar.html',\n",
       "  'logo_url': 'https://www.largus.fr/img/logos/jaguar.png',\n",
       "  'alt_text': 'Jaguar'},\n",
       " {'libelle': 'Jeep',\n",
       "  'lien_url': 'https://www.largus.fr/Jeep.html',\n",
       "  'logo_url': 'https://www.largus.fr/img/logos/jeep.png',\n",
       "  'alt_text': 'Jeep'},\n",
       " {'libelle': 'KTM',\n",
       "  'lien_url': 'https://www.largus.fr/Ktm.html',\n",
       "  'logo_url': 'https://www.largus.fr/img/logos/ktm.png',\n",
       "  'alt_text': 'KTM'},\n",
       " {'libelle': 'Kia',\n",
       "  'lien_url': 'https://www.largus.fr/Kia.html',\n",
       "  'logo_url': 'https://www.largus.fr/img/logos/kia.png',\n",
       "  'alt_text': 'Kia'},\n",
       " {'libelle': 'Lada',\n",
       "  'lien_url': 'https://www.largus.fr/Lada.html',\n",
       "  'logo_url': 'https://www.largus.fr/img/logos/lada.png',\n",
       "  'alt_text': 'Lada'},\n",
       " {'libelle': 'Lamborghini',\n",
       "  'lien_url': 'https://www.largus.fr/Lamborghini.html',\n",
       "  'logo_url': 'https://www.largus.fr/img/logos/lamborghini.png',\n",
       "  'alt_text': 'Lamborghini'},\n",
       " {'libelle': 'Lancia',\n",
       "  'lien_url': 'https://www.largus.fr/Lancia.html',\n",
       "  'logo_url': 'https://www.largus.fr/img/logos/lancia.png',\n",
       "  'alt_text': 'Lancia'},\n",
       " {'libelle': 'Land-Rover',\n",
       "  'lien_url': 'https://www.largus.fr/Land-Rover.html',\n",
       "  'logo_url': 'https://www.largus.fr/img/logos/land-rover.png',\n",
       "  'alt_text': 'Land-Rover'},\n",
       " {'libelle': 'Leapmotor',\n",
       "  'lien_url': 'https://www.largus.fr/Leapmotor.html',\n",
       "  'logo_url': 'https://www.largus.fr/v4/includes/images/refonte2013/icon/no-photo_134x91.png',\n",
       "  'alt_text': ''},\n",
       " {'libelle': 'Lexus',\n",
       "  'lien_url': 'https://www.largus.fr/Lexus.html',\n",
       "  'logo_url': 'https://www.largus.fr/img/logos/lexus.png',\n",
       "  'alt_text': 'Lexus'},\n",
       " {'libelle': 'Lotus',\n",
       "  'lien_url': 'https://www.largus.fr/Lotus.html',\n",
       "  'logo_url': 'https://www.largus.fr/img/logos/lotus.png',\n",
       "  'alt_text': 'Lotus'},\n",
       " {'libelle': 'Lynk & Co',\n",
       "  'lien_url': 'https://www.largus.fr/Lynkco.html',\n",
       "  'logo_url': 'https://www.largus.fr/v4/includes/images/refonte2013/icon/no-photo_134x91.png',\n",
       "  'alt_text': ''},\n",
       " {'libelle': 'MG Motor',\n",
       "  'lien_url': 'https://www.largus.fr/Mg-Motor.html',\n",
       "  'logo_url': 'https://www.largus.fr/img/logos/mg-motor.png',\n",
       "  'alt_text': 'MG Motor'},\n",
       " {'libelle': 'Mahindra',\n",
       "  'lien_url': 'https://www.largus.fr/Mahindra.html',\n",
       "  'logo_url': 'https://www.largus.fr/img/logos/mahindra.png',\n",
       "  'alt_text': 'Mahindra'},\n",
       " {'libelle': 'Man',\n",
       "  'lien_url': 'https://www.largus.fr/Man.html',\n",
       "  'logo_url': 'https://www.largus.fr/img/logos/man.png',\n",
       "  'alt_text': 'Man'},\n",
       " {'libelle': 'Maserati',\n",
       "  'lien_url': 'https://www.largus.fr/Maserati.html',\n",
       "  'logo_url': 'https://www.largus.fr/img/logos/maserati.png',\n",
       "  'alt_text': 'Maserati'},\n",
       " {'libelle': 'Maxus',\n",
       "  'lien_url': 'https://www.largus.fr/Maxus.html',\n",
       "  'logo_url': 'https://www.largus.fr/v4/includes/images/refonte2013/icon/no-photo_134x91.png',\n",
       "  'alt_text': ''},\n",
       " {'libelle': 'Mazda',\n",
       "  'lien_url': 'https://www.largus.fr/Mazda.html',\n",
       "  'logo_url': 'https://www.largus.fr/img/logos/mazda.png',\n",
       "  'alt_text': 'Mazda'},\n",
       " {'libelle': 'McLaren',\n",
       "  'lien_url': 'https://www.largus.fr/Mclaren.html',\n",
       "  'logo_url': 'https://www.largus.fr/img/logos/mclaren.png',\n",
       "  'alt_text': 'McLaren'},\n",
       " {'libelle': 'Mercedes-Benz',\n",
       "  'lien_url': 'https://www.largus.fr/Mercedes-Benz.html',\n",
       "  'logo_url': 'https://www.largus.fr/img/logos/mercedes-benz.png',\n",
       "  'alt_text': 'Mercedes-Benz'},\n",
       " {'libelle': 'Mia Electric',\n",
       "  'lien_url': 'https://www.largus.fr/Mia-Electric.html',\n",
       "  'logo_url': 'https://www.largus.fr/img/logos/mia-electric.png',\n",
       "  'alt_text': 'Mia Electric'},\n",
       " {'libelle': 'Mini',\n",
       "  'lien_url': 'https://www.largus.fr/Mini.html',\n",
       "  'logo_url': 'https://www.largus.fr/img/logos/mini.png',\n",
       "  'alt_text': 'Mini'},\n",
       " {'libelle': 'Mitsubishi',\n",
       "  'lien_url': 'https://www.largus.fr/Mitsubishi.html',\n",
       "  'logo_url': 'https://www.largus.fr/img/logos/mitsubishi.png',\n",
       "  'alt_text': 'Mitsubishi'},\n",
       " {'libelle': 'Mitsubishi-Fuso',\n",
       "  'lien_url': 'https://www.largus.fr/Mitsubishi-Fuso.html',\n",
       "  'logo_url': 'https://www.largus.fr/img/logos/fuso.png',\n",
       "  'alt_text': 'Mitsubishi-Fuso'},\n",
       " {'libelle': 'Morgan',\n",
       "  'lien_url': 'https://www.largus.fr/Morgan.html',\n",
       "  'logo_url': 'https://www.largus.fr/img/logos/morgan.png',\n",
       "  'alt_text': 'Morgan'},\n",
       " {'libelle': 'Nissan',\n",
       "  'lien_url': 'https://www.largus.fr/Nissan.html',\n",
       "  'logo_url': 'https://www.largus.fr/img/logos/nissan.png',\n",
       "  'alt_text': 'Nissan'},\n",
       " {'libelle': 'Opel',\n",
       "  'lien_url': 'https://www.largus.fr/Opel.html',\n",
       "  'logo_url': 'https://www.largus.fr/img/logos/opel.png',\n",
       "  'alt_text': 'Opel'},\n",
       " {'libelle': 'PGO',\n",
       "  'lien_url': 'https://www.largus.fr/Pgo.html',\n",
       "  'logo_url': 'https://www.largus.fr/img/logos/pgo.png',\n",
       "  'alt_text': 'PGO'},\n",
       " {'libelle': 'Peugeot',\n",
       "  'lien_url': 'https://www.largus.fr/Peugeot.html',\n",
       "  'logo_url': 'https://www.largus.fr/img/logos/peugeot.png',\n",
       "  'alt_text': 'Peugeot'},\n",
       " {'libelle': 'Piaggio',\n",
       "  'lien_url': 'https://www.largus.fr/Piaggio.html',\n",
       "  'logo_url': 'https://www.largus.fr/img/logos/piaggio.png',\n",
       "  'alt_text': 'Piaggio'},\n",
       " {'libelle': 'Porsche',\n",
       "  'lien_url': 'https://www.largus.fr/Porsche.html',\n",
       "  'logo_url': 'https://www.largus.fr/img/logos/porsche.png',\n",
       "  'alt_text': 'Porsche'},\n",
       " {'libelle': 'Renault',\n",
       "  'lien_url': 'https://www.largus.fr/Renault.html',\n",
       "  'logo_url': 'https://www.largus.fr/img/logos/renault.png',\n",
       "  'alt_text': 'Renault'},\n",
       " {'libelle': 'Renault Trucks',\n",
       "  'lien_url': 'https://www.largus.fr/Renault-Trucks.html',\n",
       "  'logo_url': 'https://www.largus.fr/img/logos/renault_trucks.png',\n",
       "  'alt_text': 'Renault Trucks'},\n",
       " {'libelle': 'Rolls-Royce',\n",
       "  'lien_url': 'https://www.largus.fr/Rolls-Royce.html',\n",
       "  'logo_url': 'https://www.largus.fr/img/logos/rolls-royce.png',\n",
       "  'alt_text': 'Rolls-Royce'},\n",
       " {'libelle': 'Saab',\n",
       "  'lien_url': 'https://www.largus.fr/Saab.html',\n",
       "  'logo_url': 'https://www.largus.fr/img/logos/saab.png',\n",
       "  'alt_text': 'Saab'},\n",
       " {'libelle': 'Santana',\n",
       "  'lien_url': 'https://www.largus.fr/Santana.html',\n",
       "  'logo_url': 'https://www.largus.fr/img/logos/santana.png',\n",
       "  'alt_text': 'Santana'},\n",
       " {'libelle': 'Seat',\n",
       "  'lien_url': 'https://www.largus.fr/Seat.html',\n",
       "  'logo_url': 'https://www.largus.fr/img/logos/seat.png',\n",
       "  'alt_text': 'Seat'},\n",
       " {'libelle': 'Seres',\n",
       "  'lien_url': 'https://www.largus.fr/Seres.html',\n",
       "  'logo_url': 'https://www.largus.fr/v4/includes/images/refonte2013/icon/no-photo_134x91.png',\n",
       "  'alt_text': ''},\n",
       " {'libelle': 'Skoda',\n",
       "  'lien_url': 'https://www.largus.fr/Skoda.html',\n",
       "  'logo_url': 'https://www.largus.fr/img/logos/skoda.png',\n",
       "  'alt_text': 'Skoda'},\n",
       " {'libelle': 'Smart',\n",
       "  'lien_url': 'https://www.largus.fr/Smart.html',\n",
       "  'logo_url': 'https://www.largus.fr/img/logos/smart.png',\n",
       "  'alt_text': 'Smart'},\n",
       " {'libelle': 'Ssangyong',\n",
       "  'lien_url': 'https://www.largus.fr/Ssangyong.html',\n",
       "  'logo_url': 'https://www.largus.fr/img/logos/ssangyong.png',\n",
       "  'alt_text': 'Ssangyong'},\n",
       " {'libelle': 'Subaru',\n",
       "  'lien_url': 'https://www.largus.fr/Subaru.html',\n",
       "  'logo_url': 'https://www.largus.fr/img/logos/subaru.png',\n",
       "  'alt_text': 'Subaru'},\n",
       " {'libelle': 'Suzuki',\n",
       "  'lien_url': 'https://www.largus.fr/Suzuki.html',\n",
       "  'logo_url': 'https://www.largus.fr/img/logos/suzuki.png',\n",
       "  'alt_text': 'Suzuki'},\n",
       " {'libelle': 'Tesla',\n",
       "  'lien_url': 'https://www.largus.fr/Tesla.html',\n",
       "  'logo_url': 'https://www.largus.fr/img/logos/tesla.png',\n",
       "  'alt_text': 'Tesla'},\n",
       " {'libelle': 'Toyota',\n",
       "  'lien_url': 'https://www.largus.fr/Toyota.html',\n",
       "  'logo_url': 'https://www.largus.fr/img/logos/toyota.png',\n",
       "  'alt_text': 'Toyota'},\n",
       " {'libelle': 'Triumph',\n",
       "  'lien_url': 'https://www.largus.fr/Triumph.html',\n",
       "  'logo_url': 'https://www.largus.fr/img/logos/triumph.png',\n",
       "  'alt_text': 'Triumph'},\n",
       " {'libelle': 'Venturi',\n",
       "  'lien_url': 'https://www.largus.fr/Venturi.html',\n",
       "  'logo_url': 'https://www.largus.fr/img/logos/venturi.png',\n",
       "  'alt_text': 'Venturi'},\n",
       " {'libelle': 'Volkswagen',\n",
       "  'lien_url': 'https://www.largus.fr/Volkswagen.html',\n",
       "  'logo_url': 'https://www.largus.fr/img/logos/volkswagen.png',\n",
       "  'alt_text': 'Volkswagen'},\n",
       " {'libelle': 'Volvo',\n",
       "  'lien_url': 'https://www.largus.fr/Volvo.html',\n",
       "  'logo_url': 'https://www.largus.fr/img/logos/volvo.png',\n",
       "  'alt_text': 'Volvo'},\n",
       " {'libelle': '2twenty',\n",
       "  'lien_url': 'https://www.largus.fr/2twenty.html',\n",
       "  'logo_url': 'https://www.largus.fr/v4/includes/images/refonte2013/icon/no-photo_134x91.png',\n",
       "  'alt_text': ''},\n",
       " {'libelle': 'Acma',\n",
       "  'lien_url': 'https://www.largus.fr/Acma.html',\n",
       "  'logo_url': 'https://www.largus.fr/img/logos/acma.png',\n",
       "  'alt_text': 'Acma'},\n",
       " {'libelle': 'Adiva',\n",
       "  'lien_url': 'https://www.largus.fr/Adiva.html',\n",
       "  'logo_url': 'https://www.largus.fr/v4/includes/images/refonte2013/icon/no-photo_134x91.png',\n",
       "  'alt_text': ''},\n",
       " {'libelle': 'Aeon',\n",
       "  'lien_url': 'https://www.largus.fr/Aeon.html',\n",
       "  'logo_url': 'https://www.largus.fr/img/logos/aeon.png',\n",
       "  'alt_text': 'Aeon'},\n",
       " {'libelle': 'Aprilia',\n",
       "  'lien_url': 'https://www.largus.fr/Aprilia.html',\n",
       "  'logo_url': 'https://www.largus.fr/img/logos/aprilia.jpg',\n",
       "  'alt_text': 'Aprilia'},\n",
       " {'libelle': 'Askoll',\n",
       "  'lien_url': 'https://www.largus.fr/Askoll.html',\n",
       "  'logo_url': 'https://www.largus.fr/v4/includes/images/refonte2013/icon/no-photo_134x91.png',\n",
       "  'alt_text': ''},\n",
       " {'libelle': 'Avinton',\n",
       "  'lien_url': 'https://www.largus.fr/Avinton.html',\n",
       "  'logo_url': 'https://www.largus.fr/img/logos/avinton.png',\n",
       "  'alt_text': 'Avinton'},\n",
       " {'libelle': 'Benelli',\n",
       "  'lien_url': 'https://www.largus.fr/Benelli.html',\n",
       "  'logo_url': 'https://www.largus.fr/img/logos/benelli.jpg',\n",
       "  'alt_text': 'Benelli'},\n",
       " {'libelle': 'Beta',\n",
       "  'lien_url': 'https://www.largus.fr/Beta.html',\n",
       "  'logo_url': 'https://www.largus.fr/img/logos/beta.png',\n",
       "  'alt_text': 'Beta'},\n",
       " {'libelle': 'Bimota',\n",
       "  'lien_url': 'https://www.largus.fr/Bimota.html',\n",
       "  'logo_url': 'https://www.largus.fr/img/logos/bimota.png',\n",
       "  'alt_text': 'Bimota'},\n",
       " {'libelle': 'Brixton',\n",
       "  'lien_url': 'https://www.largus.fr/Brixton.html',\n",
       "  'logo_url': 'https://www.largus.fr/v4/includes/images/refonte2013/icon/no-photo_134x91.png',\n",
       "  'alt_text': ''},\n",
       " {'libelle': 'Bullit',\n",
       "  'lien_url': 'https://www.largus.fr/Bullit.html',\n",
       "  'logo_url': 'https://www.largus.fr/v4/includes/images/refonte2013/icon/no-photo_134x91.png',\n",
       "  'alt_text': ''},\n",
       " {'libelle': 'CFMOTO',\n",
       "  'lien_url': 'https://www.largus.fr/Cf-Moto.html',\n",
       "  'logo_url': 'https://www.largus.fr/img/logos/cf_moto.png',\n",
       "  'alt_text': 'CFMOTO'},\n",
       " {'libelle': 'CPI',\n",
       "  'lien_url': 'https://www.largus.fr/Cpi.html',\n",
       "  'logo_url': 'https://www.largus.fr/img/logos/cpi.png',\n",
       "  'alt_text': 'CPI'},\n",
       " {'libelle': 'Cyclone',\n",
       "  'lien_url': 'https://www.largus.fr/Cyclone.html',\n",
       "  'logo_url': 'https://www.largus.fr/v4/includes/images/refonte2013/icon/no-photo_134x91.png',\n",
       "  'alt_text': ''},\n",
       " {'libelle': 'Daelim',\n",
       "  'lien_url': 'https://www.largus.fr/Daelim.html',\n",
       "  'logo_url': 'https://www.largus.fr/img/logos/daelim.png',\n",
       "  'alt_text': 'Daelim'},\n",
       " {'libelle': 'Derbi',\n",
       "  'lien_url': 'https://www.largus.fr/Derbi.html',\n",
       "  'logo_url': 'https://www.largus.fr/img/logos/derbi.jpg',\n",
       "  'alt_text': 'Derbi'},\n",
       " {'libelle': 'Ducati',\n",
       "  'lien_url': 'https://www.largus.fr/Ducati.html',\n",
       "  'logo_url': 'https://www.largus.fr/img/logos/ducati.jpg',\n",
       "  'alt_text': 'Ducati'},\n",
       " {'libelle': 'E-Solex',\n",
       "  'lien_url': 'https://www.largus.fr/E-Solex.html',\n",
       "  'logo_url': 'https://www.largus.fr/img/logos/e-solex.png',\n",
       "  'alt_text': 'E-Solex'},\n",
       " {'libelle': 'Ec City',\n",
       "  'lien_url': 'https://www.largus.fr/Ec-City.html',\n",
       "  'logo_url': 'https://www.largus.fr/v4/includes/images/refonte2013/icon/no-photo_134x91.png',\n",
       "  'alt_text': ''},\n",
       " {'libelle': 'Electric Motion',\n",
       "  'lien_url': 'https://www.largus.fr/Electric-Motion.html',\n",
       "  'logo_url': 'https://www.largus.fr/v4/includes/images/refonte2013/icon/no-photo_134x91.png',\n",
       "  'alt_text': ''},\n",
       " {'libelle': 'Enfield',\n",
       "  'lien_url': 'https://www.largus.fr/Enfield.html',\n",
       "  'logo_url': 'https://www.largus.fr/img/logos/royal-enfield.png',\n",
       "  'alt_text': 'Enfield'},\n",
       " {'libelle': 'Evo-Set',\n",
       "  'lien_url': 'https://www.largus.fr/Evo-Set.html',\n",
       "  'logo_url': 'https://www.largus.fr/img/logos/evo-set.png',\n",
       "  'alt_text': 'Evo-Set'},\n",
       " {'libelle': 'Evoke',\n",
       "  'lien_url': 'https://www.largus.fr/Evoke.html',\n",
       "  'logo_url': 'https://www.largus.fr/v4/includes/images/refonte2013/icon/no-photo_134x91.png',\n",
       "  'alt_text': ''},\n",
       " {'libelle': 'Fantic',\n",
       "  'lien_url': 'https://www.largus.fr/Fantic.html',\n",
       "  'logo_url': 'https://www.largus.fr/img/logos/fantic.jpg',\n",
       "  'alt_text': 'Fantic'},\n",
       " {'libelle': 'Fb Mondial',\n",
       "  'lien_url': 'https://www.largus.fr/Fb-Mondial.html',\n",
       "  'logo_url': 'https://www.largus.fr/v4/includes/images/refonte2013/icon/no-photo_134x91.png',\n",
       "  'alt_text': ''},\n",
       " {'libelle': 'Gas Gas',\n",
       "  'lien_url': 'https://www.largus.fr/Gas-Gas.html',\n",
       "  'logo_url': 'https://www.largus.fr/img/logos/gasgas.png',\n",
       "  'alt_text': 'Gas Gas'},\n",
       " {'libelle': 'Gilera',\n",
       "  'lien_url': 'https://www.largus.fr/Gilera.html',\n",
       "  'logo_url': 'https://www.largus.fr/img/logos/gilera.png',\n",
       "  'alt_text': 'Gilera'},\n",
       " {'libelle': 'Goes',\n",
       "  'lien_url': 'https://www.largus.fr/Goes.html',\n",
       "  'logo_url': 'https://www.largus.fr/img/logos/goes.png',\n",
       "  'alt_text': 'Goes'},\n",
       " {'libelle': 'Govecs',\n",
       "  'lien_url': 'https://www.largus.fr/Govecs.html',\n",
       "  'logo_url': 'https://www.largus.fr/img/logos/govecs.png',\n",
       "  'alt_text': 'Govecs'},\n",
       " {'libelle': 'HM',\n",
       "  'lien_url': 'https://www.largus.fr/Hm.html',\n",
       "  'logo_url': 'https://www.largus.fr/img/logos/hm.png',\n",
       "  'alt_text': 'HM'},\n",
       " {'libelle': 'HM Moto',\n",
       "  'lien_url': 'https://www.largus.fr/Hm-Moto.html',\n",
       "  'logo_url': 'https://www.largus.fr/img/logos/hm-moto.png',\n",
       "  'alt_text': 'HM Moto'},\n",
       " {'libelle': 'HM-Honda',\n",
       "  'lien_url': 'https://www.largus.fr/Hm-Honda.html',\n",
       "  'logo_url': 'https://www.largus.fr/img/logos/hm-honda.png',\n",
       "  'alt_text': 'HM-Honda'},\n",
       " {'libelle': 'Hanway',\n",
       "  'lien_url': 'https://www.largus.fr/Hanway.html',\n",
       "  'logo_url': 'https://www.largus.fr/img/logos/hanway.png',\n",
       "  'alt_text': 'Hanway'},\n",
       " {'libelle': 'Harley-Davidson',\n",
       "  'lien_url': 'https://www.largus.fr/Harley-Davidson.html',\n",
       "  'logo_url': 'https://www.largus.fr/img/logos/harley-davidson.jpg',\n",
       "  'alt_text': 'Harley-Davidson'},\n",
       " {'libelle': 'Husqvarna',\n",
       "  'lien_url': 'https://www.largus.fr/Husqvarna.html',\n",
       "  'logo_url': 'https://www.largus.fr/img/logos/husqvarna.jpg',\n",
       "  'alt_text': 'Husqvarna'},\n",
       " {'libelle': 'Hyosung',\n",
       "  'lien_url': 'https://www.largus.fr/Hyosung.html',\n",
       "  'logo_url': 'https://www.largus.fr/img/logos/hyosung.png',\n",
       "  'alt_text': 'Hyosung'},\n",
       " {'libelle': 'Imf',\n",
       "  'lien_url': 'https://www.largus.fr/Imf.html',\n",
       "  'logo_url': 'https://www.largus.fr/v4/includes/images/refonte2013/icon/no-photo_134x91.png',\n",
       "  'alt_text': ''},\n",
       " {'libelle': 'Indian',\n",
       "  'lien_url': 'https://www.largus.fr/Indian.html',\n",
       "  'logo_url': 'https://www.largus.fr/img/logos/indian-motorcycle.png',\n",
       "  'alt_text': 'Indian'},\n",
       " {'libelle': 'Jincheng',\n",
       "  'lien_url': 'https://www.largus.fr/Jincheng.html',\n",
       "  'logo_url': 'https://www.largus.fr/img/logos/jincheng.png',\n",
       "  'alt_text': 'Jincheng'},\n",
       " {'libelle': 'Johnny Pag',\n",
       "  'lien_url': 'https://www.largus.fr/Johnny-Pag.html',\n",
       "  'logo_url': 'https://www.largus.fr/v4/includes/images/refonte2013/icon/no-photo_134x91.png',\n",
       "  'alt_text': ''},\n",
       " {'libelle': 'Kawasaki',\n",
       "  'lien_url': 'https://www.largus.fr/Kawasaki.html',\n",
       "  'logo_url': 'https://www.largus.fr/img/logos/kawasaki.jpg',\n",
       "  'alt_text': 'Kawasaki'},\n",
       " {'libelle': 'Keeway',\n",
       "  'lien_url': 'https://www.largus.fr/Keeway.html',\n",
       "  'logo_url': 'https://www.largus.fr/img/logos/keeway.png',\n",
       "  'alt_text': 'Keeway'},\n",
       " {'libelle': 'Ksr Moto',\n",
       "  'lien_url': 'https://www.largus.fr/Ksr-Moto.html',\n",
       "  'logo_url': 'https://www.largus.fr/v4/includes/images/refonte2013/icon/no-photo_134x91.png',\n",
       "  'alt_text': ''},\n",
       " {'libelle': 'Kymco',\n",
       "  'lien_url': 'https://www.largus.fr/Kymco.html',\n",
       "  'logo_url': 'https://www.largus.fr/img/logos/kymco.jpg',\n",
       "  'alt_text': 'Kymco'},\n",
       " {'libelle': 'LML',\n",
       "  'lien_url': 'https://www.largus.fr/Lml.html',\n",
       "  'logo_url': 'https://www.largus.fr/img/logos/lml.png',\n",
       "  'alt_text': 'LML'},\n",
       " {'libelle': 'Linhai',\n",
       "  'lien_url': 'https://www.largus.fr/Linhai.html',\n",
       "  'logo_url': 'https://www.largus.fr/img/logos/linhai.png',\n",
       "  'alt_text': 'Linhai'},\n",
       " {'libelle': 'MBK',\n",
       "  'lien_url': 'https://www.largus.fr/Mbk.html',\n",
       "  'logo_url': 'https://www.largus.fr/img/logos/mbk.jpg',\n",
       "  'alt_text': 'MBK'},\n",
       " {'libelle': 'MV Agusta',\n",
       "  'lien_url': 'https://www.largus.fr/Mv-Agusta.html',\n",
       "  'logo_url': 'https://www.largus.fr/img/logos/mv-augusta.png',\n",
       "  'alt_text': 'MV Agusta'},\n",
       " {'libelle': 'Magpower',\n",
       "  'lien_url': 'https://www.largus.fr/Magpower.html',\n",
       "  'logo_url': 'https://www.largus.fr/v4/includes/images/refonte2013/icon/no-photo_134x91.png',\n",
       "  'alt_text': ''},\n",
       " {'libelle': 'Malaguti',\n",
       "  'lien_url': 'https://www.largus.fr/Malaguti.html',\n",
       "  'logo_url': 'https://www.largus.fr/img/logos/malaguti.png',\n",
       "  'alt_text': 'Malaguti'},\n",
       " {'libelle': 'Mash',\n",
       "  'lien_url': 'https://www.largus.fr/Mash.html',\n",
       "  'logo_url': 'https://www.largus.fr/img/logos/mash.png',\n",
       "  'alt_text': 'Mash'},\n",
       " {'libelle': 'Montesa',\n",
       "  'lien_url': 'https://www.largus.fr/Montesa.html',\n",
       "  'logo_url': 'https://www.largus.fr/img/logos/montesa.png',\n",
       "  'alt_text': 'Montesa'},\n",
       " {'libelle': 'Moto Guzzi',\n",
       "  'lien_url': 'https://www.largus.fr/Moto-Guzzi.html',\n",
       "  'logo_url': 'https://www.largus.fr/img/logos/moto-guzzi.jpg',\n",
       "  'alt_text': 'Moto Guzzi'},\n",
       " {'libelle': 'Moto Morini',\n",
       "  'lien_url': 'https://www.largus.fr/Moto-Morini.html',\n",
       "  'logo_url': 'https://www.largus.fr/img/logos/moto-morini.png',\n",
       "  'alt_text': 'Moto Morini'},\n",
       " {'libelle': 'Neco',\n",
       "  'lien_url': 'https://www.largus.fr/Neco.html',\n",
       "  'logo_url': 'https://www.largus.fr/v4/includes/images/refonte2013/icon/no-photo_134x91.png',\n",
       "  'alt_text': ''},\n",
       " {'libelle': 'Niu',\n",
       "  'lien_url': 'https://www.largus.fr/Niu.html',\n",
       "  'logo_url': 'https://www.largus.fr/v4/includes/images/refonte2013/icon/no-photo_134x91.png',\n",
       "  'alt_text': ''},\n",
       " {'libelle': 'Norton',\n",
       "  'lien_url': 'https://www.largus.fr/Norton.html',\n",
       "  'logo_url': 'https://www.largus.fr/img/logos/norton.png',\n",
       "  'alt_text': 'Norton'},\n",
       " {'libelle': 'Orcal',\n",
       "  'lien_url': 'https://www.largus.fr/Orcal.html',\n",
       "  'logo_url': 'https://www.largus.fr/img/logos/orcal.png',\n",
       "  'alt_text': 'Orcal'},\n",
       " {'libelle': 'Ossa',\n",
       "  'lien_url': 'https://www.largus.fr/Ossa.html',\n",
       "  'logo_url': 'https://www.largus.fr/img/logos/ossa.png',\n",
       "  'alt_text': 'Ossa'},\n",
       " {'libelle': 'Pink Mobility',\n",
       "  'lien_url': 'https://www.largus.fr/Pink-Mobility.html',\n",
       "  'logo_url': 'https://www.largus.fr/v4/includes/images/refonte2013/icon/no-photo_134x91.png',\n",
       "  'alt_text': ''},\n",
       " {'libelle': 'Quadro',\n",
       "  'lien_url': 'https://www.largus.fr/Quadro.html',\n",
       "  'logo_url': 'https://www.largus.fr/img/logos/quadro.png',\n",
       "  'alt_text': 'Quadro'},\n",
       " {'libelle': 'Rede',\n",
       "  'lien_url': 'https://www.largus.fr/Rede.html',\n",
       "  'logo_url': 'https://www.largus.fr/v4/includes/images/refonte2013/icon/no-photo_134x91.png',\n",
       "  'alt_text': ''},\n",
       " {'libelle': 'Regal Raptor',\n",
       "  'lien_url': 'https://www.largus.fr/Regal-Raptor.html',\n",
       "  'logo_url': 'https://www.largus.fr/v4/includes/images/refonte2013/icon/no-photo_134x91.png',\n",
       "  'alt_text': ''},\n",
       " {'libelle': 'Rider',\n",
       "  'lien_url': 'https://www.largus.fr/Rider.html',\n",
       "  'logo_url': 'https://www.largus.fr/v4/includes/images/refonte2013/icon/no-photo_134x91.png',\n",
       "  'alt_text': ''},\n",
       " {'libelle': 'Rieju',\n",
       "  'lien_url': 'https://www.largus.fr/Rieju.html',\n",
       "  'logo_url': 'https://www.largus.fr/img/logos/rieju.png',\n",
       "  'alt_text': 'Rieju'},\n",
       " {'libelle': 'SYM',\n",
       "  'lien_url': 'https://www.largus.fr/Sym.html',\n",
       "  'logo_url': 'https://www.largus.fr/img/logos/sym.jpg',\n",
       "  'alt_text': 'SYM'},\n",
       " {'libelle': 'Scorpa',\n",
       "  'lien_url': 'https://www.largus.fr/Scorpa.html',\n",
       "  'logo_url': 'https://www.largus.fr/img/logos/scorpa.png',\n",
       "  'alt_text': 'Scorpa'},\n",
       " {'libelle': 'Sherco',\n",
       "  'lien_url': 'https://www.largus.fr/Sherco.html',\n",
       "  'logo_url': 'https://www.largus.fr/img/logos/sherco.png',\n",
       "  'alt_text': 'Sherco'},\n",
       " {'libelle': 'Silence',\n",
       "  'lien_url': 'https://www.largus.fr/Silence.html',\n",
       "  'logo_url': 'https://www.largus.fr/v4/includes/images/refonte2013/icon/no-photo_134x91.png',\n",
       "  'alt_text': ''},\n",
       " {'libelle': 'Skyteam',\n",
       "  'lien_url': 'https://www.largus.fr/Skyteam.html',\n",
       "  'logo_url': 'https://www.largus.fr/img/logos/skyteam.png',\n",
       "  'alt_text': 'Skyteam'},\n",
       " {'libelle': 'Super Soco',\n",
       "  'lien_url': 'https://www.largus.fr/Super-Socco.html',\n",
       "  'logo_url': 'https://www.largus.fr/v4/includes/images/refonte2013/icon/no-photo_134x91.png',\n",
       "  'alt_text': ''},\n",
       " {'libelle': 'Swm',\n",
       "  'lien_url': 'https://www.largus.fr/Swm.html',\n",
       "  'logo_url': 'https://www.largus.fr/v4/includes/images/refonte2013/icon/no-photo_134x91.png',\n",
       "  'alt_text': ''},\n",
       " {'libelle': 'Vespa',\n",
       "  'lien_url': 'https://www.largus.fr/Vespa.html',\n",
       "  'logo_url': 'https://www.largus.fr/img/logos/vespa.png',\n",
       "  'alt_text': 'Vespa'},\n",
       " {'libelle': 'Victory',\n",
       "  'lien_url': 'https://www.largus.fr/Victory.html',\n",
       "  'logo_url': 'https://www.largus.fr/img/logos/victory.png',\n",
       "  'alt_text': 'Victory'},\n",
       " {'libelle': 'Whattz',\n",
       "  'lien_url': 'https://www.largus.fr/Whattz.html',\n",
       "  'logo_url': 'https://www.largus.fr/v4/includes/images/refonte2013/icon/no-photo_134x91.png',\n",
       "  'alt_text': ''},\n",
       " {'libelle': 'Yadea',\n",
       "  'lien_url': 'https://www.largus.fr/Yadea.html',\n",
       "  'logo_url': 'https://www.largus.fr/v4/includes/images/refonte2013/icon/no-photo_134x91.png',\n",
       "  'alt_text': ''},\n",
       " {'libelle': 'Yamaha',\n",
       "  'lien_url': 'https://www.largus.fr/Yamaha.html',\n",
       "  'logo_url': 'https://www.largus.fr/img/logos/yamaha.jpg',\n",
       "  'alt_text': 'Yamaha'},\n",
       " {'libelle': 'Ycf',\n",
       "  'lien_url': 'https://www.largus.fr/Ycf.html',\n",
       "  'logo_url': 'https://www.largus.fr/v4/includes/images/refonte2013/icon/no-photo_134x91.png',\n",
       "  'alt_text': ''},\n",
       " {'libelle': 'Yiying',\n",
       "  'lien_url': 'https://www.largus.fr/Yiying.html',\n",
       "  'logo_url': 'https://www.largus.fr/img/logos/yiying.png',\n",
       "  'alt_text': 'Yiying'},\n",
       " {'libelle': 'Youbee Motors',\n",
       "  'lien_url': 'https://www.largus.fr/Youbee-Motors.html',\n",
       "  'logo_url': 'https://www.largus.fr/v4/includes/images/refonte2013/icon/no-photo_134x91.png',\n",
       "  'alt_text': ''},\n",
       " {'libelle': 'Zero Motorcycles',\n",
       "  'lien_url': 'https://www.largus.fr/Zero-Motorcycles.html',\n",
       "  'logo_url': 'https://www.largus.fr/img/logos/zero-motorcycles.png',\n",
       "  'alt_text': 'Zero Motorcycles'}]"
      ]
     },
     "execution_count": 27,
     "metadata": {},
     "output_type": "execute_result"
    }
   ],
   "execution_count": 27
  },
  {
   "metadata": {
    "ExecuteTime": {
     "end_time": "2024-05-17T11:36:11.128235Z",
     "start_time": "2024-05-17T11:36:11.118263Z"
    }
   },
   "cell_type": "code",
   "source": "df_marques = pd.DataFrame(marques)",
   "id": "1442de779cdfee74",
   "outputs": [],
   "execution_count": 28
  },
  {
   "metadata": {
    "ExecuteTime": {
     "end_time": "2024-05-27T13:25:38.368219Z",
     "start_time": "2024-05-27T13:25:38.355345Z"
    }
   },
   "cell_type": "code",
   "source": "df_marques",
   "id": "18ba9cb7ed9e7aa8",
   "outputs": [
    {
     "data": {
      "text/plain": [
       "              libelle                                     lien_url  \\\n",
       "0             2twenty           https://www.largus.fr/2twenty.html   \n",
       "1              Abarth            https://www.largus.fr/Abarth.html   \n",
       "2                Acma              https://www.largus.fr/Acma.html   \n",
       "3               Adiva             https://www.largus.fr/Adiva.html   \n",
       "4                Aeon              https://www.largus.fr/Aeon.html   \n",
       "..                ...                                          ...   \n",
       "161            Yamaha            https://www.largus.fr/Yamaha.html   \n",
       "162               Ycf               https://www.largus.fr/Ycf.html   \n",
       "163            Yiying            https://www.largus.fr/Yiying.html   \n",
       "164     Youbee Motors     https://www.largus.fr/Youbee-Motors.html   \n",
       "165  Zero Motorcycles  https://www.largus.fr/Zero-Motorcycles.html   \n",
       "\n",
       "                                              logo_url          alt_text  \\\n",
       "0    https://www.largus.fr/v4/includes/images/refon...                     \n",
       "1          https://www.largus.fÏr/img/logos/abarth.png            Abarth   \n",
       "2             https://www.largus.fr/img/logos/acma.png              Acma   \n",
       "3    https://www.largus.fr/v4/includes/images/refon...                     \n",
       "4             https://www.largus.fr/img/logos/aeon.png              Aeon   \n",
       "..                                                 ...               ...   \n",
       "161         https://www.largus.fr/img/logos/yamaha.jpg            Yamaha   \n",
       "162  https://www.largus.fr/v4/includes/images/refon...                     \n",
       "163         https://www.largus.fr/img/logos/yiying.png            Yiying   \n",
       "164  https://www.largus.fr/v4/includes/images/refon...                     \n",
       "165  https://www.largus.fr/img/logos/zero-motorcycl...  Zero Motorcycles   \n",
       "\n",
       "     Traiter  \n",
       "0          1  \n",
       "1          1  \n",
       "2          1  \n",
       "3          1  \n",
       "4          1  \n",
       "..       ...  \n",
       "161        0  \n",
       "162        0  \n",
       "163        0  \n",
       "164        0  \n",
       "165        0  \n",
       "\n",
       "[166 rows x 5 columns]"
      ],
      "text/html": [
       "<div>\n",
       "<style scoped>\n",
       "    .dataframe tbody tr th:only-of-type {\n",
       "        vertical-align: middle;\n",
       "    }\n",
       "\n",
       "    .dataframe tbody tr th {\n",
       "        vertical-align: top;\n",
       "    }\n",
       "\n",
       "    .dataframe thead th {\n",
       "        text-align: right;\n",
       "    }\n",
       "</style>\n",
       "<table border=\"1\" class=\"dataframe\">\n",
       "  <thead>\n",
       "    <tr style=\"text-align: right;\">\n",
       "      <th></th>\n",
       "      <th>libelle</th>\n",
       "      <th>lien_url</th>\n",
       "      <th>logo_url</th>\n",
       "      <th>alt_text</th>\n",
       "      <th>Traiter</th>\n",
       "    </tr>\n",
       "  </thead>\n",
       "  <tbody>\n",
       "    <tr>\n",
       "      <th>0</th>\n",
       "      <td>2twenty</td>\n",
       "      <td>https://www.largus.fr/2twenty.html</td>\n",
       "      <td>https://www.largus.fr/v4/includes/images/refon...</td>\n",
       "      <td></td>\n",
       "      <td>1</td>\n",
       "    </tr>\n",
       "    <tr>\n",
       "      <th>1</th>\n",
       "      <td>Abarth</td>\n",
       "      <td>https://www.largus.fr/Abarth.html</td>\n",
       "      <td>https://www.largus.fÏr/img/logos/abarth.png</td>\n",
       "      <td>Abarth</td>\n",
       "      <td>1</td>\n",
       "    </tr>\n",
       "    <tr>\n",
       "      <th>2</th>\n",
       "      <td>Acma</td>\n",
       "      <td>https://www.largus.fr/Acma.html</td>\n",
       "      <td>https://www.largus.fr/img/logos/acma.png</td>\n",
       "      <td>Acma</td>\n",
       "      <td>1</td>\n",
       "    </tr>\n",
       "    <tr>\n",
       "      <th>3</th>\n",
       "      <td>Adiva</td>\n",
       "      <td>https://www.largus.fr/Adiva.html</td>\n",
       "      <td>https://www.largus.fr/v4/includes/images/refon...</td>\n",
       "      <td></td>\n",
       "      <td>1</td>\n",
       "    </tr>\n",
       "    <tr>\n",
       "      <th>4</th>\n",
       "      <td>Aeon</td>\n",
       "      <td>https://www.largus.fr/Aeon.html</td>\n",
       "      <td>https://www.largus.fr/img/logos/aeon.png</td>\n",
       "      <td>Aeon</td>\n",
       "      <td>1</td>\n",
       "    </tr>\n",
       "    <tr>\n",
       "      <th>...</th>\n",
       "      <td>...</td>\n",
       "      <td>...</td>\n",
       "      <td>...</td>\n",
       "      <td>...</td>\n",
       "      <td>...</td>\n",
       "    </tr>\n",
       "    <tr>\n",
       "      <th>161</th>\n",
       "      <td>Yamaha</td>\n",
       "      <td>https://www.largus.fr/Yamaha.html</td>\n",
       "      <td>https://www.largus.fr/img/logos/yamaha.jpg</td>\n",
       "      <td>Yamaha</td>\n",
       "      <td>0</td>\n",
       "    </tr>\n",
       "    <tr>\n",
       "      <th>162</th>\n",
       "      <td>Ycf</td>\n",
       "      <td>https://www.largus.fr/Ycf.html</td>\n",
       "      <td>https://www.largus.fr/v4/includes/images/refon...</td>\n",
       "      <td></td>\n",
       "      <td>0</td>\n",
       "    </tr>\n",
       "    <tr>\n",
       "      <th>163</th>\n",
       "      <td>Yiying</td>\n",
       "      <td>https://www.largus.fr/Yiying.html</td>\n",
       "      <td>https://www.largus.fr/img/logos/yiying.png</td>\n",
       "      <td>Yiying</td>\n",
       "      <td>0</td>\n",
       "    </tr>\n",
       "    <tr>\n",
       "      <th>164</th>\n",
       "      <td>Youbee Motors</td>\n",
       "      <td>https://www.largus.fr/Youbee-Motors.html</td>\n",
       "      <td>https://www.largus.fr/v4/includes/images/refon...</td>\n",
       "      <td></td>\n",
       "      <td>0</td>\n",
       "    </tr>\n",
       "    <tr>\n",
       "      <th>165</th>\n",
       "      <td>Zero Motorcycles</td>\n",
       "      <td>https://www.largus.fr/Zero-Motorcycles.html</td>\n",
       "      <td>https://www.largus.fr/img/logos/zero-motorcycl...</td>\n",
       "      <td>Zero Motorcycles</td>\n",
       "      <td>0</td>\n",
       "    </tr>\n",
       "  </tbody>\n",
       "</table>\n",
       "<p>166 rows × 5 columns</p>\n",
       "</div>"
      ]
     },
     "execution_count": 163,
     "metadata": {},
     "output_type": "execute_result"
    }
   ],
   "execution_count": 163
  },
  {
   "metadata": {
    "ExecuteTime": {
     "end_time": "2024-05-27T13:25:56.453482Z",
     "start_time": "2024-05-27T13:25:56.446558Z"
    }
   },
   "cell_type": "code",
   "source": "df_marques.to_json(\"marques.json\", orient=\"records\")",
   "id": "a9d3b5e769048c8",
   "outputs": [],
   "execution_count": 164
  },
  {
   "metadata": {
    "ExecuteTime": {
     "end_time": "2024-05-27T13:25:58.755596Z",
     "start_time": "2024-05-27T13:25:58.748848Z"
    }
   },
   "cell_type": "code",
   "source": "df_marques.to_csv(\"marques.csv\", index=False)",
   "id": "5aaa1264b1685ddf",
   "outputs": [],
   "execution_count": 165
  },
  {
   "metadata": {
    "ExecuteTime": {
     "end_time": "2024-05-17T11:58:46.008071Z",
     "start_time": "2024-05-17T11:57:54.974288Z"
    }
   },
   "cell_type": "code",
   "source": [
    "# Création des dossiers et téléchargement des logos\n",
    "for index, row in df_marques.iterrows():\n",
    "    libelle = row['libelle']\n",
    "    logo_url = row['logo_url']\n",
    "    \n",
    "    # Créer un dossier avec le libellé de la marque\n",
    "    folder_path = os.path.join(f\"Marque Folder/{libelle.capitalize()}\", 'Logo')\n",
    "    os.makedirs(folder_path, exist_ok=True)\n",
    "\n",
    "    # Télécharger le logo dans le dossier 'logo'\n",
    "    logo_filename = os.path.basename(logo_url)\n",
    "    logo_path = os.path.join(folder_path, logo_filename)\n",
    "    download_image(logo_url, logo_path)\n",
    "    "
   ],
   "id": "3d0c301e173b76e3",
   "outputs": [
    {
     "name": "stdout",
     "output_type": "stream",
     "text": [
      "Image téléchargée avec succès: Marque Folder/Abarth/Logo/abarth.png\n",
      "Image téléchargée avec succès: Marque Folder/Aiways/Logo/aiways.png\n",
      "Image téléchargée avec succès: Marque Folder/Alfa-romeo/Logo/alfa-romeo.png\n",
      "Image téléchargée avec succès: Marque Folder/Alpine/Logo/alpine.png\n",
      "Image téléchargée avec succès: Marque Folder/Aston-martin/Logo/aston-martin.png\n",
      "Image téléchargée avec succès: Marque Folder/Audi/Logo/audi.png\n",
      "Image téléchargée avec succès: Marque Folder/Bmw/Logo/bmw.png\n",
      "Image téléchargée avec succès: Marque Folder/Bmw-alpina/Logo/bmw-alpina.png\n",
      "Image téléchargée avec succès: Marque Folder/Byd/Logo/no-photo_134x91.png\n",
      "Image téléchargée avec succès: Marque Folder/Bentley/Logo/bentley.png\n",
      "Image téléchargée avec succès: Marque Folder/Bluecar/Logo/bluecar.png\n",
      "Image téléchargée avec succès: Marque Folder/Cadillac/Logo/cadillac.png\n",
      "Image téléchargée avec succès: Marque Folder/Chevrolet/Logo/chevrolet.png\n",
      "Image téléchargée avec succès: Marque Folder/Chevrolet usa/Logo/chevrolet-usa.png\n",
      "Image téléchargée avec succès: Marque Folder/Chrysler/Logo/chrysler.png\n",
      "Image téléchargée avec succès: Marque Folder/Citroën/Logo/citroen.png\n",
      "Image téléchargée avec succès: Marque Folder/Cupra/Logo/cupra.png\n",
      "Image téléchargée avec succès: Marque Folder/Daf/Logo/daf.png\n",
      "Image téléchargée avec succès: Marque Folder/Ds/Logo/ds.png\n",
      "Image téléchargée avec succès: Marque Folder/Dacia/Logo/dacia.png\n",
      "Image téléchargée avec succès: Marque Folder/Daihatsu/Logo/daihatsu.png\n",
      "Image téléchargée avec succès: Marque Folder/Dangel/Logo/dangel.png\n",
      "Image téléchargée avec succès: Marque Folder/Dfsk/Logo/no-photo_134x91.png\n",
      "Image téléchargée avec succès: Marque Folder/Dodge/Logo/dodge.png\n",
      "Image téléchargée avec succès: Marque Folder/Ferrari/Logo/ferrari.png\n",
      "Image téléchargée avec succès: Marque Folder/Fiat/Logo/fiat.png\n",
      "Image téléchargée avec succès: Marque Folder/Fisker/Logo/fisker.png\n",
      "Image téléchargée avec succès: Marque Folder/Ford/Logo/ford.png\n",
      "Image téléchargée avec succès: Marque Folder/Hommell/Logo/hommell.png\n",
      "Image téléchargée avec succès: Marque Folder/Honda/Logo/honda.png\n",
      "Image téléchargée avec succès: Marque Folder/Hyundai/Logo/hyundai.png\n",
      "Image téléchargée avec succès: Marque Folder/Ineos/Logo/no-photo_134x91.png\n",
      "Image téléchargée avec succès: Marque Folder/Infiniti/Logo/infiniti.png\n",
      "Image téléchargée avec succès: Marque Folder/Isuzu/Logo/isuzu.png\n",
      "Image téléchargée avec succès: Marque Folder/Iveco/Logo/iveco.png\n",
      "Image téléchargée avec succès: Marque Folder/Jaguar/Logo/jaguar.png\n",
      "Image téléchargée avec succès: Marque Folder/Jeep/Logo/jeep.png\n",
      "Image téléchargée avec succès: Marque Folder/Ktm/Logo/ktm.png\n",
      "Image téléchargée avec succès: Marque Folder/Kia/Logo/kia.png\n",
      "Image téléchargée avec succès: Marque Folder/Lada/Logo/lada.png\n",
      "Image téléchargée avec succès: Marque Folder/Lamborghini/Logo/lamborghini.png\n",
      "Image téléchargée avec succès: Marque Folder/Lancia/Logo/lancia.png\n",
      "Image téléchargée avec succès: Marque Folder/Land-rover/Logo/land-rover.png\n",
      "Image téléchargée avec succès: Marque Folder/Leapmotor/Logo/no-photo_134x91.png\n",
      "Image téléchargée avec succès: Marque Folder/Lexus/Logo/lexus.png\n",
      "Image téléchargée avec succès: Marque Folder/Lotus/Logo/lotus.png\n",
      "Image téléchargée avec succès: Marque Folder/Lynk & co/Logo/no-photo_134x91.png\n",
      "Image téléchargée avec succès: Marque Folder/Mg motor/Logo/mg-motor.png\n",
      "Image téléchargée avec succès: Marque Folder/Mahindra/Logo/mahindra.png\n",
      "Image téléchargée avec succès: Marque Folder/Man/Logo/man.png\n",
      "Image téléchargée avec succès: Marque Folder/Maserati/Logo/maserati.png\n",
      "Image téléchargée avec succès: Marque Folder/Maxus/Logo/no-photo_134x91.png\n",
      "Image téléchargée avec succès: Marque Folder/Mazda/Logo/mazda.png\n",
      "Image téléchargée avec succès: Marque Folder/Mclaren/Logo/mclaren.png\n",
      "Image téléchargée avec succès: Marque Folder/Mercedes-benz/Logo/mercedes-benz.png\n",
      "Image téléchargée avec succès: Marque Folder/Mia electric/Logo/mia-electric.png\n",
      "Image téléchargée avec succès: Marque Folder/Mini/Logo/mini.png\n",
      "Image téléchargée avec succès: Marque Folder/Mitsubishi/Logo/mitsubishi.png\n",
      "Image téléchargée avec succès: Marque Folder/Mitsubishi-fuso/Logo/fuso.png\n",
      "Image téléchargée avec succès: Marque Folder/Morgan/Logo/morgan.png\n",
      "Image téléchargée avec succès: Marque Folder/Nissan/Logo/nissan.png\n",
      "Image téléchargée avec succès: Marque Folder/Opel/Logo/opel.png\n",
      "Image téléchargée avec succès: Marque Folder/Pgo/Logo/pgo.png\n",
      "Image téléchargée avec succès: Marque Folder/Peugeot/Logo/peugeot.png\n",
      "Image téléchargée avec succès: Marque Folder/Piaggio/Logo/piaggio.png\n",
      "Image téléchargée avec succès: Marque Folder/Porsche/Logo/porsche.png\n",
      "Image téléchargée avec succès: Marque Folder/Renault/Logo/renault.png\n",
      "Image téléchargée avec succès: Marque Folder/Renault trucks/Logo/renault_trucks.png\n",
      "Image téléchargée avec succès: Marque Folder/Rolls-royce/Logo/rolls-royce.png\n",
      "Image téléchargée avec succès: Marque Folder/Saab/Logo/saab.png\n",
      "Image téléchargée avec succès: Marque Folder/Santana/Logo/santana.png\n",
      "Image téléchargée avec succès: Marque Folder/Seat/Logo/seat.png\n",
      "Image téléchargée avec succès: Marque Folder/Seres/Logo/no-photo_134x91.png\n",
      "Image téléchargée avec succès: Marque Folder/Skoda/Logo/skoda.png\n",
      "Image téléchargée avec succès: Marque Folder/Smart/Logo/smart.png\n",
      "Image téléchargée avec succès: Marque Folder/Ssangyong/Logo/ssangyong.png\n",
      "Image téléchargée avec succès: Marque Folder/Subaru/Logo/subaru.png\n",
      "Image téléchargée avec succès: Marque Folder/Suzuki/Logo/suzuki.png\n",
      "Image téléchargée avec succès: Marque Folder/Tesla/Logo/tesla.png\n",
      "Image téléchargée avec succès: Marque Folder/Toyota/Logo/toyota.png\n",
      "Image téléchargée avec succès: Marque Folder/Triumph/Logo/triumph.png\n",
      "Image téléchargée avec succès: Marque Folder/Venturi/Logo/venturi.png\n",
      "Image téléchargée avec succès: Marque Folder/Volkswagen/Logo/volkswagen.png\n",
      "Image téléchargée avec succès: Marque Folder/Volvo/Logo/volvo.png\n",
      "Image téléchargée avec succès: Marque Folder/2twenty/Logo/no-photo_134x91.png\n",
      "Image téléchargée avec succès: Marque Folder/Acma/Logo/acma.png\n",
      "Image téléchargée avec succès: Marque Folder/Adiva/Logo/no-photo_134x91.png\n",
      "Image téléchargée avec succès: Marque Folder/Aeon/Logo/aeon.png\n",
      "Image téléchargée avec succès: Marque Folder/Aprilia/Logo/aprilia.jpg\n",
      "Image téléchargée avec succès: Marque Folder/Askoll/Logo/no-photo_134x91.png\n",
      "Image téléchargée avec succès: Marque Folder/Avinton/Logo/avinton.png\n",
      "Image téléchargée avec succès: Marque Folder/Benelli/Logo/benelli.jpg\n",
      "Image téléchargée avec succès: Marque Folder/Beta/Logo/beta.png\n",
      "Image téléchargée avec succès: Marque Folder/Bimota/Logo/bimota.png\n",
      "Image téléchargée avec succès: Marque Folder/Brixton/Logo/no-photo_134x91.png\n",
      "Image téléchargée avec succès: Marque Folder/Bullit/Logo/no-photo_134x91.png\n",
      "Image téléchargée avec succès: Marque Folder/Cfmoto/Logo/cf_moto.png\n",
      "Image téléchargée avec succès: Marque Folder/Cpi/Logo/cpi.png\n",
      "Image téléchargée avec succès: Marque Folder/Cyclone/Logo/no-photo_134x91.png\n",
      "Image téléchargée avec succès: Marque Folder/Daelim/Logo/daelim.png\n",
      "Image téléchargée avec succès: Marque Folder/Derbi/Logo/derbi.jpg\n",
      "Image téléchargée avec succès: Marque Folder/Ducati/Logo/ducati.jpg\n",
      "Image téléchargée avec succès: Marque Folder/E-solex/Logo/e-solex.png\n",
      "Image téléchargée avec succès: Marque Folder/Ec city/Logo/no-photo_134x91.png\n",
      "Image téléchargée avec succès: Marque Folder/Electric motion/Logo/no-photo_134x91.png\n",
      "Image téléchargée avec succès: Marque Folder/Enfield/Logo/royal-enfield.png\n",
      "Image téléchargée avec succès: Marque Folder/Evo-set/Logo/evo-set.png\n",
      "Image téléchargée avec succès: Marque Folder/Evoke/Logo/no-photo_134x91.png\n",
      "Image téléchargée avec succès: Marque Folder/Fantic/Logo/fantic.jpg\n",
      "Image téléchargée avec succès: Marque Folder/Fb mondial/Logo/no-photo_134x91.png\n",
      "Image téléchargée avec succès: Marque Folder/Gas gas/Logo/gasgas.png\n",
      "Image téléchargée avec succès: Marque Folder/Gilera/Logo/gilera.png\n",
      "Image téléchargée avec succès: Marque Folder/Goes/Logo/goes.png\n",
      "Image téléchargée avec succès: Marque Folder/Govecs/Logo/govecs.png\n",
      "Image téléchargée avec succès: Marque Folder/Hm/Logo/hm.png\n",
      "Image téléchargée avec succès: Marque Folder/Hm moto/Logo/hm-moto.png\n",
      "Image téléchargée avec succès: Marque Folder/Hm-honda/Logo/hm-honda.png\n",
      "Image téléchargée avec succès: Marque Folder/Hanway/Logo/hanway.png\n",
      "Image téléchargée avec succès: Marque Folder/Harley-davidson/Logo/harley-davidson.jpg\n",
      "Image téléchargée avec succès: Marque Folder/Husqvarna/Logo/husqvarna.jpg\n",
      "Image téléchargée avec succès: Marque Folder/Hyosung/Logo/hyosung.png\n",
      "Image téléchargée avec succès: Marque Folder/Imf/Logo/no-photo_134x91.png\n",
      "Image téléchargée avec succès: Marque Folder/Indian/Logo/indian-motorcycle.png\n",
      "Image téléchargée avec succès: Marque Folder/Jincheng/Logo/jincheng.png\n",
      "Image téléchargée avec succès: Marque Folder/Johnny pag/Logo/no-photo_134x91.png\n",
      "Image téléchargée avec succès: Marque Folder/Kawasaki/Logo/kawasaki.jpg\n",
      "Image téléchargée avec succès: Marque Folder/Keeway/Logo/keeway.png\n",
      "Image téléchargée avec succès: Marque Folder/Ksr moto/Logo/no-photo_134x91.png\n",
      "Image téléchargée avec succès: Marque Folder/Kymco/Logo/kymco.jpg\n",
      "Image téléchargée avec succès: Marque Folder/Lml/Logo/lml.png\n",
      "Image téléchargée avec succès: Marque Folder/Linhai/Logo/linhai.png\n",
      "Image téléchargée avec succès: Marque Folder/Mbk/Logo/mbk.jpg\n",
      "Image téléchargée avec succès: Marque Folder/Mv agusta/Logo/mv-augusta.png\n",
      "Image téléchargée avec succès: Marque Folder/Magpower/Logo/no-photo_134x91.png\n",
      "Image téléchargée avec succès: Marque Folder/Malaguti/Logo/malaguti.png\n",
      "Image téléchargée avec succès: Marque Folder/Mash/Logo/mash.png\n",
      "Image téléchargée avec succès: Marque Folder/Montesa/Logo/montesa.png\n",
      "Image téléchargée avec succès: Marque Folder/Moto guzzi/Logo/moto-guzzi.jpg\n",
      "Image téléchargée avec succès: Marque Folder/Moto morini/Logo/moto-morini.png\n",
      "Image téléchargée avec succès: Marque Folder/Neco/Logo/no-photo_134x91.png\n",
      "Image téléchargée avec succès: Marque Folder/Niu/Logo/no-photo_134x91.png\n",
      "Image téléchargée avec succès: Marque Folder/Norton/Logo/norton.png\n",
      "Image téléchargée avec succès: Marque Folder/Orcal/Logo/orcal.png\n",
      "Image téléchargée avec succès: Marque Folder/Ossa/Logo/ossa.png\n",
      "Image téléchargée avec succès: Marque Folder/Pink mobility/Logo/no-photo_134x91.png\n",
      "Image téléchargée avec succès: Marque Folder/Quadro/Logo/quadro.png\n",
      "Image téléchargée avec succès: Marque Folder/Rede/Logo/no-photo_134x91.png\n",
      "Image téléchargée avec succès: Marque Folder/Regal raptor/Logo/no-photo_134x91.png\n",
      "Image téléchargée avec succès: Marque Folder/Rider/Logo/no-photo_134x91.png\n",
      "Image téléchargée avec succès: Marque Folder/Rieju/Logo/rieju.png\n",
      "Image téléchargée avec succès: Marque Folder/Sym/Logo/sym.jpg\n",
      "Image téléchargée avec succès: Marque Folder/Scorpa/Logo/scorpa.png\n",
      "Image téléchargée avec succès: Marque Folder/Sherco/Logo/sherco.png\n",
      "Image téléchargée avec succès: Marque Folder/Silence/Logo/no-photo_134x91.png\n",
      "Image téléchargée avec succès: Marque Folder/Skyteam/Logo/skyteam.png\n",
      "Image téléchargée avec succès: Marque Folder/Super soco/Logo/no-photo_134x91.png\n",
      "Image téléchargée avec succès: Marque Folder/Swm/Logo/no-photo_134x91.png\n",
      "Image téléchargée avec succès: Marque Folder/Vespa/Logo/vespa.png\n",
      "Image téléchargée avec succès: Marque Folder/Victory/Logo/victory.png\n",
      "Image téléchargée avec succès: Marque Folder/Whattz/Logo/no-photo_134x91.png\n",
      "Image téléchargée avec succès: Marque Folder/Yadea/Logo/no-photo_134x91.png\n",
      "Image téléchargée avec succès: Marque Folder/Yamaha/Logo/yamaha.jpg\n",
      "Image téléchargée avec succès: Marque Folder/Ycf/Logo/no-photo_134x91.png\n",
      "Image téléchargée avec succès: Marque Folder/Yiying/Logo/yiying.png\n",
      "Image téléchargée avec succès: Marque Folder/Youbee motors/Logo/no-photo_134x91.png\n",
      "Image téléchargée avec succès: Marque Folder/Zero motorcycles/Logo/zero-motorcycles.png\n"
     ]
    }
   ],
   "execution_count": 40
  },
  {
   "metadata": {
    "ExecuteTime": {
     "end_time": "2024-05-28T10:52:50.854239Z",
     "start_time": "2024-05-28T10:52:50.824438Z"
    }
   },
   "cell_type": "code",
   "source": [
    "df_marques = pd.read_json(\"marques.json\")\n",
    "df_marques = df_marques.sort_values(by='libelle')\n",
    "df_marques.head()"
   ],
   "id": "14c567988aeff59b",
   "outputs": [
    {
     "data": {
      "text/plain": [
       "   libelle                            lien_url  \\\n",
       "0  2twenty  https://www.largus.fr/2twenty.html   \n",
       "1   Abarth   https://www.largus.fr/Abarth.html   \n",
       "2     Acma     https://www.largus.fr/Acma.html   \n",
       "3    Adiva    https://www.largus.fr/Adiva.html   \n",
       "4     Aeon     https://www.largus.fr/Aeon.html   \n",
       "\n",
       "                                            logo_url alt_text  Traiter  \n",
       "0  https://www.largus.fr/v4/includes/images/refon...                 1  \n",
       "1        https://www.largus.fÏr/img/logos/abarth.png   Abarth        1  \n",
       "2           https://www.largus.fr/img/logos/acma.png     Acma        1  \n",
       "3  https://www.largus.fr/v4/includes/images/refon...                 1  \n",
       "4           https://www.largus.fr/img/logos/aeon.png     Aeon        1  "
      ],
      "text/html": [
       "<div>\n",
       "<style scoped>\n",
       "    .dataframe tbody tr th:only-of-type {\n",
       "        vertical-align: middle;\n",
       "    }\n",
       "\n",
       "    .dataframe tbody tr th {\n",
       "        vertical-align: top;\n",
       "    }\n",
       "\n",
       "    .dataframe thead th {\n",
       "        text-align: right;\n",
       "    }\n",
       "</style>\n",
       "<table border=\"1\" class=\"dataframe\">\n",
       "  <thead>\n",
       "    <tr style=\"text-align: right;\">\n",
       "      <th></th>\n",
       "      <th>libelle</th>\n",
       "      <th>lien_url</th>\n",
       "      <th>logo_url</th>\n",
       "      <th>alt_text</th>\n",
       "      <th>Traiter</th>\n",
       "    </tr>\n",
       "  </thead>\n",
       "  <tbody>\n",
       "    <tr>\n",
       "      <th>0</th>\n",
       "      <td>2twenty</td>\n",
       "      <td>https://www.largus.fr/2twenty.html</td>\n",
       "      <td>https://www.largus.fr/v4/includes/images/refon...</td>\n",
       "      <td></td>\n",
       "      <td>1</td>\n",
       "    </tr>\n",
       "    <tr>\n",
       "      <th>1</th>\n",
       "      <td>Abarth</td>\n",
       "      <td>https://www.largus.fr/Abarth.html</td>\n",
       "      <td>https://www.largus.fÏr/img/logos/abarth.png</td>\n",
       "      <td>Abarth</td>\n",
       "      <td>1</td>\n",
       "    </tr>\n",
       "    <tr>\n",
       "      <th>2</th>\n",
       "      <td>Acma</td>\n",
       "      <td>https://www.largus.fr/Acma.html</td>\n",
       "      <td>https://www.largus.fr/img/logos/acma.png</td>\n",
       "      <td>Acma</td>\n",
       "      <td>1</td>\n",
       "    </tr>\n",
       "    <tr>\n",
       "      <th>3</th>\n",
       "      <td>Adiva</td>\n",
       "      <td>https://www.largus.fr/Adiva.html</td>\n",
       "      <td>https://www.largus.fr/v4/includes/images/refon...</td>\n",
       "      <td></td>\n",
       "      <td>1</td>\n",
       "    </tr>\n",
       "    <tr>\n",
       "      <th>4</th>\n",
       "      <td>Aeon</td>\n",
       "      <td>https://www.largus.fr/Aeon.html</td>\n",
       "      <td>https://www.largus.fr/img/logos/aeon.png</td>\n",
       "      <td>Aeon</td>\n",
       "      <td>1</td>\n",
       "    </tr>\n",
       "  </tbody>\n",
       "</table>\n",
       "</div>"
      ]
     },
     "execution_count": 5,
     "metadata": {},
     "output_type": "execute_result"
    }
   ],
   "execution_count": 5
  },
  {
   "metadata": {
    "ExecuteTime": {
     "end_time": "2024-05-28T10:52:58.288676Z",
     "start_time": "2024-05-28T10:52:58.284872Z"
    }
   },
   "cell_type": "code",
   "source": "filtered_df = df_marques[df_marques['Traiter'] == 1]",
   "id": "3112d17c9d3ccb4d",
   "outputs": [],
   "execution_count": 6
  },
  {
   "metadata": {
    "ExecuteTime": {
     "end_time": "2024-05-28T10:53:00.351338Z",
     "start_time": "2024-05-28T10:53:00.346004Z"
    }
   },
   "cell_type": "code",
   "source": "filtered_df.shape",
   "id": "bc00d0bedad3442f",
   "outputs": [
    {
     "data": {
      "text/plain": [
       "(166, 5)"
      ]
     },
     "execution_count": 7,
     "metadata": {},
     "output_type": "execute_result"
    }
   ],
   "execution_count": 7
  },
  {
   "metadata": {
    "ExecuteTime": {
     "end_time": "2024-05-28T10:53:06.721542Z",
     "start_time": "2024-05-28T10:53:06.709895Z"
    }
   },
   "cell_type": "code",
   "source": [
    "df_marques_json = pd.read_json(\"object_mark_json.json\")\n",
    "df_marques_json = df_marques_json.sort_values(by='Name')\n",
    "df_marques_json.head()"
   ],
   "id": "b2b0c0346f8ebf15",
   "outputs": [
    {
     "data": {
      "text/plain": [
       "        id                         fullpath     Name  \\\n",
       "134  35177  /Vehicules/Mark/2twenty/2twenty  2twenty   \n",
       "97   35103    /Vehicules/Mark/Abarth/Abarth   Abarth   \n",
       "88   35085        /Vehicules/Mark/Acma/Acma     Acma   \n",
       "161  35230      /Vehicules/Mark/Adiva/Adiva    Adiva   \n",
       "150  35209        /Vehicules/Mark/Aeon/Aeon     Aeon   \n",
       "\n",
       "                                                  Logo  \n",
       "134  /Vehicules/Marque Folder/2twenty/Logo/no-photo...  \n",
       "97     /Vehicules/Marque Folder/Abarth/Logo/abarth.png  \n",
       "88         /Vehicules/Marque Folder/Acma/Logo/acma.png  \n",
       "161  /Vehicules/Marque Folder/Adiva/Logo/no-photo_1...  \n",
       "150        /Vehicules/Marque Folder/Aeon/Logo/aeon.png  "
      ],
      "text/html": [
       "<div>\n",
       "<style scoped>\n",
       "    .dataframe tbody tr th:only-of-type {\n",
       "        vertical-align: middle;\n",
       "    }\n",
       "\n",
       "    .dataframe tbody tr th {\n",
       "        vertical-align: top;\n",
       "    }\n",
       "\n",
       "    .dataframe thead th {\n",
       "        text-align: right;\n",
       "    }\n",
       "</style>\n",
       "<table border=\"1\" class=\"dataframe\">\n",
       "  <thead>\n",
       "    <tr style=\"text-align: right;\">\n",
       "      <th></th>\n",
       "      <th>id</th>\n",
       "      <th>fullpath</th>\n",
       "      <th>Name</th>\n",
       "      <th>Logo</th>\n",
       "    </tr>\n",
       "  </thead>\n",
       "  <tbody>\n",
       "    <tr>\n",
       "      <th>134</th>\n",
       "      <td>35177</td>\n",
       "      <td>/Vehicules/Mark/2twenty/2twenty</td>\n",
       "      <td>2twenty</td>\n",
       "      <td>/Vehicules/Marque Folder/2twenty/Logo/no-photo...</td>\n",
       "    </tr>\n",
       "    <tr>\n",
       "      <th>97</th>\n",
       "      <td>35103</td>\n",
       "      <td>/Vehicules/Mark/Abarth/Abarth</td>\n",
       "      <td>Abarth</td>\n",
       "      <td>/Vehicules/Marque Folder/Abarth/Logo/abarth.png</td>\n",
       "    </tr>\n",
       "    <tr>\n",
       "      <th>88</th>\n",
       "      <td>35085</td>\n",
       "      <td>/Vehicules/Mark/Acma/Acma</td>\n",
       "      <td>Acma</td>\n",
       "      <td>/Vehicules/Marque Folder/Acma/Logo/acma.png</td>\n",
       "    </tr>\n",
       "    <tr>\n",
       "      <th>161</th>\n",
       "      <td>35230</td>\n",
       "      <td>/Vehicules/Mark/Adiva/Adiva</td>\n",
       "      <td>Adiva</td>\n",
       "      <td>/Vehicules/Marque Folder/Adiva/Logo/no-photo_1...</td>\n",
       "    </tr>\n",
       "    <tr>\n",
       "      <th>150</th>\n",
       "      <td>35209</td>\n",
       "      <td>/Vehicules/Mark/Aeon/Aeon</td>\n",
       "      <td>Aeon</td>\n",
       "      <td>/Vehicules/Marque Folder/Aeon/Logo/aeon.png</td>\n",
       "    </tr>\n",
       "  </tbody>\n",
       "</table>\n",
       "</div>"
      ]
     },
     "execution_count": 8,
     "metadata": {},
     "output_type": "execute_result"
    }
   ],
   "execution_count": 8
  },
  {
   "metadata": {
    "ExecuteTime": {
     "end_time": "2024-05-28T10:53:22.381027Z",
     "start_time": "2024-05-28T10:53:22.377015Z"
    }
   },
   "cell_type": "code",
   "source": "df_marques_json.shape",
   "id": "3dcaea25aaf3dd9d",
   "outputs": [
    {
     "data": {
      "text/plain": [
       "(166, 4)"
      ]
     },
     "execution_count": 9,
     "metadata": {},
     "output_type": "execute_result"
    }
   ],
   "execution_count": 9
  },
  {
   "metadata": {
    "ExecuteTime": {
     "end_time": "2024-05-28T10:53:25.927299Z",
     "start_time": "2024-05-28T10:53:25.923728Z"
    }
   },
   "cell_type": "code",
   "source": "print(df_marques.columns)",
   "id": "753c2069505277ca",
   "outputs": [
    {
     "name": "stdout",
     "output_type": "stream",
     "text": [
      "Index(['libelle', 'lien_url', 'logo_url', 'alt_text', 'Traiter'], dtype='object')\n"
     ]
    }
   ],
   "execution_count": 10
  },
  {
   "metadata": {
    "ExecuteTime": {
     "end_time": "2024-05-28T10:53:28.797824Z",
     "start_time": "2024-05-28T10:53:28.793631Z"
    }
   },
   "cell_type": "code",
   "source": "df_marques.shape",
   "id": "24b51ce897abaec1",
   "outputs": [
    {
     "data": {
      "text/plain": [
       "(166, 5)"
      ]
     },
     "execution_count": 11,
     "metadata": {},
     "output_type": "execute_result"
    }
   ],
   "execution_count": 11
  },
  {
   "metadata": {},
   "cell_type": "markdown",
   "source": "## Modeles",
   "id": "8dc76a2844433db2"
  },
  {
   "metadata": {
    "ExecuteTime": {
     "end_time": "2024-05-28T10:53:31.215004Z",
     "start_time": "2024-05-28T10:53:31.204343Z"
    }
   },
   "cell_type": "code",
   "source": [
    "def extract_vehicle_info(driver):\n",
    "    # Trouver tous les éléments de produit\n",
    "    try:\n",
    "        products_elements = driver.find_elements(By.CSS_SELECTOR, 'a.product-wrap')\n",
    "        if not products_elements:\n",
    "            print(\"No product elements found.\")\n",
    "            return []\n",
    "    except NoSuchElementException:\n",
    "        print(\"Error finding product elements.\")\n",
    "        return []\n",
    "\n",
    "    \n",
    "    vehicles = []\n",
    "\n",
    "    # Extraire les informations pour chaque véhicule\n",
    "    for element in products_elements:\n",
    "        try:\n",
    "            vehicle_url = element.get_attribute('href')\n",
    "            vehicle_model = element.get_attribute('data-model')\n",
    "            vehicle_make = element.get_attribute('data-make')\n",
    "            vehicle_title = element.find_element(By.CSS_SELECTOR, 'span.product-title').text\n",
    "\n",
    "            # Add extracted information to the list\n",
    "            vehicles.append({\n",
    "                'url': vehicle_url,\n",
    "                'model': vehicle_model,\n",
    "                'make': vehicle_make,\n",
    "                'title': vehicle_title\n",
    "            })\n",
    "        except NoSuchElementException as e:\n",
    "            print(f\"Error extracting data from element: {e}\")\n",
    "            continue\n",
    "\n",
    "    return vehicles\n",
    "\n",
    "\n",
    "def save_vehicles_to_csv(vehicles):\n",
    "    if vehicles:\n",
    "        folder = \"Modeles\"\n",
    "        if not os.path.exists(folder):\n",
    "            os.makedirs(folder)\n",
    "            print(f\"Folder created at {folder}\")\n",
    "\n",
    "        file_name = f\"{vehicles[0]['make']}.csv\"\n",
    "        save_path = os.path.join(folder, file_name)\n",
    "        pd.DataFrame(vehicles).to_csv(save_path, index=False)\n",
    "        print(f\"Data saved to {save_path}\")\n",
    "\n",
    "\n",
    "def scrape_multiple_urls(driver, url):\n",
    "    print(f\"Scraping URL: {url}\")\n",
    "    driver.get(url)\n",
    "\n",
    "    vehicles_info = extract_vehicle_info(driver)\n",
    "\n",
    "    if vehicles_info:\n",
    "        save_vehicles_to_csv(vehicles_info)\n",
    "\n",
    "def process_links(driver, dataframe):\n",
    "    filtered_df = df_marques[df_marques['Traiter'] == 1]\n",
    "    treated_links = set(filtered_df['lien_url'])  # Un ensemble pour stocker les liens déjà traités\n",
    "\n",
    "    # Vérifier si la colonne Traiter existe déjà\n",
    "    if 'Traiter' not in dataframe.columns:\n",
    "        dataframe['Traiter'] = 0\n",
    "\n",
    "    counter = 0\n",
    "    for index, row in dataframe.iterrows():\n",
    "        link_url = row['lien_url']\n",
    "        # Vérifier si le lien a déjà été traité\n",
    "        \n",
    "        if link_url in treated_links:\n",
    "            continue\n",
    "            \n",
    "        if link_url not in treated_links:\n",
    "            scrape_multiple_urls(driver, link_url)\n",
    "            dataframe.at[index, 'Traiter'] = 1\n",
    "            treated_links.add(link_url)\n",
    "            dataframe.to_json(\"marques.json\", orient=\"records\")\n",
    "            counter += 1\n",
    "\n",
    "            print(f\"Waiting for 1 minute before the next URL...{counter}\")\n",
    "            time.sleep(1)\n",
    "\n",
    "        if counter >= 50:\n",
    "            print(\"Arrêt après 50 itérations.\")\n",
    "            break\n",
    "    print(f\"Arrêt toutes les liens, un total de {counter} ont été traitées !.\")\n",
    "    #return dataframe"
   ],
   "id": "4326dc1549aa3786",
   "outputs": [],
   "execution_count": 12
  },
  {
   "metadata": {},
   "cell_type": "code",
   "outputs": [],
   "execution_count": 8,
   "source": "url_central = 'https://www.largus.fr/Bmw.html'",
   "id": "93a40c6ab0bbfaf8"
  },
  {
   "metadata": {
    "ExecuteTime": {
     "end_time": "2024-05-27T14:12:08.682357Z",
     "start_time": "2024-05-27T14:10:26.305218Z"
    }
   },
   "cell_type": "code",
   "source": [
    "driver = get_driver()\n",
    "process_links(driver, df_marques)"
   ],
   "id": "74187064c12f0cb9",
   "outputs": [
    {
     "name": "stdout",
     "output_type": "stream",
     "text": [
      "Scraping URL: https://www.largus.fr/Swm.html\n",
      "No product elements found.\n",
      "Waiting for 1 minute before the next URL...1\n",
      "Arrêt toutes les liens, un total de 1 ont été traitées !.\n",
      "Scraping URL: https://www.largus.fr/Tesla.html\n",
      "Data saved to Modeles/TESLA.csv\n",
      "Waiting for 1 minute before the next URL...2\n",
      "Arrêt toutes les liens, un total de 2 ont été traitées !.\n",
      "Scraping URL: https://www.largus.fr/Toyota.html\n",
      "Data saved to Modeles/TOYOTA.csv\n",
      "Waiting for 1 minute before the next URL...3\n",
      "Arrêt toutes les liens, un total de 3 ont été traitées !.\n",
      "Scraping URL: https://www.largus.fr/Triumph.html\n",
      "Data saved to Modeles/TRIUMPH.csv\n",
      "Waiting for 1 minute before the next URL...4\n",
      "Arrêt toutes les liens, un total de 4 ont été traitées !.\n",
      "Scraping URL: https://www.largus.fr/Venturi.html\n",
      "Data saved to Modeles/VENTURI.csv\n",
      "Waiting for 1 minute before the next URL...5\n",
      "Arrêt toutes les liens, un total de 5 ont été traitées !.\n",
      "Scraping URL: https://www.largus.fr/Vespa.html\n",
      "Data saved to Modeles/VESPA.csv\n",
      "Waiting for 1 minute before the next URL...6\n",
      "Arrêt toutes les liens, un total de 6 ont été traitées !.\n",
      "Scraping URL: https://www.largus.fr/Victory.html\n",
      "Data saved to Modeles/VICTORY.csv\n",
      "Waiting for 1 minute before the next URL...7\n",
      "Arrêt toutes les liens, un total de 7 ont été traitées !.\n",
      "Scraping URL: https://www.largus.fr/Volkswagen.html\n",
      "Data saved to Modeles/VOLKSWAGEN.csv\n",
      "Waiting for 1 minute before the next URL...8\n",
      "Arrêt toutes les liens, un total de 8 ont été traitées !.\n",
      "Scraping URL: https://www.largus.fr/Volvo.html\n",
      "Data saved to Modeles/VOLVO.csv\n",
      "Waiting for 1 minute before the next URL...9\n",
      "Arrêt toutes les liens, un total de 9 ont été traitées !.\n",
      "Scraping URL: https://www.largus.fr/Whattz.html\n",
      "Data saved to Modeles/WHATTZ.csv\n",
      "Waiting for 1 minute before the next URL...10\n",
      "Arrêt toutes les liens, un total de 10 ont été traitées !.\n",
      "Scraping URL: https://www.largus.fr/Yadea.html\n",
      "Data saved to Modeles/YADEA.csv\n",
      "Waiting for 1 minute before the next URL...11\n",
      "Arrêt toutes les liens, un total de 11 ont été traitées !.\n",
      "Scraping URL: https://www.largus.fr/Yamaha.html\n",
      "Data saved to Modeles/YAMAHA.csv\n",
      "Waiting for 1 minute before the next URL...12\n",
      "Arrêt toutes les liens, un total de 12 ont été traitées !.\n",
      "Scraping URL: https://www.largus.fr/Ycf.html\n",
      "Data saved to Modeles/YCF.csv\n",
      "Waiting for 1 minute before the next URL...13\n",
      "Arrêt toutes les liens, un total de 13 ont été traitées !.\n",
      "Scraping URL: https://www.largus.fr/Yiying.html\n",
      "Data saved to Modeles/YIYING.csv\n",
      "Waiting for 1 minute before the next URL...14\n",
      "Arrêt toutes les liens, un total de 14 ont été traitées !.\n",
      "Scraping URL: https://www.largus.fr/Youbee-Motors.html\n",
      "Data saved to Modeles/YOUBEE MOTORS.csv\n",
      "Waiting for 1 minute before the next URL...15\n",
      "Arrêt toutes les liens, un total de 15 ont été traitées !.\n",
      "Scraping URL: https://www.largus.fr/Zero-Motorcycles.html\n",
      "Data saved to Modeles/ZERO MOTORCYCLES.csv\n",
      "Waiting for 1 minute before the next URL...16\n",
      "Arrêt toutes les liens, un total de 16 ont été traitées !.\n"
     ]
    }
   ],
   "execution_count": 214
  },
  {
   "metadata": {
    "ExecuteTime": {
     "end_time": "2024-05-27T14:12:41.254740Z",
     "start_time": "2024-05-27T14:12:41.018024Z"
    }
   },
   "cell_type": "code",
   "source": "driver.quit()",
   "id": "ba4b169a7fa44ea5",
   "outputs": [],
   "execution_count": 216
  },
  {
   "metadata": {},
   "cell_type": "markdown",
   "source": "### Concatener le dossier",
   "id": "c71606079233ebf7"
  },
  {
   "metadata": {
    "ExecuteTime": {
     "end_time": "2024-05-28T10:53:50.184133Z",
     "start_time": "2024-05-28T10:53:50.179596Z"
    }
   },
   "cell_type": "code",
   "source": [
    "folder_column_path = 'Vehiculs/Models'\n",
    "folder_path = 'Models'"
   ],
   "id": "574417a668d2d8aa",
   "outputs": [],
   "execution_count": 13
  },
  {
   "metadata": {
    "ExecuteTime": {
     "end_time": "2024-05-27T15:47:52.811350Z",
     "start_time": "2024-05-27T15:47:52.458011Z"
    }
   },
   "cell_type": "code",
   "source": "# Liste pour stocker les DataFrames\n",
   "id": "c1a3f21ef1cf9818",
   "outputs": [],
   "execution_count": 218
  },
  {
   "metadata": {
    "ExecuteTime": {
     "end_time": "2024-05-27T15:48:10.521664Z",
     "start_time": "2024-05-27T15:48:10.510007Z"
    }
   },
   "cell_type": "code",
   "source": "final_df.head()",
   "id": "248ae1f0717d454c",
   "outputs": [
    {
     "data": {
      "text/plain": [
       "                                           url     model     make title\n",
       "0         https://www.largus.fr/Piaggio_1.html         1  PIAGGIO   NaN\n",
       "1    https://www.largus.fr/Piaggio_Medley.html    Medley  PIAGGIO   NaN\n",
       "2  https://www.largus.fr/Piaggio_Mymoover.html  Mymoover  PIAGGIO   NaN\n",
       "3    https://www.largus.fr/Piaggio_Porter.html    Porter  PIAGGIO   NaN\n",
       "4     https://www.largus.fr/Piaggio_Strom.html     Strom  PIAGGIO   NaN"
      ],
      "text/html": [
       "<div>\n",
       "<style scoped>\n",
       "    .dataframe tbody tr th:only-of-type {\n",
       "        vertical-align: middle;\n",
       "    }\n",
       "\n",
       "    .dataframe tbody tr th {\n",
       "        vertical-align: top;\n",
       "    }\n",
       "\n",
       "    .dataframe thead th {\n",
       "        text-align: right;\n",
       "    }\n",
       "</style>\n",
       "<table border=\"1\" class=\"dataframe\">\n",
       "  <thead>\n",
       "    <tr style=\"text-align: right;\">\n",
       "      <th></th>\n",
       "      <th>url</th>\n",
       "      <th>model</th>\n",
       "      <th>make</th>\n",
       "      <th>title</th>\n",
       "    </tr>\n",
       "  </thead>\n",
       "  <tbody>\n",
       "    <tr>\n",
       "      <th>0</th>\n",
       "      <td>https://www.largus.fr/Piaggio_1.html</td>\n",
       "      <td>1</td>\n",
       "      <td>PIAGGIO</td>\n",
       "      <td>NaN</td>\n",
       "    </tr>\n",
       "    <tr>\n",
       "      <th>1</th>\n",
       "      <td>https://www.largus.fr/Piaggio_Medley.html</td>\n",
       "      <td>Medley</td>\n",
       "      <td>PIAGGIO</td>\n",
       "      <td>NaN</td>\n",
       "    </tr>\n",
       "    <tr>\n",
       "      <th>2</th>\n",
       "      <td>https://www.largus.fr/Piaggio_Mymoover.html</td>\n",
       "      <td>Mymoover</td>\n",
       "      <td>PIAGGIO</td>\n",
       "      <td>NaN</td>\n",
       "    </tr>\n",
       "    <tr>\n",
       "      <th>3</th>\n",
       "      <td>https://www.largus.fr/Piaggio_Porter.html</td>\n",
       "      <td>Porter</td>\n",
       "      <td>PIAGGIO</td>\n",
       "      <td>NaN</td>\n",
       "    </tr>\n",
       "    <tr>\n",
       "      <th>4</th>\n",
       "      <td>https://www.largus.fr/Piaggio_Strom.html</td>\n",
       "      <td>Strom</td>\n",
       "      <td>PIAGGIO</td>\n",
       "      <td>NaN</td>\n",
       "    </tr>\n",
       "  </tbody>\n",
       "</table>\n",
       "</div>"
      ]
     },
     "execution_count": 219,
     "metadata": {},
     "output_type": "execute_result"
    }
   ],
   "execution_count": 219
  },
  {
   "metadata": {
    "ExecuteTime": {
     "end_time": "2024-05-27T15:54:30.882341Z",
     "start_time": "2024-05-27T15:54:30.875234Z"
    }
   },
   "cell_type": "code",
   "source": "df_marques_json.head()",
   "id": "7797f21c95555772",
   "outputs": [
    {
     "data": {
      "text/plain": [
       "        id                         fullpath     Name  \\\n",
       "134  35177  /Vehicules/Mark/2twenty/2twenty  2twenty   \n",
       "97   35103    /Vehicules/Mark/Abarth/Abarth   Abarth   \n",
       "88   35085        /Vehicules/Mark/Acma/Acma     Acma   \n",
       "161  35230      /Vehicules/Mark/Adiva/Adiva    Adiva   \n",
       "150  35209        /Vehicules/Mark/Aeon/Aeon     Aeon   \n",
       "\n",
       "                                                  Logo  \n",
       "134  /Vehicules/Marque Folder/2twenty/Logo/no-photo...  \n",
       "97     /Vehicules/Marque Folder/Abarth/Logo/abarth.png  \n",
       "88         /Vehicules/Marque Folder/Acma/Logo/acma.png  \n",
       "161  /Vehicules/Marque Folder/Adiva/Logo/no-photo_1...  \n",
       "150        /Vehicules/Marque Folder/Aeon/Logo/aeon.png  "
      ],
      "text/html": [
       "<div>\n",
       "<style scoped>\n",
       "    .dataframe tbody tr th:only-of-type {\n",
       "        vertical-align: middle;\n",
       "    }\n",
       "\n",
       "    .dataframe tbody tr th {\n",
       "        vertical-align: top;\n",
       "    }\n",
       "\n",
       "    .dataframe thead th {\n",
       "        text-align: right;\n",
       "    }\n",
       "</style>\n",
       "<table border=\"1\" class=\"dataframe\">\n",
       "  <thead>\n",
       "    <tr style=\"text-align: right;\">\n",
       "      <th></th>\n",
       "      <th>id</th>\n",
       "      <th>fullpath</th>\n",
       "      <th>Name</th>\n",
       "      <th>Logo</th>\n",
       "    </tr>\n",
       "  </thead>\n",
       "  <tbody>\n",
       "    <tr>\n",
       "      <th>134</th>\n",
       "      <td>35177</td>\n",
       "      <td>/Vehicules/Mark/2twenty/2twenty</td>\n",
       "      <td>2twenty</td>\n",
       "      <td>/Vehicules/Marque Folder/2twenty/Logo/no-photo...</td>\n",
       "    </tr>\n",
       "    <tr>\n",
       "      <th>97</th>\n",
       "      <td>35103</td>\n",
       "      <td>/Vehicules/Mark/Abarth/Abarth</td>\n",
       "      <td>Abarth</td>\n",
       "      <td>/Vehicules/Marque Folder/Abarth/Logo/abarth.png</td>\n",
       "    </tr>\n",
       "    <tr>\n",
       "      <th>88</th>\n",
       "      <td>35085</td>\n",
       "      <td>/Vehicules/Mark/Acma/Acma</td>\n",
       "      <td>Acma</td>\n",
       "      <td>/Vehicules/Marque Folder/Acma/Logo/acma.png</td>\n",
       "    </tr>\n",
       "    <tr>\n",
       "      <th>161</th>\n",
       "      <td>35230</td>\n",
       "      <td>/Vehicules/Mark/Adiva/Adiva</td>\n",
       "      <td>Adiva</td>\n",
       "      <td>/Vehicules/Marque Folder/Adiva/Logo/no-photo_1...</td>\n",
       "    </tr>\n",
       "    <tr>\n",
       "      <th>150</th>\n",
       "      <td>35209</td>\n",
       "      <td>/Vehicules/Mark/Aeon/Aeon</td>\n",
       "      <td>Aeon</td>\n",
       "      <td>/Vehicules/Marque Folder/Aeon/Logo/aeon.png</td>\n",
       "    </tr>\n",
       "  </tbody>\n",
       "</table>\n",
       "</div>"
      ]
     },
     "execution_count": 226,
     "metadata": {},
     "output_type": "execute_result"
    }
   ],
   "execution_count": 226
  },
  {
   "metadata": {
    "ExecuteTime": {
     "end_time": "2024-05-27T15:48:31.983712Z",
     "start_time": "2024-05-27T15:48:31.977417Z"
    }
   },
   "cell_type": "code",
   "source": "final_df.shape",
   "id": "7400d41687ac421e",
   "outputs": [
    {
     "data": {
      "text/plain": [
       "(2848, 4)"
      ]
     },
     "execution_count": 220,
     "metadata": {},
     "output_type": "execute_result"
    }
   ],
   "execution_count": 220
  },
  {
   "metadata": {
    "ExecuteTime": {
     "end_time": "2024-05-27T16:38:24.237664Z",
     "start_time": "2024-05-27T16:38:24.229977Z"
    }
   },
   "cell_type": "code",
   "source": [
    "df_marques_json['Name'] = df_marques_json['Name'].str.lower()\n",
    "final_df['make'] = final_df['make'].str.lower()"
   ],
   "id": "8a92bb74ce29691",
   "outputs": [],
   "execution_count": 267
  },
  {
   "metadata": {
    "ExecuteTime": {
     "end_time": "2024-05-27T16:38:27.116203Z",
     "start_time": "2024-05-27T16:38:27.109942Z"
    }
   },
   "cell_type": "code",
   "source": [
    "# Fusionner les DataFrames sur les colonnes 'make' et 'Name'\n",
    "merged_df = pd.merge(final_df, df_marques_json[['id', 'Name']], left_on='make', right_on='Name', how='left')"
   ],
   "id": "d2077fd1c3cfe301",
   "outputs": [],
   "execution_count": 268
  },
  {
   "metadata": {
    "ExecuteTime": {
     "end_time": "2024-05-27T16:46:01.065934Z",
     "start_time": "2024-05-27T16:46:01.059357Z"
    }
   },
   "cell_type": "code",
   "source": "merged_df.dropna(subset=['id'], inplace=True)",
   "id": "49a834017172a47e",
   "outputs": [],
   "execution_count": 277
  },
  {
   "metadata": {
    "ExecuteTime": {
     "end_time": "2024-05-27T16:47:38.085948Z",
     "start_time": "2024-05-27T16:47:38.080075Z"
    }
   },
   "cell_type": "code",
   "source": "non_finite_values = merged_df['id'][~merged_df['id'].apply(np.isfinite)]",
   "id": "bd49a3f50a866b9b",
   "outputs": [],
   "execution_count": 284
  },
  {
   "metadata": {
    "ExecuteTime": {
     "end_time": "2024-05-27T16:48:06.771868Z",
     "start_time": "2024-05-27T16:48:06.765398Z"
    }
   },
   "cell_type": "code",
   "source": [
    "if len(non_finite_values) == 0:\n",
    "    merged_df['id'] = merged_df['id'].astype(int)"
   ],
   "id": "939d74b990ab29de",
   "outputs": [],
   "execution_count": 287
  },
  {
   "metadata": {
    "ExecuteTime": {
     "end_time": "2024-05-27T16:48:09.299641Z",
     "start_time": "2024-05-27T16:48:09.294359Z"
    }
   },
   "cell_type": "code",
   "source": "merged_df['id'].dtype",
   "id": "a24c60edcec57d66",
   "outputs": [
    {
     "data": {
      "text/plain": [
       "dtype('int64')"
      ]
     },
     "execution_count": 288,
     "metadata": {},
     "output_type": "execute_result"
    }
   ],
   "execution_count": 288
  },
  {
   "metadata": {
    "ExecuteTime": {
     "end_time": "2024-05-27T16:48:12.692416Z",
     "start_time": "2024-05-27T16:48:12.683042Z"
    }
   },
   "cell_type": "code",
   "source": "merged_df.head()",
   "id": "6bd74fd650bfa46a",
   "outputs": [
    {
     "data": {
      "text/plain": [
       "                                           url     model     make title  \\\n",
       "0         https://www.largus.fr/Piaggio_1.html         1  piaggio   NaN   \n",
       "1    https://www.largus.fr/Piaggio_Medley.html    Medley  piaggio   NaN   \n",
       "2  https://www.largus.fr/Piaggio_Mymoover.html  Mymoover  piaggio   NaN   \n",
       "3    https://www.largus.fr/Piaggio_Porter.html    Porter  piaggio   NaN   \n",
       "4     https://www.largus.fr/Piaggio_Strom.html     Strom  piaggio   NaN   \n",
       "\n",
       "      id     Name  \n",
       "0  35183  piaggio  \n",
       "1  35183  piaggio  \n",
       "2  35183  piaggio  \n",
       "3  35183  piaggio  \n",
       "4  35183  piaggio  "
      ],
      "text/html": [
       "<div>\n",
       "<style scoped>\n",
       "    .dataframe tbody tr th:only-of-type {\n",
       "        vertical-align: middle;\n",
       "    }\n",
       "\n",
       "    .dataframe tbody tr th {\n",
       "        vertical-align: top;\n",
       "    }\n",
       "\n",
       "    .dataframe thead th {\n",
       "        text-align: right;\n",
       "    }\n",
       "</style>\n",
       "<table border=\"1\" class=\"dataframe\">\n",
       "  <thead>\n",
       "    <tr style=\"text-align: right;\">\n",
       "      <th></th>\n",
       "      <th>url</th>\n",
       "      <th>model</th>\n",
       "      <th>make</th>\n",
       "      <th>title</th>\n",
       "      <th>id</th>\n",
       "      <th>Name</th>\n",
       "    </tr>\n",
       "  </thead>\n",
       "  <tbody>\n",
       "    <tr>\n",
       "      <th>0</th>\n",
       "      <td>https://www.largus.fr/Piaggio_1.html</td>\n",
       "      <td>1</td>\n",
       "      <td>piaggio</td>\n",
       "      <td>NaN</td>\n",
       "      <td>35183</td>\n",
       "      <td>piaggio</td>\n",
       "    </tr>\n",
       "    <tr>\n",
       "      <th>1</th>\n",
       "      <td>https://www.largus.fr/Piaggio_Medley.html</td>\n",
       "      <td>Medley</td>\n",
       "      <td>piaggio</td>\n",
       "      <td>NaN</td>\n",
       "      <td>35183</td>\n",
       "      <td>piaggio</td>\n",
       "    </tr>\n",
       "    <tr>\n",
       "      <th>2</th>\n",
       "      <td>https://www.largus.fr/Piaggio_Mymoover.html</td>\n",
       "      <td>Mymoover</td>\n",
       "      <td>piaggio</td>\n",
       "      <td>NaN</td>\n",
       "      <td>35183</td>\n",
       "      <td>piaggio</td>\n",
       "    </tr>\n",
       "    <tr>\n",
       "      <th>3</th>\n",
       "      <td>https://www.largus.fr/Piaggio_Porter.html</td>\n",
       "      <td>Porter</td>\n",
       "      <td>piaggio</td>\n",
       "      <td>NaN</td>\n",
       "      <td>35183</td>\n",
       "      <td>piaggio</td>\n",
       "    </tr>\n",
       "    <tr>\n",
       "      <th>4</th>\n",
       "      <td>https://www.largus.fr/Piaggio_Strom.html</td>\n",
       "      <td>Strom</td>\n",
       "      <td>piaggio</td>\n",
       "      <td>NaN</td>\n",
       "      <td>35183</td>\n",
       "      <td>piaggio</td>\n",
       "    </tr>\n",
       "  </tbody>\n",
       "</table>\n",
       "</div>"
      ]
     },
     "execution_count": 289,
     "metadata": {},
     "output_type": "execute_result"
    }
   ],
   "execution_count": 289
  },
  {
   "metadata": {
    "ExecuteTime": {
     "end_time": "2024-05-27T16:49:32.166697Z",
     "start_time": "2024-05-27T16:49:32.160955Z"
    }
   },
   "cell_type": "code",
   "source": "merged_df['folder_column_path'] = merged_df['make'].apply(lambda make: f\"Vehiculs/Models/{make.upper()}\")",
   "id": "6ebff004c9ef7ebb",
   "outputs": [],
   "execution_count": 294
  },
  {
   "metadata": {
    "ExecuteTime": {
     "end_time": "2024-05-27T16:49:34.751271Z",
     "start_time": "2024-05-27T16:49:34.743774Z"
    }
   },
   "cell_type": "code",
   "source": "merged_df.head()",
   "id": "a463bc69bd3634b2",
   "outputs": [
    {
     "data": {
      "text/plain": [
       "                                           url     model     make title  \\\n",
       "0         https://www.largus.fr/Piaggio_1.html         1  piaggio   NaN   \n",
       "1    https://www.largus.fr/Piaggio_Medley.html    Medley  piaggio   NaN   \n",
       "2  https://www.largus.fr/Piaggio_Mymoover.html  Mymoover  piaggio   NaN   \n",
       "3    https://www.largus.fr/Piaggio_Porter.html    Porter  piaggio   NaN   \n",
       "4     https://www.largus.fr/Piaggio_Strom.html     Strom  piaggio   NaN   \n",
       "\n",
       "      id     Name       folder_column_path  \n",
       "0  35183  piaggio  Vehiculs/Models/PIAGGIO  \n",
       "1  35183  piaggio  Vehiculs/Models/PIAGGIO  \n",
       "2  35183  piaggio  Vehiculs/Models/PIAGGIO  \n",
       "3  35183  piaggio  Vehiculs/Models/PIAGGIO  \n",
       "4  35183  piaggio  Vehiculs/Models/PIAGGIO  "
      ],
      "text/html": [
       "<div>\n",
       "<style scoped>\n",
       "    .dataframe tbody tr th:only-of-type {\n",
       "        vertical-align: middle;\n",
       "    }\n",
       "\n",
       "    .dataframe tbody tr th {\n",
       "        vertical-align: top;\n",
       "    }\n",
       "\n",
       "    .dataframe thead th {\n",
       "        text-align: right;\n",
       "    }\n",
       "</style>\n",
       "<table border=\"1\" class=\"dataframe\">\n",
       "  <thead>\n",
       "    <tr style=\"text-align: right;\">\n",
       "      <th></th>\n",
       "      <th>url</th>\n",
       "      <th>model</th>\n",
       "      <th>make</th>\n",
       "      <th>title</th>\n",
       "      <th>id</th>\n",
       "      <th>Name</th>\n",
       "      <th>folder_column_path</th>\n",
       "    </tr>\n",
       "  </thead>\n",
       "  <tbody>\n",
       "    <tr>\n",
       "      <th>0</th>\n",
       "      <td>https://www.largus.fr/Piaggio_1.html</td>\n",
       "      <td>1</td>\n",
       "      <td>piaggio</td>\n",
       "      <td>NaN</td>\n",
       "      <td>35183</td>\n",
       "      <td>piaggio</td>\n",
       "      <td>Vehiculs/Models/PIAGGIO</td>\n",
       "    </tr>\n",
       "    <tr>\n",
       "      <th>1</th>\n",
       "      <td>https://www.largus.fr/Piaggio_Medley.html</td>\n",
       "      <td>Medley</td>\n",
       "      <td>piaggio</td>\n",
       "      <td>NaN</td>\n",
       "      <td>35183</td>\n",
       "      <td>piaggio</td>\n",
       "      <td>Vehiculs/Models/PIAGGIO</td>\n",
       "    </tr>\n",
       "    <tr>\n",
       "      <th>2</th>\n",
       "      <td>https://www.largus.fr/Piaggio_Mymoover.html</td>\n",
       "      <td>Mymoover</td>\n",
       "      <td>piaggio</td>\n",
       "      <td>NaN</td>\n",
       "      <td>35183</td>\n",
       "      <td>piaggio</td>\n",
       "      <td>Vehiculs/Models/PIAGGIO</td>\n",
       "    </tr>\n",
       "    <tr>\n",
       "      <th>3</th>\n",
       "      <td>https://www.largus.fr/Piaggio_Porter.html</td>\n",
       "      <td>Porter</td>\n",
       "      <td>piaggio</td>\n",
       "      <td>NaN</td>\n",
       "      <td>35183</td>\n",
       "      <td>piaggio</td>\n",
       "      <td>Vehiculs/Models/PIAGGIO</td>\n",
       "    </tr>\n",
       "    <tr>\n",
       "      <th>4</th>\n",
       "      <td>https://www.largus.fr/Piaggio_Strom.html</td>\n",
       "      <td>Strom</td>\n",
       "      <td>piaggio</td>\n",
       "      <td>NaN</td>\n",
       "      <td>35183</td>\n",
       "      <td>piaggio</td>\n",
       "      <td>Vehiculs/Models/PIAGGIO</td>\n",
       "    </tr>\n",
       "  </tbody>\n",
       "</table>\n",
       "</div>"
      ]
     },
     "execution_count": 295,
     "metadata": {},
     "output_type": "execute_result"
    }
   ],
   "execution_count": 295
  },
  {
   "metadata": {
    "ExecuteTime": {
     "end_time": "2024-05-27T16:50:17.093785Z",
     "start_time": "2024-05-27T16:50:17.090177Z"
    }
   },
   "cell_type": "code",
   "source": "final_df_cleaned = merged_df[['url', 'model', 'make', 'title', 'id', 'folder_column_path']]",
   "id": "2e3bd69daefbc850",
   "outputs": [],
   "execution_count": 296
  },
  {
   "metadata": {
    "ExecuteTime": {
     "end_time": "2024-05-27T16:50:26.743424Z",
     "start_time": "2024-05-27T16:50:26.734341Z"
    }
   },
   "cell_type": "code",
   "source": "final_df_cleaned.head()",
   "id": "4ec05ec81d2d96b7",
   "outputs": [
    {
     "data": {
      "text/plain": [
       "                                           url     model     make title  \\\n",
       "0         https://www.largus.fr/Piaggio_1.html         1  piaggio   NaN   \n",
       "1    https://www.largus.fr/Piaggio_Medley.html    Medley  piaggio   NaN   \n",
       "2  https://www.largus.fr/Piaggio_Mymoover.html  Mymoover  piaggio   NaN   \n",
       "3    https://www.largus.fr/Piaggio_Porter.html    Porter  piaggio   NaN   \n",
       "4     https://www.largus.fr/Piaggio_Strom.html     Strom  piaggio   NaN   \n",
       "\n",
       "      id       folder_column_path  \n",
       "0  35183  Vehiculs/Models/PIAGGIO  \n",
       "1  35183  Vehiculs/Models/PIAGGIO  \n",
       "2  35183  Vehiculs/Models/PIAGGIO  \n",
       "3  35183  Vehiculs/Models/PIAGGIO  \n",
       "4  35183  Vehiculs/Models/PIAGGIO  "
      ],
      "text/html": [
       "<div>\n",
       "<style scoped>\n",
       "    .dataframe tbody tr th:only-of-type {\n",
       "        vertical-align: middle;\n",
       "    }\n",
       "\n",
       "    .dataframe tbody tr th {\n",
       "        vertical-align: top;\n",
       "    }\n",
       "\n",
       "    .dataframe thead th {\n",
       "        text-align: right;\n",
       "    }\n",
       "</style>\n",
       "<table border=\"1\" class=\"dataframe\">\n",
       "  <thead>\n",
       "    <tr style=\"text-align: right;\">\n",
       "      <th></th>\n",
       "      <th>url</th>\n",
       "      <th>model</th>\n",
       "      <th>make</th>\n",
       "      <th>title</th>\n",
       "      <th>id</th>\n",
       "      <th>folder_column_path</th>\n",
       "    </tr>\n",
       "  </thead>\n",
       "  <tbody>\n",
       "    <tr>\n",
       "      <th>0</th>\n",
       "      <td>https://www.largus.fr/Piaggio_1.html</td>\n",
       "      <td>1</td>\n",
       "      <td>piaggio</td>\n",
       "      <td>NaN</td>\n",
       "      <td>35183</td>\n",
       "      <td>Vehiculs/Models/PIAGGIO</td>\n",
       "    </tr>\n",
       "    <tr>\n",
       "      <th>1</th>\n",
       "      <td>https://www.largus.fr/Piaggio_Medley.html</td>\n",
       "      <td>Medley</td>\n",
       "      <td>piaggio</td>\n",
       "      <td>NaN</td>\n",
       "      <td>35183</td>\n",
       "      <td>Vehiculs/Models/PIAGGIO</td>\n",
       "    </tr>\n",
       "    <tr>\n",
       "      <th>2</th>\n",
       "      <td>https://www.largus.fr/Piaggio_Mymoover.html</td>\n",
       "      <td>Mymoover</td>\n",
       "      <td>piaggio</td>\n",
       "      <td>NaN</td>\n",
       "      <td>35183</td>\n",
       "      <td>Vehiculs/Models/PIAGGIO</td>\n",
       "    </tr>\n",
       "    <tr>\n",
       "      <th>3</th>\n",
       "      <td>https://www.largus.fr/Piaggio_Porter.html</td>\n",
       "      <td>Porter</td>\n",
       "      <td>piaggio</td>\n",
       "      <td>NaN</td>\n",
       "      <td>35183</td>\n",
       "      <td>Vehiculs/Models/PIAGGIO</td>\n",
       "    </tr>\n",
       "    <tr>\n",
       "      <th>4</th>\n",
       "      <td>https://www.largus.fr/Piaggio_Strom.html</td>\n",
       "      <td>Strom</td>\n",
       "      <td>piaggio</td>\n",
       "      <td>NaN</td>\n",
       "      <td>35183</td>\n",
       "      <td>Vehiculs/Models/PIAGGIO</td>\n",
       "    </tr>\n",
       "  </tbody>\n",
       "</table>\n",
       "</div>"
      ]
     },
     "execution_count": 297,
     "metadata": {},
     "output_type": "execute_result"
    }
   ],
   "execution_count": 297
  },
  {
   "metadata": {
    "ExecuteTime": {
     "end_time": "2024-05-27T16:21:36.432241Z",
     "start_time": "2024-05-27T16:21:36.427540Z"
    }
   },
   "cell_type": "code",
   "source": "df_marques_json.columns",
   "id": "fd568c0c81d0ddc6",
   "outputs": [
    {
     "data": {
      "text/plain": [
       "Index(['id', 'fullpath', 'Name', 'Logo'], dtype='object')"
      ]
     },
     "execution_count": 253,
     "metadata": {},
     "output_type": "execute_result"
    }
   ],
   "execution_count": 253
  },
  {
   "metadata": {
    "ExecuteTime": {
     "end_time": "2024-05-27T16:21:39.825631Z",
     "start_time": "2024-05-27T16:21:39.820717Z"
    }
   },
   "cell_type": "code",
   "source": "final_df.columns",
   "id": "36bd38da822b35de",
   "outputs": [
    {
     "data": {
      "text/plain": [
       "Index(['url', 'model', 'make', 'title'], dtype='object')"
      ]
     },
     "execution_count": 254,
     "metadata": {},
     "output_type": "execute_result"
    }
   ],
   "execution_count": 254
  },
  {
   "metadata": {
    "ExecuteTime": {
     "end_time": "2024-05-27T16:52:30.690639Z",
     "start_time": "2024-05-27T16:52:30.674995Z"
    }
   },
   "cell_type": "code",
   "source": [
    "# Enregistrer le DataFrame final dans un nouveau fichier CSV\n",
    "final_df_cleaned.to_csv('Modeles/model.csv', index=False)"
   ],
   "id": "d1c436e10d98016",
   "outputs": [],
   "execution_count": 300
  },
  {
   "metadata": {
    "ExecuteTime": {
     "end_time": "2024-05-28T10:55:30.699955Z",
     "start_time": "2024-05-28T10:55:30.683390Z"
    }
   },
   "cell_type": "code",
   "source": [
    "final_df_cleaned = pd.read_csv('Modeles/model.csv')\n",
    "final_df_cleaned.shape"
   ],
   "id": "81cf18bb72014426",
   "outputs": [
    {
     "data": {
      "text/plain": [
       "(2704, 6)"
      ]
     },
     "execution_count": 14,
     "metadata": {},
     "output_type": "execute_result"
    }
   ],
   "execution_count": 14
  },
  {
   "metadata": {
    "ExecuteTime": {
     "end_time": "2024-05-28T10:55:53.031062Z",
     "start_time": "2024-05-28T10:55:53.021232Z"
    }
   },
   "cell_type": "code",
   "source": "final_df_cleaned.head()",
   "id": "579c8bc21bcf370",
   "outputs": [
    {
     "data": {
      "text/plain": [
       "                                           url     model     make title  \\\n",
       "0         https://www.largus.fr/Piaggio_1.html         1  piaggio   NaN   \n",
       "1    https://www.largus.fr/Piaggio_Medley.html    Medley  piaggio   NaN   \n",
       "2  https://www.largus.fr/Piaggio_Mymoover.html  Mymoover  piaggio   NaN   \n",
       "3    https://www.largus.fr/Piaggio_Porter.html    Porter  piaggio   NaN   \n",
       "4     https://www.largus.fr/Piaggio_Strom.html     Strom  piaggio   NaN   \n",
       "\n",
       "      id       folder_column_path  \n",
       "0  35183  Vehiculs/Models/PIAGGIO  \n",
       "1  35183  Vehiculs/Models/PIAGGIO  \n",
       "2  35183  Vehiculs/Models/PIAGGIO  \n",
       "3  35183  Vehiculs/Models/PIAGGIO  \n",
       "4  35183  Vehiculs/Models/PIAGGIO  "
      ],
      "text/html": [
       "<div>\n",
       "<style scoped>\n",
       "    .dataframe tbody tr th:only-of-type {\n",
       "        vertical-align: middle;\n",
       "    }\n",
       "\n",
       "    .dataframe tbody tr th {\n",
       "        vertical-align: top;\n",
       "    }\n",
       "\n",
       "    .dataframe thead th {\n",
       "        text-align: right;\n",
       "    }\n",
       "</style>\n",
       "<table border=\"1\" class=\"dataframe\">\n",
       "  <thead>\n",
       "    <tr style=\"text-align: right;\">\n",
       "      <th></th>\n",
       "      <th>url</th>\n",
       "      <th>model</th>\n",
       "      <th>make</th>\n",
       "      <th>title</th>\n",
       "      <th>id</th>\n",
       "      <th>folder_column_path</th>\n",
       "    </tr>\n",
       "  </thead>\n",
       "  <tbody>\n",
       "    <tr>\n",
       "      <th>0</th>\n",
       "      <td>https://www.largus.fr/Piaggio_1.html</td>\n",
       "      <td>1</td>\n",
       "      <td>piaggio</td>\n",
       "      <td>NaN</td>\n",
       "      <td>35183</td>\n",
       "      <td>Vehiculs/Models/PIAGGIO</td>\n",
       "    </tr>\n",
       "    <tr>\n",
       "      <th>1</th>\n",
       "      <td>https://www.largus.fr/Piaggio_Medley.html</td>\n",
       "      <td>Medley</td>\n",
       "      <td>piaggio</td>\n",
       "      <td>NaN</td>\n",
       "      <td>35183</td>\n",
       "      <td>Vehiculs/Models/PIAGGIO</td>\n",
       "    </tr>\n",
       "    <tr>\n",
       "      <th>2</th>\n",
       "      <td>https://www.largus.fr/Piaggio_Mymoover.html</td>\n",
       "      <td>Mymoover</td>\n",
       "      <td>piaggio</td>\n",
       "      <td>NaN</td>\n",
       "      <td>35183</td>\n",
       "      <td>Vehiculs/Models/PIAGGIO</td>\n",
       "    </tr>\n",
       "    <tr>\n",
       "      <th>3</th>\n",
       "      <td>https://www.largus.fr/Piaggio_Porter.html</td>\n",
       "      <td>Porter</td>\n",
       "      <td>piaggio</td>\n",
       "      <td>NaN</td>\n",
       "      <td>35183</td>\n",
       "      <td>Vehiculs/Models/PIAGGIO</td>\n",
       "    </tr>\n",
       "    <tr>\n",
       "      <th>4</th>\n",
       "      <td>https://www.largus.fr/Piaggio_Strom.html</td>\n",
       "      <td>Strom</td>\n",
       "      <td>piaggio</td>\n",
       "      <td>NaN</td>\n",
       "      <td>35183</td>\n",
       "      <td>Vehiculs/Models/PIAGGIO</td>\n",
       "    </tr>\n",
       "  </tbody>\n",
       "</table>\n",
       "</div>"
      ]
     },
     "execution_count": 15,
     "metadata": {},
     "output_type": "execute_result"
    }
   ],
   "execution_count": 15
  },
  {
   "metadata": {
    "ExecuteTime": {
     "end_time": "2024-05-22T11:07:52.022324Z",
     "start_time": "2024-05-22T11:07:43.369709Z"
    }
   },
   "cell_type": "code",
   "source": [
    "driver = get_driver()\n",
    "driver.get(url_central)\n",
    "time.sleep(2)\n",
    "html_content = driver.page_source"
   ],
   "id": "1d38c19094c7875a",
   "outputs": [],
   "execution_count": 15
  },
  {
   "metadata": {
    "ExecuteTime": {
     "end_time": "2024-05-23T09:31:49.003559Z",
     "start_time": "2024-05-23T09:31:48.667359Z"
    }
   },
   "cell_type": "code",
   "source": "driver.quit()",
   "id": "8fccba9c9968e83a",
   "outputs": [],
   "execution_count": 67
  },
  {
   "metadata": {
    "ExecuteTime": {
     "end_time": "2024-05-22T11:11:47.082861Z",
     "start_time": "2024-05-22T11:11:46.878252Z"
    }
   },
   "cell_type": "code",
   "source": "soup = BeautifulSoup(html_content, \"html.parser\")",
   "id": "b76343f7a74fc24d",
   "outputs": [],
   "execution_count": 19
  },
  {
   "metadata": {
    "ExecuteTime": {
     "end_time": "2024-05-27T11:37:46.159283Z",
     "start_time": "2024-05-27T11:37:44.399691Z"
    }
   },
   "cell_type": "code",
   "source": [
    "# Liste pour stocker les informations extraites\n",
    "models = extract_vehicle_info(driver)"
   ],
   "id": "99a73c7089eeefa6",
   "outputs": [
    {
     "ename": "MaxRetryError",
     "evalue": "HTTPConnectionPool(host='localhost', port=52051): Max retries exceeded with url: /session/355f01012138d3872f91364770120825/elements (Caused by NewConnectionError('<urllib3.connection.HTTPConnection object at 0x1299ed510>: Failed to establish a new connection: [Errno 61] Connection refused'))",
     "output_type": "error",
     "traceback": [
      "\u001B[0;31m---------------------------------------------------------------------------\u001B[0m",
      "\u001B[0;31mConnectionRefusedError\u001B[0m                    Traceback (most recent call last)",
      "File \u001B[0;32m~/DataspellProjects/scraping-master/venv/lib/python3.11/site-packages/urllib3/connection.py:203\u001B[0m, in \u001B[0;36mHTTPConnection._new_conn\u001B[0;34m(self)\u001B[0m\n\u001B[1;32m    202\u001B[0m \u001B[38;5;28;01mtry\u001B[39;00m:\n\u001B[0;32m--> 203\u001B[0m     sock \u001B[38;5;241m=\u001B[39m \u001B[43mconnection\u001B[49m\u001B[38;5;241;43m.\u001B[39;49m\u001B[43mcreate_connection\u001B[49m\u001B[43m(\u001B[49m\n\u001B[1;32m    204\u001B[0m \u001B[43m        \u001B[49m\u001B[43m(\u001B[49m\u001B[38;5;28;43mself\u001B[39;49m\u001B[38;5;241;43m.\u001B[39;49m\u001B[43m_dns_host\u001B[49m\u001B[43m,\u001B[49m\u001B[43m \u001B[49m\u001B[38;5;28;43mself\u001B[39;49m\u001B[38;5;241;43m.\u001B[39;49m\u001B[43mport\u001B[49m\u001B[43m)\u001B[49m\u001B[43m,\u001B[49m\n\u001B[1;32m    205\u001B[0m \u001B[43m        \u001B[49m\u001B[38;5;28;43mself\u001B[39;49m\u001B[38;5;241;43m.\u001B[39;49m\u001B[43mtimeout\u001B[49m\u001B[43m,\u001B[49m\n\u001B[1;32m    206\u001B[0m \u001B[43m        \u001B[49m\u001B[43msource_address\u001B[49m\u001B[38;5;241;43m=\u001B[39;49m\u001B[38;5;28;43mself\u001B[39;49m\u001B[38;5;241;43m.\u001B[39;49m\u001B[43msource_address\u001B[49m\u001B[43m,\u001B[49m\n\u001B[1;32m    207\u001B[0m \u001B[43m        \u001B[49m\u001B[43msocket_options\u001B[49m\u001B[38;5;241;43m=\u001B[39;49m\u001B[38;5;28;43mself\u001B[39;49m\u001B[38;5;241;43m.\u001B[39;49m\u001B[43msocket_options\u001B[49m\u001B[43m,\u001B[49m\n\u001B[1;32m    208\u001B[0m \u001B[43m    \u001B[49m\u001B[43m)\u001B[49m\n\u001B[1;32m    209\u001B[0m \u001B[38;5;28;01mexcept\u001B[39;00m socket\u001B[38;5;241m.\u001B[39mgaierror \u001B[38;5;28;01mas\u001B[39;00m e:\n",
      "File \u001B[0;32m~/DataspellProjects/scraping-master/venv/lib/python3.11/site-packages/urllib3/util/connection.py:85\u001B[0m, in \u001B[0;36mcreate_connection\u001B[0;34m(address, timeout, source_address, socket_options)\u001B[0m\n\u001B[1;32m     84\u001B[0m \u001B[38;5;28;01mtry\u001B[39;00m:\n\u001B[0;32m---> 85\u001B[0m     \u001B[38;5;28;01mraise\u001B[39;00m err\n\u001B[1;32m     86\u001B[0m \u001B[38;5;28;01mfinally\u001B[39;00m:\n\u001B[1;32m     87\u001B[0m     \u001B[38;5;66;03m# Break explicitly a reference cycle\u001B[39;00m\n",
      "File \u001B[0;32m~/DataspellProjects/scraping-master/venv/lib/python3.11/site-packages/urllib3/util/connection.py:73\u001B[0m, in \u001B[0;36mcreate_connection\u001B[0;34m(address, timeout, source_address, socket_options)\u001B[0m\n\u001B[1;32m     72\u001B[0m     sock\u001B[38;5;241m.\u001B[39mbind(source_address)\n\u001B[0;32m---> 73\u001B[0m \u001B[43msock\u001B[49m\u001B[38;5;241;43m.\u001B[39;49m\u001B[43mconnect\u001B[49m\u001B[43m(\u001B[49m\u001B[43msa\u001B[49m\u001B[43m)\u001B[49m\n\u001B[1;32m     74\u001B[0m \u001B[38;5;66;03m# Break explicitly a reference cycle\u001B[39;00m\n",
      "\u001B[0;31mConnectionRefusedError\u001B[0m: [Errno 61] Connection refused",
      "\nThe above exception was the direct cause of the following exception:\n",
      "\u001B[0;31mNewConnectionError\u001B[0m                        Traceback (most recent call last)",
      "File \u001B[0;32m~/DataspellProjects/scraping-master/venv/lib/python3.11/site-packages/urllib3/connectionpool.py:790\u001B[0m, in \u001B[0;36mHTTPConnectionPool.urlopen\u001B[0;34m(self, method, url, body, headers, retries, redirect, assert_same_host, timeout, pool_timeout, release_conn, chunked, body_pos, preload_content, decode_content, **response_kw)\u001B[0m\n\u001B[1;32m    789\u001B[0m \u001B[38;5;66;03m# Make the request on the HTTPConnection object\u001B[39;00m\n\u001B[0;32m--> 790\u001B[0m response \u001B[38;5;241m=\u001B[39m \u001B[38;5;28;43mself\u001B[39;49m\u001B[38;5;241;43m.\u001B[39;49m\u001B[43m_make_request\u001B[49m\u001B[43m(\u001B[49m\n\u001B[1;32m    791\u001B[0m \u001B[43m    \u001B[49m\u001B[43mconn\u001B[49m\u001B[43m,\u001B[49m\n\u001B[1;32m    792\u001B[0m \u001B[43m    \u001B[49m\u001B[43mmethod\u001B[49m\u001B[43m,\u001B[49m\n\u001B[1;32m    793\u001B[0m \u001B[43m    \u001B[49m\u001B[43murl\u001B[49m\u001B[43m,\u001B[49m\n\u001B[1;32m    794\u001B[0m \u001B[43m    \u001B[49m\u001B[43mtimeout\u001B[49m\u001B[38;5;241;43m=\u001B[39;49m\u001B[43mtimeout_obj\u001B[49m\u001B[43m,\u001B[49m\n\u001B[1;32m    795\u001B[0m \u001B[43m    \u001B[49m\u001B[43mbody\u001B[49m\u001B[38;5;241;43m=\u001B[39;49m\u001B[43mbody\u001B[49m\u001B[43m,\u001B[49m\n\u001B[1;32m    796\u001B[0m \u001B[43m    \u001B[49m\u001B[43mheaders\u001B[49m\u001B[38;5;241;43m=\u001B[39;49m\u001B[43mheaders\u001B[49m\u001B[43m,\u001B[49m\n\u001B[1;32m    797\u001B[0m \u001B[43m    \u001B[49m\u001B[43mchunked\u001B[49m\u001B[38;5;241;43m=\u001B[39;49m\u001B[43mchunked\u001B[49m\u001B[43m,\u001B[49m\n\u001B[1;32m    798\u001B[0m \u001B[43m    \u001B[49m\u001B[43mretries\u001B[49m\u001B[38;5;241;43m=\u001B[39;49m\u001B[43mretries\u001B[49m\u001B[43m,\u001B[49m\n\u001B[1;32m    799\u001B[0m \u001B[43m    \u001B[49m\u001B[43mresponse_conn\u001B[49m\u001B[38;5;241;43m=\u001B[39;49m\u001B[43mresponse_conn\u001B[49m\u001B[43m,\u001B[49m\n\u001B[1;32m    800\u001B[0m \u001B[43m    \u001B[49m\u001B[43mpreload_content\u001B[49m\u001B[38;5;241;43m=\u001B[39;49m\u001B[43mpreload_content\u001B[49m\u001B[43m,\u001B[49m\n\u001B[1;32m    801\u001B[0m \u001B[43m    \u001B[49m\u001B[43mdecode_content\u001B[49m\u001B[38;5;241;43m=\u001B[39;49m\u001B[43mdecode_content\u001B[49m\u001B[43m,\u001B[49m\n\u001B[1;32m    802\u001B[0m \u001B[43m    \u001B[49m\u001B[38;5;241;43m*\u001B[39;49m\u001B[38;5;241;43m*\u001B[39;49m\u001B[43mresponse_kw\u001B[49m\u001B[43m,\u001B[49m\n\u001B[1;32m    803\u001B[0m \u001B[43m\u001B[49m\u001B[43m)\u001B[49m\n\u001B[1;32m    805\u001B[0m \u001B[38;5;66;03m# Everything went great!\u001B[39;00m\n",
      "File \u001B[0;32m~/DataspellProjects/scraping-master/venv/lib/python3.11/site-packages/urllib3/connectionpool.py:496\u001B[0m, in \u001B[0;36mHTTPConnectionPool._make_request\u001B[0;34m(self, conn, method, url, body, headers, retries, timeout, chunked, response_conn, preload_content, decode_content, enforce_content_length)\u001B[0m\n\u001B[1;32m    495\u001B[0m \u001B[38;5;28;01mtry\u001B[39;00m:\n\u001B[0;32m--> 496\u001B[0m     \u001B[43mconn\u001B[49m\u001B[38;5;241;43m.\u001B[39;49m\u001B[43mrequest\u001B[49m\u001B[43m(\u001B[49m\n\u001B[1;32m    497\u001B[0m \u001B[43m        \u001B[49m\u001B[43mmethod\u001B[49m\u001B[43m,\u001B[49m\n\u001B[1;32m    498\u001B[0m \u001B[43m        \u001B[49m\u001B[43murl\u001B[49m\u001B[43m,\u001B[49m\n\u001B[1;32m    499\u001B[0m \u001B[43m        \u001B[49m\u001B[43mbody\u001B[49m\u001B[38;5;241;43m=\u001B[39;49m\u001B[43mbody\u001B[49m\u001B[43m,\u001B[49m\n\u001B[1;32m    500\u001B[0m \u001B[43m        \u001B[49m\u001B[43mheaders\u001B[49m\u001B[38;5;241;43m=\u001B[39;49m\u001B[43mheaders\u001B[49m\u001B[43m,\u001B[49m\n\u001B[1;32m    501\u001B[0m \u001B[43m        \u001B[49m\u001B[43mchunked\u001B[49m\u001B[38;5;241;43m=\u001B[39;49m\u001B[43mchunked\u001B[49m\u001B[43m,\u001B[49m\n\u001B[1;32m    502\u001B[0m \u001B[43m        \u001B[49m\u001B[43mpreload_content\u001B[49m\u001B[38;5;241;43m=\u001B[39;49m\u001B[43mpreload_content\u001B[49m\u001B[43m,\u001B[49m\n\u001B[1;32m    503\u001B[0m \u001B[43m        \u001B[49m\u001B[43mdecode_content\u001B[49m\u001B[38;5;241;43m=\u001B[39;49m\u001B[43mdecode_content\u001B[49m\u001B[43m,\u001B[49m\n\u001B[1;32m    504\u001B[0m \u001B[43m        \u001B[49m\u001B[43menforce_content_length\u001B[49m\u001B[38;5;241;43m=\u001B[39;49m\u001B[43menforce_content_length\u001B[49m\u001B[43m,\u001B[49m\n\u001B[1;32m    505\u001B[0m \u001B[43m    \u001B[49m\u001B[43m)\u001B[49m\n\u001B[1;32m    507\u001B[0m \u001B[38;5;66;03m# We are swallowing BrokenPipeError (errno.EPIPE) since the server is\u001B[39;00m\n\u001B[1;32m    508\u001B[0m \u001B[38;5;66;03m# legitimately able to close the connection after sending a valid response.\u001B[39;00m\n\u001B[1;32m    509\u001B[0m \u001B[38;5;66;03m# With this behaviour, the received response is still readable.\u001B[39;00m\n",
      "File \u001B[0;32m~/DataspellProjects/scraping-master/venv/lib/python3.11/site-packages/urllib3/connection.py:395\u001B[0m, in \u001B[0;36mHTTPConnection.request\u001B[0;34m(self, method, url, body, headers, chunked, preload_content, decode_content, enforce_content_length)\u001B[0m\n\u001B[1;32m    394\u001B[0m     \u001B[38;5;28mself\u001B[39m\u001B[38;5;241m.\u001B[39mputheader(header, value)\n\u001B[0;32m--> 395\u001B[0m \u001B[38;5;28;43mself\u001B[39;49m\u001B[38;5;241;43m.\u001B[39;49m\u001B[43mendheaders\u001B[49m\u001B[43m(\u001B[49m\u001B[43m)\u001B[49m\n\u001B[1;32m    397\u001B[0m \u001B[38;5;66;03m# If we're given a body we start sending that in chunks.\u001B[39;00m\n",
      "File \u001B[0;32m/usr/local/Cellar/python@3.11/3.11.8/Frameworks/Python.framework/Versions/3.11/lib/python3.11/http/client.py:1293\u001B[0m, in \u001B[0;36mHTTPConnection.endheaders\u001B[0;34m(self, message_body, encode_chunked)\u001B[0m\n\u001B[1;32m   1292\u001B[0m     \u001B[38;5;28;01mraise\u001B[39;00m CannotSendHeader()\n\u001B[0;32m-> 1293\u001B[0m \u001B[38;5;28;43mself\u001B[39;49m\u001B[38;5;241;43m.\u001B[39;49m\u001B[43m_send_output\u001B[49m\u001B[43m(\u001B[49m\u001B[43mmessage_body\u001B[49m\u001B[43m,\u001B[49m\u001B[43m \u001B[49m\u001B[43mencode_chunked\u001B[49m\u001B[38;5;241;43m=\u001B[39;49m\u001B[43mencode_chunked\u001B[49m\u001B[43m)\u001B[49m\n",
      "File \u001B[0;32m/usr/local/Cellar/python@3.11/3.11.8/Frameworks/Python.framework/Versions/3.11/lib/python3.11/http/client.py:1052\u001B[0m, in \u001B[0;36mHTTPConnection._send_output\u001B[0;34m(self, message_body, encode_chunked)\u001B[0m\n\u001B[1;32m   1051\u001B[0m \u001B[38;5;28;01mdel\u001B[39;00m \u001B[38;5;28mself\u001B[39m\u001B[38;5;241m.\u001B[39m_buffer[:]\n\u001B[0;32m-> 1052\u001B[0m \u001B[38;5;28;43mself\u001B[39;49m\u001B[38;5;241;43m.\u001B[39;49m\u001B[43msend\u001B[49m\u001B[43m(\u001B[49m\u001B[43mmsg\u001B[49m\u001B[43m)\u001B[49m\n\u001B[1;32m   1054\u001B[0m \u001B[38;5;28;01mif\u001B[39;00m message_body \u001B[38;5;129;01mis\u001B[39;00m \u001B[38;5;129;01mnot\u001B[39;00m \u001B[38;5;28;01mNone\u001B[39;00m:\n\u001B[1;32m   1055\u001B[0m \n\u001B[1;32m   1056\u001B[0m     \u001B[38;5;66;03m# create a consistent interface to message_body\u001B[39;00m\n",
      "File \u001B[0;32m/usr/local/Cellar/python@3.11/3.11.8/Frameworks/Python.framework/Versions/3.11/lib/python3.11/http/client.py:990\u001B[0m, in \u001B[0;36mHTTPConnection.send\u001B[0;34m(self, data)\u001B[0m\n\u001B[1;32m    989\u001B[0m \u001B[38;5;28;01mif\u001B[39;00m \u001B[38;5;28mself\u001B[39m\u001B[38;5;241m.\u001B[39mauto_open:\n\u001B[0;32m--> 990\u001B[0m     \u001B[38;5;28;43mself\u001B[39;49m\u001B[38;5;241;43m.\u001B[39;49m\u001B[43mconnect\u001B[49m\u001B[43m(\u001B[49m\u001B[43m)\u001B[49m\n\u001B[1;32m    991\u001B[0m \u001B[38;5;28;01melse\u001B[39;00m:\n",
      "File \u001B[0;32m~/DataspellProjects/scraping-master/venv/lib/python3.11/site-packages/urllib3/connection.py:243\u001B[0m, in \u001B[0;36mHTTPConnection.connect\u001B[0;34m(self)\u001B[0m\n\u001B[1;32m    242\u001B[0m \u001B[38;5;28;01mdef\u001B[39;00m \u001B[38;5;21mconnect\u001B[39m(\u001B[38;5;28mself\u001B[39m) \u001B[38;5;241m-\u001B[39m\u001B[38;5;241m>\u001B[39m \u001B[38;5;28;01mNone\u001B[39;00m:\n\u001B[0;32m--> 243\u001B[0m     \u001B[38;5;28mself\u001B[39m\u001B[38;5;241m.\u001B[39msock \u001B[38;5;241m=\u001B[39m \u001B[38;5;28;43mself\u001B[39;49m\u001B[38;5;241;43m.\u001B[39;49m\u001B[43m_new_conn\u001B[49m\u001B[43m(\u001B[49m\u001B[43m)\u001B[49m\n\u001B[1;32m    244\u001B[0m     \u001B[38;5;28;01mif\u001B[39;00m \u001B[38;5;28mself\u001B[39m\u001B[38;5;241m.\u001B[39m_tunnel_host:\n\u001B[1;32m    245\u001B[0m         \u001B[38;5;66;03m# If we're tunneling it means we're connected to our proxy.\u001B[39;00m\n",
      "File \u001B[0;32m~/DataspellProjects/scraping-master/venv/lib/python3.11/site-packages/urllib3/connection.py:218\u001B[0m, in \u001B[0;36mHTTPConnection._new_conn\u001B[0;34m(self)\u001B[0m\n\u001B[1;32m    217\u001B[0m \u001B[38;5;28;01mexcept\u001B[39;00m \u001B[38;5;167;01mOSError\u001B[39;00m \u001B[38;5;28;01mas\u001B[39;00m e:\n\u001B[0;32m--> 218\u001B[0m     \u001B[38;5;28;01mraise\u001B[39;00m NewConnectionError(\n\u001B[1;32m    219\u001B[0m         \u001B[38;5;28mself\u001B[39m, \u001B[38;5;124mf\u001B[39m\u001B[38;5;124m\"\u001B[39m\u001B[38;5;124mFailed to establish a new connection: \u001B[39m\u001B[38;5;132;01m{\u001B[39;00me\u001B[38;5;132;01m}\u001B[39;00m\u001B[38;5;124m\"\u001B[39m\n\u001B[1;32m    220\u001B[0m     ) \u001B[38;5;28;01mfrom\u001B[39;00m \u001B[38;5;21;01me\u001B[39;00m\n\u001B[1;32m    222\u001B[0m \u001B[38;5;66;03m# Audit hooks are only available in Python 3.8+\u001B[39;00m\n",
      "\u001B[0;31mNewConnectionError\u001B[0m: <urllib3.connection.HTTPConnection object at 0x1299ed510>: Failed to establish a new connection: [Errno 61] Connection refused",
      "\nThe above exception was the direct cause of the following exception:\n",
      "\u001B[0;31mMaxRetryError\u001B[0m                             Traceback (most recent call last)",
      "Cell \u001B[0;32mIn[113], line 2\u001B[0m\n\u001B[1;32m      1\u001B[0m \u001B[38;5;66;03m# Liste pour stocker les informations extraites\u001B[39;00m\n\u001B[0;32m----> 2\u001B[0m models \u001B[38;5;241m=\u001B[39m \u001B[43mextract_vehicle_info\u001B[49m\u001B[43m(\u001B[49m\u001B[43mdriver\u001B[49m\u001B[43m)\u001B[49m\n",
      "Cell \u001B[0;32mIn[97], line 4\u001B[0m, in \u001B[0;36mextract_vehicle_info\u001B[0;34m(driver)\u001B[0m\n\u001B[1;32m      1\u001B[0m \u001B[38;5;28;01mdef\u001B[39;00m \u001B[38;5;21mextract_vehicle_info\u001B[39m(driver):\n\u001B[1;32m      2\u001B[0m     \u001B[38;5;66;03m# Trouver tous les éléments de produit\u001B[39;00m\n\u001B[1;32m      3\u001B[0m     \u001B[38;5;28;01mtry\u001B[39;00m:\n\u001B[0;32m----> 4\u001B[0m         products_elements \u001B[38;5;241m=\u001B[39m \u001B[43mdriver\u001B[49m\u001B[38;5;241;43m.\u001B[39;49m\u001B[43mfind_elements\u001B[49m\u001B[43m(\u001B[49m\u001B[43mBy\u001B[49m\u001B[38;5;241;43m.\u001B[39;49m\u001B[43mCSS_SELECTOR\u001B[49m\u001B[43m,\u001B[49m\u001B[43m \u001B[49m\u001B[38;5;124;43m'\u001B[39;49m\u001B[38;5;124;43ma.product-wrap\u001B[39;49m\u001B[38;5;124;43m'\u001B[39;49m\u001B[43m)\u001B[49m\n\u001B[1;32m      5\u001B[0m         \u001B[38;5;28;01mif\u001B[39;00m \u001B[38;5;129;01mnot\u001B[39;00m products_elements:\n\u001B[1;32m      6\u001B[0m             \u001B[38;5;28mprint\u001B[39m(\u001B[38;5;124m\"\u001B[39m\u001B[38;5;124mNo product elements found.\u001B[39m\u001B[38;5;124m\"\u001B[39m)\n",
      "File \u001B[0;32m~/DataspellProjects/scraping-master/venv/lib/python3.11/site-packages/selenium/webdriver/remote/webdriver.py:772\u001B[0m, in \u001B[0;36mWebDriver.find_elements\u001B[0;34m(self, by, value)\u001B[0m\n\u001B[1;32m    768\u001B[0m     value \u001B[38;5;241m=\u001B[39m \u001B[38;5;124mf\u001B[39m\u001B[38;5;124m'\u001B[39m\u001B[38;5;124m[name=\u001B[39m\u001B[38;5;124m\"\u001B[39m\u001B[38;5;132;01m{\u001B[39;00mvalue\u001B[38;5;132;01m}\u001B[39;00m\u001B[38;5;124m\"\u001B[39m\u001B[38;5;124m]\u001B[39m\u001B[38;5;124m'\u001B[39m\n\u001B[1;32m    770\u001B[0m \u001B[38;5;66;03m# Return empty list if driver returns null\u001B[39;00m\n\u001B[1;32m    771\u001B[0m \u001B[38;5;66;03m# See https://github.com/SeleniumHQ/selenium/issues/4555\u001B[39;00m\n\u001B[0;32m--> 772\u001B[0m \u001B[38;5;28;01mreturn\u001B[39;00m \u001B[38;5;28;43mself\u001B[39;49m\u001B[38;5;241;43m.\u001B[39;49m\u001B[43mexecute\u001B[49m\u001B[43m(\u001B[49m\u001B[43mCommand\u001B[49m\u001B[38;5;241;43m.\u001B[39;49m\u001B[43mFIND_ELEMENTS\u001B[49m\u001B[43m,\u001B[49m\u001B[43m \u001B[49m\u001B[43m{\u001B[49m\u001B[38;5;124;43m\"\u001B[39;49m\u001B[38;5;124;43musing\u001B[39;49m\u001B[38;5;124;43m\"\u001B[39;49m\u001B[43m:\u001B[49m\u001B[43m \u001B[49m\u001B[43mby\u001B[49m\u001B[43m,\u001B[49m\u001B[43m \u001B[49m\u001B[38;5;124;43m\"\u001B[39;49m\u001B[38;5;124;43mvalue\u001B[39;49m\u001B[38;5;124;43m\"\u001B[39;49m\u001B[43m:\u001B[49m\u001B[43m \u001B[49m\u001B[43mvalue\u001B[49m\u001B[43m}\u001B[49m\u001B[43m)\u001B[49m[\u001B[38;5;124m\"\u001B[39m\u001B[38;5;124mvalue\u001B[39m\u001B[38;5;124m\"\u001B[39m] \u001B[38;5;129;01mor\u001B[39;00m []\n",
      "File \u001B[0;32m~/DataspellProjects/scraping-master/venv/lib/python3.11/site-packages/selenium/webdriver/remote/webdriver.py:346\u001B[0m, in \u001B[0;36mWebDriver.execute\u001B[0;34m(self, driver_command, params)\u001B[0m\n\u001B[1;32m    343\u001B[0m     \u001B[38;5;28;01melif\u001B[39;00m \u001B[38;5;124m\"\u001B[39m\u001B[38;5;124msessionId\u001B[39m\u001B[38;5;124m\"\u001B[39m \u001B[38;5;129;01mnot\u001B[39;00m \u001B[38;5;129;01min\u001B[39;00m params:\n\u001B[1;32m    344\u001B[0m         params[\u001B[38;5;124m\"\u001B[39m\u001B[38;5;124msessionId\u001B[39m\u001B[38;5;124m\"\u001B[39m] \u001B[38;5;241m=\u001B[39m \u001B[38;5;28mself\u001B[39m\u001B[38;5;241m.\u001B[39msession_id\n\u001B[0;32m--> 346\u001B[0m response \u001B[38;5;241m=\u001B[39m \u001B[38;5;28;43mself\u001B[39;49m\u001B[38;5;241;43m.\u001B[39;49m\u001B[43mcommand_executor\u001B[49m\u001B[38;5;241;43m.\u001B[39;49m\u001B[43mexecute\u001B[49m\u001B[43m(\u001B[49m\u001B[43mdriver_command\u001B[49m\u001B[43m,\u001B[49m\u001B[43m \u001B[49m\u001B[43mparams\u001B[49m\u001B[43m)\u001B[49m\n\u001B[1;32m    347\u001B[0m \u001B[38;5;28;01mif\u001B[39;00m response:\n\u001B[1;32m    348\u001B[0m     \u001B[38;5;28mself\u001B[39m\u001B[38;5;241m.\u001B[39merror_handler\u001B[38;5;241m.\u001B[39mcheck_response(response)\n",
      "File \u001B[0;32m~/DataspellProjects/scraping-master/venv/lib/python3.11/site-packages/selenium/webdriver/remote/remote_connection.py:300\u001B[0m, in \u001B[0;36mRemoteConnection.execute\u001B[0;34m(self, command, params)\u001B[0m\n\u001B[1;32m    298\u001B[0m data \u001B[38;5;241m=\u001B[39m utils\u001B[38;5;241m.\u001B[39mdump_json(params)\n\u001B[1;32m    299\u001B[0m url \u001B[38;5;241m=\u001B[39m \u001B[38;5;124mf\u001B[39m\u001B[38;5;124m\"\u001B[39m\u001B[38;5;132;01m{\u001B[39;00m\u001B[38;5;28mself\u001B[39m\u001B[38;5;241m.\u001B[39m_url\u001B[38;5;132;01m}\u001B[39;00m\u001B[38;5;132;01m{\u001B[39;00mpath\u001B[38;5;132;01m}\u001B[39;00m\u001B[38;5;124m\"\u001B[39m\n\u001B[0;32m--> 300\u001B[0m \u001B[38;5;28;01mreturn\u001B[39;00m \u001B[38;5;28;43mself\u001B[39;49m\u001B[38;5;241;43m.\u001B[39;49m\u001B[43m_request\u001B[49m\u001B[43m(\u001B[49m\u001B[43mcommand_info\u001B[49m\u001B[43m[\u001B[49m\u001B[38;5;241;43m0\u001B[39;49m\u001B[43m]\u001B[49m\u001B[43m,\u001B[49m\u001B[43m \u001B[49m\u001B[43murl\u001B[49m\u001B[43m,\u001B[49m\u001B[43m \u001B[49m\u001B[43mbody\u001B[49m\u001B[38;5;241;43m=\u001B[39;49m\u001B[43mdata\u001B[49m\u001B[43m)\u001B[49m\n",
      "File \u001B[0;32m~/DataspellProjects/scraping-master/venv/lib/python3.11/site-packages/selenium/webdriver/remote/remote_connection.py:321\u001B[0m, in \u001B[0;36mRemoteConnection._request\u001B[0;34m(self, method, url, body)\u001B[0m\n\u001B[1;32m    318\u001B[0m     body \u001B[38;5;241m=\u001B[39m \u001B[38;5;28;01mNone\u001B[39;00m\n\u001B[1;32m    320\u001B[0m \u001B[38;5;28;01mif\u001B[39;00m \u001B[38;5;28mself\u001B[39m\u001B[38;5;241m.\u001B[39mkeep_alive:\n\u001B[0;32m--> 321\u001B[0m     response \u001B[38;5;241m=\u001B[39m \u001B[38;5;28;43mself\u001B[39;49m\u001B[38;5;241;43m.\u001B[39;49m\u001B[43m_conn\u001B[49m\u001B[38;5;241;43m.\u001B[39;49m\u001B[43mrequest\u001B[49m\u001B[43m(\u001B[49m\u001B[43mmethod\u001B[49m\u001B[43m,\u001B[49m\u001B[43m \u001B[49m\u001B[43murl\u001B[49m\u001B[43m,\u001B[49m\u001B[43m \u001B[49m\u001B[43mbody\u001B[49m\u001B[38;5;241;43m=\u001B[39;49m\u001B[43mbody\u001B[49m\u001B[43m,\u001B[49m\u001B[43m \u001B[49m\u001B[43mheaders\u001B[49m\u001B[38;5;241;43m=\u001B[39;49m\u001B[43mheaders\u001B[49m\u001B[43m)\u001B[49m\n\u001B[1;32m    322\u001B[0m     statuscode \u001B[38;5;241m=\u001B[39m response\u001B[38;5;241m.\u001B[39mstatus\n\u001B[1;32m    323\u001B[0m \u001B[38;5;28;01melse\u001B[39;00m:\n",
      "File \u001B[0;32m~/DataspellProjects/scraping-master/venv/lib/python3.11/site-packages/urllib3/_request_methods.py:118\u001B[0m, in \u001B[0;36mRequestMethods.request\u001B[0;34m(self, method, url, body, fields, headers, json, **urlopen_kw)\u001B[0m\n\u001B[1;32m    110\u001B[0m     \u001B[38;5;28;01mreturn\u001B[39;00m \u001B[38;5;28mself\u001B[39m\u001B[38;5;241m.\u001B[39mrequest_encode_url(\n\u001B[1;32m    111\u001B[0m         method,\n\u001B[1;32m    112\u001B[0m         url,\n\u001B[0;32m   (...)\u001B[0m\n\u001B[1;32m    115\u001B[0m         \u001B[38;5;241m*\u001B[39m\u001B[38;5;241m*\u001B[39murlopen_kw,\n\u001B[1;32m    116\u001B[0m     )\n\u001B[1;32m    117\u001B[0m \u001B[38;5;28;01melse\u001B[39;00m:\n\u001B[0;32m--> 118\u001B[0m     \u001B[38;5;28;01mreturn\u001B[39;00m \u001B[38;5;28;43mself\u001B[39;49m\u001B[38;5;241;43m.\u001B[39;49m\u001B[43mrequest_encode_body\u001B[49m\u001B[43m(\u001B[49m\n\u001B[1;32m    119\u001B[0m \u001B[43m        \u001B[49m\u001B[43mmethod\u001B[49m\u001B[43m,\u001B[49m\u001B[43m \u001B[49m\u001B[43murl\u001B[49m\u001B[43m,\u001B[49m\u001B[43m \u001B[49m\u001B[43mfields\u001B[49m\u001B[38;5;241;43m=\u001B[39;49m\u001B[43mfields\u001B[49m\u001B[43m,\u001B[49m\u001B[43m \u001B[49m\u001B[43mheaders\u001B[49m\u001B[38;5;241;43m=\u001B[39;49m\u001B[43mheaders\u001B[49m\u001B[43m,\u001B[49m\u001B[43m \u001B[49m\u001B[38;5;241;43m*\u001B[39;49m\u001B[38;5;241;43m*\u001B[39;49m\u001B[43murlopen_kw\u001B[49m\n\u001B[1;32m    120\u001B[0m \u001B[43m    \u001B[49m\u001B[43m)\u001B[49m\n",
      "File \u001B[0;32m~/DataspellProjects/scraping-master/venv/lib/python3.11/site-packages/urllib3/_request_methods.py:217\u001B[0m, in \u001B[0;36mRequestMethods.request_encode_body\u001B[0;34m(self, method, url, fields, headers, encode_multipart, multipart_boundary, **urlopen_kw)\u001B[0m\n\u001B[1;32m    213\u001B[0m     extra_kw[\u001B[38;5;124m\"\u001B[39m\u001B[38;5;124mheaders\u001B[39m\u001B[38;5;124m\"\u001B[39m]\u001B[38;5;241m.\u001B[39msetdefault(\u001B[38;5;124m\"\u001B[39m\u001B[38;5;124mContent-Type\u001B[39m\u001B[38;5;124m\"\u001B[39m, content_type)\n\u001B[1;32m    215\u001B[0m extra_kw\u001B[38;5;241m.\u001B[39mupdate(urlopen_kw)\n\u001B[0;32m--> 217\u001B[0m \u001B[38;5;28;01mreturn\u001B[39;00m \u001B[38;5;28;43mself\u001B[39;49m\u001B[38;5;241;43m.\u001B[39;49m\u001B[43murlopen\u001B[49m\u001B[43m(\u001B[49m\u001B[43mmethod\u001B[49m\u001B[43m,\u001B[49m\u001B[43m \u001B[49m\u001B[43murl\u001B[49m\u001B[43m,\u001B[49m\u001B[43m \u001B[49m\u001B[38;5;241;43m*\u001B[39;49m\u001B[38;5;241;43m*\u001B[39;49m\u001B[43mextra_kw\u001B[49m\u001B[43m)\u001B[49m\n",
      "File \u001B[0;32m~/DataspellProjects/scraping-master/venv/lib/python3.11/site-packages/urllib3/poolmanager.py:444\u001B[0m, in \u001B[0;36mPoolManager.urlopen\u001B[0;34m(self, method, url, redirect, **kw)\u001B[0m\n\u001B[1;32m    442\u001B[0m     response \u001B[38;5;241m=\u001B[39m conn\u001B[38;5;241m.\u001B[39murlopen(method, url, \u001B[38;5;241m*\u001B[39m\u001B[38;5;241m*\u001B[39mkw)\n\u001B[1;32m    443\u001B[0m \u001B[38;5;28;01melse\u001B[39;00m:\n\u001B[0;32m--> 444\u001B[0m     response \u001B[38;5;241m=\u001B[39m \u001B[43mconn\u001B[49m\u001B[38;5;241;43m.\u001B[39;49m\u001B[43murlopen\u001B[49m\u001B[43m(\u001B[49m\u001B[43mmethod\u001B[49m\u001B[43m,\u001B[49m\u001B[43m \u001B[49m\u001B[43mu\u001B[49m\u001B[38;5;241;43m.\u001B[39;49m\u001B[43mrequest_uri\u001B[49m\u001B[43m,\u001B[49m\u001B[43m \u001B[49m\u001B[38;5;241;43m*\u001B[39;49m\u001B[38;5;241;43m*\u001B[39;49m\u001B[43mkw\u001B[49m\u001B[43m)\u001B[49m\n\u001B[1;32m    446\u001B[0m redirect_location \u001B[38;5;241m=\u001B[39m redirect \u001B[38;5;129;01mand\u001B[39;00m response\u001B[38;5;241m.\u001B[39mget_redirect_location()\n\u001B[1;32m    447\u001B[0m \u001B[38;5;28;01mif\u001B[39;00m \u001B[38;5;129;01mnot\u001B[39;00m redirect_location:\n",
      "File \u001B[0;32m~/DataspellProjects/scraping-master/venv/lib/python3.11/site-packages/urllib3/connectionpool.py:874\u001B[0m, in \u001B[0;36mHTTPConnectionPool.urlopen\u001B[0;34m(self, method, url, body, headers, retries, redirect, assert_same_host, timeout, pool_timeout, release_conn, chunked, body_pos, preload_content, decode_content, **response_kw)\u001B[0m\n\u001B[1;32m    869\u001B[0m \u001B[38;5;28;01mif\u001B[39;00m \u001B[38;5;129;01mnot\u001B[39;00m conn:\n\u001B[1;32m    870\u001B[0m     \u001B[38;5;66;03m# Try again\u001B[39;00m\n\u001B[1;32m    871\u001B[0m     log\u001B[38;5;241m.\u001B[39mwarning(\n\u001B[1;32m    872\u001B[0m         \u001B[38;5;124m\"\u001B[39m\u001B[38;5;124mRetrying (\u001B[39m\u001B[38;5;132;01m%r\u001B[39;00m\u001B[38;5;124m) after connection broken by \u001B[39m\u001B[38;5;124m'\u001B[39m\u001B[38;5;132;01m%r\u001B[39;00m\u001B[38;5;124m'\u001B[39m\u001B[38;5;124m: \u001B[39m\u001B[38;5;132;01m%s\u001B[39;00m\u001B[38;5;124m\"\u001B[39m, retries, err, url\n\u001B[1;32m    873\u001B[0m     )\n\u001B[0;32m--> 874\u001B[0m     \u001B[38;5;28;01mreturn\u001B[39;00m \u001B[38;5;28;43mself\u001B[39;49m\u001B[38;5;241;43m.\u001B[39;49m\u001B[43murlopen\u001B[49m\u001B[43m(\u001B[49m\n\u001B[1;32m    875\u001B[0m \u001B[43m        \u001B[49m\u001B[43mmethod\u001B[49m\u001B[43m,\u001B[49m\n\u001B[1;32m    876\u001B[0m \u001B[43m        \u001B[49m\u001B[43murl\u001B[49m\u001B[43m,\u001B[49m\n\u001B[1;32m    877\u001B[0m \u001B[43m        \u001B[49m\u001B[43mbody\u001B[49m\u001B[43m,\u001B[49m\n\u001B[1;32m    878\u001B[0m \u001B[43m        \u001B[49m\u001B[43mheaders\u001B[49m\u001B[43m,\u001B[49m\n\u001B[1;32m    879\u001B[0m \u001B[43m        \u001B[49m\u001B[43mretries\u001B[49m\u001B[43m,\u001B[49m\n\u001B[1;32m    880\u001B[0m \u001B[43m        \u001B[49m\u001B[43mredirect\u001B[49m\u001B[43m,\u001B[49m\n\u001B[1;32m    881\u001B[0m \u001B[43m        \u001B[49m\u001B[43massert_same_host\u001B[49m\u001B[43m,\u001B[49m\n\u001B[1;32m    882\u001B[0m \u001B[43m        \u001B[49m\u001B[43mtimeout\u001B[49m\u001B[38;5;241;43m=\u001B[39;49m\u001B[43mtimeout\u001B[49m\u001B[43m,\u001B[49m\n\u001B[1;32m    883\u001B[0m \u001B[43m        \u001B[49m\u001B[43mpool_timeout\u001B[49m\u001B[38;5;241;43m=\u001B[39;49m\u001B[43mpool_timeout\u001B[49m\u001B[43m,\u001B[49m\n\u001B[1;32m    884\u001B[0m \u001B[43m        \u001B[49m\u001B[43mrelease_conn\u001B[49m\u001B[38;5;241;43m=\u001B[39;49m\u001B[43mrelease_conn\u001B[49m\u001B[43m,\u001B[49m\n\u001B[1;32m    885\u001B[0m \u001B[43m        \u001B[49m\u001B[43mchunked\u001B[49m\u001B[38;5;241;43m=\u001B[39;49m\u001B[43mchunked\u001B[49m\u001B[43m,\u001B[49m\n\u001B[1;32m    886\u001B[0m \u001B[43m        \u001B[49m\u001B[43mbody_pos\u001B[49m\u001B[38;5;241;43m=\u001B[39;49m\u001B[43mbody_pos\u001B[49m\u001B[43m,\u001B[49m\n\u001B[1;32m    887\u001B[0m \u001B[43m        \u001B[49m\u001B[43mpreload_content\u001B[49m\u001B[38;5;241;43m=\u001B[39;49m\u001B[43mpreload_content\u001B[49m\u001B[43m,\u001B[49m\n\u001B[1;32m    888\u001B[0m \u001B[43m        \u001B[49m\u001B[43mdecode_content\u001B[49m\u001B[38;5;241;43m=\u001B[39;49m\u001B[43mdecode_content\u001B[49m\u001B[43m,\u001B[49m\n\u001B[1;32m    889\u001B[0m \u001B[43m        \u001B[49m\u001B[38;5;241;43m*\u001B[39;49m\u001B[38;5;241;43m*\u001B[39;49m\u001B[43mresponse_kw\u001B[49m\u001B[43m,\u001B[49m\n\u001B[1;32m    890\u001B[0m \u001B[43m    \u001B[49m\u001B[43m)\u001B[49m\n\u001B[1;32m    892\u001B[0m \u001B[38;5;66;03m# Handle redirect?\u001B[39;00m\n\u001B[1;32m    893\u001B[0m redirect_location \u001B[38;5;241m=\u001B[39m redirect \u001B[38;5;129;01mand\u001B[39;00m response\u001B[38;5;241m.\u001B[39mget_redirect_location()\n",
      "File \u001B[0;32m~/DataspellProjects/scraping-master/venv/lib/python3.11/site-packages/urllib3/connectionpool.py:874\u001B[0m, in \u001B[0;36mHTTPConnectionPool.urlopen\u001B[0;34m(self, method, url, body, headers, retries, redirect, assert_same_host, timeout, pool_timeout, release_conn, chunked, body_pos, preload_content, decode_content, **response_kw)\u001B[0m\n\u001B[1;32m    869\u001B[0m \u001B[38;5;28;01mif\u001B[39;00m \u001B[38;5;129;01mnot\u001B[39;00m conn:\n\u001B[1;32m    870\u001B[0m     \u001B[38;5;66;03m# Try again\u001B[39;00m\n\u001B[1;32m    871\u001B[0m     log\u001B[38;5;241m.\u001B[39mwarning(\n\u001B[1;32m    872\u001B[0m         \u001B[38;5;124m\"\u001B[39m\u001B[38;5;124mRetrying (\u001B[39m\u001B[38;5;132;01m%r\u001B[39;00m\u001B[38;5;124m) after connection broken by \u001B[39m\u001B[38;5;124m'\u001B[39m\u001B[38;5;132;01m%r\u001B[39;00m\u001B[38;5;124m'\u001B[39m\u001B[38;5;124m: \u001B[39m\u001B[38;5;132;01m%s\u001B[39;00m\u001B[38;5;124m\"\u001B[39m, retries, err, url\n\u001B[1;32m    873\u001B[0m     )\n\u001B[0;32m--> 874\u001B[0m     \u001B[38;5;28;01mreturn\u001B[39;00m \u001B[38;5;28;43mself\u001B[39;49m\u001B[38;5;241;43m.\u001B[39;49m\u001B[43murlopen\u001B[49m\u001B[43m(\u001B[49m\n\u001B[1;32m    875\u001B[0m \u001B[43m        \u001B[49m\u001B[43mmethod\u001B[49m\u001B[43m,\u001B[49m\n\u001B[1;32m    876\u001B[0m \u001B[43m        \u001B[49m\u001B[43murl\u001B[49m\u001B[43m,\u001B[49m\n\u001B[1;32m    877\u001B[0m \u001B[43m        \u001B[49m\u001B[43mbody\u001B[49m\u001B[43m,\u001B[49m\n\u001B[1;32m    878\u001B[0m \u001B[43m        \u001B[49m\u001B[43mheaders\u001B[49m\u001B[43m,\u001B[49m\n\u001B[1;32m    879\u001B[0m \u001B[43m        \u001B[49m\u001B[43mretries\u001B[49m\u001B[43m,\u001B[49m\n\u001B[1;32m    880\u001B[0m \u001B[43m        \u001B[49m\u001B[43mredirect\u001B[49m\u001B[43m,\u001B[49m\n\u001B[1;32m    881\u001B[0m \u001B[43m        \u001B[49m\u001B[43massert_same_host\u001B[49m\u001B[43m,\u001B[49m\n\u001B[1;32m    882\u001B[0m \u001B[43m        \u001B[49m\u001B[43mtimeout\u001B[49m\u001B[38;5;241;43m=\u001B[39;49m\u001B[43mtimeout\u001B[49m\u001B[43m,\u001B[49m\n\u001B[1;32m    883\u001B[0m \u001B[43m        \u001B[49m\u001B[43mpool_timeout\u001B[49m\u001B[38;5;241;43m=\u001B[39;49m\u001B[43mpool_timeout\u001B[49m\u001B[43m,\u001B[49m\n\u001B[1;32m    884\u001B[0m \u001B[43m        \u001B[49m\u001B[43mrelease_conn\u001B[49m\u001B[38;5;241;43m=\u001B[39;49m\u001B[43mrelease_conn\u001B[49m\u001B[43m,\u001B[49m\n\u001B[1;32m    885\u001B[0m \u001B[43m        \u001B[49m\u001B[43mchunked\u001B[49m\u001B[38;5;241;43m=\u001B[39;49m\u001B[43mchunked\u001B[49m\u001B[43m,\u001B[49m\n\u001B[1;32m    886\u001B[0m \u001B[43m        \u001B[49m\u001B[43mbody_pos\u001B[49m\u001B[38;5;241;43m=\u001B[39;49m\u001B[43mbody_pos\u001B[49m\u001B[43m,\u001B[49m\n\u001B[1;32m    887\u001B[0m \u001B[43m        \u001B[49m\u001B[43mpreload_content\u001B[49m\u001B[38;5;241;43m=\u001B[39;49m\u001B[43mpreload_content\u001B[49m\u001B[43m,\u001B[49m\n\u001B[1;32m    888\u001B[0m \u001B[43m        \u001B[49m\u001B[43mdecode_content\u001B[49m\u001B[38;5;241;43m=\u001B[39;49m\u001B[43mdecode_content\u001B[49m\u001B[43m,\u001B[49m\n\u001B[1;32m    889\u001B[0m \u001B[43m        \u001B[49m\u001B[38;5;241;43m*\u001B[39;49m\u001B[38;5;241;43m*\u001B[39;49m\u001B[43mresponse_kw\u001B[49m\u001B[43m,\u001B[49m\n\u001B[1;32m    890\u001B[0m \u001B[43m    \u001B[49m\u001B[43m)\u001B[49m\n\u001B[1;32m    892\u001B[0m \u001B[38;5;66;03m# Handle redirect?\u001B[39;00m\n\u001B[1;32m    893\u001B[0m redirect_location \u001B[38;5;241m=\u001B[39m redirect \u001B[38;5;129;01mand\u001B[39;00m response\u001B[38;5;241m.\u001B[39mget_redirect_location()\n",
      "File \u001B[0;32m~/DataspellProjects/scraping-master/venv/lib/python3.11/site-packages/urllib3/connectionpool.py:874\u001B[0m, in \u001B[0;36mHTTPConnectionPool.urlopen\u001B[0;34m(self, method, url, body, headers, retries, redirect, assert_same_host, timeout, pool_timeout, release_conn, chunked, body_pos, preload_content, decode_content, **response_kw)\u001B[0m\n\u001B[1;32m    869\u001B[0m \u001B[38;5;28;01mif\u001B[39;00m \u001B[38;5;129;01mnot\u001B[39;00m conn:\n\u001B[1;32m    870\u001B[0m     \u001B[38;5;66;03m# Try again\u001B[39;00m\n\u001B[1;32m    871\u001B[0m     log\u001B[38;5;241m.\u001B[39mwarning(\n\u001B[1;32m    872\u001B[0m         \u001B[38;5;124m\"\u001B[39m\u001B[38;5;124mRetrying (\u001B[39m\u001B[38;5;132;01m%r\u001B[39;00m\u001B[38;5;124m) after connection broken by \u001B[39m\u001B[38;5;124m'\u001B[39m\u001B[38;5;132;01m%r\u001B[39;00m\u001B[38;5;124m'\u001B[39m\u001B[38;5;124m: \u001B[39m\u001B[38;5;132;01m%s\u001B[39;00m\u001B[38;5;124m\"\u001B[39m, retries, err, url\n\u001B[1;32m    873\u001B[0m     )\n\u001B[0;32m--> 874\u001B[0m     \u001B[38;5;28;01mreturn\u001B[39;00m \u001B[38;5;28;43mself\u001B[39;49m\u001B[38;5;241;43m.\u001B[39;49m\u001B[43murlopen\u001B[49m\u001B[43m(\u001B[49m\n\u001B[1;32m    875\u001B[0m \u001B[43m        \u001B[49m\u001B[43mmethod\u001B[49m\u001B[43m,\u001B[49m\n\u001B[1;32m    876\u001B[0m \u001B[43m        \u001B[49m\u001B[43murl\u001B[49m\u001B[43m,\u001B[49m\n\u001B[1;32m    877\u001B[0m \u001B[43m        \u001B[49m\u001B[43mbody\u001B[49m\u001B[43m,\u001B[49m\n\u001B[1;32m    878\u001B[0m \u001B[43m        \u001B[49m\u001B[43mheaders\u001B[49m\u001B[43m,\u001B[49m\n\u001B[1;32m    879\u001B[0m \u001B[43m        \u001B[49m\u001B[43mretries\u001B[49m\u001B[43m,\u001B[49m\n\u001B[1;32m    880\u001B[0m \u001B[43m        \u001B[49m\u001B[43mredirect\u001B[49m\u001B[43m,\u001B[49m\n\u001B[1;32m    881\u001B[0m \u001B[43m        \u001B[49m\u001B[43massert_same_host\u001B[49m\u001B[43m,\u001B[49m\n\u001B[1;32m    882\u001B[0m \u001B[43m        \u001B[49m\u001B[43mtimeout\u001B[49m\u001B[38;5;241;43m=\u001B[39;49m\u001B[43mtimeout\u001B[49m\u001B[43m,\u001B[49m\n\u001B[1;32m    883\u001B[0m \u001B[43m        \u001B[49m\u001B[43mpool_timeout\u001B[49m\u001B[38;5;241;43m=\u001B[39;49m\u001B[43mpool_timeout\u001B[49m\u001B[43m,\u001B[49m\n\u001B[1;32m    884\u001B[0m \u001B[43m        \u001B[49m\u001B[43mrelease_conn\u001B[49m\u001B[38;5;241;43m=\u001B[39;49m\u001B[43mrelease_conn\u001B[49m\u001B[43m,\u001B[49m\n\u001B[1;32m    885\u001B[0m \u001B[43m        \u001B[49m\u001B[43mchunked\u001B[49m\u001B[38;5;241;43m=\u001B[39;49m\u001B[43mchunked\u001B[49m\u001B[43m,\u001B[49m\n\u001B[1;32m    886\u001B[0m \u001B[43m        \u001B[49m\u001B[43mbody_pos\u001B[49m\u001B[38;5;241;43m=\u001B[39;49m\u001B[43mbody_pos\u001B[49m\u001B[43m,\u001B[49m\n\u001B[1;32m    887\u001B[0m \u001B[43m        \u001B[49m\u001B[43mpreload_content\u001B[49m\u001B[38;5;241;43m=\u001B[39;49m\u001B[43mpreload_content\u001B[49m\u001B[43m,\u001B[49m\n\u001B[1;32m    888\u001B[0m \u001B[43m        \u001B[49m\u001B[43mdecode_content\u001B[49m\u001B[38;5;241;43m=\u001B[39;49m\u001B[43mdecode_content\u001B[49m\u001B[43m,\u001B[49m\n\u001B[1;32m    889\u001B[0m \u001B[43m        \u001B[49m\u001B[38;5;241;43m*\u001B[39;49m\u001B[38;5;241;43m*\u001B[39;49m\u001B[43mresponse_kw\u001B[49m\u001B[43m,\u001B[49m\n\u001B[1;32m    890\u001B[0m \u001B[43m    \u001B[49m\u001B[43m)\u001B[49m\n\u001B[1;32m    892\u001B[0m \u001B[38;5;66;03m# Handle redirect?\u001B[39;00m\n\u001B[1;32m    893\u001B[0m redirect_location \u001B[38;5;241m=\u001B[39m redirect \u001B[38;5;129;01mand\u001B[39;00m response\u001B[38;5;241m.\u001B[39mget_redirect_location()\n",
      "File \u001B[0;32m~/DataspellProjects/scraping-master/venv/lib/python3.11/site-packages/urllib3/connectionpool.py:844\u001B[0m, in \u001B[0;36mHTTPConnectionPool.urlopen\u001B[0;34m(self, method, url, body, headers, retries, redirect, assert_same_host, timeout, pool_timeout, release_conn, chunked, body_pos, preload_content, decode_content, **response_kw)\u001B[0m\n\u001B[1;32m    841\u001B[0m \u001B[38;5;28;01melif\u001B[39;00m \u001B[38;5;28misinstance\u001B[39m(new_e, (\u001B[38;5;167;01mOSError\u001B[39;00m, HTTPException)):\n\u001B[1;32m    842\u001B[0m     new_e \u001B[38;5;241m=\u001B[39m ProtocolError(\u001B[38;5;124m\"\u001B[39m\u001B[38;5;124mConnection aborted.\u001B[39m\u001B[38;5;124m\"\u001B[39m, new_e)\n\u001B[0;32m--> 844\u001B[0m retries \u001B[38;5;241m=\u001B[39m \u001B[43mretries\u001B[49m\u001B[38;5;241;43m.\u001B[39;49m\u001B[43mincrement\u001B[49m\u001B[43m(\u001B[49m\n\u001B[1;32m    845\u001B[0m \u001B[43m    \u001B[49m\u001B[43mmethod\u001B[49m\u001B[43m,\u001B[49m\u001B[43m \u001B[49m\u001B[43murl\u001B[49m\u001B[43m,\u001B[49m\u001B[43m \u001B[49m\u001B[43merror\u001B[49m\u001B[38;5;241;43m=\u001B[39;49m\u001B[43mnew_e\u001B[49m\u001B[43m,\u001B[49m\u001B[43m \u001B[49m\u001B[43m_pool\u001B[49m\u001B[38;5;241;43m=\u001B[39;49m\u001B[38;5;28;43mself\u001B[39;49m\u001B[43m,\u001B[49m\u001B[43m \u001B[49m\u001B[43m_stacktrace\u001B[49m\u001B[38;5;241;43m=\u001B[39;49m\u001B[43msys\u001B[49m\u001B[38;5;241;43m.\u001B[39;49m\u001B[43mexc_info\u001B[49m\u001B[43m(\u001B[49m\u001B[43m)\u001B[49m\u001B[43m[\u001B[49m\u001B[38;5;241;43m2\u001B[39;49m\u001B[43m]\u001B[49m\n\u001B[1;32m    846\u001B[0m \u001B[43m\u001B[49m\u001B[43m)\u001B[49m\n\u001B[1;32m    847\u001B[0m retries\u001B[38;5;241m.\u001B[39msleep()\n\u001B[1;32m    849\u001B[0m \u001B[38;5;66;03m# Keep track of the error for the retry warning.\u001B[39;00m\n",
      "File \u001B[0;32m~/DataspellProjects/scraping-master/venv/lib/python3.11/site-packages/urllib3/util/retry.py:515\u001B[0m, in \u001B[0;36mRetry.increment\u001B[0;34m(self, method, url, response, error, _pool, _stacktrace)\u001B[0m\n\u001B[1;32m    513\u001B[0m \u001B[38;5;28;01mif\u001B[39;00m new_retry\u001B[38;5;241m.\u001B[39mis_exhausted():\n\u001B[1;32m    514\u001B[0m     reason \u001B[38;5;241m=\u001B[39m error \u001B[38;5;129;01mor\u001B[39;00m ResponseError(cause)\n\u001B[0;32m--> 515\u001B[0m     \u001B[38;5;28;01mraise\u001B[39;00m MaxRetryError(_pool, url, reason) \u001B[38;5;28;01mfrom\u001B[39;00m \u001B[38;5;21;01mreason\u001B[39;00m  \u001B[38;5;66;03m# type: ignore[arg-type]\u001B[39;00m\n\u001B[1;32m    517\u001B[0m log\u001B[38;5;241m.\u001B[39mdebug(\u001B[38;5;124m\"\u001B[39m\u001B[38;5;124mIncremented Retry for (url=\u001B[39m\u001B[38;5;124m'\u001B[39m\u001B[38;5;132;01m%s\u001B[39;00m\u001B[38;5;124m'\u001B[39m\u001B[38;5;124m): \u001B[39m\u001B[38;5;132;01m%r\u001B[39;00m\u001B[38;5;124m\"\u001B[39m, url, new_retry)\n\u001B[1;32m    519\u001B[0m \u001B[38;5;28;01mreturn\u001B[39;00m new_retry\n",
      "\u001B[0;31mMaxRetryError\u001B[0m: HTTPConnectionPool(host='localhost', port=52051): Max retries exceeded with url: /session/355f01012138d3872f91364770120825/elements (Caused by NewConnectionError('<urllib3.connection.HTTPConnection object at 0x1299ed510>: Failed to establish a new connection: [Errno 61] Connection refused'))"
     ]
    }
   ],
   "execution_count": 113
  },
  {
   "metadata": {
    "ExecuteTime": {
     "end_time": "2024-05-23T10:58:05.951718Z",
     "start_time": "2024-05-23T10:58:05.949140Z"
    }
   },
   "cell_type": "code",
   "source": "",
   "id": "f440c69071475291",
   "outputs": [],
   "execution_count": 18
  },
  {
   "metadata": {},
   "cell_type": "markdown",
   "source": "## les fiches techniques",
   "id": "cd226099cd56566"
  },
  {
   "metadata": {
    "ExecuteTime": {
     "end_time": "2024-05-27T10:14:37.069712Z",
     "start_time": "2024-05-27T10:14:37.065436Z"
    }
   },
   "cell_type": "code",
   "source": "url_fiche_technique = 'https://www.largus.fr/Audi_A3-Berline.html'",
   "id": "c8958e8a8835d9bb",
   "outputs": [],
   "execution_count": 15
  },
  {
   "metadata": {
    "ExecuteTime": {
     "end_time": "2024-05-23T10:51:12.164028Z",
     "start_time": "2024-05-23T10:50:57.477053Z"
    }
   },
   "cell_type": "code",
   "source": [
    "driver = get_driver()\n",
    "driver.get(url_fiche_technique)\n",
    "time.sleep(2)\n",
    "html_content_fiche_technique = driver.page_source"
   ],
   "id": "64a037c3dc8810b2",
   "outputs": [],
   "execution_count": 8
  },
  {
   "metadata": {
    "ExecuteTime": {
     "end_time": "2024-05-27T11:42:16.183435Z",
     "start_time": "2024-05-27T11:42:15.997738Z"
    }
   },
   "cell_type": "code",
   "source": "driver.quit()",
   "id": "e7215bfd2971e60e",
   "outputs": [],
   "execution_count": 115
  },
  {
   "metadata": {
    "ExecuteTime": {
     "end_time": "2024-05-30T08:33:00.270142Z",
     "start_time": "2024-05-30T08:33:00.243168Z"
    }
   },
   "cell_type": "code",
   "source": [
    "def extract_make_from_url(url):\n",
    "    match = re.search(r'/fiche-technique/([^/]+)/', url)\n",
    "    if match:\n",
    "        return match.group(1)\n",
    "    return None\n",
    "\n",
    "def extract_year_from_libelle(libelle):\n",
    "    try:\n",
    "        match = re.search(r'\\b\\d{4}\\b', libelle)\n",
    "        if match:\n",
    "            return match.group(0)\n",
    "        return None\n",
    "    except Exception as e:\n",
    "        print(f\"Error extracting year from libelle: {e}\")\n",
    "        return None\n",
    "    \n",
    "# Fonction pour extraire le lien \"Toutes les fiches techniques\"\n",
    "def extract_all_fiches_techniques_url(html_content):\n",
    "    try:\n",
    "        soup = BeautifulSoup(html_content, 'html.parser')\n",
    "        section = soup.select_one('section.stacking-block.section-fiches-techniques')\n",
    "\n",
    "        if section:\n",
    "            lien_tout = section.select_one('a.lien-tout')\n",
    "            if lien_tout:\n",
    "                return lien_tout.get('href')\n",
    "        return None\n",
    "    except Exception as e:\n",
    "        print(f\"Error extracting 'lien-tout': {e}\")\n",
    "        return None\n",
    "\n",
    "# Fonction pour extraire les fiches techniques d'une page donnée\n",
    "def extract_fiches_techniques(driver, url, model):\n",
    "    try:\n",
    "        driver.get(url)\n",
    "        time.sleep(1)\n",
    "        response = driver.page_source\n",
    "    except Exception as e:\n",
    "        print(f\"Error fetching URL: {url}. Exception: {e}\")\n",
    "        return []\n",
    "\n",
    "    try:\n",
    "        soup = BeautifulSoup(response, 'html.parser')\n",
    "        fiches = []\n",
    "        marque = extract_make_from_url(url)\n",
    "    except Exception as e:\n",
    "        print(f\"Error parsing HTML content from URL: {url}. Exception: {e}\")\n",
    "        return []\n",
    "\n",
    "    try:\n",
    "        for item in soup.select('ul.liste-millesimes li a.item'):\n",
    "            try:\n",
    "                libelle = item.select_one('span.libelle').text.strip()\n",
    "                lien = item.get('href')\n",
    "                year = extract_year_from_libelle(libelle)\n",
    "                fiches.append({\n",
    "                    'Libelle': libelle,\n",
    "                    'Marque': marque,\n",
    "                    'Model': model,\n",
    "                    'Lien': f\"https://www.largus.fr{lien}\",\n",
    "                    'Annee': year\n",
    "                })\n",
    "            except AttributeError as e:\n",
    "                print(f\"Error extracting data from an item: {e}\")\n",
    "    except Exception as e:\n",
    "        print(f\"Error processing items from URL: {url}. Exception: {e}\")\n",
    "        return []\n",
    "\n",
    "    return fiches\n",
    "\n",
    "\n",
    "def process_all_fiches_techniques(html_content_fiche, model):\n",
    "    all_urls = extract_all_fiches_techniques_url(html_content_fiche)\n",
    "        \n",
    "    if all_urls:\n",
    "        print(f\"Lien vers toutes les fiches techniques: {all_urls}\")\n",
    "\n",
    "        # Compléter l'URL si nécessaire\n",
    "        if not all_urls.startswith('http'):\n",
    "            all_urls = f'https://www.largus.fr{all_urls}'\n",
    "\n",
    "        # Extraire les fiches techniques de la page \"Toutes les fiches techniques\"\n",
    "        fiches_techniques = extract_fiches_techniques(driver, all_urls, model)\n",
    "\n",
    "        if fiches_techniques:\n",
    "            # Sauvegarder les fiches techniques dans un fichier CSV\n",
    "            df_fiches_technique = pd.DataFrame(fiches_techniques)\n",
    "            marque = df_fiches_technique['Marque'][0].capitalize()\n",
    "            folder_path = f\"Fiches Techniques/{marque.capitalize()}\"\n",
    "\n",
    "            if not os.path.exists(folder_path):\n",
    "                os.makedirs(folder_path)\n",
    "                print(f\"Folder created at {folder_path}\")\n",
    "\n",
    "            file_name = f\"fiches_techniques_{model.lower()}.csv\"\n",
    "            save_path = os.path.join(folder_path, file_name)\n",
    "\n",
    "            df_fiches_technique.to_csv(save_path, index=False)\n",
    "            return df_fiches_technique\n",
    "        else:\n",
    "            print(\"Aucune fiche technique trouvée.\")\n",
    "            return None\n",
    "    else:\n",
    "        print(\"Lien vers Toutes les fiches techniques non trouvé.\")\n",
    "        return None\n",
    "\n",
    "\n",
    "def process_fiche_technique_file_links(driver, dataframe, column):\n",
    "    # Vérifier si la colonne Traiter existe déjà\n",
    "    if 'Traiter' not in dataframe.columns:\n",
    "        dataframe['Traiter'] = 0\n",
    "\n",
    "    filtered_df = dataframe[dataframe['Traiter'] == 1]\n",
    "    treated_links = set(filtered_df[column])  # Un ensemble pour stocker les liens déjà traités\n",
    "\n",
    "    counter = 0\n",
    "    for index, row in dataframe[len(treated_links):].iterrows():\n",
    "        link_url = row[column]\n",
    "        model = row['model']\n",
    "        make = row['make']\n",
    "        \n",
    "        # Vérifier si le lien a déjà été traité\n",
    "        if link_url in treated_links:\n",
    "            continue\n",
    "\n",
    "        if link_url not in treated_links:\n",
    "            driver.get(link_url)\n",
    "            html_content_fiche = driver.page_source\n",
    "            df_fiches_technique = process_all_fiches_techniques(html_content_fiche, model)\n",
    "            \n",
    "            if df_fiches_technique is None:\n",
    "                continue\n",
    "                \n",
    "            dataframe.at[index, 'Traiter'] = 1\n",
    "            treated_links.update(link_url)\n",
    "            save_file_path = f\"Models/{make}.csv\"\n",
    "            save_file_path = unidecode.unidecode(save_file_path).strip().lower().replace(' ', '_').replace(\"'\", \"\")\n",
    "            dataframe.to_csv(save_file_path, index=False)\n",
    "            \n",
    "            counter += 1\n",
    "\n",
    "            print(f\"Waiting for 1 minute before the next URL...{counter}\")\n",
    "            time.sleep(1)\n",
    "\n",
    "        if counter >= 25:\n",
    "            print(\"Arrêt après 50 itérations.\")\n",
    "            break\n",
    "\n",
    "    print(f\"Arrêt toutes les liens, un total de {counter} liens ont été traitées !.\")"
   ],
   "id": "16c2a0be5663040c",
   "outputs": [],
   "execution_count": 6
  },
  {
   "metadata": {
    "ExecuteTime": {
     "end_time": "2024-05-23T10:51:23.469793Z",
     "start_time": "2024-05-23T10:51:23.386539Z"
    }
   },
   "cell_type": "code",
   "source": [
    "# Extraire le lien vers \"Toutes les fiches techniques\"\n",
    "all_url = extract_all_fiches_techniques_url(html_content_fiche_technique)\n",
    "all_url"
   ],
   "id": "e7ce3e2c88126c16",
   "outputs": [
    {
     "data": {
      "text/plain": [
       "'/fiche-technique/Audi/A3+Berline.html'"
      ]
     },
     "execution_count": 10,
     "metadata": {},
     "output_type": "execute_result"
    }
   ],
   "execution_count": 10
  },
  {
   "metadata": {
    "ExecuteTime": {
     "end_time": "2024-05-28T11:14:08.340501Z",
     "start_time": "2024-05-28T11:14:08.328989Z"
    }
   },
   "cell_type": "code",
   "source": [
    "df_fiches_techniques = pd.read_csv('Fiches Techniques/Audi/fiches_techniques_fiche technique audi a3 berline 2024.csv')\n",
    "df_fiches_techniques.head()"
   ],
   "id": "4125bee0a27d23fe",
   "outputs": [
    {
     "data": {
      "text/plain": [
       "                                Libelle Marque  \\\n",
       "0  Fiche technique Audi A3 Berline 2024   Audi   \n",
       "1  Fiche technique Audi A3 Berline 2023   Audi   \n",
       "2  Fiche technique Audi A3 Berline 2022   Audi   \n",
       "3  Fiche technique Audi A3 Berline 2021   Audi   \n",
       "4  Fiche technique Audi A3 Berline 2020   Audi   \n",
       "\n",
       "                                                Lien  Annee  \n",
       "0  https://www.largus.fr/fiche-technique/Audi/A3+...   2024  \n",
       "1  https://www.largus.fr/fiche-technique/Audi/A3+...   2023  \n",
       "2  https://www.largus.fr/fiche-technique/Audi/A3+...   2022  \n",
       "3  https://www.largus.fr/fiche-technique/Audi/A3+...   2021  \n",
       "4  https://www.largus.fr/fiche-technique/Audi/A3+...   2020  "
      ],
      "text/html": [
       "<div>\n",
       "<style scoped>\n",
       "    .dataframe tbody tr th:only-of-type {\n",
       "        vertical-align: middle;\n",
       "    }\n",
       "\n",
       "    .dataframe tbody tr th {\n",
       "        vertical-align: top;\n",
       "    }\n",
       "\n",
       "    .dataframe thead th {\n",
       "        text-align: right;\n",
       "    }\n",
       "</style>\n",
       "<table border=\"1\" class=\"dataframe\">\n",
       "  <thead>\n",
       "    <tr style=\"text-align: right;\">\n",
       "      <th></th>\n",
       "      <th>Libelle</th>\n",
       "      <th>Marque</th>\n",
       "      <th>Lien</th>\n",
       "      <th>Annee</th>\n",
       "    </tr>\n",
       "  </thead>\n",
       "  <tbody>\n",
       "    <tr>\n",
       "      <th>0</th>\n",
       "      <td>Fiche technique Audi A3 Berline 2024</td>\n",
       "      <td>Audi</td>\n",
       "      <td>https://www.largus.fr/fiche-technique/Audi/A3+...</td>\n",
       "      <td>2024</td>\n",
       "    </tr>\n",
       "    <tr>\n",
       "      <th>1</th>\n",
       "      <td>Fiche technique Audi A3 Berline 2023</td>\n",
       "      <td>Audi</td>\n",
       "      <td>https://www.largus.fr/fiche-technique/Audi/A3+...</td>\n",
       "      <td>2023</td>\n",
       "    </tr>\n",
       "    <tr>\n",
       "      <th>2</th>\n",
       "      <td>Fiche technique Audi A3 Berline 2022</td>\n",
       "      <td>Audi</td>\n",
       "      <td>https://www.largus.fr/fiche-technique/Audi/A3+...</td>\n",
       "      <td>2022</td>\n",
       "    </tr>\n",
       "    <tr>\n",
       "      <th>3</th>\n",
       "      <td>Fiche technique Audi A3 Berline 2021</td>\n",
       "      <td>Audi</td>\n",
       "      <td>https://www.largus.fr/fiche-technique/Audi/A3+...</td>\n",
       "      <td>2021</td>\n",
       "    </tr>\n",
       "    <tr>\n",
       "      <th>4</th>\n",
       "      <td>Fiche technique Audi A3 Berline 2020</td>\n",
       "      <td>Audi</td>\n",
       "      <td>https://www.largus.fr/fiche-technique/Audi/A3+...</td>\n",
       "      <td>2020</td>\n",
       "    </tr>\n",
       "  </tbody>\n",
       "</table>\n",
       "</div>"
      ]
     },
     "execution_count": 19,
     "metadata": {},
     "output_type": "execute_result"
    }
   ],
   "execution_count": 19
  },
  {
   "metadata": {},
   "cell_type": "markdown",
   "source": "### Fiche technique par lot",
   "id": "ed3d13511b0a336a"
  },
  {
   "metadata": {
    "ExecuteTime": {
     "end_time": "2024-05-29T09:28:26.587616Z",
     "start_time": "2024-05-29T09:28:26.576716Z"
    }
   },
   "cell_type": "code",
   "source": [
    "bmw_model_path = \"Models/BMW.csv\"\n",
    "df_model_bmw = pd.read_csv(bmw_model_path)\n",
    "df_model_bmw.head()"
   ],
   "id": "da030d805181c072",
   "outputs": [
    {
     "data": {
      "text/plain": [
       "                                       url     model make title  Traiter\n",
       "0  https://www.largus.fr/Bmw_1m-Coupe.html  1m Coupe  BMW   NaN        1\n",
       "1         https://www.largus.fr/Bmw_C.html         C  BMW   NaN        1\n",
       "2        https://www.largus.fr/Bmw_C1.html        C1  BMW   NaN        1\n",
       "3         https://www.largus.fr/Bmw_F.html         F  BMW   NaN        1\n",
       "4         https://www.largus.fr/Bmw_G.html         G  BMW   NaN        1"
      ],
      "text/html": [
       "<div>\n",
       "<style scoped>\n",
       "    .dataframe tbody tr th:only-of-type {\n",
       "        vertical-align: middle;\n",
       "    }\n",
       "\n",
       "    .dataframe tbody tr th {\n",
       "        vertical-align: top;\n",
       "    }\n",
       "\n",
       "    .dataframe thead th {\n",
       "        text-align: right;\n",
       "    }\n",
       "</style>\n",
       "<table border=\"1\" class=\"dataframe\">\n",
       "  <thead>\n",
       "    <tr style=\"text-align: right;\">\n",
       "      <th></th>\n",
       "      <th>url</th>\n",
       "      <th>model</th>\n",
       "      <th>make</th>\n",
       "      <th>title</th>\n",
       "      <th>Traiter</th>\n",
       "    </tr>\n",
       "  </thead>\n",
       "  <tbody>\n",
       "    <tr>\n",
       "      <th>0</th>\n",
       "      <td>https://www.largus.fr/Bmw_1m-Coupe.html</td>\n",
       "      <td>1m Coupe</td>\n",
       "      <td>BMW</td>\n",
       "      <td>NaN</td>\n",
       "      <td>1</td>\n",
       "    </tr>\n",
       "    <tr>\n",
       "      <th>1</th>\n",
       "      <td>https://www.largus.fr/Bmw_C.html</td>\n",
       "      <td>C</td>\n",
       "      <td>BMW</td>\n",
       "      <td>NaN</td>\n",
       "      <td>1</td>\n",
       "    </tr>\n",
       "    <tr>\n",
       "      <th>2</th>\n",
       "      <td>https://www.largus.fr/Bmw_C1.html</td>\n",
       "      <td>C1</td>\n",
       "      <td>BMW</td>\n",
       "      <td>NaN</td>\n",
       "      <td>1</td>\n",
       "    </tr>\n",
       "    <tr>\n",
       "      <th>3</th>\n",
       "      <td>https://www.largus.fr/Bmw_F.html</td>\n",
       "      <td>F</td>\n",
       "      <td>BMW</td>\n",
       "      <td>NaN</td>\n",
       "      <td>1</td>\n",
       "    </tr>\n",
       "    <tr>\n",
       "      <th>4</th>\n",
       "      <td>https://www.largus.fr/Bmw_G.html</td>\n",
       "      <td>G</td>\n",
       "      <td>BMW</td>\n",
       "      <td>NaN</td>\n",
       "      <td>1</td>\n",
       "    </tr>\n",
       "  </tbody>\n",
       "</table>\n",
       "</div>"
      ]
     },
     "execution_count": 28,
     "metadata": {},
     "output_type": "execute_result"
    }
   ],
   "execution_count": 28
  },
  {
   "metadata": {
    "ExecuteTime": {
     "end_time": "2024-05-29T09:18:45.488152Z",
     "start_time": "2024-05-29T09:18:45.484251Z"
    }
   },
   "cell_type": "code",
   "source": "df_model_bmw.shape",
   "id": "883bfee6c92dacf0",
   "outputs": [
    {
     "data": {
      "text/plain": [
       "(76, 5)"
      ]
     },
     "execution_count": 10,
     "metadata": {},
     "output_type": "execute_result"
    }
   ],
   "execution_count": 10
  },
  {
   "metadata": {
    "ExecuteTime": {
     "end_time": "2024-05-29T09:24:38.488406Z",
     "start_time": "2024-05-29T09:24:38.484812Z"
    }
   },
   "cell_type": "code",
   "source": "print(df_model_bmw[df_model_bmw['Traiter'] == 1].shape)",
   "id": "3773d2c5d1aee64e",
   "outputs": [
    {
     "name": "stdout",
     "output_type": "stream",
     "text": [
      "(69, 5)\n"
     ]
    }
   ],
   "execution_count": 20
  },
  {
   "metadata": {
    "ExecuteTime": {
     "end_time": "2024-05-29T09:24:40.592981Z",
     "start_time": "2024-05-29T09:24:40.589082Z"
    }
   },
   "cell_type": "code",
   "source": "length = len(df_model_bmw[df_model_bmw['Traiter'] == 1])",
   "id": "bd09d28f4520454a",
   "outputs": [],
   "execution_count": 21
  },
  {
   "metadata": {
    "ExecuteTime": {
     "end_time": "2024-05-29T09:24:42.444942Z",
     "start_time": "2024-05-29T09:24:42.437913Z"
    }
   },
   "cell_type": "code",
   "source": "df_model_bmw[length:]",
   "id": "bb89a64ebfa79673",
   "outputs": [
    {
     "data": {
      "text/plain": [
       "                                             url          model make title  \\\n",
       "69  https://www.largus.fr/Bmw_Z3-M-Roadster.html  Z3 M Roadster  BMW   NaN   \n",
       "70    https://www.largus.fr/Bmw_Z3-Roadster.html    Z3 Roadster  BMW   NaN   \n",
       "71             https://www.largus.fr/Bmw_Z4.html             Z4  BMW   NaN   \n",
       "72     https://www.largus.fr/Bmw_Z4-M-Coupe.html     Z4 M Coupe  BMW   NaN   \n",
       "73  https://www.largus.fr/Bmw_Z4-M-Roadster.html  Z4 M Roadster  BMW   NaN   \n",
       "74    https://www.largus.fr/Bmw_Z4-Roadster.html    Z4 Roadster  BMW   NaN   \n",
       "75    https://www.largus.fr/Bmw_Z8-Roadster.html    Z8 Roadster  BMW   NaN   \n",
       "\n",
       "    Traiter  \n",
       "69        1  \n",
       "70        0  \n",
       "71        0  \n",
       "72        0  \n",
       "73        0  \n",
       "74        0  \n",
       "75        0  "
      ],
      "text/html": [
       "<div>\n",
       "<style scoped>\n",
       "    .dataframe tbody tr th:only-of-type {\n",
       "        vertical-align: middle;\n",
       "    }\n",
       "\n",
       "    .dataframe tbody tr th {\n",
       "        vertical-align: top;\n",
       "    }\n",
       "\n",
       "    .dataframe thead th {\n",
       "        text-align: right;\n",
       "    }\n",
       "</style>\n",
       "<table border=\"1\" class=\"dataframe\">\n",
       "  <thead>\n",
       "    <tr style=\"text-align: right;\">\n",
       "      <th></th>\n",
       "      <th>url</th>\n",
       "      <th>model</th>\n",
       "      <th>make</th>\n",
       "      <th>title</th>\n",
       "      <th>Traiter</th>\n",
       "    </tr>\n",
       "  </thead>\n",
       "  <tbody>\n",
       "    <tr>\n",
       "      <th>69</th>\n",
       "      <td>https://www.largus.fr/Bmw_Z3-M-Roadster.html</td>\n",
       "      <td>Z3 M Roadster</td>\n",
       "      <td>BMW</td>\n",
       "      <td>NaN</td>\n",
       "      <td>1</td>\n",
       "    </tr>\n",
       "    <tr>\n",
       "      <th>70</th>\n",
       "      <td>https://www.largus.fr/Bmw_Z3-Roadster.html</td>\n",
       "      <td>Z3 Roadster</td>\n",
       "      <td>BMW</td>\n",
       "      <td>NaN</td>\n",
       "      <td>0</td>\n",
       "    </tr>\n",
       "    <tr>\n",
       "      <th>71</th>\n",
       "      <td>https://www.largus.fr/Bmw_Z4.html</td>\n",
       "      <td>Z4</td>\n",
       "      <td>BMW</td>\n",
       "      <td>NaN</td>\n",
       "      <td>0</td>\n",
       "    </tr>\n",
       "    <tr>\n",
       "      <th>72</th>\n",
       "      <td>https://www.largus.fr/Bmw_Z4-M-Coupe.html</td>\n",
       "      <td>Z4 M Coupe</td>\n",
       "      <td>BMW</td>\n",
       "      <td>NaN</td>\n",
       "      <td>0</td>\n",
       "    </tr>\n",
       "    <tr>\n",
       "      <th>73</th>\n",
       "      <td>https://www.largus.fr/Bmw_Z4-M-Roadster.html</td>\n",
       "      <td>Z4 M Roadster</td>\n",
       "      <td>BMW</td>\n",
       "      <td>NaN</td>\n",
       "      <td>0</td>\n",
       "    </tr>\n",
       "    <tr>\n",
       "      <th>74</th>\n",
       "      <td>https://www.largus.fr/Bmw_Z4-Roadster.html</td>\n",
       "      <td>Z4 Roadster</td>\n",
       "      <td>BMW</td>\n",
       "      <td>NaN</td>\n",
       "      <td>0</td>\n",
       "    </tr>\n",
       "    <tr>\n",
       "      <th>75</th>\n",
       "      <td>https://www.largus.fr/Bmw_Z8-Roadster.html</td>\n",
       "      <td>Z8 Roadster</td>\n",
       "      <td>BMW</td>\n",
       "      <td>NaN</td>\n",
       "      <td>0</td>\n",
       "    </tr>\n",
       "  </tbody>\n",
       "</table>\n",
       "</div>"
      ]
     },
     "execution_count": 22,
     "metadata": {},
     "output_type": "execute_result"
    }
   ],
   "execution_count": 22
  },
  {
   "metadata": {
    "ExecuteTime": {
     "end_time": "2024-05-29T09:30:27.433592Z",
     "start_time": "2024-05-29T09:29:28.046970Z"
    }
   },
   "cell_type": "code",
   "source": [
    "driver = get_driver()\n",
    "process_fiche_technique_file_links(driver, df_model_bmw, 'url')"
   ],
   "id": "d99cf435a60fe4bd",
   "outputs": [
    {
     "name": "stdout",
     "output_type": "stream",
     "text": [
      "Lien vers toutes les fiches techniques: /fiche-technique/Bmw/Z4.html\n",
      "Aucune fiche technique trouvée.\n",
      "Lien vers toutes les fiches techniques: /fiche-technique/Bmw/Z4+M+Coupe.html\n",
      "Waiting for 1 minute before the next URL...1\n",
      "Lien vers toutes les fiches techniques: /fiche-technique/Bmw/Z4+M+Roadster.html\n",
      "Waiting for 1 minute before the next URL...2\n",
      "Lien vers toutes les fiches techniques: /fiche-technique/Bmw/Z4+Roadster.html\n",
      "Waiting for 1 minute before the next URL...3\n",
      "Lien vers toutes les fiches techniques: /fiche-technique/Bmw/Z8+Roadster.html\n",
      "Waiting for 1 minute before the next URL...4\n",
      "Arrêt toutes les liens, un total de 4 liens ont été traitées !.\n"
     ]
    }
   ],
   "execution_count": 30
  },
  {
   "metadata": {
    "ExecuteTime": {
     "end_time": "2024-05-29T09:30:39.289227Z",
     "start_time": "2024-05-29T09:30:39.146035Z"
    }
   },
   "cell_type": "code",
   "source": "driver.quit()",
   "id": "706e741b425daf14",
   "outputs": [],
   "execution_count": 31
  },
  {
   "metadata": {
    "ExecuteTime": {
     "end_time": "2024-05-31T10:24:52.821644Z",
     "start_time": "2024-05-31T10:24:52.816626Z"
    }
   },
   "cell_type": "code",
   "source": [
    "def load_and_concatenate_csvs(folder_path):\n",
    "    \"\"\"\n",
    "    Load all CSV files in the specified folder and concatenate them into a single DataFrame.\n",
    "\n",
    "    Parameters:\n",
    "    folder_path (str): The path to the folder containing the CSV files.\n",
    "\n",
    "    Returns:\n",
    "    pd.DataFrame: The concatenated DataFrame containing all the data from the CSV files.\n",
    "    \"\"\"\n",
    "    dataframes = []\n",
    "\n",
    "    # Parcourir tous les fichiers dans le dossier\n",
    "    for filename in os.listdir(folder_path):\n",
    "        if filename.endswith('.csv'):\n",
    "            file_path = os.path.join(folder_path, filename)\n",
    "            # Lire le fichier CSV et l'ajouter à la liste des DataFrames\n",
    "            _df = pd.read_csv(file_path)\n",
    "            dataframes.append(_df)\n",
    "\n",
    "    # Concaténer tous les DataFrames en un seul\n",
    "    final_df = pd.concat(dataframes, ignore_index=True)\n",
    "    return final_df"
   ],
   "id": "b1b6f837c5cc85a4",
   "outputs": [],
   "execution_count": 36
  },
  {
   "metadata": {
    "ExecuteTime": {
     "end_time": "2024-05-29T09:41:55.547331Z",
     "start_time": "2024-05-29T09:41:55.428730Z"
    }
   },
   "cell_type": "code",
   "source": [
    "folder_path = 'Fiches Techniques/Bmw'\n",
    "df_fiches_techniques_final = load_and_concatenate_csvs(folder_path)\n",
    "df_fiches_techniques_final.head()"
   ],
   "id": "d18f9321f20da1ac",
   "outputs": [
    {
     "data": {
      "text/plain": [
       "                                  Libelle Marque          Model  \\\n",
       "0  Fiche technique BMW M8 Gran Coupe 2024    Bmw  M8 Gran Coupe   \n",
       "1  Fiche technique BMW M8 Gran Coupe 2023    Bmw  M8 Gran Coupe   \n",
       "2  Fiche technique BMW M8 Gran Coupe 2022    Bmw  M8 Gran Coupe   \n",
       "3  Fiche technique BMW M8 Gran Coupe 2021    Bmw  M8 Gran Coupe   \n",
       "4  Fiche technique BMW M8 Gran Coupe 2020    Bmw  M8 Gran Coupe   \n",
       "\n",
       "                                                Lien  Annee  \n",
       "0  https://www.largus.fr/fiche-technique/Bmw/M8+G...   2024  \n",
       "1  https://www.largus.fr/fiche-technique/Bmw/M8+G...   2023  \n",
       "2  https://www.largus.fr/fiche-technique/Bmw/M8+G...   2022  \n",
       "3  https://www.largus.fr/fiche-technique/Bmw/M8+G...   2021  \n",
       "4  https://www.largus.fr/fiche-technique/Bmw/M8+G...   2020  "
      ],
      "text/html": [
       "<div>\n",
       "<style scoped>\n",
       "    .dataframe tbody tr th:only-of-type {\n",
       "        vertical-align: middle;\n",
       "    }\n",
       "\n",
       "    .dataframe tbody tr th {\n",
       "        vertical-align: top;\n",
       "    }\n",
       "\n",
       "    .dataframe thead th {\n",
       "        text-align: right;\n",
       "    }\n",
       "</style>\n",
       "<table border=\"1\" class=\"dataframe\">\n",
       "  <thead>\n",
       "    <tr style=\"text-align: right;\">\n",
       "      <th></th>\n",
       "      <th>Libelle</th>\n",
       "      <th>Marque</th>\n",
       "      <th>Model</th>\n",
       "      <th>Lien</th>\n",
       "      <th>Annee</th>\n",
       "    </tr>\n",
       "  </thead>\n",
       "  <tbody>\n",
       "    <tr>\n",
       "      <th>0</th>\n",
       "      <td>Fiche technique BMW M8 Gran Coupe 2024</td>\n",
       "      <td>Bmw</td>\n",
       "      <td>M8 Gran Coupe</td>\n",
       "      <td>https://www.largus.fr/fiche-technique/Bmw/M8+G...</td>\n",
       "      <td>2024</td>\n",
       "    </tr>\n",
       "    <tr>\n",
       "      <th>1</th>\n",
       "      <td>Fiche technique BMW M8 Gran Coupe 2023</td>\n",
       "      <td>Bmw</td>\n",
       "      <td>M8 Gran Coupe</td>\n",
       "      <td>https://www.largus.fr/fiche-technique/Bmw/M8+G...</td>\n",
       "      <td>2023</td>\n",
       "    </tr>\n",
       "    <tr>\n",
       "      <th>2</th>\n",
       "      <td>Fiche technique BMW M8 Gran Coupe 2022</td>\n",
       "      <td>Bmw</td>\n",
       "      <td>M8 Gran Coupe</td>\n",
       "      <td>https://www.largus.fr/fiche-technique/Bmw/M8+G...</td>\n",
       "      <td>2022</td>\n",
       "    </tr>\n",
       "    <tr>\n",
       "      <th>3</th>\n",
       "      <td>Fiche technique BMW M8 Gran Coupe 2021</td>\n",
       "      <td>Bmw</td>\n",
       "      <td>M8 Gran Coupe</td>\n",
       "      <td>https://www.largus.fr/fiche-technique/Bmw/M8+G...</td>\n",
       "      <td>2021</td>\n",
       "    </tr>\n",
       "    <tr>\n",
       "      <th>4</th>\n",
       "      <td>Fiche technique BMW M8 Gran Coupe 2020</td>\n",
       "      <td>Bmw</td>\n",
       "      <td>M8 Gran Coupe</td>\n",
       "      <td>https://www.largus.fr/fiche-technique/Bmw/M8+G...</td>\n",
       "      <td>2020</td>\n",
       "    </tr>\n",
       "  </tbody>\n",
       "</table>\n",
       "</div>"
      ]
     },
     "execution_count": 34,
     "metadata": {},
     "output_type": "execute_result"
    }
   ],
   "execution_count": 34
  },
  {
   "metadata": {
    "ExecuteTime": {
     "end_time": "2024-05-29T09:42:19.233068Z",
     "start_time": "2024-05-29T09:42:19.226554Z"
    }
   },
   "cell_type": "code",
   "source": "df_fiches_techniques_final.shape",
   "id": "ab3e453714cddc63",
   "outputs": [
    {
     "data": {
      "text/plain": [
       "(714, 5)"
      ]
     },
     "execution_count": 35,
     "metadata": {},
     "output_type": "execute_result"
    }
   ],
   "execution_count": 35
  },
  {
   "metadata": {
    "ExecuteTime": {
     "end_time": "2024-05-29T09:43:18.691241Z",
     "start_time": "2024-05-29T09:43:18.686415Z"
    }
   },
   "cell_type": "code",
   "source": "df_fiches_techniques_final['Annee'].min()",
   "id": "7ac62d5861699657",
   "outputs": [
    {
     "data": {
      "text/plain": [
       "1995"
      ]
     },
     "execution_count": 36,
     "metadata": {},
     "output_type": "execute_result"
    }
   ],
   "execution_count": 36
  },
  {
   "metadata": {
    "ExecuteTime": {
     "end_time": "2024-05-29T10:25:58.444482Z",
     "start_time": "2024-05-29T10:25:58.405143Z"
    }
   },
   "cell_type": "code",
   "source": "df_fiches_techniques_final.to_csv('fiches_techniques_final.csv', index=False)",
   "id": "328f71dc77ce54c7",
   "outputs": [],
   "execution_count": 37
  },
  {
   "metadata": {
    "ExecuteTime": {
     "end_time": "2024-05-29T13:50:33.962311Z",
     "start_time": "2024-05-29T13:50:33.949234Z"
    }
   },
   "cell_type": "code",
   "source": "",
   "id": "ea4a7ac94809b6cd",
   "outputs": [
    {
     "data": {
      "text/plain": [
       "                                  Libelle Marque          Model  \\\n",
       "0  Fiche technique BMW M8 Gran Coupe 2024    Bmw  M8 Gran Coupe   \n",
       "1  Fiche technique BMW M8 Gran Coupe 2023    Bmw  M8 Gran Coupe   \n",
       "2  Fiche technique BMW M8 Gran Coupe 2022    Bmw  M8 Gran Coupe   \n",
       "3  Fiche technique BMW M8 Gran Coupe 2021    Bmw  M8 Gran Coupe   \n",
       "4  Fiche technique BMW M8 Gran Coupe 2020    Bmw  M8 Gran Coupe   \n",
       "\n",
       "                                                Lien  Annee  Traiter  \n",
       "0  https://www.largus.fr/fiche-technique/Bmw/M8+G...   2024        1  \n",
       "1  https://www.largus.fr/fiche-technique/Bmw/M8+G...   2023        1  \n",
       "2  https://www.largus.fr/fiche-technique/Bmw/M8+G...   2022        1  \n",
       "3  https://www.largus.fr/fiche-technique/Bmw/M8+G...   2021        1  \n",
       "4  https://www.largus.fr/fiche-technique/Bmw/M8+G...   2020        1  "
      ],
      "text/html": [
       "<div>\n",
       "<style scoped>\n",
       "    .dataframe tbody tr th:only-of-type {\n",
       "        vertical-align: middle;\n",
       "    }\n",
       "\n",
       "    .dataframe tbody tr th {\n",
       "        vertical-align: top;\n",
       "    }\n",
       "\n",
       "    .dataframe thead th {\n",
       "        text-align: right;\n",
       "    }\n",
       "</style>\n",
       "<table border=\"1\" class=\"dataframe\">\n",
       "  <thead>\n",
       "    <tr style=\"text-align: right;\">\n",
       "      <th></th>\n",
       "      <th>Libelle</th>\n",
       "      <th>Marque</th>\n",
       "      <th>Model</th>\n",
       "      <th>Lien</th>\n",
       "      <th>Annee</th>\n",
       "      <th>Traiter</th>\n",
       "    </tr>\n",
       "  </thead>\n",
       "  <tbody>\n",
       "    <tr>\n",
       "      <th>0</th>\n",
       "      <td>Fiche technique BMW M8 Gran Coupe 2024</td>\n",
       "      <td>Bmw</td>\n",
       "      <td>M8 Gran Coupe</td>\n",
       "      <td>https://www.largus.fr/fiche-technique/Bmw/M8+G...</td>\n",
       "      <td>2024</td>\n",
       "      <td>1</td>\n",
       "    </tr>\n",
       "    <tr>\n",
       "      <th>1</th>\n",
       "      <td>Fiche technique BMW M8 Gran Coupe 2023</td>\n",
       "      <td>Bmw</td>\n",
       "      <td>M8 Gran Coupe</td>\n",
       "      <td>https://www.largus.fr/fiche-technique/Bmw/M8+G...</td>\n",
       "      <td>2023</td>\n",
       "      <td>1</td>\n",
       "    </tr>\n",
       "    <tr>\n",
       "      <th>2</th>\n",
       "      <td>Fiche technique BMW M8 Gran Coupe 2022</td>\n",
       "      <td>Bmw</td>\n",
       "      <td>M8 Gran Coupe</td>\n",
       "      <td>https://www.largus.fr/fiche-technique/Bmw/M8+G...</td>\n",
       "      <td>2022</td>\n",
       "      <td>1</td>\n",
       "    </tr>\n",
       "    <tr>\n",
       "      <th>3</th>\n",
       "      <td>Fiche technique BMW M8 Gran Coupe 2021</td>\n",
       "      <td>Bmw</td>\n",
       "      <td>M8 Gran Coupe</td>\n",
       "      <td>https://www.largus.fr/fiche-technique/Bmw/M8+G...</td>\n",
       "      <td>2021</td>\n",
       "      <td>1</td>\n",
       "    </tr>\n",
       "    <tr>\n",
       "      <th>4</th>\n",
       "      <td>Fiche technique BMW M8 Gran Coupe 2020</td>\n",
       "      <td>Bmw</td>\n",
       "      <td>M8 Gran Coupe</td>\n",
       "      <td>https://www.largus.fr/fiche-technique/Bmw/M8+G...</td>\n",
       "      <td>2020</td>\n",
       "      <td>1</td>\n",
       "    </tr>\n",
       "  </tbody>\n",
       "</table>\n",
       "</div>"
      ]
     },
     "execution_count": 90,
     "metadata": {},
     "output_type": "execute_result"
    }
   ],
   "execution_count": 90
  },
  {
   "metadata": {},
   "cell_type": "markdown",
   "source": "## Version",
   "id": "860cf12ab22b83e9"
  },
  {
   "metadata": {
    "ExecuteTime": {
     "end_time": "2024-05-27T10:15:13.391135Z",
     "start_time": "2024-05-27T10:15:13.388161Z"
    }
   },
   "cell_type": "code",
   "source": "url_version = \"https://www.largus.fr/fiche-technique/Audi/A5/2024.html\"",
   "id": "1ebaedbc7e171fbd",
   "outputs": [],
   "execution_count": 18
  },
  {
   "metadata": {
    "ExecuteTime": {
     "end_time": "2024-05-23T13:30:46.136899Z",
     "start_time": "2024-05-23T13:30:35.776050Z"
    }
   },
   "cell_type": "code",
   "source": [
    "driver = get_driver()\n",
    "driver.get(url_version)\n",
    "# Attendre que la page se charge correctement (si nécessaire)\n",
    "driver.implicitly_wait(2)\n",
    "html_content = driver.page_source"
   ],
   "id": "9a1d3b87f08c45ed",
   "outputs": [],
   "execution_count": 23
  },
  {
   "metadata": {
    "ExecuteTime": {
     "end_time": "2024-05-29T11:44:10.845879Z",
     "start_time": "2024-05-29T11:44:10.827930Z"
    }
   },
   "cell_type": "code",
   "source": [
    "def extract_version_data(driver, url_version, html_content, df_rows):\n",
    "    \"\"\"\n",
    "    Extract version data from a given URL and HTML content using Selenium and BeautifulSoup.\n",
    "\n",
    "    Parameters:\n",
    "    driver (WebDriver): The Selenium WebDriver instance.\n",
    "    url_version (str): The URL containing the version information.\n",
    "    html_content (str): The HTML content of the page.\n",
    "\n",
    "    Returns:\n",
    "    list: A list of lists containing version data.\n",
    "    str: The filename for the CSV file.\n",
    "    \"\"\"\n",
    "    # Extraire l'année de l'URL à l'aide d'une expression régulière\n",
    "    match = re.search(r'/(\\d{4})\\.html', url_version)\n",
    "    if match:\n",
    "        year = match.group(1)\n",
    "    else:\n",
    "        year = datetime.now().year\n",
    "\n",
    "    # Localiser la table\n",
    "    table = driver.find_element(By.ID, 'listeVersions')\n",
    "    \n",
    "    if table is not None:\n",
    "        # Extraire les lignes de la table\n",
    "        rows = table.find_elements(By.TAG_NAME, 'tr')\n",
    "    \n",
    "        # Préparer une liste pour stocker les données\n",
    "        data_versions = []\n",
    "        mark = df_rows['Marque']\n",
    "        model = df_rows['Model']\n",
    "    \n",
    "        # Boucler à travers les lignes pour extraire les données\n",
    "        for row in rows[1:]:  # Ignorer l'en-tête\n",
    "            cols = row.find_elements(By.TAG_NAME, 'td')\n",
    "            if cols:\n",
    "                version = cols[0].text\n",
    "                version_link = cols[0].find_element(By.TAG_NAME, 'a').get_attribute('href')\n",
    "                carrosserie = cols[1].text\n",
    "                energy = cols[2].text\n",
    "                boite = cols[3].text\n",
    "                puissance_fiscale = cols[4].text\n",
    "                data_versions.append([version, carrosserie, energy, boite, puissance_fiscale, version_link, year, mark, model])\n",
    "    \n",
    "        # Déterminer le nom du fichier CSV\n",
    "        if data_versions:\n",
    "            soup = BeautifulSoup(html_content, \"html.parser\")\n",
    "            title_tag = soup.find('h1', class_='title lvl1-title')\n",
    "            if title_tag:\n",
    "                title_text = title_tag.text.strip().lower()\n",
    "                title_text = re.sub(r'\\s+', '_', title_text)  # Remplacer les espaces par des underscores\n",
    "                csv_filename = f'{normalize_label(title_text)}.csv'\n",
    "            else:\n",
    "                csv_filename = f'fiches_techniques_{year}.csv'\n",
    "                \n",
    "            # Créer un DataFrame Pandas à partir des données\n",
    "            df_versions = pd.DataFrame(data_versions, columns=['Version', 'Carrosserie', 'Energie', 'Boîte', 'Puissance Fiscale', 'Url', 'Année', 'Marque', 'Modele'])\n",
    "            folder_path = f\"Versions/{mark}/{model}\"\n",
    "            \n",
    "            if not os.path.exists(folder_path):\n",
    "                os.makedirs(folder_path)\n",
    "            \n",
    "            save_path = os.path.join(folder_path, csv_filename)\n",
    "                \n",
    "            df_versions.to_csv(save_path, index=False)\n",
    "      \n",
    "    \n",
    "        return data_versions"
   ],
   "id": "320279f338f0a6fc",
   "outputs": [],
   "execution_count": 56
  },
  {
   "metadata": {
    "ExecuteTime": {
     "end_time": "2024-05-29T13:14:52.174327Z",
     "start_time": "2024-05-29T13:14:52.166715Z"
    }
   },
   "cell_type": "code",
   "source": [
    "def process_versions_links(driver, dataframe, column_link='Lien'):\n",
    "    # Vérifier si la colonne Traiter existe déjà\n",
    "    if 'Traiter' not in dataframe.columns:\n",
    "        dataframe['Traiter'] = 0\n",
    "\n",
    "    filtered_df = dataframe[dataframe['Traiter'] == 1]\n",
    "    treated_links = set(filtered_df[column_link])  # Un ensemble pour stocker les liens déjà traités\n",
    "\n",
    "    counter = 0\n",
    "    captcha = 0\n",
    "    for index, row in dataframe[len(treated_links):].iterrows():\n",
    "        link_url = row[column_link]\n",
    "\n",
    "        # Vérifier si le lien a déjà été traité\n",
    "        if link_url in treated_links:\n",
    "            continue\n",
    "\n",
    "        if link_url not in treated_links:\n",
    "            driver.get(link_url)\n",
    "            time.sleep(1)\n",
    "            html_content = driver.page_source\n",
    "            data_versions = extract_version_data(driver, link_url, html_content, row)\n",
    "\n",
    "            if data_versions is None:\n",
    "                captcha += 1\n",
    "                continue\n",
    "\n",
    "            dataframe.at[index, 'Traiter'] = 1\n",
    "            treated_links.update(link_url)\n",
    "            save_file_path = \"Fiches Techniques/fiches_techniques_final.csv\"\n",
    "            dataframe.to_csv(save_file_path, index=False)\n",
    "\n",
    "            counter += 1\n",
    "\n",
    "            print(f\"Waiting for 1 minute before the next URL...{counter}\")\n",
    "            time.sleep(1)\n",
    "            \n",
    "        if captcha >= 2:\n",
    "            print(\"Detection de captcha\")\n",
    "            break\n",
    "            \n",
    "        if counter >= 50:\n",
    "            print(\"Arrêt après 50 itérations.\")\n",
    "            break\n",
    "\n",
    "    print(f\"Arrêt toutes les liens, un total de {counter} liens ont été traitées !.\")"
   ],
   "id": "13d25e2fb1768ad9",
   "outputs": [],
   "execution_count": 69
  },
  {
   "metadata": {},
   "cell_type": "code",
   "outputs": [],
   "execution_count": null,
   "source": "",
   "id": "67053983e62af636"
  },
  {
   "metadata": {
    "ExecuteTime": {
     "end_time": "2024-05-29T16:12:30.422042Z",
     "start_time": "2024-05-29T16:12:30.408707Z"
    }
   },
   "cell_type": "code",
   "source": [
    "df_fiches_techniques = pd.read_csv('Fiches Techniques/fiches_techniques_final.csv')\n",
    "len(df_fiches_techniques[df_fiches_techniques['Traiter'] == 1]), len(df_fiches_techniques[df_fiches_techniques['Traiter'] == 0])"
   ],
   "id": "a11fd391e324a98e",
   "outputs": [
    {
     "data": {
      "text/plain": [
       "(714, 0)"
      ]
     },
     "execution_count": 154,
     "metadata": {},
     "output_type": "execute_result"
    }
   ],
   "execution_count": 154
  },
  {
   "metadata": {
    "ExecuteTime": {
     "end_time": "2024-05-29T16:01:34.109595Z",
     "start_time": "2024-05-29T16:01:31.584119Z"
    }
   },
   "cell_type": "code",
   "source": "driver = get_driver()",
   "id": "f36770d382c8a818",
   "outputs": [],
   "execution_count": 151
  },
  {
   "metadata": {
    "ExecuteTime": {
     "end_time": "2024-05-29T16:02:07.037967Z",
     "start_time": "2024-05-29T16:01:36.474726Z"
    }
   },
   "cell_type": "code",
   "source": "process_versions_links(driver, df_fiches_techniques)",
   "id": "c7a17289658a446",
   "outputs": [
    {
     "name": "stdout",
     "output_type": "stream",
     "text": [
      "Waiting for 1 minute before the next URL...1\n",
      "Waiting for 1 minute before the next URL...2\n",
      "Waiting for 1 minute before the next URL...3\n",
      "Waiting for 1 minute before the next URL...4\n",
      "Waiting for 1 minute before the next URL...5\n",
      "Arrêt toutes les liens, un total de 5 liens ont été traitées !.\n"
     ]
    }
   ],
   "execution_count": 152
  },
  {
   "metadata": {
    "ExecuteTime": {
     "end_time": "2024-05-29T16:02:13.981317Z",
     "start_time": "2024-05-29T16:02:13.831913Z"
    }
   },
   "cell_type": "code",
   "source": "driver.quit()",
   "id": "ff765cde50371485",
   "outputs": [],
   "execution_count": 153
  },
  {
   "metadata": {
    "ExecuteTime": {
     "end_time": "2024-05-30T08:32:02.017070Z",
     "start_time": "2024-05-30T08:32:00.843480Z"
    }
   },
   "cell_type": "code",
   "source": "df_version = pd.read_csv('Fiches Techniques/Audi/fiches_techniques_audi_a5_2024.csv')",
   "id": "acf3bd05be700cec",
   "outputs": [
    {
     "ename": "FileNotFoundError",
     "evalue": "[Errno 2] No such file or directory: 'Fiches Techniques/Audi/fiches_techniques_audi_a5_2024.csv'",
     "output_type": "error",
     "traceback": [
      "\u001B[0;31m---------------------------------------------------------------------------\u001B[0m",
      "\u001B[0;31mFileNotFoundError\u001B[0m                         Traceback (most recent call last)",
      "Cell \u001B[0;32mIn[5], line 1\u001B[0m\n\u001B[0;32m----> 1\u001B[0m df_version \u001B[38;5;241m=\u001B[39m \u001B[43mpd\u001B[49m\u001B[38;5;241;43m.\u001B[39;49m\u001B[43mread_csv\u001B[49m\u001B[43m(\u001B[49m\u001B[38;5;124;43m'\u001B[39;49m\u001B[38;5;124;43mFiches Techniques/Audi/fiches_techniques_audi_a5_2024.csv\u001B[39;49m\u001B[38;5;124;43m'\u001B[39;49m\u001B[43m)\u001B[49m\n",
      "File \u001B[0;32m~/DataspellProjects/scraping-master/venv/lib/python3.11/site-packages/pandas/io/parsers/readers.py:948\u001B[0m, in \u001B[0;36mread_csv\u001B[0;34m(filepath_or_buffer, sep, delimiter, header, names, index_col, usecols, dtype, engine, converters, true_values, false_values, skipinitialspace, skiprows, skipfooter, nrows, na_values, keep_default_na, na_filter, verbose, skip_blank_lines, parse_dates, infer_datetime_format, keep_date_col, date_parser, date_format, dayfirst, cache_dates, iterator, chunksize, compression, thousands, decimal, lineterminator, quotechar, quoting, doublequote, escapechar, comment, encoding, encoding_errors, dialect, on_bad_lines, delim_whitespace, low_memory, memory_map, float_precision, storage_options, dtype_backend)\u001B[0m\n\u001B[1;32m    935\u001B[0m kwds_defaults \u001B[38;5;241m=\u001B[39m _refine_defaults_read(\n\u001B[1;32m    936\u001B[0m     dialect,\n\u001B[1;32m    937\u001B[0m     delimiter,\n\u001B[0;32m   (...)\u001B[0m\n\u001B[1;32m    944\u001B[0m     dtype_backend\u001B[38;5;241m=\u001B[39mdtype_backend,\n\u001B[1;32m    945\u001B[0m )\n\u001B[1;32m    946\u001B[0m kwds\u001B[38;5;241m.\u001B[39mupdate(kwds_defaults)\n\u001B[0;32m--> 948\u001B[0m \u001B[38;5;28;01mreturn\u001B[39;00m \u001B[43m_read\u001B[49m\u001B[43m(\u001B[49m\u001B[43mfilepath_or_buffer\u001B[49m\u001B[43m,\u001B[49m\u001B[43m \u001B[49m\u001B[43mkwds\u001B[49m\u001B[43m)\u001B[49m\n",
      "File \u001B[0;32m~/DataspellProjects/scraping-master/venv/lib/python3.11/site-packages/pandas/io/parsers/readers.py:611\u001B[0m, in \u001B[0;36m_read\u001B[0;34m(filepath_or_buffer, kwds)\u001B[0m\n\u001B[1;32m    608\u001B[0m _validate_names(kwds\u001B[38;5;241m.\u001B[39mget(\u001B[38;5;124m\"\u001B[39m\u001B[38;5;124mnames\u001B[39m\u001B[38;5;124m\"\u001B[39m, \u001B[38;5;28;01mNone\u001B[39;00m))\n\u001B[1;32m    610\u001B[0m \u001B[38;5;66;03m# Create the parser.\u001B[39;00m\n\u001B[0;32m--> 611\u001B[0m parser \u001B[38;5;241m=\u001B[39m \u001B[43mTextFileReader\u001B[49m\u001B[43m(\u001B[49m\u001B[43mfilepath_or_buffer\u001B[49m\u001B[43m,\u001B[49m\u001B[43m \u001B[49m\u001B[38;5;241;43m*\u001B[39;49m\u001B[38;5;241;43m*\u001B[39;49m\u001B[43mkwds\u001B[49m\u001B[43m)\u001B[49m\n\u001B[1;32m    613\u001B[0m \u001B[38;5;28;01mif\u001B[39;00m chunksize \u001B[38;5;129;01mor\u001B[39;00m iterator:\n\u001B[1;32m    614\u001B[0m     \u001B[38;5;28;01mreturn\u001B[39;00m parser\n",
      "File \u001B[0;32m~/DataspellProjects/scraping-master/venv/lib/python3.11/site-packages/pandas/io/parsers/readers.py:1448\u001B[0m, in \u001B[0;36mTextFileReader.__init__\u001B[0;34m(self, f, engine, **kwds)\u001B[0m\n\u001B[1;32m   1445\u001B[0m     \u001B[38;5;28mself\u001B[39m\u001B[38;5;241m.\u001B[39moptions[\u001B[38;5;124m\"\u001B[39m\u001B[38;5;124mhas_index_names\u001B[39m\u001B[38;5;124m\"\u001B[39m] \u001B[38;5;241m=\u001B[39m kwds[\u001B[38;5;124m\"\u001B[39m\u001B[38;5;124mhas_index_names\u001B[39m\u001B[38;5;124m\"\u001B[39m]\n\u001B[1;32m   1447\u001B[0m \u001B[38;5;28mself\u001B[39m\u001B[38;5;241m.\u001B[39mhandles: IOHandles \u001B[38;5;241m|\u001B[39m \u001B[38;5;28;01mNone\u001B[39;00m \u001B[38;5;241m=\u001B[39m \u001B[38;5;28;01mNone\u001B[39;00m\n\u001B[0;32m-> 1448\u001B[0m \u001B[38;5;28mself\u001B[39m\u001B[38;5;241m.\u001B[39m_engine \u001B[38;5;241m=\u001B[39m \u001B[38;5;28;43mself\u001B[39;49m\u001B[38;5;241;43m.\u001B[39;49m\u001B[43m_make_engine\u001B[49m\u001B[43m(\u001B[49m\u001B[43mf\u001B[49m\u001B[43m,\u001B[49m\u001B[43m \u001B[49m\u001B[38;5;28;43mself\u001B[39;49m\u001B[38;5;241;43m.\u001B[39;49m\u001B[43mengine\u001B[49m\u001B[43m)\u001B[49m\n",
      "File \u001B[0;32m~/DataspellProjects/scraping-master/venv/lib/python3.11/site-packages/pandas/io/parsers/readers.py:1705\u001B[0m, in \u001B[0;36mTextFileReader._make_engine\u001B[0;34m(self, f, engine)\u001B[0m\n\u001B[1;32m   1703\u001B[0m     \u001B[38;5;28;01mif\u001B[39;00m \u001B[38;5;124m\"\u001B[39m\u001B[38;5;124mb\u001B[39m\u001B[38;5;124m\"\u001B[39m \u001B[38;5;129;01mnot\u001B[39;00m \u001B[38;5;129;01min\u001B[39;00m mode:\n\u001B[1;32m   1704\u001B[0m         mode \u001B[38;5;241m+\u001B[39m\u001B[38;5;241m=\u001B[39m \u001B[38;5;124m\"\u001B[39m\u001B[38;5;124mb\u001B[39m\u001B[38;5;124m\"\u001B[39m\n\u001B[0;32m-> 1705\u001B[0m \u001B[38;5;28mself\u001B[39m\u001B[38;5;241m.\u001B[39mhandles \u001B[38;5;241m=\u001B[39m \u001B[43mget_handle\u001B[49m\u001B[43m(\u001B[49m\n\u001B[1;32m   1706\u001B[0m \u001B[43m    \u001B[49m\u001B[43mf\u001B[49m\u001B[43m,\u001B[49m\n\u001B[1;32m   1707\u001B[0m \u001B[43m    \u001B[49m\u001B[43mmode\u001B[49m\u001B[43m,\u001B[49m\n\u001B[1;32m   1708\u001B[0m \u001B[43m    \u001B[49m\u001B[43mencoding\u001B[49m\u001B[38;5;241;43m=\u001B[39;49m\u001B[38;5;28;43mself\u001B[39;49m\u001B[38;5;241;43m.\u001B[39;49m\u001B[43moptions\u001B[49m\u001B[38;5;241;43m.\u001B[39;49m\u001B[43mget\u001B[49m\u001B[43m(\u001B[49m\u001B[38;5;124;43m\"\u001B[39;49m\u001B[38;5;124;43mencoding\u001B[39;49m\u001B[38;5;124;43m\"\u001B[39;49m\u001B[43m,\u001B[49m\u001B[43m \u001B[49m\u001B[38;5;28;43;01mNone\u001B[39;49;00m\u001B[43m)\u001B[49m\u001B[43m,\u001B[49m\n\u001B[1;32m   1709\u001B[0m \u001B[43m    \u001B[49m\u001B[43mcompression\u001B[49m\u001B[38;5;241;43m=\u001B[39;49m\u001B[38;5;28;43mself\u001B[39;49m\u001B[38;5;241;43m.\u001B[39;49m\u001B[43moptions\u001B[49m\u001B[38;5;241;43m.\u001B[39;49m\u001B[43mget\u001B[49m\u001B[43m(\u001B[49m\u001B[38;5;124;43m\"\u001B[39;49m\u001B[38;5;124;43mcompression\u001B[39;49m\u001B[38;5;124;43m\"\u001B[39;49m\u001B[43m,\u001B[49m\u001B[43m \u001B[49m\u001B[38;5;28;43;01mNone\u001B[39;49;00m\u001B[43m)\u001B[49m\u001B[43m,\u001B[49m\n\u001B[1;32m   1710\u001B[0m \u001B[43m    \u001B[49m\u001B[43mmemory_map\u001B[49m\u001B[38;5;241;43m=\u001B[39;49m\u001B[38;5;28;43mself\u001B[39;49m\u001B[38;5;241;43m.\u001B[39;49m\u001B[43moptions\u001B[49m\u001B[38;5;241;43m.\u001B[39;49m\u001B[43mget\u001B[49m\u001B[43m(\u001B[49m\u001B[38;5;124;43m\"\u001B[39;49m\u001B[38;5;124;43mmemory_map\u001B[39;49m\u001B[38;5;124;43m\"\u001B[39;49m\u001B[43m,\u001B[49m\u001B[43m \u001B[49m\u001B[38;5;28;43;01mFalse\u001B[39;49;00m\u001B[43m)\u001B[49m\u001B[43m,\u001B[49m\n\u001B[1;32m   1711\u001B[0m \u001B[43m    \u001B[49m\u001B[43mis_text\u001B[49m\u001B[38;5;241;43m=\u001B[39;49m\u001B[43mis_text\u001B[49m\u001B[43m,\u001B[49m\n\u001B[1;32m   1712\u001B[0m \u001B[43m    \u001B[49m\u001B[43merrors\u001B[49m\u001B[38;5;241;43m=\u001B[39;49m\u001B[38;5;28;43mself\u001B[39;49m\u001B[38;5;241;43m.\u001B[39;49m\u001B[43moptions\u001B[49m\u001B[38;5;241;43m.\u001B[39;49m\u001B[43mget\u001B[49m\u001B[43m(\u001B[49m\u001B[38;5;124;43m\"\u001B[39;49m\u001B[38;5;124;43mencoding_errors\u001B[39;49m\u001B[38;5;124;43m\"\u001B[39;49m\u001B[43m,\u001B[49m\u001B[43m \u001B[49m\u001B[38;5;124;43m\"\u001B[39;49m\u001B[38;5;124;43mstrict\u001B[39;49m\u001B[38;5;124;43m\"\u001B[39;49m\u001B[43m)\u001B[49m\u001B[43m,\u001B[49m\n\u001B[1;32m   1713\u001B[0m \u001B[43m    \u001B[49m\u001B[43mstorage_options\u001B[49m\u001B[38;5;241;43m=\u001B[39;49m\u001B[38;5;28;43mself\u001B[39;49m\u001B[38;5;241;43m.\u001B[39;49m\u001B[43moptions\u001B[49m\u001B[38;5;241;43m.\u001B[39;49m\u001B[43mget\u001B[49m\u001B[43m(\u001B[49m\u001B[38;5;124;43m\"\u001B[39;49m\u001B[38;5;124;43mstorage_options\u001B[39;49m\u001B[38;5;124;43m\"\u001B[39;49m\u001B[43m,\u001B[49m\u001B[43m \u001B[49m\u001B[38;5;28;43;01mNone\u001B[39;49;00m\u001B[43m)\u001B[49m\u001B[43m,\u001B[49m\n\u001B[1;32m   1714\u001B[0m \u001B[43m\u001B[49m\u001B[43m)\u001B[49m\n\u001B[1;32m   1715\u001B[0m \u001B[38;5;28;01massert\u001B[39;00m \u001B[38;5;28mself\u001B[39m\u001B[38;5;241m.\u001B[39mhandles \u001B[38;5;129;01mis\u001B[39;00m \u001B[38;5;129;01mnot\u001B[39;00m \u001B[38;5;28;01mNone\u001B[39;00m\n\u001B[1;32m   1716\u001B[0m f \u001B[38;5;241m=\u001B[39m \u001B[38;5;28mself\u001B[39m\u001B[38;5;241m.\u001B[39mhandles\u001B[38;5;241m.\u001B[39mhandle\n",
      "File \u001B[0;32m~/DataspellProjects/scraping-master/venv/lib/python3.11/site-packages/pandas/io/common.py:863\u001B[0m, in \u001B[0;36mget_handle\u001B[0;34m(path_or_buf, mode, encoding, compression, memory_map, is_text, errors, storage_options)\u001B[0m\n\u001B[1;32m    858\u001B[0m \u001B[38;5;28;01melif\u001B[39;00m \u001B[38;5;28misinstance\u001B[39m(handle, \u001B[38;5;28mstr\u001B[39m):\n\u001B[1;32m    859\u001B[0m     \u001B[38;5;66;03m# Check whether the filename is to be opened in binary mode.\u001B[39;00m\n\u001B[1;32m    860\u001B[0m     \u001B[38;5;66;03m# Binary mode does not support 'encoding' and 'newline'.\u001B[39;00m\n\u001B[1;32m    861\u001B[0m     \u001B[38;5;28;01mif\u001B[39;00m ioargs\u001B[38;5;241m.\u001B[39mencoding \u001B[38;5;129;01mand\u001B[39;00m \u001B[38;5;124m\"\u001B[39m\u001B[38;5;124mb\u001B[39m\u001B[38;5;124m\"\u001B[39m \u001B[38;5;129;01mnot\u001B[39;00m \u001B[38;5;129;01min\u001B[39;00m ioargs\u001B[38;5;241m.\u001B[39mmode:\n\u001B[1;32m    862\u001B[0m         \u001B[38;5;66;03m# Encoding\u001B[39;00m\n\u001B[0;32m--> 863\u001B[0m         handle \u001B[38;5;241m=\u001B[39m \u001B[38;5;28;43mopen\u001B[39;49m\u001B[43m(\u001B[49m\n\u001B[1;32m    864\u001B[0m \u001B[43m            \u001B[49m\u001B[43mhandle\u001B[49m\u001B[43m,\u001B[49m\n\u001B[1;32m    865\u001B[0m \u001B[43m            \u001B[49m\u001B[43mioargs\u001B[49m\u001B[38;5;241;43m.\u001B[39;49m\u001B[43mmode\u001B[49m\u001B[43m,\u001B[49m\n\u001B[1;32m    866\u001B[0m \u001B[43m            \u001B[49m\u001B[43mencoding\u001B[49m\u001B[38;5;241;43m=\u001B[39;49m\u001B[43mioargs\u001B[49m\u001B[38;5;241;43m.\u001B[39;49m\u001B[43mencoding\u001B[49m\u001B[43m,\u001B[49m\n\u001B[1;32m    867\u001B[0m \u001B[43m            \u001B[49m\u001B[43merrors\u001B[49m\u001B[38;5;241;43m=\u001B[39;49m\u001B[43merrors\u001B[49m\u001B[43m,\u001B[49m\n\u001B[1;32m    868\u001B[0m \u001B[43m            \u001B[49m\u001B[43mnewline\u001B[49m\u001B[38;5;241;43m=\u001B[39;49m\u001B[38;5;124;43m\"\u001B[39;49m\u001B[38;5;124;43m\"\u001B[39;49m\u001B[43m,\u001B[49m\n\u001B[1;32m    869\u001B[0m \u001B[43m        \u001B[49m\u001B[43m)\u001B[49m\n\u001B[1;32m    870\u001B[0m     \u001B[38;5;28;01melse\u001B[39;00m:\n\u001B[1;32m    871\u001B[0m         \u001B[38;5;66;03m# Binary mode\u001B[39;00m\n\u001B[1;32m    872\u001B[0m         handle \u001B[38;5;241m=\u001B[39m \u001B[38;5;28mopen\u001B[39m(handle, ioargs\u001B[38;5;241m.\u001B[39mmode)\n",
      "\u001B[0;31mFileNotFoundError\u001B[0m: [Errno 2] No such file or directory: 'Fiches Techniques/Audi/fiches_techniques_audi_a5_2024.csv'"
     ]
    }
   ],
   "execution_count": 5
  },
  {
   "metadata": {
    "ExecuteTime": {
     "end_time": "2024-05-27T10:15:37.984734Z",
     "start_time": "2024-05-27T10:15:37.974939Z"
    }
   },
   "cell_type": "code",
   "source": "df_version.head()",
   "id": "28fbc84e87a41219",
   "outputs": [
    {
     "data": {
      "text/plain": [
       "                                  Version Carrosserie Énergie        Boîte  \\\n",
       "0     II 35 TDI 163ch Avus S tronic 7 9cv      Coupés  Diesel  Automatique   \n",
       "1         II 35 TDI 163ch Avus S tronic 7  Cabriolets  Diesel  Automatique   \n",
       "2  II 35 TDI 163ch Competition S tronic 7      Coupés  Diesel  Automatique   \n",
       "3   II 35 TDI 163ch Design S tronic 7 9cv      Coupés  Diesel  Automatique   \n",
       "4    II 35 TDI 163ch S Edition S tronic 7      Coupés  Diesel  Automatique   \n",
       "\n",
       "  Puissance Fiscale                                                Url  Année  \n",
       "0              9 CV  https://www.largus.fr/fiche-technique/Audi/A5/...   2024  \n",
       "1              9 CV  https://www.largus.fr/fiche-technique/Audi/A5+...   2024  \n",
       "2              9 CV  https://www.largus.fr/fiche-technique/Audi/A5/...   2024  \n",
       "3              9 CV  https://www.largus.fr/fiche-technique/Audi/A5/...   2024  \n",
       "4              9 CV  https://www.largus.fr/fiche-technique/Audi/A5/...   2024  "
      ],
      "text/html": [
       "<div>\n",
       "<style scoped>\n",
       "    .dataframe tbody tr th:only-of-type {\n",
       "        vertical-align: middle;\n",
       "    }\n",
       "\n",
       "    .dataframe tbody tr th {\n",
       "        vertical-align: top;\n",
       "    }\n",
       "\n",
       "    .dataframe thead th {\n",
       "        text-align: right;\n",
       "    }\n",
       "</style>\n",
       "<table border=\"1\" class=\"dataframe\">\n",
       "  <thead>\n",
       "    <tr style=\"text-align: right;\">\n",
       "      <th></th>\n",
       "      <th>Version</th>\n",
       "      <th>Carrosserie</th>\n",
       "      <th>Énergie</th>\n",
       "      <th>Boîte</th>\n",
       "      <th>Puissance Fiscale</th>\n",
       "      <th>Url</th>\n",
       "      <th>Année</th>\n",
       "    </tr>\n",
       "  </thead>\n",
       "  <tbody>\n",
       "    <tr>\n",
       "      <th>0</th>\n",
       "      <td>II 35 TDI 163ch Avus S tronic 7 9cv</td>\n",
       "      <td>Coupés</td>\n",
       "      <td>Diesel</td>\n",
       "      <td>Automatique</td>\n",
       "      <td>9 CV</td>\n",
       "      <td>https://www.largus.fr/fiche-technique/Audi/A5/...</td>\n",
       "      <td>2024</td>\n",
       "    </tr>\n",
       "    <tr>\n",
       "      <th>1</th>\n",
       "      <td>II 35 TDI 163ch Avus S tronic 7</td>\n",
       "      <td>Cabriolets</td>\n",
       "      <td>Diesel</td>\n",
       "      <td>Automatique</td>\n",
       "      <td>9 CV</td>\n",
       "      <td>https://www.largus.fr/fiche-technique/Audi/A5+...</td>\n",
       "      <td>2024</td>\n",
       "    </tr>\n",
       "    <tr>\n",
       "      <th>2</th>\n",
       "      <td>II 35 TDI 163ch Competition S tronic 7</td>\n",
       "      <td>Coupés</td>\n",
       "      <td>Diesel</td>\n",
       "      <td>Automatique</td>\n",
       "      <td>9 CV</td>\n",
       "      <td>https://www.largus.fr/fiche-technique/Audi/A5/...</td>\n",
       "      <td>2024</td>\n",
       "    </tr>\n",
       "    <tr>\n",
       "      <th>3</th>\n",
       "      <td>II 35 TDI 163ch Design S tronic 7 9cv</td>\n",
       "      <td>Coupés</td>\n",
       "      <td>Diesel</td>\n",
       "      <td>Automatique</td>\n",
       "      <td>9 CV</td>\n",
       "      <td>https://www.largus.fr/fiche-technique/Audi/A5/...</td>\n",
       "      <td>2024</td>\n",
       "    </tr>\n",
       "    <tr>\n",
       "      <th>4</th>\n",
       "      <td>II 35 TDI 163ch S Edition S tronic 7</td>\n",
       "      <td>Coupés</td>\n",
       "      <td>Diesel</td>\n",
       "      <td>Automatique</td>\n",
       "      <td>9 CV</td>\n",
       "      <td>https://www.largus.fr/fiche-technique/Audi/A5/...</td>\n",
       "      <td>2024</td>\n",
       "    </tr>\n",
       "  </tbody>\n",
       "</table>\n",
       "</div>"
      ]
     },
     "execution_count": 20,
     "metadata": {},
     "output_type": "execute_result"
    }
   ],
   "execution_count": 20
  },
  {
   "metadata": {
    "ExecuteTime": {
     "end_time": "2024-05-23T14:15:47.623392Z",
     "start_time": "2024-05-23T14:15:47.372417Z"
    }
   },
   "cell_type": "code",
   "source": "driver.quit()",
   "id": "a1c97d016d1eecbf",
   "outputs": [],
   "execution_count": 45
  },
  {
   "metadata": {},
   "cell_type": "markdown",
   "source": "## Information Fiche technique",
   "id": "83832abe24a5feda"
  },
  {
   "metadata": {
    "ExecuteTime": {
     "end_time": "2024-05-30T08:33:27.263577Z",
     "start_time": "2024-05-30T08:33:27.259440Z"
    }
   },
   "cell_type": "code",
   "source": "url_fiche = 'https://www.largus.fr/fiche-technique/Bmw/X6/I+E71/2008/Break+5+Portes/30da+235+Exclusive-966560.html'",
   "id": "289e75a82db9643e",
   "outputs": [],
   "execution_count": 8
  },
  {
   "metadata": {
    "ExecuteTime": {
     "end_time": "2024-05-30T08:33:48.567068Z",
     "start_time": "2024-05-30T08:33:38.447429Z"
    }
   },
   "cell_type": "code",
   "source": [
    "driver = get_driver()\n",
    "driver.get(url_fiche)\n",
    "# Attendre que la page se charge correctement (si nécessaire)\n",
    "driver.implicitly_wait(1)\n",
    "page_source = driver.page_source"
   ],
   "id": "114d7d1306395c2c",
   "outputs": [],
   "execution_count": 9
  },
  {
   "metadata": {
    "ExecuteTime": {
     "end_time": "2024-05-30T08:34:00.621880Z",
     "start_time": "2024-05-30T08:34:00.390957Z"
    }
   },
   "cell_type": "code",
   "source": "driver.quit()",
   "id": "8a64d0d3f21abaa2",
   "outputs": [],
   "execution_count": 10
  },
  {
   "metadata": {},
   "cell_type": "markdown",
   "source": "### Fonctions",
   "id": "1c69963006606541"
  },
  {
   "metadata": {
    "ExecuteTime": {
     "end_time": "2024-05-31T10:04:38.414432Z",
     "start_time": "2024-05-31T10:04:38.408272Z"
    }
   },
   "cell_type": "code",
   "source": [
    "def extract_vehicle_name(header):\n",
    "    vehicle_name_tag = header.find('span', class_='libelle-vehicule')\n",
    "    vehicle_name = vehicle_name_tag.text.strip() if vehicle_name_tag else None\n",
    "    return vehicle_name\n",
    "\n",
    "def extract_date_lancement(header):\n",
    "    date_lancement_tag = header.find('span', class_='date-lancement')\n",
    "    date_lancement = date_lancement_tag.text.strip() if date_lancement_tag else None\n",
    "    return date_lancement\n",
    "\n",
    "def extract_prix(header):\n",
    "    prix_tag = header.find('div', class_='prix')\n",
    "    prix = prix_tag.text.strip().replace('\\u00a0', ' ') if prix_tag else None\n",
    "    return prix\n",
    "\n",
    "def extract_gallery_images(soup, base_url=\"https://www.largus.fr\"):\n",
    "    gallery_div = soup.find('div', class_='galerieFT')\n",
    "    images = gallery_div.find_all('img') if gallery_div else []\n",
    "    image_urls = [base_url + img['src'] for img in images if 'src' in img.attrs]\n",
    "    return image_urls"
   ],
   "id": "5e4abc9a55b46985",
   "outputs": [],
   "execution_count": 19
  },
  {
   "metadata": {
    "ExecuteTime": {
     "end_time": "2024-05-30T08:34:09.969442Z",
     "start_time": "2024-05-30T08:34:09.858342Z"
    }
   },
   "cell_type": "code",
   "source": [
    "# Analyser le contenu de la page avec BeautifulSoup\n",
    "soup = BeautifulSoup(page_source, 'html.parser')"
   ],
   "id": "bdf8b7dd845d5752",
   "outputs": [],
   "execution_count": 11
  },
  {
   "metadata": {
    "ExecuteTime": {
     "end_time": "2024-05-31T10:04:35.997267Z",
     "start_time": "2024-05-31T10:04:35.992296Z"
    }
   },
   "cell_type": "code",
   "source": [
    "def extract_header_data(soup):\n",
    "    \"\"\"\n",
    "    Extract vehicle information from the header section.\n",
    "\n",
    "    Parameters:\n",
    "    soup (BeautifulSoup): The BeautifulSoup object of the page.\n",
    "\n",
    "    Returns:\n",
    "    dict: A dictionary containing the vehicle name, date of launch, and price.\n",
    "    \"\"\"\n",
    "    # Extraire les informations\n",
    "    header = soup.find('div', class_='title-bar clearfix')\n",
    "    vehicle = extract_vehicle_name(header)\n",
    "    date = extract_date_lancement(header)\n",
    "    price = extract_prix(header)\n",
    "\n",
    "\n",
    "    return [vehicle, price, date]"
   ],
   "id": "1100346e188fe0e1",
   "outputs": [],
   "execution_count": 18
  },
  {
   "metadata": {
    "ExecuteTime": {
     "end_time": "2024-05-30T08:34:22.566629Z",
     "start_time": "2024-05-30T08:34:22.552827Z"
    }
   },
   "cell_type": "code",
   "source": [
    "data_header = extract_header_data(soup)\n",
    "data_header"
   ],
   "id": "1af33795b40075d0",
   "outputs": [
    {
     "data": {
      "text/plain": [
       "{'Vehicule': 'BMW X6 I (E71) 3.0dA 235ch Exclusive',\n",
       " 'Date': '06-2008',\n",
       " 'Prix': '74 550 €'}"
      ]
     },
     "execution_count": 13,
     "metadata": {},
     "output_type": "execute_result"
    }
   ],
   "execution_count": 13
  },
  {
   "metadata": {
    "ExecuteTime": {
     "end_time": "2024-05-30T08:34:26.281637Z",
     "start_time": "2024-05-30T08:34:26.265835Z"
    }
   },
   "cell_type": "code",
   "source": [
    "df_data_header = pd.DataFrame([data_header])\n",
    "df_data_header.head()"
   ],
   "id": "b83be6438fdd6b87",
   "outputs": [
    {
     "data": {
      "text/plain": [
       "                               Vehicule     Date      Prix\n",
       "0  BMW X6 I (E71) 3.0dA 235ch Exclusive  06-2008  74 550 €"
      ],
      "text/html": [
       "<div>\n",
       "<style scoped>\n",
       "    .dataframe tbody tr th:only-of-type {\n",
       "        vertical-align: middle;\n",
       "    }\n",
       "\n",
       "    .dataframe tbody tr th {\n",
       "        vertical-align: top;\n",
       "    }\n",
       "\n",
       "    .dataframe thead th {\n",
       "        text-align: right;\n",
       "    }\n",
       "</style>\n",
       "<table border=\"1\" class=\"dataframe\">\n",
       "  <thead>\n",
       "    <tr style=\"text-align: right;\">\n",
       "      <th></th>\n",
       "      <th>Vehicule</th>\n",
       "      <th>Date</th>\n",
       "      <th>Prix</th>\n",
       "    </tr>\n",
       "  </thead>\n",
       "  <tbody>\n",
       "    <tr>\n",
       "      <th>0</th>\n",
       "      <td>BMW X6 I (E71) 3.0dA 235ch Exclusive</td>\n",
       "      <td>06-2008</td>\n",
       "      <td>74 550 €</td>\n",
       "    </tr>\n",
       "  </tbody>\n",
       "</table>\n",
       "</div>"
      ]
     },
     "execution_count": 14,
     "metadata": {},
     "output_type": "execute_result"
    }
   ],
   "execution_count": 14
  },
  {
   "metadata": {},
   "cell_type": "markdown",
   "source": "### Gestion Images",
   "id": "b0a16289ab76e7a3"
  },
  {
   "metadata": {
    "ExecuteTime": {
     "end_time": "2024-05-30T08:34:59.815571Z",
     "start_time": "2024-05-30T08:34:59.756402Z"
    }
   },
   "cell_type": "code",
   "source": [
    "gallery_images = extract_gallery_images(soup)\n",
    "gallery_images"
   ],
   "id": "dd76b605930f24b3",
   "outputs": [
    {
     "data": {
      "text/plain": [
       "['https://www.largus.fr/images/photos/rsi/_G_JPG/Voitures/BMW/X6/I_E71/Ph1/Break_5_portes/troisquartavant.jpg',\n",
       " 'https://www.largus.fr/images/photos/rsi/_G_JPG/Voitures/BMW/X6/I_E71/Ph1/Break_5_portes/blocoptiquearriere.jpg',\n",
       " 'https://www.largus.fr/images/photos/rsi/_G_JPG/Voitures/BMW/X6/I_E71/Ph1/Break_5_portes/coffre.jpg',\n",
       " 'https://www.largus.fr/images/photos/rsi/_G_JPG/Voitures/BMW/X6/I_E71/Ph1/Break_5_portes/facearriere.jpg',\n",
       " 'https://www.largus.fr/images/photos/rsi/_G_JPG/Voitures/BMW/X6/I_E71/Ph1/Break_5_portes/faceavant.jpg',\n",
       " 'https://www.largus.fr/images/photos/rsi/_G_JPG/Voitures/BMW/X6/I_E71/Ph1/Break_5_portes/interieuravant.jpg',\n",
       " 'https://www.largus.fr/images/photos/rsi/_G_JPG/Voitures/BMW/X6/I_E71/Ph1/Break_5_portes/planchedebord.jpg',\n",
       " 'https://www.largus.fr/images/photos/rsi/_G_JPG/Voitures/BMW/X6/I_E71/Ph1/Break_5_portes/planchedebord1.jpg',\n",
       " 'https://www.largus.fr/images/photos/rsi/_G_JPG/Voitures/BMW/X6/I_E71/Ph1/Break_5_portes/profil.jpg',\n",
       " 'https://www.largus.fr/images/photos/rsi/_G_JPG/Voitures/BMW/X6/I_E71/Ph1/Break_5_portes/route.jpg',\n",
       " 'https://www.largus.fr/images/photos/rsi/_G_JPG/Voitures/BMW/X6/I_E71/Ph1/Break_5_portes/route2.jpg',\n",
       " 'https://www.largus.fr/images/photos/rsi/_G_JPG/Voitures/BMW/X6/I_E71/Ph1/Break_5_portes/troisquartarriere.jpg',\n",
       " 'https://www.largus.fr/images/photos/rsi/_G_JPG/Voitures/BMW/X6/I_E71/Ph1/Break_5_portes/troisquartarriere1.jpg',\n",
       " 'https://www.largus.fr/images/photos/rsi/_G_JPG/Voitures/BMW/X6/I_E71/Ph1/Break_5_portes/troisquartavant.jpg',\n",
       " 'https://www.largus.fr/images/photos/rsi/_G_JPG/Voitures/BMW/X6/I_E71/Ph1/Break_5_portes/troisquartavant1.jpg']"
      ]
     },
     "execution_count": 15,
     "metadata": {},
     "output_type": "execute_result"
    }
   ],
   "execution_count": 15
  },
  {
   "metadata": {
    "ExecuteTime": {
     "end_time": "2024-05-30T08:41:11.037403Z",
     "start_time": "2024-05-30T08:41:11.026062Z"
    }
   },
   "cell_type": "code",
   "source": [
    "gallery = {\n",
    "    'Gallery Images' : gallery_images\n",
    "}\n",
    "df_gallery = pd.DataFrame([gallery])\n",
    "df_gallery.head()"
   ],
   "id": "3d3a11675658e9e9",
   "outputs": [
    {
     "data": {
      "text/plain": [
       "                                      Gallery Images\n",
       "0  [https://www.largus.fr/images/photos/rsi/_G_JP..."
      ],
      "text/html": [
       "<div>\n",
       "<style scoped>\n",
       "    .dataframe tbody tr th:only-of-type {\n",
       "        vertical-align: middle;\n",
       "    }\n",
       "\n",
       "    .dataframe tbody tr th {\n",
       "        vertical-align: top;\n",
       "    }\n",
       "\n",
       "    .dataframe thead th {\n",
       "        text-align: right;\n",
       "    }\n",
       "</style>\n",
       "<table border=\"1\" class=\"dataframe\">\n",
       "  <thead>\n",
       "    <tr style=\"text-align: right;\">\n",
       "      <th></th>\n",
       "      <th>Gallery Images</th>\n",
       "    </tr>\n",
       "  </thead>\n",
       "  <tbody>\n",
       "    <tr>\n",
       "      <th>0</th>\n",
       "      <td>[https://www.largus.fr/images/photos/rsi/_G_JP...</td>\n",
       "    </tr>\n",
       "  </tbody>\n",
       "</table>\n",
       "</div>"
      ]
     },
     "execution_count": 32,
     "metadata": {},
     "output_type": "execute_result"
    }
   ],
   "execution_count": 32
  },
  {
   "metadata": {},
   "cell_type": "markdown",
   "source": "### Details",
   "id": "9dcd942cb40fc703"
  },
  {
   "metadata": {
    "ExecuteTime": {
     "end_time": "2024-05-31T10:04:30.541996Z",
     "start_time": "2024-05-31T10:04:30.533314Z"
    }
   },
   "cell_type": "code",
   "source": [
    "def normalize_label(label):\n",
    "    return unidecode.unidecode(label).strip().replace(' ', '_').replace(\"'\", \"\")\n",
    "\n",
    "def extract_vehicle_resume(soup):\n",
    "    resume_div = soup.find('div', id='resume')\n",
    "\n",
    "    details = {}\n",
    "    # Extraire les informations détaillées\n",
    "    info_lines = resume_div.find_all('div', class_='ligneInfo')\n",
    "\n",
    "    for line in info_lines:\n",
    "        label = line.find('span', class_='labelInfo').text.strip().lower().replace(' ', '_')\n",
    "        value_element = line.find('span', class_='valeur')\n",
    "\n",
    "        if value_element:\n",
    "            value = ' '.join(value_element.text.split())\n",
    "        else:\n",
    "            value = '-'\n",
    "\n",
    "        details[normalize_label(label).upper()] = value\n",
    "\n",
    "    return details"
   ],
   "id": "19ddd49b0a4a2fc1",
   "outputs": [],
   "execution_count": 17
  },
  {
   "metadata": {
    "ExecuteTime": {
     "end_time": "2024-05-30T08:35:43.584989Z",
     "start_time": "2024-05-30T08:35:43.572724Z"
    }
   },
   "cell_type": "code",
   "source": [
    "vehicle_resume = extract_vehicle_resume(soup)\n",
    "vehicle_resume"
   ],
   "id": "3b89d53be7c2093",
   "outputs": [
    {
     "data": {
      "text/plain": [
       "{'ENERGIE': 'Diesel',\n",
       " 'PUISSANCE_COMMERCIALE': 'nc',\n",
       " 'PUISSANCE_FISCALE': '15 CV',\n",
       " 'CONSOMMATION_MIXTE': '8,2 L/100 Km',\n",
       " 'EMISSION_DE_CO2': '217 g/km F',\n",
       " 'BOITE_DE_VITESSES': 'Automatique',\n",
       " 'CARROSSERIE': '4*4/SUV/Crossovers',\n",
       " 'DATE_DE_FIN_DE_COMMERCIALISATION': '02/06/2010'}"
      ]
     },
     "execution_count": 18,
     "metadata": {},
     "output_type": "execute_result"
    }
   ],
   "execution_count": 18
  },
  {
   "metadata": {
    "ExecuteTime": {
     "end_time": "2024-05-30T08:35:47.365164Z",
     "start_time": "2024-05-30T08:35:47.359683Z"
    }
   },
   "cell_type": "code",
   "source": [
    "resume = {\n",
    "    'Vehicule Resume': [vehicle_resume],\n",
    "}\n",
    "resume"
   ],
   "id": "ab097fbc1b2a3a05",
   "outputs": [
    {
     "data": {
      "text/plain": [
       "{'Vehicule Resume': [{'ENERGIE': 'Diesel',\n",
       "   'PUISSANCE_COMMERCIALE': 'nc',\n",
       "   'PUISSANCE_FISCALE': '15 CV',\n",
       "   'CONSOMMATION_MIXTE': '8,2 L/100 Km',\n",
       "   'EMISSION_DE_CO2': '217 g/km F',\n",
       "   'BOITE_DE_VITESSES': 'Automatique',\n",
       "   'CARROSSERIE': '4*4/SUV/Crossovers',\n",
       "   'DATE_DE_FIN_DE_COMMERCIALISATION': '02/06/2010'}]}"
      ]
     },
     "execution_count": 19,
     "metadata": {},
     "output_type": "execute_result"
    }
   ],
   "execution_count": 19
  },
  {
   "metadata": {
    "ExecuteTime": {
     "end_time": "2024-05-30T08:36:07.335693Z",
     "start_time": "2024-05-30T08:36:07.326707Z"
    }
   },
   "cell_type": "code",
   "source": [
    "df_resume = pd.DataFrame(resume)\n",
    "df_resume"
   ],
   "id": "e23aaeb68e6f1951",
   "outputs": [
    {
     "data": {
      "text/plain": [
       "                                     Vehicule Resume\n",
       "0  {'ENERGIE': 'Diesel', 'PUISSANCE_COMMERCIALE':..."
      ],
      "text/html": [
       "<div>\n",
       "<style scoped>\n",
       "    .dataframe tbody tr th:only-of-type {\n",
       "        vertical-align: middle;\n",
       "    }\n",
       "\n",
       "    .dataframe tbody tr th {\n",
       "        vertical-align: top;\n",
       "    }\n",
       "\n",
       "    .dataframe thead th {\n",
       "        text-align: right;\n",
       "    }\n",
       "</style>\n",
       "<table border=\"1\" class=\"dataframe\">\n",
       "  <thead>\n",
       "    <tr style=\"text-align: right;\">\n",
       "      <th></th>\n",
       "      <th>Vehicule Resume</th>\n",
       "    </tr>\n",
       "  </thead>\n",
       "  <tbody>\n",
       "    <tr>\n",
       "      <th>0</th>\n",
       "      <td>{'ENERGIE': 'Diesel', 'PUISSANCE_COMMERCIALE':...</td>\n",
       "    </tr>\n",
       "  </tbody>\n",
       "</table>\n",
       "</div>"
      ]
     },
     "execution_count": 20,
     "metadata": {},
     "output_type": "execute_result"
    }
   ],
   "execution_count": 20
  },
  {
   "metadata": {},
   "cell_type": "markdown",
   "source": "### Fonctions d'extraction par sous-titre",
   "id": "e213b87da738587e"
  },
  {
   "metadata": {
    "ExecuteTime": {
     "end_time": "2024-05-31T10:04:26.615161Z",
     "start_time": "2024-05-31T10:04:26.601041Z"
    }
   },
   "cell_type": "code",
   "source": [
    "def extract_dimensions(soup):\n",
    "    dimensions = {}\n",
    "    dimensions_div = soup.find_all('div', class_='panel-dimPoids')\n",
    "    if dimensions_div:\n",
    "        for div in dimensions_div:\n",
    "            if div.find('h3', class_='sous-titre').text.strip().upper() == \"DIMENSIONS\":\n",
    "                dimension_lines = div.find_all('div', class_='ligneInfo')\n",
    "                for line_div in dimension_lines:\n",
    "                    label = line_div.find('span', class_='labelInfo').text.strip().lower().replace(' ', '_')\n",
    "                    value = ' '.join(line_div.find('span', class_='valeur').text.split())\n",
    "                    dimensions[normalize_label(label).upper()] = value\n",
    "        return dimensions\n",
    "\n",
    "def extract_weight(soup):\n",
    "    weights = {}\n",
    "    weight_divs = soup.find_all('div', class_='panel-dimPoids')\n",
    "    for div in weight_divs:\n",
    "        if div.find('h3', class_='sous-titre').text.strip().lower() == \"poids\":\n",
    "            weight_lines = div.find_all('div', class_='ligneInfo')\n",
    "            for line in weight_lines:\n",
    "                label = line.find('span', class_='labelInfo').text.strip().lower().replace(' ', '_')\n",
    "                value = ' '.join(line.find('span', class_='valeur').text.split())\n",
    "                weights[normalize_label(label).upper()] = value\n",
    "    return weights\n",
    "\n",
    "def extract_habitability(soup):\n",
    "    habitability = {}\n",
    "    habitability_divs = soup.find_all('div', class_='panel-dimPoids')\n",
    "    for div in habitability_divs:\n",
    "        if div.find('h3', class_='sous-titre').text.strip().lower() == \"habitabilité\":\n",
    "            habitability_lines = div.find_all('div', class_='ligneInfo')\n",
    "            for line in habitability_lines:\n",
    "                label = line.find('span', class_='labelInfo').text.strip().lower().replace(' ', '_')\n",
    "                value = ' '.join(line.find('span', class_='valeur').text.split())\n",
    "                habitability[normalize_label(label).upper()] = value\n",
    "    return habitability\n",
    "\n",
    "def extract_tires(soup):\n",
    "    tires = {}\n",
    "    tires_divs = soup.find_all('div', class_='panel-dimPoids')\n",
    "    for div in tires_divs:\n",
    "        if div.find('h3', class_='sous-titre').text.strip().lower() == \"pneumatiques\":\n",
    "            tires_lines = div.find_all('div', class_='ligneInfo')\n",
    "            for line in tires_lines:\n",
    "                label = line.find('span', class_='labelInfo').text.strip().lower().replace(' ', '_')\n",
    "                value = ' '.join(line.find('span', class_='valeur').text.split())\n",
    "                tires[normalize_label(label).upper()] = value\n",
    "    return tires\n",
    "\n",
    "def extract_vehicle_details(soup):\n",
    "    return [extract_dimensions(soup), extract_weight(soup), extract_habitability(soup), extract_tires(soup)]"
   ],
   "id": "59858df09f3c9dd3",
   "outputs": [],
   "execution_count": 16
  },
  {
   "metadata": {
    "ExecuteTime": {
     "end_time": "2024-05-30T14:05:35.921466Z",
     "start_time": "2024-05-30T14:05:35.881424Z"
    }
   },
   "cell_type": "code",
   "source": [
    "vehicle_details = extract_vehicle_details(soup)\n",
    "vehicle_details"
   ],
   "id": "bce50db2ab2fd5e1",
   "outputs": [
    {
     "data": {
      "text/plain": [
       "[{'LONGUEUR': '4,88 m',\n",
       "  'LARGEUR': '1,98 m',\n",
       "  'HAUTEUR': '1,69 m',\n",
       "  'EMPATTEMENT': '2,93 m',\n",
       "  'RESERVOIR': '85 l',\n",
       "  'VOIES_AVANT': '1,644 m',\n",
       "  'VOIES_ARRIERE': '1,706 m'},\n",
       " {'POIDS_A_VIDE': '2 150 kg',\n",
       "  'PTAC': '2 675 kg',\n",
       "  'CHARGE_UTILE': '600 kg',\n",
       "  'POIDS_TRACTE_FREINE': '2 700 kg',\n",
       "  'POIDS_TRACTE_NON_FREINE': '750 kg'},\n",
       " {'NOMBRE_DE_PLACES': '4',\n",
       "  'VOLUME_DE_COFFRE': '570 l',\n",
       "  'VOLUME_DE_COFFRE_UTILE': '1 450 l'},\n",
       " {'TYPES_DE_PNEUMATIQUES': 'Classique',\n",
       "  'MATERIAU_DES_JANTES': 'Aluminium',\n",
       "  'TAILLE_DES_ROUES_AVANT': '275/40 R20',\n",
       "  'TAILLE_DES_ROUES_ARRIERE': '275/40 R20'}]"
      ]
     },
     "execution_count": 83,
     "metadata": {},
     "output_type": "execute_result"
    }
   ],
   "execution_count": 83
  },
  {
   "metadata": {
    "ExecuteTime": {
     "end_time": "2024-05-30T11:08:14.998142Z",
     "start_time": "2024-05-30T11:08:14.986132Z"
    }
   },
   "cell_type": "code",
   "source": [
    "df_vehicle_details = pd.DataFrame(vehicle_details)\n",
    "df_vehicle_details"
   ],
   "id": "7e7e2bb1753bea8b",
   "outputs": [
    {
     "data": {
      "text/plain": [
       "                                          Dimensions  \\\n",
       "0  {'LONGUEUR': '4,88 m', 'LARGEUR': '1,98 m', 'H...   \n",
       "\n",
       "                                              Weight  \\\n",
       "0  {'POIDS_A_VIDE': '2 150 kg', 'PTAC': '2 675 kg...   \n",
       "\n",
       "                                        Habitability  \\\n",
       "0  {'NOMBRE_DE_PLACES': '4', 'VOLUME_DE_COFFRE': ...   \n",
       "\n",
       "                                               Tires  \n",
       "0  {'TYPES_DE_PNEUMATIQUES': 'Classique', 'MATERI...  "
      ],
      "text/html": [
       "<div>\n",
       "<style scoped>\n",
       "    .dataframe tbody tr th:only-of-type {\n",
       "        vertical-align: middle;\n",
       "    }\n",
       "\n",
       "    .dataframe tbody tr th {\n",
       "        vertical-align: top;\n",
       "    }\n",
       "\n",
       "    .dataframe thead th {\n",
       "        text-align: right;\n",
       "    }\n",
       "</style>\n",
       "<table border=\"1\" class=\"dataframe\">\n",
       "  <thead>\n",
       "    <tr style=\"text-align: right;\">\n",
       "      <th></th>\n",
       "      <th>Dimensions</th>\n",
       "      <th>Weight</th>\n",
       "      <th>Habitability</th>\n",
       "      <th>Tires</th>\n",
       "    </tr>\n",
       "  </thead>\n",
       "  <tbody>\n",
       "    <tr>\n",
       "      <th>0</th>\n",
       "      <td>{'LONGUEUR': '4,88 m', 'LARGEUR': '1,98 m', 'H...</td>\n",
       "      <td>{'POIDS_A_VIDE': '2 150 kg', 'PTAC': '2 675 kg...</td>\n",
       "      <td>{'NOMBRE_DE_PLACES': '4', 'VOLUME_DE_COFFRE': ...</td>\n",
       "      <td>{'TYPES_DE_PNEUMATIQUES': 'Classique', 'MATERI...</td>\n",
       "    </tr>\n",
       "  </tbody>\n",
       "</table>\n",
       "</div>"
      ]
     },
     "execution_count": 76,
     "metadata": {},
     "output_type": "execute_result"
    }
   ],
   "execution_count": 76
  },
  {
   "metadata": {},
   "cell_type": "markdown",
   "source": "### Caractéristiques Techniques",
   "id": "b9e4cc63d9ef5b50"
  },
  {
   "metadata": {
    "ExecuteTime": {
     "end_time": "2024-05-31T10:04:22.759626Z",
     "start_time": "2024-05-31T10:04:22.746467Z"
    }
   },
   "cell_type": "code",
   "source": [
    "def extract_engine_details(soup):\n",
    "    engine_details = {}\n",
    "    engine_div = soup.find('h3', class_='sous-titre', string='Moteur').find_next('div', class_='conteneur-infosFT')\n",
    "    if engine_div:\n",
    "        engine_lines = engine_div.find_all('div', class_='ligneInfo')\n",
    "        for line in engine_lines:\n",
    "            label = line.find('span', class_='labelInfo').text\n",
    "            value = ' '.join(line.find('span', class_='valeur').text.split())\n",
    "            engine_details[normalize_label(label).upper()] = value\n",
    "    return engine_details\n",
    "\n",
    "def extract_transmission_details(soup):\n",
    "    transmission_details = {}\n",
    "    transmission_div = soup.find('h3', class_='sous-titre', string='Transmission').find_next('div', class_='conteneur-infosFT')\n",
    "    if transmission_div:\n",
    "        transmission_lines = transmission_div.find_all('div', class_='ligneInfo')\n",
    "        for line in transmission_lines:\n",
    "            label = line.find('span', class_='labelInfo').text\n",
    "            value = ' '.join(line.find('span', class_='valeur').text.split())\n",
    "            transmission_details[normalize_label(label).upper()] = value\n",
    "    return transmission_details\n",
    "\n",
    "def extract_technical_details(soup):\n",
    "    technical_details = {}\n",
    "    technical_div = soup.find('h3', class_='sous-titre', string='Technique').find_next('div', class_='conteneur-infosFT')\n",
    "    if technical_div:\n",
    "        technical_lines = technical_div.find_all('div', class_='ligneInfo')\n",
    "        for line in technical_lines:\n",
    "            label = line.find('span', class_='labelInfo').text\n",
    "            value = ' '.join(line.find('span', class_='valeur').text.split())\n",
    "            technical_details[normalize_label(label).upper()] = value\n",
    "    return technical_details\n",
    "\n",
    "def extract_vehicle_characteristics(soup):\n",
    "    characteristics = {\n",
    "        'Engine': [extract_engine_details(soup)],\n",
    "        'Transmission': [extract_transmission_details(soup)],\n",
    "        'Technical': [extract_technical_details(soup)],\n",
    "    }\n",
    "    return characteristics"
   ],
   "id": "5568c3b70eb31885",
   "outputs": [],
   "execution_count": 15
  },
  {
   "metadata": {
    "ExecuteTime": {
     "end_time": "2024-05-30T08:37:06.939933Z",
     "start_time": "2024-05-30T08:37:06.923452Z"
    }
   },
   "cell_type": "code",
   "source": [
    "vehicle_characteristics = extract_vehicle_characteristics(soup)\n",
    "vehicle_characteristics"
   ],
   "id": "fe919b3b1b2bc120",
   "outputs": [
    {
     "data": {
      "text/plain": [
       "{'Engine': [{'NOM_DU_MOTEUR': '3.0d235',\n",
       "   'ENERGIE': 'Diesel',\n",
       "   'ARCHITECTURE': 'Six cylindres en ligne',\n",
       "   'ALIMENTATION': 'Turbo à géométrie variable',\n",
       "   'INJECTION': 'Injection directe à rampe commune',\n",
       "   'CYLINDREE': '2 993 cm³',\n",
       "   'PUISSANCE_REELLE_MAXI': '235 ch / 173 kW',\n",
       "   'AU_REGIME_DE': '2 000 tr/min',\n",
       "   'COUPLE_MAXI': '520 Nm',\n",
       "   'NOMBRE_DE_SOUPAPES': '24',\n",
       "   'ALESAGE/COURSE': '84 x 90',\n",
       "   'RAPPORT_VOLUMETRIQUE': '17,0 : 1',\n",
       "   'NORME_ANTI-POLLUTION': 'Euro 4',\n",
       "   'DISPOSITION_DU_MOTEUR': 'Longitudinale Avant'}],\n",
       " 'Transmission': [{'BOITE_DE_VITESSES': 'Automatique 6 rapports',\n",
       "   'MODE_DE_TRANSMISSION': 'Transmission Intégrale'}],\n",
       " 'Technical': [{'TYPE_DE_CHASSIS': 'Monocoque',\n",
       "   'MATERIAU_DU_CHASSIS': 'Acier',\n",
       "   'DIRECTION_ASSISTEE': 'Oui',\n",
       "   'TYPE_DE_DIRECTION': 'A crémaillère',\n",
       "   'TYPE_DASSISTANCE': 'A assitance variable',\n",
       "   'DIAMETRE_DE_BRAQUAGE_(MUR)': '12,8 m',\n",
       "   'TYPE_DE_SUSPENSION_AVANT': 'essieu à doubles triangles; train avant à bras oscillants transversaux',\n",
       "   'TYPE_DE_SUSPENSION_ARRIERE': 'essieu intégral; suspension à effet tridimensionnel; effet anticabrage et antiplongée'}]}"
      ]
     },
     "execution_count": 25,
     "metadata": {},
     "output_type": "execute_result"
    }
   ],
   "execution_count": 25
  },
  {
   "metadata": {
    "ExecuteTime": {
     "end_time": "2024-05-30T08:37:10.652054Z",
     "start_time": "2024-05-30T08:37:10.639418Z"
    }
   },
   "cell_type": "code",
   "source": [
    "df_vehicle_characteristics = pd.DataFrame(vehicle_characteristics)\n",
    "df_vehicle_characteristics"
   ],
   "id": "9310cf27ba7816aa",
   "outputs": [
    {
     "data": {
      "text/plain": [
       "                                              Engine  \\\n",
       "0  {'NOM_DU_MOTEUR': '3.0d235', 'ENERGIE': 'Diese...   \n",
       "\n",
       "                                        Transmission  \\\n",
       "0  {'BOITE_DE_VITESSES': 'Automatique 6 rapports'...   \n",
       "\n",
       "                                           Technical  \n",
       "0  {'TYPE_DE_CHASSIS': 'Monocoque', 'MATERIAU_DU_...  "
      ],
      "text/html": [
       "<div>\n",
       "<style scoped>\n",
       "    .dataframe tbody tr th:only-of-type {\n",
       "        vertical-align: middle;\n",
       "    }\n",
       "\n",
       "    .dataframe tbody tr th {\n",
       "        vertical-align: top;\n",
       "    }\n",
       "\n",
       "    .dataframe thead th {\n",
       "        text-align: right;\n",
       "    }\n",
       "</style>\n",
       "<table border=\"1\" class=\"dataframe\">\n",
       "  <thead>\n",
       "    <tr style=\"text-align: right;\">\n",
       "      <th></th>\n",
       "      <th>Engine</th>\n",
       "      <th>Transmission</th>\n",
       "      <th>Technical</th>\n",
       "    </tr>\n",
       "  </thead>\n",
       "  <tbody>\n",
       "    <tr>\n",
       "      <th>0</th>\n",
       "      <td>{'NOM_DU_MOTEUR': '3.0d235', 'ENERGIE': 'Diese...</td>\n",
       "      <td>{'BOITE_DE_VITESSES': 'Automatique 6 rapports'...</td>\n",
       "      <td>{'TYPE_DE_CHASSIS': 'Monocoque', 'MATERIAU_DU_...</td>\n",
       "    </tr>\n",
       "  </tbody>\n",
       "</table>\n",
       "</div>"
      ]
     },
     "execution_count": 26,
     "metadata": {},
     "output_type": "execute_result"
    }
   ],
   "execution_count": 26
  },
  {
   "metadata": {},
   "cell_type": "markdown",
   "source": "### Performances et les consommations du véhicule",
   "id": "d8c211303a27f28a"
  },
  {
   "metadata": {
    "ExecuteTime": {
     "end_time": "2024-05-31T10:04:18.337595Z",
     "start_time": "2024-05-31T10:04:18.327831Z"
    }
   },
   "cell_type": "code",
   "source": [
    "def extract_performance(soup):\n",
    "    performance_div = soup.find('div', class_='panel-heading', id='titre-pc')\n",
    "    if performance_div:\n",
    "        _div = performance_div.find_next_sibling('div', class_='panel-collapse').find('h3', string='Performances')\n",
    "        if _div:\n",
    "            performance_div = _div.find_next_sibling('div', class_='conteneur-infosFT')\n",
    "            if performance_div:\n",
    "                performance_data = {}\n",
    "                for info in performance_div.find_all('div', class_='ligneInfo'):\n",
    "                    label = info.find('span', class_='labelInfo').text.strip()\n",
    "                    value = info.find('span', class_='valeur').text.strip()\n",
    "                    performance_data[normalize_label(label).upper()] = value\n",
    "                return performance_data\n",
    "    return None\n",
    "\n",
    "def extract_consumption(soup):\n",
    "    consumption_div = soup.find('div', class_='panel-heading', id='titre-pc')\n",
    "    if consumption_div:\n",
    "        _div = consumption_div.find_next_sibling('div', class_='panel-collapse').find('h3', string='Consommations')\n",
    "        if _div:\n",
    "            consumption_div = _div.find_next('div', class_='conteneur-infosFT')\n",
    "            if consumption_div:\n",
    "                consumption_data = {}\n",
    "                for info in consumption_div.find_all('div', class_='ligneInfo'):\n",
    "                    label = info.find('span', class_='labelInfo').text.strip()\n",
    "                    value = info.find('span', class_='valeur').text.strip()\n",
    "                    consumption_data[normalize_label(label).upper()] = value\n",
    "                return consumption_data\n",
    "    return None"
   ],
   "id": "ff9661b01cf09c90",
   "outputs": [],
   "execution_count": 14
  },
  {
   "metadata": {
    "ExecuteTime": {
     "end_time": "2024-05-30T08:37:29.208139Z",
     "start_time": "2024-05-30T08:37:29.195082Z"
    }
   },
   "cell_type": "code",
   "source": [
    "performance_data = extract_performance(soup)\n",
    "consumption_data = extract_consumption(soup)"
   ],
   "id": "31f3fc2a65b8908a",
   "outputs": [],
   "execution_count": 28
  },
  {
   "metadata": {
    "ExecuteTime": {
     "end_time": "2024-05-30T08:37:32.197758Z",
     "start_time": "2024-05-30T08:37:32.192195Z"
    }
   },
   "cell_type": "code",
   "source": [
    "performance_and_consumption = {\n",
    "    'Performance': [performance_data],\n",
    "    'Consumption': [consumption_data]\n",
    "}\n",
    "\n",
    "performance_and_consumption"
   ],
   "id": "a4bf145502eb0c00",
   "outputs": [
    {
     "data": {
      "text/plain": [
       "{'Performance': [{'VITESSE_MAXIMALE': '210 km/h',\n",
       "   '0_A_100_KM/H': '8,0 s',\n",
       "   '0_A_1000_M_DA': '29,1 s'}],\n",
       " 'Consumption': [{'CYCLE_URBAIN': '10,4 L/100km',\n",
       "   'EXTRA_URBAIN': '7,0 L/100km',\n",
       "   'MIXTE': '8,2 L/100km',\n",
       "   'EMISSION_DE_CO2': '217 g/km'}]}"
      ]
     },
     "execution_count": 29,
     "metadata": {},
     "output_type": "execute_result"
    }
   ],
   "execution_count": 29
  },
  {
   "metadata": {
    "ExecuteTime": {
     "end_time": "2024-05-30T08:37:37.509651Z",
     "start_time": "2024-05-30T08:37:37.500905Z"
    }
   },
   "cell_type": "code",
   "source": [
    "df_performance_and_consumption = pd.DataFrame(performance_and_consumption)\n",
    "df_performance_and_consumption"
   ],
   "id": "1a26c70670f7b3d2",
   "outputs": [
    {
     "data": {
      "text/plain": [
       "                                         Performance  \\\n",
       "0  {'VITESSE_MAXIMALE': '210 km/h', '0_A_100_KM/H...   \n",
       "\n",
       "                                         Consumption  \n",
       "0  {'CYCLE_URBAIN': '10,4 L/100km', 'EXTRA_URBAIN...  "
      ],
      "text/html": [
       "<div>\n",
       "<style scoped>\n",
       "    .dataframe tbody tr th:only-of-type {\n",
       "        vertical-align: middle;\n",
       "    }\n",
       "\n",
       "    .dataframe tbody tr th {\n",
       "        vertical-align: top;\n",
       "    }\n",
       "\n",
       "    .dataframe thead th {\n",
       "        text-align: right;\n",
       "    }\n",
       "</style>\n",
       "<table border=\"1\" class=\"dataframe\">\n",
       "  <thead>\n",
       "    <tr style=\"text-align: right;\">\n",
       "      <th></th>\n",
       "      <th>Performance</th>\n",
       "      <th>Consumption</th>\n",
       "    </tr>\n",
       "  </thead>\n",
       "  <tbody>\n",
       "    <tr>\n",
       "      <th>0</th>\n",
       "      <td>{'VITESSE_MAXIMALE': '210 km/h', '0_A_100_KM/H...</td>\n",
       "      <td>{'CYCLE_URBAIN': '10,4 L/100km', 'EXTRA_URBAIN...</td>\n",
       "    </tr>\n",
       "  </tbody>\n",
       "</table>\n",
       "</div>"
      ]
     },
     "execution_count": 30,
     "metadata": {},
     "output_type": "execute_result"
    }
   ],
   "execution_count": 30
  },
  {
   "metadata": {
    "ExecuteTime": {
     "end_time": "2024-05-31T10:04:13.948088Z",
     "start_time": "2024-05-31T10:04:13.940897Z"
    }
   },
   "cell_type": "code",
   "source": [
    "def combine_dataframes(fiche_technical_detail):\n",
    "    df_fiche_technical_detail = pd.concat(fiche_technical_detail, ignore_index=False, axis=1)\n",
    "    return df_fiche_technical_detail"
   ],
   "id": "7c1ff89231ace67b",
   "outputs": [],
   "execution_count": 13
  },
  {
   "metadata": {
    "ExecuteTime": {
     "end_time": "2024-05-30T09:04:32.679027Z",
     "start_time": "2024-05-30T09:04:32.676164Z"
    }
   },
   "cell_type": "code",
   "source": [
    "fiche_technical_details = [\n",
    "    df_data_header,\n",
    "    df_resume,\n",
    "    df_vehicle_details,\n",
    "    df_vehicle_characteristics,\n",
    "    df_performance_and_consumption,\n",
    "    df_gallery\n",
    "]"
   ],
   "id": "6b6d1589ce12125d",
   "outputs": [],
   "execution_count": 54
  },
  {
   "metadata": {
    "ExecuteTime": {
     "end_time": "2024-05-30T09:05:00.167958Z",
     "start_time": "2024-05-30T09:05:00.142606Z"
    }
   },
   "cell_type": "code",
   "source": [
    "df_fiche_technical_details = combine_dataframes(fiche_technical_details)\n",
    "df_fiche_technical_details.head()"
   ],
   "id": "4321f4bb8f546e10",
   "outputs": [
    {
     "data": {
      "text/plain": [
       "                               Vehicule     Date      Prix  \\\n",
       "0  BMW X6 I (E71) 3.0dA 235ch Exclusive  06-2008  74 550 €   \n",
       "\n",
       "                                     Vehicule Resume  \\\n",
       "0  {'ENERGIE': 'Diesel', 'PUISSANCE_COMMERCIALE':...   \n",
       "\n",
       "                                          Dimensions  \\\n",
       "0  {'LONGUEUR': '4,88 m', 'LARGEUR': '1,98 m', 'H...   \n",
       "\n",
       "                                              Weight  \\\n",
       "0  {'POIDS_A_VIDE': '2 150 kg', 'PTAC': '2 675 kg...   \n",
       "\n",
       "                                        Habitability  \\\n",
       "0  {'NOMBRE_DE_PLACES': '4', 'VOLUME_DE_COFFRE': ...   \n",
       "\n",
       "                                               Tires  \\\n",
       "0  {'TYPES_DE_PNEUMATIQUES': 'Classique', 'MATERI...   \n",
       "\n",
       "                                              Engine  \\\n",
       "0  {'NOM_DU_MOTEUR': '3.0d235', 'ENERGIE': 'Diese...   \n",
       "\n",
       "                                        Transmission  \\\n",
       "0  {'BOITE_DE_VITESSES': 'Automatique 6 rapports'...   \n",
       "\n",
       "                                           Technical  \\\n",
       "0  {'TYPE_DE_CHASSIS': 'Monocoque', 'MATERIAU_DU_...   \n",
       "\n",
       "                                         Performance  \\\n",
       "0  {'VITESSE_MAXIMALE': '210 km/h', '0_A_100_KM/H...   \n",
       "\n",
       "                                         Consumption  \\\n",
       "0  {'CYCLE_URBAIN': '10,4 L/100km', 'EXTRA_URBAIN...   \n",
       "\n",
       "                                      Gallery Images  \n",
       "0  [https://www.largus.fr/images/photos/rsi/_G_JP...  "
      ],
      "text/html": [
       "<div>\n",
       "<style scoped>\n",
       "    .dataframe tbody tr th:only-of-type {\n",
       "        vertical-align: middle;\n",
       "    }\n",
       "\n",
       "    .dataframe tbody tr th {\n",
       "        vertical-align: top;\n",
       "    }\n",
       "\n",
       "    .dataframe thead th {\n",
       "        text-align: right;\n",
       "    }\n",
       "</style>\n",
       "<table border=\"1\" class=\"dataframe\">\n",
       "  <thead>\n",
       "    <tr style=\"text-align: right;\">\n",
       "      <th></th>\n",
       "      <th>Vehicule</th>\n",
       "      <th>Date</th>\n",
       "      <th>Prix</th>\n",
       "      <th>Vehicule Resume</th>\n",
       "      <th>Dimensions</th>\n",
       "      <th>Weight</th>\n",
       "      <th>Habitability</th>\n",
       "      <th>Tires</th>\n",
       "      <th>Engine</th>\n",
       "      <th>Transmission</th>\n",
       "      <th>Technical</th>\n",
       "      <th>Performance</th>\n",
       "      <th>Consumption</th>\n",
       "      <th>Gallery Images</th>\n",
       "    </tr>\n",
       "  </thead>\n",
       "  <tbody>\n",
       "    <tr>\n",
       "      <th>0</th>\n",
       "      <td>BMW X6 I (E71) 3.0dA 235ch Exclusive</td>\n",
       "      <td>06-2008</td>\n",
       "      <td>74 550 €</td>\n",
       "      <td>{'ENERGIE': 'Diesel', 'PUISSANCE_COMMERCIALE':...</td>\n",
       "      <td>{'LONGUEUR': '4,88 m', 'LARGEUR': '1,98 m', 'H...</td>\n",
       "      <td>{'POIDS_A_VIDE': '2 150 kg', 'PTAC': '2 675 kg...</td>\n",
       "      <td>{'NOMBRE_DE_PLACES': '4', 'VOLUME_DE_COFFRE': ...</td>\n",
       "      <td>{'TYPES_DE_PNEUMATIQUES': 'Classique', 'MATERI...</td>\n",
       "      <td>{'NOM_DU_MOTEUR': '3.0d235', 'ENERGIE': 'Diese...</td>\n",
       "      <td>{'BOITE_DE_VITESSES': 'Automatique 6 rapports'...</td>\n",
       "      <td>{'TYPE_DE_CHASSIS': 'Monocoque', 'MATERIAU_DU_...</td>\n",
       "      <td>{'VITESSE_MAXIMALE': '210 km/h', '0_A_100_KM/H...</td>\n",
       "      <td>{'CYCLE_URBAIN': '10,4 L/100km', 'EXTRA_URBAIN...</td>\n",
       "      <td>[https://www.largus.fr/images/photos/rsi/_G_JP...</td>\n",
       "    </tr>\n",
       "  </tbody>\n",
       "</table>\n",
       "</div>"
      ]
     },
     "execution_count": 57,
     "metadata": {},
     "output_type": "execute_result"
    }
   ],
   "execution_count": 57
  },
  {
   "metadata": {
    "ExecuteTime": {
     "end_time": "2024-05-30T09:05:24.409689Z",
     "start_time": "2024-05-30T09:05:24.405545Z"
    }
   },
   "cell_type": "code",
   "source": "df_fiche_technical_details.shape",
   "id": "f2b09ee0bf29879c",
   "outputs": [
    {
     "data": {
      "text/plain": [
       "(1, 14)"
      ]
     },
     "execution_count": 58,
     "metadata": {},
     "output_type": "execute_result"
    }
   ],
   "execution_count": 58
  },
  {
   "metadata": {
    "ExecuteTime": {
     "end_time": "2024-05-31T10:38:02.180274Z",
     "start_time": "2024-05-31T10:38:02.148224Z"
    }
   },
   "cell_type": "code",
   "source": [
    "def read_csv_files_from_directory(root_dir):\n",
    "    all_dataframes = []\n",
    "\n",
    "    # Parcours du répertoire racine et de ses sous-répertoires\n",
    "    for dirpath, _, filenames in os.walk(root_dir):\n",
    "        for filename in filenames:\n",
    "            if filename.endswith('.csv'):\n",
    "                file_path = os.path.join(dirpath, filename)\n",
    "                try:\n",
    "                    _df = pd.read_csv(file_path)\n",
    "                    all_dataframes.append(_df)\n",
    "                except Exception as e:\n",
    "                    print(f\"Erreur lors de la lecture de {file_path}: {e}\")\n",
    "\n",
    "    # Concaténer tous les DataFrames en un seul DataFrame\n",
    "    if all_dataframes:\n",
    "        combined_df = pd.concat(all_dataframes, ignore_index=True)\n",
    "    else:\n",
    "        combined_df = pd.DataFrame()\n",
    "\n",
    "    return combined_df"
   ],
   "id": "d0a1eeb431590929",
   "outputs": [],
   "execution_count": 46
  },
  {
   "metadata": {
    "ExecuteTime": {
     "end_time": "2024-05-30T09:07:10.858855Z",
     "start_time": "2024-05-30T09:07:10.848798Z"
    }
   },
   "cell_type": "code",
   "source": "df_fiche_technical_details.to_csv('Fiches Technical Details/fiches_technical_details.csv', index=False)",
   "id": "8294f9ef9c9e50bb",
   "outputs": [],
   "execution_count": 59
  },
  {
   "metadata": {
    "ExecuteTime": {
     "end_time": "2024-05-31T10:39:56.760150Z",
     "start_time": "2024-05-31T10:39:53.292347Z"
    }
   },
   "cell_type": "code",
   "source": [
    "path_version = 'Versions/Bmw'\n",
    "df_versions = read_csv_files_from_directory(path_version)"
   ],
   "id": "97195f8f0f3d8144",
   "outputs": [],
   "execution_count": 47
  },
  {
   "metadata": {
    "ExecuteTime": {
     "end_time": "2024-05-31T10:40:28.015310Z",
     "start_time": "2024-05-31T10:40:28.004325Z"
    }
   },
   "cell_type": "code",
   "source": "df_versions.head()",
   "id": "1b7ed53a720fea3c",
   "outputs": [
    {
     "data": {
      "text/plain": [
       "                              Version Carrosserie  Energie     Boîte  \\\n",
       "0                  I (E36) 2.8i 193ch      Coupés  Essence  Manuelle   \n",
       "1                  I (E36) 3.0i 231ch      Coupés  Essence  Manuelle   \n",
       "2                  I (E36) 2.8i 193ch      Coupés  Essence  Manuelle   \n",
       "3                  I (E36) 3.0i 231ch      Coupés  Essence  Manuelle   \n",
       "4  I (F34) 318d 150ch Business Lounge    Berlines   Diesel  Manuelle   \n",
       "\n",
       "  Puissance Fiscale                                                Url  Année  \\\n",
       "0             13 CV  https://www.largus.fr/fiche-technique/Bmw/Z3+C...   1999   \n",
       "1             15 CV  https://www.largus.fr/fiche-technique/Bmw/Z3+C...   2001   \n",
       "2             13 CV  https://www.largus.fr/fiche-technique/Bmw/Z3+C...   2000   \n",
       "3             15 CV  https://www.largus.fr/fiche-technique/Bmw/Z3+C...   2002   \n",
       "4              8 CV  https://www.largus.fr/fiche-technique/Bmw/Seri...   2017   \n",
       "\n",
       "  Marque                Modele  \n",
       "0    Bmw                    Z3  \n",
       "1    Bmw                    Z3  \n",
       "2    Bmw                    Z3  \n",
       "3    Bmw                    Z3  \n",
       "4    Bmw  Serie 3 Gran Turismo  "
      ],
      "text/html": [
       "<div>\n",
       "<style scoped>\n",
       "    .dataframe tbody tr th:only-of-type {\n",
       "        vertical-align: middle;\n",
       "    }\n",
       "\n",
       "    .dataframe tbody tr th {\n",
       "        vertical-align: top;\n",
       "    }\n",
       "\n",
       "    .dataframe thead th {\n",
       "        text-align: right;\n",
       "    }\n",
       "</style>\n",
       "<table border=\"1\" class=\"dataframe\">\n",
       "  <thead>\n",
       "    <tr style=\"text-align: right;\">\n",
       "      <th></th>\n",
       "      <th>Version</th>\n",
       "      <th>Carrosserie</th>\n",
       "      <th>Energie</th>\n",
       "      <th>Boîte</th>\n",
       "      <th>Puissance Fiscale</th>\n",
       "      <th>Url</th>\n",
       "      <th>Année</th>\n",
       "      <th>Marque</th>\n",
       "      <th>Modele</th>\n",
       "    </tr>\n",
       "  </thead>\n",
       "  <tbody>\n",
       "    <tr>\n",
       "      <th>0</th>\n",
       "      <td>I (E36) 2.8i 193ch</td>\n",
       "      <td>Coupés</td>\n",
       "      <td>Essence</td>\n",
       "      <td>Manuelle</td>\n",
       "      <td>13 CV</td>\n",
       "      <td>https://www.largus.fr/fiche-technique/Bmw/Z3+C...</td>\n",
       "      <td>1999</td>\n",
       "      <td>Bmw</td>\n",
       "      <td>Z3</td>\n",
       "    </tr>\n",
       "    <tr>\n",
       "      <th>1</th>\n",
       "      <td>I (E36) 3.0i 231ch</td>\n",
       "      <td>Coupés</td>\n",
       "      <td>Essence</td>\n",
       "      <td>Manuelle</td>\n",
       "      <td>15 CV</td>\n",
       "      <td>https://www.largus.fr/fiche-technique/Bmw/Z3+C...</td>\n",
       "      <td>2001</td>\n",
       "      <td>Bmw</td>\n",
       "      <td>Z3</td>\n",
       "    </tr>\n",
       "    <tr>\n",
       "      <th>2</th>\n",
       "      <td>I (E36) 2.8i 193ch</td>\n",
       "      <td>Coupés</td>\n",
       "      <td>Essence</td>\n",
       "      <td>Manuelle</td>\n",
       "      <td>13 CV</td>\n",
       "      <td>https://www.largus.fr/fiche-technique/Bmw/Z3+C...</td>\n",
       "      <td>2000</td>\n",
       "      <td>Bmw</td>\n",
       "      <td>Z3</td>\n",
       "    </tr>\n",
       "    <tr>\n",
       "      <th>3</th>\n",
       "      <td>I (E36) 3.0i 231ch</td>\n",
       "      <td>Coupés</td>\n",
       "      <td>Essence</td>\n",
       "      <td>Manuelle</td>\n",
       "      <td>15 CV</td>\n",
       "      <td>https://www.largus.fr/fiche-technique/Bmw/Z3+C...</td>\n",
       "      <td>2002</td>\n",
       "      <td>Bmw</td>\n",
       "      <td>Z3</td>\n",
       "    </tr>\n",
       "    <tr>\n",
       "      <th>4</th>\n",
       "      <td>I (F34) 318d 150ch Business Lounge</td>\n",
       "      <td>Berlines</td>\n",
       "      <td>Diesel</td>\n",
       "      <td>Manuelle</td>\n",
       "      <td>8 CV</td>\n",
       "      <td>https://www.largus.fr/fiche-technique/Bmw/Seri...</td>\n",
       "      <td>2017</td>\n",
       "      <td>Bmw</td>\n",
       "      <td>Serie 3 Gran Turismo</td>\n",
       "    </tr>\n",
       "  </tbody>\n",
       "</table>\n",
       "</div>"
      ]
     },
     "execution_count": 50,
     "metadata": {},
     "output_type": "execute_result"
    }
   ],
   "execution_count": 50
  },
  {
   "metadata": {
    "ExecuteTime": {
     "end_time": "2024-05-31T10:40:46.157949Z",
     "start_time": "2024-05-31T10:40:46.150650Z"
    }
   },
   "cell_type": "code",
   "source": "df_versions.shape",
   "id": "434641ef302f9870",
   "outputs": [
    {
     "data": {
      "text/plain": [
       "(32070, 9)"
      ]
     },
     "execution_count": 51,
     "metadata": {},
     "output_type": "execute_result"
    }
   ],
   "execution_count": 51
  },
  {
   "metadata": {
    "ExecuteTime": {
     "end_time": "2024-05-31T10:44:57.133135Z",
     "start_time": "2024-05-31T10:44:56.780143Z"
    }
   },
   "cell_type": "code",
   "source": "df_versions.to_csv(f\"{path_version}/{df_versions['Marque'][0]}.csv\", index=False)",
   "id": "bdcac20258de54ed",
   "outputs": [],
   "execution_count": 57
  },
  {
   "metadata": {
    "ExecuteTime": {
     "end_time": "2024-05-31T10:41:46.697287Z",
     "start_time": "2024-05-31T10:41:46.692804Z"
    }
   },
   "cell_type": "code",
   "source": [
    "# df_fiche_technical_details['Modele'] = pd.Series(dtype='str')\n",
    "# df_fiche_technical_details['Marque'] = pd.Series(dtype='str')\n",
    "# df_fiche_technical_details['Annee'] = pd.Series(dtype='str')\n",
    "# \n",
    "# for index, row in df_version_bmx.iterrows():\n",
    "#     model = row['Modele']\n",
    "#     mark = row['Marque']\n",
    "#     year = row['Année']\n",
    "# \n",
    "#     df_fiche_technical_details.loc[index, ['Modele', 'Marque', 'Annee']] = [model, mark, year]\n",
    "#     \n",
    "#     break\n",
    "# \n",
    "# df_fiche_technical_details.head()"
   ],
   "id": "38daf0002fd05b65",
   "outputs": [],
   "execution_count": 52
  },
  {
   "metadata": {
    "ExecuteTime": {
     "end_time": "2024-05-31T10:46:57.794218Z",
     "start_time": "2024-05-31T10:46:57.638047Z"
    }
   },
   "cell_type": "code",
   "source": "",
   "id": "55a4961a6a5ca42f",
   "outputs": [],
   "execution_count": 58
  },
  {
   "metadata": {
    "ExecuteTime": {
     "end_time": "2024-05-31T10:47:06.242664Z",
     "start_time": "2024-05-31T10:47:06.231341Z"
    }
   },
   "cell_type": "code",
   "source": "fiche_technical_details.head()",
   "id": "dcfa469b684fc550",
   "outputs": [
    {
     "data": {
      "text/plain": [
       "                              Version Carrosserie  Energie     Boîte  \\\n",
       "0                  I (E36) 2.8i 193ch      Coupés  Essence  Manuelle   \n",
       "1                  I (E36) 3.0i 231ch      Coupés  Essence  Manuelle   \n",
       "2                  I (E36) 2.8i 193ch      Coupés  Essence  Manuelle   \n",
       "3                  I (E36) 3.0i 231ch      Coupés  Essence  Manuelle   \n",
       "4  I (F34) 318d 150ch Business Lounge    Berlines   Diesel  Manuelle   \n",
       "\n",
       "  Puissance Fiscale                                                Url  Année  \\\n",
       "0             13 CV  https://www.largus.fr/fiche-technique/Bmw/Z3+C...   1999   \n",
       "1             15 CV  https://www.largus.fr/fiche-technique/Bmw/Z3+C...   2001   \n",
       "2             13 CV  https://www.largus.fr/fiche-technique/Bmw/Z3+C...   2000   \n",
       "3             15 CV  https://www.largus.fr/fiche-technique/Bmw/Z3+C...   2002   \n",
       "4              8 CV  https://www.largus.fr/fiche-technique/Bmw/Seri...   2017   \n",
       "\n",
       "  Marque                Modele  \n",
       "0    Bmw                    Z3  \n",
       "1    Bmw                    Z3  \n",
       "2    Bmw                    Z3  \n",
       "3    Bmw                    Z3  \n",
       "4    Bmw  Serie 3 Gran Turismo  "
      ],
      "text/html": [
       "<div>\n",
       "<style scoped>\n",
       "    .dataframe tbody tr th:only-of-type {\n",
       "        vertical-align: middle;\n",
       "    }\n",
       "\n",
       "    .dataframe tbody tr th {\n",
       "        vertical-align: top;\n",
       "    }\n",
       "\n",
       "    .dataframe thead th {\n",
       "        text-align: right;\n",
       "    }\n",
       "</style>\n",
       "<table border=\"1\" class=\"dataframe\">\n",
       "  <thead>\n",
       "    <tr style=\"text-align: right;\">\n",
       "      <th></th>\n",
       "      <th>Version</th>\n",
       "      <th>Carrosserie</th>\n",
       "      <th>Energie</th>\n",
       "      <th>Boîte</th>\n",
       "      <th>Puissance Fiscale</th>\n",
       "      <th>Url</th>\n",
       "      <th>Année</th>\n",
       "      <th>Marque</th>\n",
       "      <th>Modele</th>\n",
       "    </tr>\n",
       "  </thead>\n",
       "  <tbody>\n",
       "    <tr>\n",
       "      <th>0</th>\n",
       "      <td>I (E36) 2.8i 193ch</td>\n",
       "      <td>Coupés</td>\n",
       "      <td>Essence</td>\n",
       "      <td>Manuelle</td>\n",
       "      <td>13 CV</td>\n",
       "      <td>https://www.largus.fr/fiche-technique/Bmw/Z3+C...</td>\n",
       "      <td>1999</td>\n",
       "      <td>Bmw</td>\n",
       "      <td>Z3</td>\n",
       "    </tr>\n",
       "    <tr>\n",
       "      <th>1</th>\n",
       "      <td>I (E36) 3.0i 231ch</td>\n",
       "      <td>Coupés</td>\n",
       "      <td>Essence</td>\n",
       "      <td>Manuelle</td>\n",
       "      <td>15 CV</td>\n",
       "      <td>https://www.largus.fr/fiche-technique/Bmw/Z3+C...</td>\n",
       "      <td>2001</td>\n",
       "      <td>Bmw</td>\n",
       "      <td>Z3</td>\n",
       "    </tr>\n",
       "    <tr>\n",
       "      <th>2</th>\n",
       "      <td>I (E36) 2.8i 193ch</td>\n",
       "      <td>Coupés</td>\n",
       "      <td>Essence</td>\n",
       "      <td>Manuelle</td>\n",
       "      <td>13 CV</td>\n",
       "      <td>https://www.largus.fr/fiche-technique/Bmw/Z3+C...</td>\n",
       "      <td>2000</td>\n",
       "      <td>Bmw</td>\n",
       "      <td>Z3</td>\n",
       "    </tr>\n",
       "    <tr>\n",
       "      <th>3</th>\n",
       "      <td>I (E36) 3.0i 231ch</td>\n",
       "      <td>Coupés</td>\n",
       "      <td>Essence</td>\n",
       "      <td>Manuelle</td>\n",
       "      <td>15 CV</td>\n",
       "      <td>https://www.largus.fr/fiche-technique/Bmw/Z3+C...</td>\n",
       "      <td>2002</td>\n",
       "      <td>Bmw</td>\n",
       "      <td>Z3</td>\n",
       "    </tr>\n",
       "    <tr>\n",
       "      <th>4</th>\n",
       "      <td>I (F34) 318d 150ch Business Lounge</td>\n",
       "      <td>Berlines</td>\n",
       "      <td>Diesel</td>\n",
       "      <td>Manuelle</td>\n",
       "      <td>8 CV</td>\n",
       "      <td>https://www.largus.fr/fiche-technique/Bmw/Seri...</td>\n",
       "      <td>2017</td>\n",
       "      <td>Bmw</td>\n",
       "      <td>Serie 3 Gran Turismo</td>\n",
       "    </tr>\n",
       "  </tbody>\n",
       "</table>\n",
       "</div>"
      ]
     },
     "execution_count": 59,
     "metadata": {},
     "output_type": "execute_result"
    }
   ],
   "execution_count": 59
  },
  {
   "metadata": {
    "ExecuteTime": {
     "end_time": "2024-05-31T13:37:06.142455Z",
     "start_time": "2024-05-31T13:37:06.056903Z"
    }
   },
   "cell_type": "code",
   "source": [
    "def generate_immatriculation():\n",
    "    return str(uuid.uuid4())\n",
    "\n",
    "def process_vehicle_data(driver, save_file_path, column_link='Url'):\n",
    "    dataframe = pd.read_csv(save_file_path)\n",
    "   \n",
    "    # Vérifier si la colonne Traiter existe déjà\n",
    "    if 'Traiter' not in dataframe.columns:\n",
    "        dataframe['Traiter'] = 0\n",
    "\n",
    "    filtered_df = dataframe[dataframe['Traiter'] == 1]\n",
    "    treated_links = set(filtered_df[column_link])  # Un ensemble pour stocker les liens déjà traités\n",
    "\n",
    "    counter = 0\n",
    "    details = {\n",
    "        'Marque': [],\n",
    "        'Modele': [],\n",
    "        'Annee': [],\n",
    "        'Vehicule': [],\n",
    "        'Prix': [],\n",
    "        'Date Publication': [],\n",
    "        'Resumer': [],\n",
    "        'Dimensions': [],\n",
    "        'Weight': [],\n",
    "        'Habitability': [],\n",
    "        'Tires': [],\n",
    "        'Engine': [],\n",
    "        'Transmission': [],\n",
    "        'Technical': [],\n",
    "        'Performance': [],\n",
    "        'Consumption': [],\n",
    "        'Gallery Images': [],\n",
    "    }\n",
    "\n",
    "    for index, row in dataframe[len(treated_links):].iterrows():\n",
    "        link_url = row[column_link]\n",
    "\n",
    "        # Vérifier si le lien a déjà été traité\n",
    "        if link_url in treated_links:\n",
    "            continue\n",
    "\n",
    "        model = row['Modele']\n",
    "        mark = row['Marque']\n",
    "        year = row['Année']\n",
    "\n",
    "        \n",
    "        driver.get(link_url)\n",
    "        time.sleep(1)\n",
    "        page_source = driver.page_source\n",
    "        soup = BeautifulSoup(page_source, 'html.parser')\n",
    "\n",
    "        data_header = extract_header_data(soup)\n",
    "        vehicle_resume = extract_vehicle_resume(soup)\n",
    "        vehicle_details = extract_vehicle_details(soup)\n",
    "        vehicle_characteristics = extract_vehicle_characteristics(soup)\n",
    "        performance_data = extract_performance(soup)\n",
    "        consumption_data = extract_consumption(soup)\n",
    "        gallery_images = extract_gallery_images(soup)\n",
    "\n",
    "        details['Marque'].append(mark)\n",
    "        details['Modele'].append(model)\n",
    "        details['Annee'].append(year)\n",
    "        details['Vehicule'].append(data_header[0])\n",
    "        details['Prix'].append(data_header[1])\n",
    "        details['Date Publication'].append(data_header[2])\n",
    "        details['Resumer'].append(vehicle_resume)\n",
    "        details['Dimensions'].append(vehicle_details[0])\n",
    "        details['Weight'].append(vehicle_details[1])\n",
    "        details['Habitability'].append(vehicle_details[2])\n",
    "        details['Tires'].append(vehicle_details[3])\n",
    "        details['Engine'].append(vehicle_characteristics['Engine'])\n",
    "        details['Transmission'].append(vehicle_characteristics['Transmission'])\n",
    "        details['Technical'].append(vehicle_characteristics['Technical'])\n",
    "        details['Performance'].append(performance_data)\n",
    "        details['Consumption'].append(consumption_data)\n",
    "        details['Gallery Images'].append(gallery_images)\n",
    "\n",
    "        dataframe.at[index, 'Traiter'] = 1\n",
    "        treated_links.update(link_url)\n",
    "        counter += 1\n",
    "\n",
    "        print(f\"Waiting for 1 minute before the next URL...{counter}\")\n",
    "        time.sleep(1)\n",
    "\n",
    "        if counter >= 50:\n",
    "            print(f\"Arrêt après {counter} itérations.\")\n",
    "            break\n",
    "\n",
    "    dataframe.to_csv(save_file_path, index=False)\n",
    "\n",
    "    print(f\"Arrêt après {counter} itérations.\")\n",
    "\n",
    "    return details"
   ],
   "id": "c6b013ad41321a21",
   "outputs": [],
   "execution_count": 101
  },
  {
   "metadata": {
    "ExecuteTime": {
     "end_time": "2024-05-31T12:00:17.051175Z",
     "start_time": "2024-05-31T12:00:17.028585Z"
    }
   },
   "cell_type": "code",
   "source": [
    "def process_create_fiche_technical_df(data, folder):\n",
    "    columns = ['Resumer', 'Dimensions', 'Weight', 'Habitability', 'Tires', 'Engine',\n",
    "     'Transmission', 'Technical', 'Performance', 'Consumption']\n",
    "\n",
    "    # Vérifier si le fichier existe et charger les données existantes, sinon créer un DataFrame vide\n",
    "    if os.path.exists(folder):\n",
    "        try:\n",
    "            df_save = pd.read_csv(folder)\n",
    "        except EmptyDataError:\n",
    "            df_save = pd.DataFrame(columns=['Marque', 'Modele', 'Annee', 'Vehicule', 'Prix', 'Date Publication',\n",
    "                                            'Resumer', 'Dimensions', 'Weight', 'Habitability', 'Tires', 'Engine',\n",
    "                                            'Transmission', 'Technical', 'Performance', 'Consumption',\n",
    "                                            'Gallery Images'])\n",
    "    else:\n",
    "        df_save = pd.DataFrame(columns=['Marque', 'Modele', 'Annee', 'Vehicule', 'Prix', 'Date Publication',\n",
    "                                        'Resumer', 'Dimensions', 'Weight', 'Habitability', 'Tires', 'Engine',\n",
    "                                        'Transmission', 'Technical', 'Performance', 'Consumption',\n",
    "                                        'Gallery Images'])\n",
    "        \n",
    "    df_fiche = pd.DataFrame(data)\n",
    "\n",
    "    # Ajouter une colonne Immatriculation avec des valeurs uniques\n",
    "    df_fiche['Immatriculation'] = df_fiche.apply(lambda _: generate_immatriculation(), axis=1)\n",
    "\n",
    "    # Ajouter une colonne object_folder avec le chemin formaté\n",
    "    df_fiche['object_folder'] = df_fiche.apply(\n",
    "        lambda row: f\"Vehiculs/Version/{row['Marque'].capitalize()}/{row['Annee']}/{row['Vehicule'].lower()}\", axis=1\n",
    "    )\n",
    "    \n",
    "    for column in columns:\n",
    "        # Ajouter la clé Immatriculation dans chaque dictionnaire de colonne\n",
    "        df_fiche[column] = df_fiche.apply(\n",
    "            lambda row: {**row[column], 'Immatriculation': row['Immatriculation']} if isinstance(row[column], dict) else row[column], axis=1\n",
    "        )\n",
    "        # Ajouter la clé Object_Folder_{column} dans chaque dictionnaire de colonne\n",
    "        df_fiche[column] = df_fiche.apply(\n",
    "            lambda row: {**row[column], f\"Object_Folder_{column}\": f\"Vehiculs/Models/{row['Marque'].upper()}/{column}\"} if isinstance(row[column], dict) else row[column], axis=1\n",
    "        )\n",
    "\n",
    "    # Concaténer le DataFrame original avec le nouveau DataFrame\n",
    "    df_save = pd.concat([df_save, df_fiche], ignore_index=True)\n",
    "    # Enregistrer le DataFrame concaténé dans le fichier CSV\n",
    "    df_save.to_csv(folder, index=False)\n",
    "    \n",
    "    return df_save"
   ],
   "id": "a8fe3100f5eecb30",
   "outputs": [],
   "execution_count": 94
  },
  {
   "metadata": {
    "ExecuteTime": {
     "end_time": "2024-05-31T14:02:25.491811Z",
     "start_time": "2024-05-31T14:02:25.414935Z"
    }
   },
   "cell_type": "code",
   "source": [
    "from datetime import datetime\n",
    "import time\n",
    "import asyncio\n",
    "import nest_asyncio"
   ],
   "id": "baf714b40b2d1cae",
   "outputs": [],
   "execution_count": 110
  },
  {
   "metadata": {
    "ExecuteTime": {
     "end_time": "2024-05-31T14:02:51.621122Z",
     "start_time": "2024-05-31T14:02:51.610187Z"
    }
   },
   "cell_type": "code",
   "source": [
    "# Appliquer le patch nest_asyncio\n",
    "nest_asyncio.apply()\n",
    "\n",
    "async def process_data(waiting_time):\n",
    "    folder = \"Versions/Bmw/Bmw.csv\"\n",
    "    save_file_path = \"Fiches Technical Details/fiches_technical_details.csv\"\n",
    "\n",
    "    async with True:\n",
    "        start = time.time()\n",
    "        while time.time() <= start + waiting_time * 60:\n",
    "            driver = get_driver()\n",
    "            data = process_vehicle_data(driver, save_file_path)\n",
    "            driver.quit()\n",
    "            \n",
    "            if len(data) > 0:\n",
    "                try:\n",
    "                    process_create_fiche_technical_df(data, folder)\n",
    "                except Exception as e:\n",
    "                    print(f\"Error sending event data batch\")\n",
    "            print(f\"Données traitées et sauvegardées. En attente de {waiting_time} minutes avant la prochaine exécution.\")\n",
    "            await asyncio.sleep(waiting_time * 60)\n",
    "\n",
    "def run(duration, frequency):\n",
    "    start_time = time.time()\n",
    "    while time.time() < start_time + 60 * duration:\n",
    "        asyncio.run(process_data(frequency))\n",
    "\n",
    "def main():\n",
    "    run(duration=30, frequency=5)"
   ],
   "id": "b3f92f11ef93d9d6",
   "outputs": [],
   "execution_count": 112
  },
  {
   "metadata": {
    "ExecuteTime": {
     "end_time": "2024-05-31T14:02:54.575295Z",
     "start_time": "2024-05-31T14:02:54.098496Z"
    }
   },
   "cell_type": "code",
   "source": [
    "if __name__ == \"__main__\":\n",
    "    main()"
   ],
   "id": "73db23a0a1000505",
   "outputs": [
    {
     "name": "stderr",
     "output_type": "stream",
     "text": [
      "/usr/local/Cellar/python@3.11/3.11.8/Frameworks/Python.framework/Versions/3.11/lib/python3.11/ast.py:50: RuntimeWarning: coroutine 'process_data' was never awaited\n",
      "  return compile(source, filename, mode, flags,\n",
      "RuntimeWarning: Enable tracemalloc to get the object allocation traceback\n"
     ]
    },
    {
     "ename": "TypeError",
     "evalue": "'bool' object does not support the asynchronous context manager protocol",
     "output_type": "error",
     "traceback": [
      "\u001B[0;31m---------------------------------------------------------------------------\u001B[0m",
      "\u001B[0;31mTypeError\u001B[0m                                 Traceback (most recent call last)",
      "Cell \u001B[0;32mIn[113], line 2\u001B[0m\n\u001B[1;32m      1\u001B[0m \u001B[38;5;28;01mif\u001B[39;00m \u001B[38;5;18m__name__\u001B[39m \u001B[38;5;241m==\u001B[39m \u001B[38;5;124m\"\u001B[39m\u001B[38;5;124m__main__\u001B[39m\u001B[38;5;124m\"\u001B[39m:\n\u001B[0;32m----> 2\u001B[0m     \u001B[43mmain\u001B[49m\u001B[43m(\u001B[49m\u001B[43m)\u001B[49m\n",
      "Cell \u001B[0;32mIn[112], line 29\u001B[0m, in \u001B[0;36mmain\u001B[0;34m()\u001B[0m\n\u001B[1;32m     28\u001B[0m \u001B[38;5;28;01mdef\u001B[39;00m \u001B[38;5;21mmain\u001B[39m():\n\u001B[0;32m---> 29\u001B[0m     \u001B[43mrun\u001B[49m\u001B[43m(\u001B[49m\u001B[43mduration\u001B[49m\u001B[38;5;241;43m=\u001B[39;49m\u001B[38;5;241;43m30\u001B[39;49m\u001B[43m,\u001B[49m\u001B[43m \u001B[49m\u001B[43mfrequency\u001B[49m\u001B[38;5;241;43m=\u001B[39;49m\u001B[38;5;241;43m5\u001B[39;49m\u001B[43m)\u001B[49m\n",
      "Cell \u001B[0;32mIn[112], line 26\u001B[0m, in \u001B[0;36mrun\u001B[0;34m(duration, frequency)\u001B[0m\n\u001B[1;32m     24\u001B[0m start_time \u001B[38;5;241m=\u001B[39m time\u001B[38;5;241m.\u001B[39mtime()\n\u001B[1;32m     25\u001B[0m \u001B[38;5;28;01mwhile\u001B[39;00m time\u001B[38;5;241m.\u001B[39mtime() \u001B[38;5;241m<\u001B[39m start_time \u001B[38;5;241m+\u001B[39m \u001B[38;5;241m60\u001B[39m \u001B[38;5;241m*\u001B[39m duration:\n\u001B[0;32m---> 26\u001B[0m     \u001B[43masyncio\u001B[49m\u001B[38;5;241;43m.\u001B[39;49m\u001B[43mrun\u001B[49m\u001B[43m(\u001B[49m\u001B[43mprocess_data\u001B[49m\u001B[43m(\u001B[49m\u001B[43mfrequency\u001B[49m\u001B[43m)\u001B[49m\u001B[43m)\u001B[49m\n",
      "File \u001B[0;32m~/Library/Python/3.11/lib/python/site-packages/nest_asyncio.py:31\u001B[0m, in \u001B[0;36m_patch_asyncio.<locals>.run\u001B[0;34m(main, debug)\u001B[0m\n\u001B[1;32m     29\u001B[0m task \u001B[38;5;241m=\u001B[39m asyncio\u001B[38;5;241m.\u001B[39mensure_future(main)\n\u001B[1;32m     30\u001B[0m \u001B[38;5;28;01mtry\u001B[39;00m:\n\u001B[0;32m---> 31\u001B[0m     \u001B[38;5;28;01mreturn\u001B[39;00m \u001B[43mloop\u001B[49m\u001B[38;5;241;43m.\u001B[39;49m\u001B[43mrun_until_complete\u001B[49m\u001B[43m(\u001B[49m\u001B[43mtask\u001B[49m\u001B[43m)\u001B[49m\n\u001B[1;32m     32\u001B[0m \u001B[38;5;28;01mfinally\u001B[39;00m:\n\u001B[1;32m     33\u001B[0m     \u001B[38;5;28;01mif\u001B[39;00m \u001B[38;5;129;01mnot\u001B[39;00m task\u001B[38;5;241m.\u001B[39mdone():\n",
      "File \u001B[0;32m~/Library/Python/3.11/lib/python/site-packages/nest_asyncio.py:99\u001B[0m, in \u001B[0;36m_patch_loop.<locals>.run_until_complete\u001B[0;34m(self, future)\u001B[0m\n\u001B[1;32m     96\u001B[0m \u001B[38;5;28;01mif\u001B[39;00m \u001B[38;5;129;01mnot\u001B[39;00m f\u001B[38;5;241m.\u001B[39mdone():\n\u001B[1;32m     97\u001B[0m     \u001B[38;5;28;01mraise\u001B[39;00m \u001B[38;5;167;01mRuntimeError\u001B[39;00m(\n\u001B[1;32m     98\u001B[0m         \u001B[38;5;124m'\u001B[39m\u001B[38;5;124mEvent loop stopped before Future completed.\u001B[39m\u001B[38;5;124m'\u001B[39m)\n\u001B[0;32m---> 99\u001B[0m \u001B[38;5;28;01mreturn\u001B[39;00m \u001B[43mf\u001B[49m\u001B[38;5;241;43m.\u001B[39;49m\u001B[43mresult\u001B[49m\u001B[43m(\u001B[49m\u001B[43m)\u001B[49m\n",
      "File \u001B[0;32m/usr/local/Cellar/python@3.11/3.11.8/Frameworks/Python.framework/Versions/3.11/lib/python3.11/asyncio/futures.py:203\u001B[0m, in \u001B[0;36mFuture.result\u001B[0;34m(self)\u001B[0m\n\u001B[1;32m    201\u001B[0m \u001B[38;5;28mself\u001B[39m\u001B[38;5;241m.\u001B[39m__log_traceback \u001B[38;5;241m=\u001B[39m \u001B[38;5;28;01mFalse\u001B[39;00m\n\u001B[1;32m    202\u001B[0m \u001B[38;5;28;01mif\u001B[39;00m \u001B[38;5;28mself\u001B[39m\u001B[38;5;241m.\u001B[39m_exception \u001B[38;5;129;01mis\u001B[39;00m \u001B[38;5;129;01mnot\u001B[39;00m \u001B[38;5;28;01mNone\u001B[39;00m:\n\u001B[0;32m--> 203\u001B[0m     \u001B[38;5;28;01mraise\u001B[39;00m \u001B[38;5;28mself\u001B[39m\u001B[38;5;241m.\u001B[39m_exception\u001B[38;5;241m.\u001B[39mwith_traceback(\u001B[38;5;28mself\u001B[39m\u001B[38;5;241m.\u001B[39m_exception_tb)\n\u001B[1;32m    204\u001B[0m \u001B[38;5;28;01mreturn\u001B[39;00m \u001B[38;5;28mself\u001B[39m\u001B[38;5;241m.\u001B[39m_result\n",
      "File \u001B[0;32m/usr/local/Cellar/python@3.11/3.11.8/Frameworks/Python.framework/Versions/3.11/lib/python3.11/asyncio/tasks.py:277\u001B[0m, in \u001B[0;36mTask.__step\u001B[0;34m(***failed resolving arguments***)\u001B[0m\n\u001B[1;32m    273\u001B[0m \u001B[38;5;28;01mtry\u001B[39;00m:\n\u001B[1;32m    274\u001B[0m     \u001B[38;5;28;01mif\u001B[39;00m exc \u001B[38;5;129;01mis\u001B[39;00m \u001B[38;5;28;01mNone\u001B[39;00m:\n\u001B[1;32m    275\u001B[0m         \u001B[38;5;66;03m# We use the `send` method directly, because coroutines\u001B[39;00m\n\u001B[1;32m    276\u001B[0m         \u001B[38;5;66;03m# don't have `__iter__` and `__next__` methods.\u001B[39;00m\n\u001B[0;32m--> 277\u001B[0m         result \u001B[38;5;241m=\u001B[39m \u001B[43mcoro\u001B[49m\u001B[38;5;241;43m.\u001B[39;49m\u001B[43msend\u001B[49m\u001B[43m(\u001B[49m\u001B[38;5;28;43;01mNone\u001B[39;49;00m\u001B[43m)\u001B[49m\n\u001B[1;32m    278\u001B[0m     \u001B[38;5;28;01melse\u001B[39;00m:\n\u001B[1;32m    279\u001B[0m         result \u001B[38;5;241m=\u001B[39m coro\u001B[38;5;241m.\u001B[39mthrow(exc)\n",
      "Cell \u001B[0;32mIn[112], line 8\u001B[0m, in \u001B[0;36mprocess_data\u001B[0;34m(waiting_time)\u001B[0m\n\u001B[1;32m      5\u001B[0m folder \u001B[38;5;241m=\u001B[39m \u001B[38;5;124m\"\u001B[39m\u001B[38;5;124mVersions/Bmw/Bmw.csv\u001B[39m\u001B[38;5;124m\"\u001B[39m\n\u001B[1;32m      6\u001B[0m save_file_path \u001B[38;5;241m=\u001B[39m \u001B[38;5;124m\"\u001B[39m\u001B[38;5;124mFiches Technical Details/fiches_technical_details.csv\u001B[39m\u001B[38;5;124m\"\u001B[39m\n\u001B[0;32m----> 8\u001B[0m \u001B[38;5;28;01masync\u001B[39;00m \u001B[38;5;28;01mwith\u001B[39;00m \u001B[38;5;28;01mTrue\u001B[39;00m:\n\u001B[1;32m      9\u001B[0m     start \u001B[38;5;241m=\u001B[39m time\u001B[38;5;241m.\u001B[39mtime()\n\u001B[1;32m     10\u001B[0m     \u001B[38;5;28;01mwhile\u001B[39;00m time\u001B[38;5;241m.\u001B[39mtime() \u001B[38;5;241m<\u001B[39m\u001B[38;5;241m=\u001B[39m start \u001B[38;5;241m+\u001B[39m waiting_time \u001B[38;5;241m*\u001B[39m \u001B[38;5;241m60\u001B[39m:\n",
      "\u001B[0;31mTypeError\u001B[0m: 'bool' object does not support the asynchronous context manager protocol"
     ]
    }
   ],
   "execution_count": 113
  },
  {
   "metadata": {
    "ExecuteTime": {
     "end_time": "2024-05-31T13:59:22.132028Z",
     "start_time": "2024-05-31T13:59:21.849420Z"
    }
   },
   "cell_type": "code",
   "source": "",
   "id": "db58aade17cd2ccd",
   "outputs": [
    {
     "ename": "RuntimeError",
     "evalue": "asyncio.run() cannot be called from a running event loop",
     "output_type": "error",
     "traceback": [
      "\u001B[0;31m---------------------------------------------------------------------------\u001B[0m",
      "\u001B[0;31mRuntimeError\u001B[0m                              Traceback (most recent call last)",
      "Cell \u001B[0;32mIn[109], line 2\u001B[0m\n\u001B[1;32m      1\u001B[0m \u001B[38;5;28;01mif\u001B[39;00m \u001B[38;5;18m__name__\u001B[39m \u001B[38;5;241m==\u001B[39m \u001B[38;5;124m\"\u001B[39m\u001B[38;5;124m__main__\u001B[39m\u001B[38;5;124m\"\u001B[39m:\n\u001B[0;32m----> 2\u001B[0m     \u001B[43mmain\u001B[49m\u001B[43m(\u001B[49m\u001B[43m)\u001B[49m\n",
      "Cell \u001B[0;32mIn[108], line 2\u001B[0m, in \u001B[0;36mmain\u001B[0;34m()\u001B[0m\n\u001B[1;32m      1\u001B[0m \u001B[38;5;28;01mdef\u001B[39;00m \u001B[38;5;21mmain\u001B[39m():\n\u001B[0;32m----> 2\u001B[0m     \u001B[43mrun\u001B[49m\u001B[43m(\u001B[49m\u001B[43mduration\u001B[49m\u001B[38;5;241;43m=\u001B[39;49m\u001B[38;5;241;43m30\u001B[39;49m\u001B[43m,\u001B[49m\u001B[43m \u001B[49m\u001B[43mfrequency\u001B[49m\u001B[38;5;241;43m=\u001B[39;49m\u001B[38;5;241;43m5\u001B[39;49m\u001B[43m)\u001B[49m\n",
      "Cell \u001B[0;32mIn[107], line 23\u001B[0m, in \u001B[0;36mrun\u001B[0;34m(duration, frequency)\u001B[0m\n\u001B[1;32m     21\u001B[0m start_time \u001B[38;5;241m=\u001B[39m time\u001B[38;5;241m.\u001B[39mtime()\n\u001B[1;32m     22\u001B[0m \u001B[38;5;28;01mwhile\u001B[39;00m time\u001B[38;5;241m.\u001B[39mtime() \u001B[38;5;241m<\u001B[39m start_time \u001B[38;5;241m+\u001B[39m \u001B[38;5;241m60\u001B[39m \u001B[38;5;241m*\u001B[39m duration:\n\u001B[0;32m---> 23\u001B[0m     \u001B[43masyncio\u001B[49m\u001B[38;5;241;43m.\u001B[39;49m\u001B[43mrun\u001B[49m\u001B[43m(\u001B[49m\u001B[43mprocess_data\u001B[49m\u001B[43m(\u001B[49m\u001B[43mfrequency\u001B[49m\u001B[43m)\u001B[49m\u001B[43m)\u001B[49m\n",
      "File \u001B[0;32m/usr/local/Cellar/python@3.11/3.11.8/Frameworks/Python.framework/Versions/3.11/lib/python3.11/asyncio/runners.py:186\u001B[0m, in \u001B[0;36mrun\u001B[0;34m(main, debug)\u001B[0m\n\u001B[1;32m    161\u001B[0m \u001B[38;5;250m\u001B[39m\u001B[38;5;124;03m\"\"\"Execute the coroutine and return the result.\u001B[39;00m\n\u001B[1;32m    162\u001B[0m \n\u001B[1;32m    163\u001B[0m \u001B[38;5;124;03mThis function runs the passed coroutine, taking care of\u001B[39;00m\n\u001B[0;32m   (...)\u001B[0m\n\u001B[1;32m    182\u001B[0m \u001B[38;5;124;03m    asyncio.run(main())\u001B[39;00m\n\u001B[1;32m    183\u001B[0m \u001B[38;5;124;03m\"\"\"\u001B[39;00m\n\u001B[1;32m    184\u001B[0m \u001B[38;5;28;01mif\u001B[39;00m events\u001B[38;5;241m.\u001B[39m_get_running_loop() \u001B[38;5;129;01mis\u001B[39;00m \u001B[38;5;129;01mnot\u001B[39;00m \u001B[38;5;28;01mNone\u001B[39;00m:\n\u001B[1;32m    185\u001B[0m     \u001B[38;5;66;03m# fail fast with short traceback\u001B[39;00m\n\u001B[0;32m--> 186\u001B[0m     \u001B[38;5;28;01mraise\u001B[39;00m \u001B[38;5;167;01mRuntimeError\u001B[39;00m(\n\u001B[1;32m    187\u001B[0m         \u001B[38;5;124m\"\u001B[39m\u001B[38;5;124masyncio.run() cannot be called from a running event loop\u001B[39m\u001B[38;5;124m\"\u001B[39m)\n\u001B[1;32m    189\u001B[0m \u001B[38;5;28;01mwith\u001B[39;00m Runner(debug\u001B[38;5;241m=\u001B[39mdebug) \u001B[38;5;28;01mas\u001B[39;00m runner:\n\u001B[1;32m    190\u001B[0m     \u001B[38;5;28;01mreturn\u001B[39;00m runner\u001B[38;5;241m.\u001B[39mrun(main)\n",
      "\u001B[0;31mRuntimeError\u001B[0m: asyncio.run() cannot be called from a running event loop"
     ]
    }
   ],
   "execution_count": 109
  },
  {
   "metadata": {
    "ExecuteTime": {
     "end_time": "2024-05-31T12:04:13.543586Z",
     "start_time": "2024-05-31T12:00:41.925375Z"
    }
   },
   "cell_type": "code",
   "source": "fiche_technical_details = process_vehicle_data(driver, folder)",
   "id": "8fba42ccfde49dff",
   "outputs": [
    {
     "name": "stdout",
     "output_type": "stream",
     "text": [
      "Waiting for 1 minute before the next URL...1\n",
      "Waiting for 1 minute before the next URL...2\n",
      "Waiting for 1 minute before the next URL...3\n",
      "Waiting for 1 minute before the next URL...4\n",
      "Waiting for 1 minute before the next URL...5\n",
      "Waiting for 1 minute before the next URL...6\n",
      "Waiting for 1 minute before the next URL...7\n",
      "Waiting for 1 minute before the next URL...8\n",
      "Waiting for 1 minute before the next URL...9\n",
      "Waiting for 1 minute before the next URL...10\n",
      "Waiting for 1 minute before the next URL...11\n",
      "Waiting for 1 minute before the next URL...12\n",
      "Waiting for 1 minute before the next URL...13\n",
      "Waiting for 1 minute before the next URL...14\n",
      "Waiting for 1 minute before the next URL...15\n",
      "Waiting for 1 minute before the next URL...16\n",
      "Waiting for 1 minute before the next URL...17\n",
      "Waiting for 1 minute before the next URL...18\n",
      "Waiting for 1 minute before the next URL...19\n",
      "Waiting for 1 minute before the next URL...20\n",
      "Waiting for 1 minute before the next URL...21\n",
      "Waiting for 1 minute before the next URL...22\n",
      "Waiting for 1 minute before the next URL...23\n",
      "Waiting for 1 minute before the next URL...24\n",
      "Waiting for 1 minute before the next URL...25\n",
      "Waiting for 1 minute before the next URL...26\n",
      "Waiting for 1 minute before the next URL...27\n",
      "Waiting for 1 minute before the next URL...28\n",
      "Waiting for 1 minute before the next URL...29\n",
      "Waiting for 1 minute before the next URL...30\n",
      "Waiting for 1 minute before the next URL...31\n",
      "Waiting for 1 minute before the next URL...32\n",
      "Waiting for 1 minute before the next URL...33\n",
      "Waiting for 1 minute before the next URL...34\n",
      "Waiting for 1 minute before the next URL...35\n",
      "Waiting for 1 minute before the next URL...36\n",
      "Waiting for 1 minute before the next URL...37\n",
      "Waiting for 1 minute before the next URL...38\n",
      "Waiting for 1 minute before the next URL...39\n",
      "Waiting for 1 minute before the next URL...40\n",
      "Waiting for 1 minute before the next URL...41\n",
      "Waiting for 1 minute before the next URL...42\n",
      "Waiting for 1 minute before the next URL...43\n",
      "Waiting for 1 minute before the next URL...44\n",
      "Waiting for 1 minute before the next URL...45\n",
      "Waiting for 1 minute before the next URL...46\n",
      "Waiting for 1 minute before the next URL...47\n",
      "Waiting for 1 minute before the next URL...48\n",
      "Waiting for 1 minute before the next URL...49\n",
      "Waiting for 1 minute before the next URL...50\n",
      "Arrêt après 50 itérations.\n",
      "Arrêt toutes les liens, un total de 50 liens ont été traitées !.\n"
     ]
    }
   ],
   "execution_count": 97
  },
  {
   "metadata": {
    "ExecuteTime": {
     "end_time": "2024-05-31T12:04:19.636143Z",
     "start_time": "2024-05-31T12:04:19.529925Z"
    }
   },
   "cell_type": "code",
   "source": [
    "\n",
    "df = process_create_fiche_technical_df(fiche_technical_details, save_folder)"
   ],
   "id": "d91750b908ddca4d",
   "outputs": [],
   "execution_count": 98
  },
  {
   "metadata": {
    "ExecuteTime": {
     "end_time": "2024-05-31T12:04:21.726284Z",
     "start_time": "2024-05-31T12:04:21.720622Z"
    }
   },
   "cell_type": "code",
   "source": "df.shape",
   "id": "2c8f3ed875495b96",
   "outputs": [
    {
     "data": {
      "text/plain": [
       "(156, 19)"
      ]
     },
     "execution_count": 99,
     "metadata": {},
     "output_type": "execute_result"
    }
   ],
   "execution_count": 99
  },
  {
   "metadata": {
    "ExecuteTime": {
     "end_time": "2024-05-31T12:04:25.549222Z",
     "start_time": "2024-05-31T12:04:25.188133Z"
    }
   },
   "cell_type": "code",
   "source": "driver.quit()",
   "id": "ac03488ab1ccc895",
   "outputs": [],
   "execution_count": 100
  },
  {
   "metadata": {
    "ExecuteTime": {
     "end_time": "2024-05-31T10:16:55.011133Z",
     "start_time": "2024-05-31T10:16:54.984865Z"
    }
   },
   "cell_type": "code",
   "source": "",
   "id": "65f0abcd63f4a37",
   "outputs": [
    {
     "data": {
      "text/plain": [
       "  Marque Modele  Annee                              Vehicule      Prix  \\\n",
       "0    Bmw     X6   2008  BMW X6 I (E71) 3.5iA 306ch Exclusive  75 750 €   \n",
       "1    Bmw     X6   2008       BMW X6 I (E71) 3.5iA 306ch Luxe  66 850 €   \n",
       "2    Bmw     X6   2008  BMW X6 I (E71) 5.0iA 407ch Exclusive  91 000 €   \n",
       "\n",
       "  Date Publication                                            Resumer  \\\n",
       "0          06-2008  {'ENERGIE': 'Essence', 'PUISSANCE_COMMERCIALE'...   \n",
       "1          06-2008  {'ENERGIE': 'Essence', 'PUISSANCE_COMMERCIALE'...   \n",
       "2          06-2008  {'ENERGIE': 'Essence', 'PUISSANCE_COMMERCIALE'...   \n",
       "\n",
       "                                          Dimensions  \\\n",
       "0  {'LONGUEUR': '4,88 m', 'LARGEUR': '1,98 m', 'H...   \n",
       "1  {'LONGUEUR': '4,88 m', 'LARGEUR': '1,98 m', 'H...   \n",
       "2  {'LONGUEUR': '4,88 m', 'LARGEUR': '1,98 m', 'H...   \n",
       "\n",
       "                                              Weight  \\\n",
       "0  {'POIDS_A_VIDE': '2 145 kg', 'PTAC': '2 670 kg...   \n",
       "1  {'POIDS_A_VIDE': '2 145 kg', 'PTAC': '2 670 kg...   \n",
       "2  {'POIDS_A_VIDE': '2 265 kg', 'PTAC': '2 840 kg...   \n",
       "\n",
       "                                        Habitability  \\\n",
       "0  {'NOMBRE_DE_PLACES': '4', 'VOLUME_DE_COFFRE': ...   \n",
       "1  {'NOMBRE_DE_PLACES': '4', 'VOLUME_DE_COFFRE': ...   \n",
       "2  {'NOMBRE_DE_PLACES': '4', 'VOLUME_DE_COFFRE': ...   \n",
       "\n",
       "                                               Tires  \\\n",
       "0  {'TYPES_DE_PNEUMATIQUES': 'Classique', 'MATERI...   \n",
       "1  {'TYPES_DE_PNEUMATIQUES': 'Classique', 'MATERI...   \n",
       "2  {'TYPES_DE_PNEUMATIQUES': 'Classique', 'MATERI...   \n",
       "\n",
       "                                              Engine  \\\n",
       "0  [{'NOM_DU_MOTEUR': '3.5i', 'ENERGIE': 'Essence...   \n",
       "1  [{'NOM_DU_MOTEUR': '3.5i', 'ENERGIE': 'Essence...   \n",
       "2  [{'NOM_DU_MOTEUR': '5.0i', 'ENERGIE': 'Essence...   \n",
       "\n",
       "                                        Transmission  \\\n",
       "0  [{'BOITE_DE_VITESSES': 'Automatique 6 rapports...   \n",
       "1  [{'BOITE_DE_VITESSES': 'Automatique 6 rapports...   \n",
       "2  [{'BOITE_DE_VITESSES': 'Automatique 6 rapports...   \n",
       "\n",
       "                                           Technical  \\\n",
       "0  [{'TYPE_DE_CHASSIS': 'Monocoque', 'MATERIAU_DU...   \n",
       "1  [{'TYPE_DE_CHASSIS': 'Monocoque', 'MATERIAU_DU...   \n",
       "2  [{'TYPE_DE_CHASSIS': 'Monocoque', 'MATERIAU_DU...   \n",
       "\n",
       "                                         Performance  \\\n",
       "0  {'VITESSE_MAXIMALE': '240 km/h', '0_A_100_KM/H...   \n",
       "1  {'VITESSE_MAXIMALE': '240 km/h', '0_A_100_KM/H...   \n",
       "2  {'VITESSE_MAXIMALE': '250 km/h', '0_A_100_KM/H...   \n",
       "\n",
       "                                         Consumption  \\\n",
       "0  {'CYCLE_URBAIN': '14,9 L/100km', 'EXTRA_URBAIN...   \n",
       "1  {'CYCLE_URBAIN': '14,9 L/100km', 'EXTRA_URBAIN...   \n",
       "2  {'CYCLE_URBAIN': '17,6 L/100km', 'EXTRA_URBAIN...   \n",
       "\n",
       "                                      Gallery Images  \n",
       "0  [https://www.largus.fr/images/photos/rsi/_G_JP...  \n",
       "1  [https://www.largus.fr/images/photos/rsi/_G_JP...  \n",
       "2  [https://www.largus.fr/images/photos/rsi/_G_JP...  "
      ],
      "text/html": [
       "<div>\n",
       "<style scoped>\n",
       "    .dataframe tbody tr th:only-of-type {\n",
       "        vertical-align: middle;\n",
       "    }\n",
       "\n",
       "    .dataframe tbody tr th {\n",
       "        vertical-align: top;\n",
       "    }\n",
       "\n",
       "    .dataframe thead th {\n",
       "        text-align: right;\n",
       "    }\n",
       "</style>\n",
       "<table border=\"1\" class=\"dataframe\">\n",
       "  <thead>\n",
       "    <tr style=\"text-align: right;\">\n",
       "      <th></th>\n",
       "      <th>Marque</th>\n",
       "      <th>Modele</th>\n",
       "      <th>Annee</th>\n",
       "      <th>Vehicule</th>\n",
       "      <th>Prix</th>\n",
       "      <th>Date Publication</th>\n",
       "      <th>Resumer</th>\n",
       "      <th>Dimensions</th>\n",
       "      <th>Weight</th>\n",
       "      <th>Habitability</th>\n",
       "      <th>Tires</th>\n",
       "      <th>Engine</th>\n",
       "      <th>Transmission</th>\n",
       "      <th>Technical</th>\n",
       "      <th>Performance</th>\n",
       "      <th>Consumption</th>\n",
       "      <th>Gallery Images</th>\n",
       "    </tr>\n",
       "  </thead>\n",
       "  <tbody>\n",
       "    <tr>\n",
       "      <th>0</th>\n",
       "      <td>Bmw</td>\n",
       "      <td>X6</td>\n",
       "      <td>2008</td>\n",
       "      <td>BMW X6 I (E71) 3.5iA 306ch Exclusive</td>\n",
       "      <td>75 750 €</td>\n",
       "      <td>06-2008</td>\n",
       "      <td>{'ENERGIE': 'Essence', 'PUISSANCE_COMMERCIALE'...</td>\n",
       "      <td>{'LONGUEUR': '4,88 m', 'LARGEUR': '1,98 m', 'H...</td>\n",
       "      <td>{'POIDS_A_VIDE': '2 145 kg', 'PTAC': '2 670 kg...</td>\n",
       "      <td>{'NOMBRE_DE_PLACES': '4', 'VOLUME_DE_COFFRE': ...</td>\n",
       "      <td>{'TYPES_DE_PNEUMATIQUES': 'Classique', 'MATERI...</td>\n",
       "      <td>[{'NOM_DU_MOTEUR': '3.5i', 'ENERGIE': 'Essence...</td>\n",
       "      <td>[{'BOITE_DE_VITESSES': 'Automatique 6 rapports...</td>\n",
       "      <td>[{'TYPE_DE_CHASSIS': 'Monocoque', 'MATERIAU_DU...</td>\n",
       "      <td>{'VITESSE_MAXIMALE': '240 km/h', '0_A_100_KM/H...</td>\n",
       "      <td>{'CYCLE_URBAIN': '14,9 L/100km', 'EXTRA_URBAIN...</td>\n",
       "      <td>[https://www.largus.fr/images/photos/rsi/_G_JP...</td>\n",
       "    </tr>\n",
       "    <tr>\n",
       "      <th>1</th>\n",
       "      <td>Bmw</td>\n",
       "      <td>X6</td>\n",
       "      <td>2008</td>\n",
       "      <td>BMW X6 I (E71) 3.5iA 306ch Luxe</td>\n",
       "      <td>66 850 €</td>\n",
       "      <td>06-2008</td>\n",
       "      <td>{'ENERGIE': 'Essence', 'PUISSANCE_COMMERCIALE'...</td>\n",
       "      <td>{'LONGUEUR': '4,88 m', 'LARGEUR': '1,98 m', 'H...</td>\n",
       "      <td>{'POIDS_A_VIDE': '2 145 kg', 'PTAC': '2 670 kg...</td>\n",
       "      <td>{'NOMBRE_DE_PLACES': '4', 'VOLUME_DE_COFFRE': ...</td>\n",
       "      <td>{'TYPES_DE_PNEUMATIQUES': 'Classique', 'MATERI...</td>\n",
       "      <td>[{'NOM_DU_MOTEUR': '3.5i', 'ENERGIE': 'Essence...</td>\n",
       "      <td>[{'BOITE_DE_VITESSES': 'Automatique 6 rapports...</td>\n",
       "      <td>[{'TYPE_DE_CHASSIS': 'Monocoque', 'MATERIAU_DU...</td>\n",
       "      <td>{'VITESSE_MAXIMALE': '240 km/h', '0_A_100_KM/H...</td>\n",
       "      <td>{'CYCLE_URBAIN': '14,9 L/100km', 'EXTRA_URBAIN...</td>\n",
       "      <td>[https://www.largus.fr/images/photos/rsi/_G_JP...</td>\n",
       "    </tr>\n",
       "    <tr>\n",
       "      <th>2</th>\n",
       "      <td>Bmw</td>\n",
       "      <td>X6</td>\n",
       "      <td>2008</td>\n",
       "      <td>BMW X6 I (E71) 5.0iA 407ch Exclusive</td>\n",
       "      <td>91 000 €</td>\n",
       "      <td>06-2008</td>\n",
       "      <td>{'ENERGIE': 'Essence', 'PUISSANCE_COMMERCIALE'...</td>\n",
       "      <td>{'LONGUEUR': '4,88 m', 'LARGEUR': '1,98 m', 'H...</td>\n",
       "      <td>{'POIDS_A_VIDE': '2 265 kg', 'PTAC': '2 840 kg...</td>\n",
       "      <td>{'NOMBRE_DE_PLACES': '4', 'VOLUME_DE_COFFRE': ...</td>\n",
       "      <td>{'TYPES_DE_PNEUMATIQUES': 'Classique', 'MATERI...</td>\n",
       "      <td>[{'NOM_DU_MOTEUR': '5.0i', 'ENERGIE': 'Essence...</td>\n",
       "      <td>[{'BOITE_DE_VITESSES': 'Automatique 6 rapports...</td>\n",
       "      <td>[{'TYPE_DE_CHASSIS': 'Monocoque', 'MATERIAU_DU...</td>\n",
       "      <td>{'VITESSE_MAXIMALE': '250 km/h', '0_A_100_KM/H...</td>\n",
       "      <td>{'CYCLE_URBAIN': '17,6 L/100km', 'EXTRA_URBAIN...</td>\n",
       "      <td>[https://www.largus.fr/images/photos/rsi/_G_JP...</td>\n",
       "    </tr>\n",
       "  </tbody>\n",
       "</table>\n",
       "</div>"
      ]
     },
     "execution_count": 35,
     "metadata": {},
     "output_type": "execute_result"
    }
   ],
   "execution_count": 35
  },
  {
   "metadata": {
    "ExecuteTime": {
     "end_time": "2024-05-30T16:39:18.333360Z",
     "start_time": "2024-05-30T16:39:18.328368Z"
    }
   },
   "cell_type": "code",
   "source": "df['Resumer'][1]",
   "id": "7a5814860732dd6e",
   "outputs": [
    {
     "data": {
      "text/plain": [
       "{'ENERGIE': 'Diesel',\n",
       " 'PUISSANCE_COMMERCIALE': 'nc',\n",
       " 'PUISSANCE_FISCALE': '15 CV',\n",
       " 'CONSOMMATION_MIXTE': '8,2 L/100 Km',\n",
       " 'EMISSION_DE_CO2': '217 g/km F',\n",
       " 'BOITE_DE_VITESSES': 'Automatique',\n",
       " 'CARROSSERIE': '4*4/SUV/Crossovers',\n",
       " 'DATE_DE_FIN_DE_COMMERCIALISATION': '02/06/2010',\n",
       " 'Immatriculation': '2aacbae2-8417-40f1-9d47-8f9cfd881166',\n",
       " 'Object_Folder_Resumer': 'Vehiculs/Models/BMW/Resumer'}"
      ]
     },
     "execution_count": 166,
     "metadata": {},
     "output_type": "execute_result"
    }
   ],
   "execution_count": 166
  },
  {
   "metadata": {
    "ExecuteTime": {
     "end_time": "2024-05-31T08:38:43.363930Z",
     "start_time": "2024-05-31T08:38:43.060668Z"
    }
   },
   "cell_type": "code",
   "source": "df['Resumer'][0]['ENERGIE']",
   "id": "f6b492b8cb86014a",
   "outputs": [
    {
     "ename": "NameError",
     "evalue": "name 'df' is not defined",
     "output_type": "error",
     "traceback": [
      "\u001B[0;31m---------------------------------------------------------------------------\u001B[0m",
      "\u001B[0;31mNameError\u001B[0m                                 Traceback (most recent call last)",
      "Cell \u001B[0;32mIn[1], line 1\u001B[0m\n\u001B[0;32m----> 1\u001B[0m \u001B[43mdf\u001B[49m[\u001B[38;5;124m'\u001B[39m\u001B[38;5;124mResumer\u001B[39m\u001B[38;5;124m'\u001B[39m][\u001B[38;5;241m0\u001B[39m][\u001B[38;5;124m'\u001B[39m\u001B[38;5;124mENERGIE\u001B[39m\u001B[38;5;124m'\u001B[39m]\n",
      "\u001B[0;31mNameError\u001B[0m: name 'df' is not defined"
     ]
    }
   ],
   "execution_count": 1
  },
  {
   "metadata": {
    "ExecuteTime": {
     "end_time": "2024-05-30T15:55:14.151785Z",
     "start_time": "2024-05-30T15:55:14.127225Z"
    }
   },
   "cell_type": "code",
   "source": "df.to_csv('Fiches Technical Details/fiches_technical_details.csv', index=False)",
   "id": "8b006ffafb0d14b3",
   "outputs": [],
   "execution_count": 136
  },
  {
   "metadata": {},
   "cell_type": "code",
   "outputs": [],
   "execution_count": null,
   "source": [
    "\n",
    "# save_folder = f\"Fiches Technical Details/{mark.capitalize()}\"\n",
    "# csv_file_path = f\"Fiches_Technical_Details_{mark.capitalize()}.csv\"\n",
    "\n",
    "#save_file_path = unidecode.unidecode(save_file_path).strip().replace(' ', '_').replace(\"'\", \"\")"
   ],
   "id": "6686457c23f6e0c0"
  },
  {
   "metadata": {
    "ExecuteTime": {
     "end_time": "2024-05-31T11:09:05.559463Z",
     "start_time": "2024-05-31T11:09:05.149785Z"
    }
   },
   "cell_type": "code",
   "source": "test = pd.read_csv('Fiches Technical Details/fiches_technical_details.csv')",
   "id": "9b556ffdc20fcfae",
   "outputs": [
    {
     "ename": "EmptyDataError",
     "evalue": "No columns to parse from file",
     "output_type": "error",
     "traceback": [
      "\u001B[0;31m---------------------------------------------------------------------------\u001B[0m",
      "\u001B[0;31mEmptyDataError\u001B[0m                            Traceback (most recent call last)",
      "Cell \u001B[0;32mIn[62], line 1\u001B[0m\n\u001B[0;32m----> 1\u001B[0m test \u001B[38;5;241m=\u001B[39m \u001B[43mpd\u001B[49m\u001B[38;5;241;43m.\u001B[39;49m\u001B[43mread_csv\u001B[49m\u001B[43m(\u001B[49m\u001B[38;5;124;43m'\u001B[39;49m\u001B[38;5;124;43mFiches Technical Details/fiches_technical_details.csv\u001B[39;49m\u001B[38;5;124;43m'\u001B[39;49m\u001B[43m)\u001B[49m\n",
      "File \u001B[0;32m~/DataspellProjects/scraping-master/venv/lib/python3.11/site-packages/pandas/io/parsers/readers.py:948\u001B[0m, in \u001B[0;36mread_csv\u001B[0;34m(filepath_or_buffer, sep, delimiter, header, names, index_col, usecols, dtype, engine, converters, true_values, false_values, skipinitialspace, skiprows, skipfooter, nrows, na_values, keep_default_na, na_filter, verbose, skip_blank_lines, parse_dates, infer_datetime_format, keep_date_col, date_parser, date_format, dayfirst, cache_dates, iterator, chunksize, compression, thousands, decimal, lineterminator, quotechar, quoting, doublequote, escapechar, comment, encoding, encoding_errors, dialect, on_bad_lines, delim_whitespace, low_memory, memory_map, float_precision, storage_options, dtype_backend)\u001B[0m\n\u001B[1;32m    935\u001B[0m kwds_defaults \u001B[38;5;241m=\u001B[39m _refine_defaults_read(\n\u001B[1;32m    936\u001B[0m     dialect,\n\u001B[1;32m    937\u001B[0m     delimiter,\n\u001B[0;32m   (...)\u001B[0m\n\u001B[1;32m    944\u001B[0m     dtype_backend\u001B[38;5;241m=\u001B[39mdtype_backend,\n\u001B[1;32m    945\u001B[0m )\n\u001B[1;32m    946\u001B[0m kwds\u001B[38;5;241m.\u001B[39mupdate(kwds_defaults)\n\u001B[0;32m--> 948\u001B[0m \u001B[38;5;28;01mreturn\u001B[39;00m \u001B[43m_read\u001B[49m\u001B[43m(\u001B[49m\u001B[43mfilepath_or_buffer\u001B[49m\u001B[43m,\u001B[49m\u001B[43m \u001B[49m\u001B[43mkwds\u001B[49m\u001B[43m)\u001B[49m\n",
      "File \u001B[0;32m~/DataspellProjects/scraping-master/venv/lib/python3.11/site-packages/pandas/io/parsers/readers.py:611\u001B[0m, in \u001B[0;36m_read\u001B[0;34m(filepath_or_buffer, kwds)\u001B[0m\n\u001B[1;32m    608\u001B[0m _validate_names(kwds\u001B[38;5;241m.\u001B[39mget(\u001B[38;5;124m\"\u001B[39m\u001B[38;5;124mnames\u001B[39m\u001B[38;5;124m\"\u001B[39m, \u001B[38;5;28;01mNone\u001B[39;00m))\n\u001B[1;32m    610\u001B[0m \u001B[38;5;66;03m# Create the parser.\u001B[39;00m\n\u001B[0;32m--> 611\u001B[0m parser \u001B[38;5;241m=\u001B[39m \u001B[43mTextFileReader\u001B[49m\u001B[43m(\u001B[49m\u001B[43mfilepath_or_buffer\u001B[49m\u001B[43m,\u001B[49m\u001B[43m \u001B[49m\u001B[38;5;241;43m*\u001B[39;49m\u001B[38;5;241;43m*\u001B[39;49m\u001B[43mkwds\u001B[49m\u001B[43m)\u001B[49m\n\u001B[1;32m    613\u001B[0m \u001B[38;5;28;01mif\u001B[39;00m chunksize \u001B[38;5;129;01mor\u001B[39;00m iterator:\n\u001B[1;32m    614\u001B[0m     \u001B[38;5;28;01mreturn\u001B[39;00m parser\n",
      "File \u001B[0;32m~/DataspellProjects/scraping-master/venv/lib/python3.11/site-packages/pandas/io/parsers/readers.py:1448\u001B[0m, in \u001B[0;36mTextFileReader.__init__\u001B[0;34m(self, f, engine, **kwds)\u001B[0m\n\u001B[1;32m   1445\u001B[0m     \u001B[38;5;28mself\u001B[39m\u001B[38;5;241m.\u001B[39moptions[\u001B[38;5;124m\"\u001B[39m\u001B[38;5;124mhas_index_names\u001B[39m\u001B[38;5;124m\"\u001B[39m] \u001B[38;5;241m=\u001B[39m kwds[\u001B[38;5;124m\"\u001B[39m\u001B[38;5;124mhas_index_names\u001B[39m\u001B[38;5;124m\"\u001B[39m]\n\u001B[1;32m   1447\u001B[0m \u001B[38;5;28mself\u001B[39m\u001B[38;5;241m.\u001B[39mhandles: IOHandles \u001B[38;5;241m|\u001B[39m \u001B[38;5;28;01mNone\u001B[39;00m \u001B[38;5;241m=\u001B[39m \u001B[38;5;28;01mNone\u001B[39;00m\n\u001B[0;32m-> 1448\u001B[0m \u001B[38;5;28mself\u001B[39m\u001B[38;5;241m.\u001B[39m_engine \u001B[38;5;241m=\u001B[39m \u001B[38;5;28;43mself\u001B[39;49m\u001B[38;5;241;43m.\u001B[39;49m\u001B[43m_make_engine\u001B[49m\u001B[43m(\u001B[49m\u001B[43mf\u001B[49m\u001B[43m,\u001B[49m\u001B[43m \u001B[49m\u001B[38;5;28;43mself\u001B[39;49m\u001B[38;5;241;43m.\u001B[39;49m\u001B[43mengine\u001B[49m\u001B[43m)\u001B[49m\n",
      "File \u001B[0;32m~/DataspellProjects/scraping-master/venv/lib/python3.11/site-packages/pandas/io/parsers/readers.py:1723\u001B[0m, in \u001B[0;36mTextFileReader._make_engine\u001B[0;34m(self, f, engine)\u001B[0m\n\u001B[1;32m   1720\u001B[0m     \u001B[38;5;28;01mraise\u001B[39;00m \u001B[38;5;167;01mValueError\u001B[39;00m(msg)\n\u001B[1;32m   1722\u001B[0m \u001B[38;5;28;01mtry\u001B[39;00m:\n\u001B[0;32m-> 1723\u001B[0m     \u001B[38;5;28;01mreturn\u001B[39;00m \u001B[43mmapping\u001B[49m\u001B[43m[\u001B[49m\u001B[43mengine\u001B[49m\u001B[43m]\u001B[49m\u001B[43m(\u001B[49m\u001B[43mf\u001B[49m\u001B[43m,\u001B[49m\u001B[43m \u001B[49m\u001B[38;5;241;43m*\u001B[39;49m\u001B[38;5;241;43m*\u001B[39;49m\u001B[38;5;28;43mself\u001B[39;49m\u001B[38;5;241;43m.\u001B[39;49m\u001B[43moptions\u001B[49m\u001B[43m)\u001B[49m\n\u001B[1;32m   1724\u001B[0m \u001B[38;5;28;01mexcept\u001B[39;00m \u001B[38;5;167;01mException\u001B[39;00m:\n\u001B[1;32m   1725\u001B[0m     \u001B[38;5;28;01mif\u001B[39;00m \u001B[38;5;28mself\u001B[39m\u001B[38;5;241m.\u001B[39mhandles \u001B[38;5;129;01mis\u001B[39;00m \u001B[38;5;129;01mnot\u001B[39;00m \u001B[38;5;28;01mNone\u001B[39;00m:\n",
      "File \u001B[0;32m~/DataspellProjects/scraping-master/venv/lib/python3.11/site-packages/pandas/io/parsers/c_parser_wrapper.py:93\u001B[0m, in \u001B[0;36mCParserWrapper.__init__\u001B[0;34m(self, src, **kwds)\u001B[0m\n\u001B[1;32m     90\u001B[0m \u001B[38;5;28;01mif\u001B[39;00m kwds[\u001B[38;5;124m\"\u001B[39m\u001B[38;5;124mdtype_backend\u001B[39m\u001B[38;5;124m\"\u001B[39m] \u001B[38;5;241m==\u001B[39m \u001B[38;5;124m\"\u001B[39m\u001B[38;5;124mpyarrow\u001B[39m\u001B[38;5;124m\"\u001B[39m:\n\u001B[1;32m     91\u001B[0m     \u001B[38;5;66;03m# Fail here loudly instead of in cython after reading\u001B[39;00m\n\u001B[1;32m     92\u001B[0m     import_optional_dependency(\u001B[38;5;124m\"\u001B[39m\u001B[38;5;124mpyarrow\u001B[39m\u001B[38;5;124m\"\u001B[39m)\n\u001B[0;32m---> 93\u001B[0m \u001B[38;5;28mself\u001B[39m\u001B[38;5;241m.\u001B[39m_reader \u001B[38;5;241m=\u001B[39m \u001B[43mparsers\u001B[49m\u001B[38;5;241;43m.\u001B[39;49m\u001B[43mTextReader\u001B[49m\u001B[43m(\u001B[49m\u001B[43msrc\u001B[49m\u001B[43m,\u001B[49m\u001B[43m \u001B[49m\u001B[38;5;241;43m*\u001B[39;49m\u001B[38;5;241;43m*\u001B[39;49m\u001B[43mkwds\u001B[49m\u001B[43m)\u001B[49m\n\u001B[1;32m     95\u001B[0m \u001B[38;5;28mself\u001B[39m\u001B[38;5;241m.\u001B[39munnamed_cols \u001B[38;5;241m=\u001B[39m \u001B[38;5;28mself\u001B[39m\u001B[38;5;241m.\u001B[39m_reader\u001B[38;5;241m.\u001B[39munnamed_cols\n\u001B[1;32m     97\u001B[0m \u001B[38;5;66;03m# error: Cannot determine type of 'names'\u001B[39;00m\n",
      "File \u001B[0;32mparsers.pyx:586\u001B[0m, in \u001B[0;36mpandas._libs.parsers.TextReader.__cinit__\u001B[0;34m()\u001B[0m\n",
      "\u001B[0;31mEmptyDataError\u001B[0m: No columns to parse from file"
     ]
    }
   ],
   "execution_count": 62
  },
  {
   "metadata": {},
   "cell_type": "code",
   "outputs": [],
   "execution_count": null,
   "source": "",
   "id": "d788d1a832f4fd51"
  }
 ],
 "metadata": {
  "kernelspec": {
   "display_name": "Python 3",
   "language": "python",
   "name": "python3"
  },
  "language_info": {
   "codemirror_mode": {
    "name": "ipython",
    "version": 2
   },
   "file_extension": ".py",
   "mimetype": "text/x-python",
   "name": "python",
   "nbconvert_exporter": "python",
   "pygments_lexer": "ipython2",
   "version": "2.7.6"
  }
 },
 "nbformat": 4,
 "nbformat_minor": 5
}
