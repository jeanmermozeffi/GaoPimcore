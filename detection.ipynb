{
 "cells": [
  {
   "cell_type": "code",
   "id": "initial_id",
   "metadata": {
    "collapsed": true,
    "ExecuteTime": {
     "end_time": "2024-05-21T10:50:27.773771Z",
     "start_time": "2024-05-21T10:50:27.754371Z"
    }
   },
   "source": [
    "import time\n",
    "\n",
    "import requests\n",
    "import pandas as pd\n",
    "from io import StringIO\n",
    "import yaml\n",
    "import urllib3\n",
    "\n",
    "from selenium import webdriver\n",
    "from selenium.webdriver.common.proxy import Proxy, ProxyType\n",
    "from selenium.webdriver.common.by import By\n",
    "from selenium.webdriver.chrome.service import Service\n",
    "from selenium.webdriver.chrome.options import Options\n",
    "from webdriver_manager.chrome import ChromeDriverManager"
   ],
   "outputs": [],
   "execution_count": 36
  },
  {
   "metadata": {},
   "cell_type": "markdown",
   "source": "### Obtenir des proxy",
   "id": "491e39642a12cf51"
  },
  {
   "metadata": {
    "ExecuteTime": {
     "end_time": "2024-05-21T10:39:47.665342Z",
     "start_time": "2024-05-21T10:39:47.120047Z"
    }
   },
   "cell_type": "code",
   "source": "response = requests.get(\"https://free-proxy-list.net/\")",
   "id": "ea7b97253d180765",
   "outputs": [],
   "execution_count": 26
  },
  {
   "metadata": {
    "ExecuteTime": {
     "end_time": "2024-05-21T10:39:50.277906Z",
     "start_time": "2024-05-21T10:39:50.271133Z"
    }
   },
   "cell_type": "code",
   "source": [
    "html_proxy_content = response.text\n",
    "html_proxy_buffer = StringIO(html_content)"
   ],
   "id": "a190f8deb38b3f05",
   "outputs": [],
   "execution_count": 27
  },
  {
   "metadata": {
    "ExecuteTime": {
     "end_time": "2024-05-21T10:40:22.877937Z",
     "start_time": "2024-05-21T10:40:22.813009Z"
    }
   },
   "cell_type": "code",
   "source": [
    "proxy_list = pd.read_html(html_proxy_buffer)[0]\n",
    "proxy_list[\"url\"] = \"http://\" + proxy_list[\"IP Address\"] + \":\" + proxy_list[\"Port\"].astype(str)\n",
    "proxy_list.head()"
   ],
   "id": "13639561d05d08ed",
   "outputs": [
    {
     "data": {
      "text/plain": [
       "      IP Address  Port Code        Country  Anonymity Google Https  \\\n",
       "0   8.219.97.248    80   SG      Singapore  anonymous     no   yes   \n",
       "1  50.222.245.40    80   US  United States  anonymous     no    no   \n",
       "2  50.171.122.30    80   US  United States  anonymous     no    no   \n",
       "3    213.33.2.28    80   AT        Austria  anonymous     no    no   \n",
       "4  50.217.226.42    80   US  United States  anonymous     no    no   \n",
       "\n",
       "  Last Checked                      url  \n",
       "0  14 secs ago   http://8.219.97.248:80  \n",
       "1  16 secs ago  http://50.222.245.40:80  \n",
       "2  16 secs ago  http://50.171.122.30:80  \n",
       "3  16 secs ago    http://213.33.2.28:80  \n",
       "4  16 secs ago  http://50.217.226.42:80  "
      ],
      "text/html": [
       "<div>\n",
       "<style scoped>\n",
       "    .dataframe tbody tr th:only-of-type {\n",
       "        vertical-align: middle;\n",
       "    }\n",
       "\n",
       "    .dataframe tbody tr th {\n",
       "        vertical-align: top;\n",
       "    }\n",
       "\n",
       "    .dataframe thead th {\n",
       "        text-align: right;\n",
       "    }\n",
       "</style>\n",
       "<table border=\"1\" class=\"dataframe\">\n",
       "  <thead>\n",
       "    <tr style=\"text-align: right;\">\n",
       "      <th></th>\n",
       "      <th>IP Address</th>\n",
       "      <th>Port</th>\n",
       "      <th>Code</th>\n",
       "      <th>Country</th>\n",
       "      <th>Anonymity</th>\n",
       "      <th>Google</th>\n",
       "      <th>Https</th>\n",
       "      <th>Last Checked</th>\n",
       "      <th>url</th>\n",
       "    </tr>\n",
       "  </thead>\n",
       "  <tbody>\n",
       "    <tr>\n",
       "      <th>0</th>\n",
       "      <td>8.219.97.248</td>\n",
       "      <td>80</td>\n",
       "      <td>SG</td>\n",
       "      <td>Singapore</td>\n",
       "      <td>anonymous</td>\n",
       "      <td>no</td>\n",
       "      <td>yes</td>\n",
       "      <td>14 secs ago</td>\n",
       "      <td>http://8.219.97.248:80</td>\n",
       "    </tr>\n",
       "    <tr>\n",
       "      <th>1</th>\n",
       "      <td>50.222.245.40</td>\n",
       "      <td>80</td>\n",
       "      <td>US</td>\n",
       "      <td>United States</td>\n",
       "      <td>anonymous</td>\n",
       "      <td>no</td>\n",
       "      <td>no</td>\n",
       "      <td>16 secs ago</td>\n",
       "      <td>http://50.222.245.40:80</td>\n",
       "    </tr>\n",
       "    <tr>\n",
       "      <th>2</th>\n",
       "      <td>50.171.122.30</td>\n",
       "      <td>80</td>\n",
       "      <td>US</td>\n",
       "      <td>United States</td>\n",
       "      <td>anonymous</td>\n",
       "      <td>no</td>\n",
       "      <td>no</td>\n",
       "      <td>16 secs ago</td>\n",
       "      <td>http://50.171.122.30:80</td>\n",
       "    </tr>\n",
       "    <tr>\n",
       "      <th>3</th>\n",
       "      <td>213.33.2.28</td>\n",
       "      <td>80</td>\n",
       "      <td>AT</td>\n",
       "      <td>Austria</td>\n",
       "      <td>anonymous</td>\n",
       "      <td>no</td>\n",
       "      <td>no</td>\n",
       "      <td>16 secs ago</td>\n",
       "      <td>http://213.33.2.28:80</td>\n",
       "    </tr>\n",
       "    <tr>\n",
       "      <th>4</th>\n",
       "      <td>50.217.226.42</td>\n",
       "      <td>80</td>\n",
       "      <td>US</td>\n",
       "      <td>United States</td>\n",
       "      <td>anonymous</td>\n",
       "      <td>no</td>\n",
       "      <td>no</td>\n",
       "      <td>16 secs ago</td>\n",
       "      <td>http://50.217.226.42:80</td>\n",
       "    </tr>\n",
       "  </tbody>\n",
       "</table>\n",
       "</div>"
      ]
     },
     "execution_count": 28,
     "metadata": {},
     "output_type": "execute_result"
    }
   ],
   "execution_count": 28
  },
  {
   "metadata": {
    "ExecuteTime": {
     "end_time": "2024-05-21T10:40:43.597612Z",
     "start_time": "2024-05-21T10:40:43.591737Z"
    }
   },
   "cell_type": "code",
   "source": "proxy_list.shape",
   "id": "e0739ad81e63e741",
   "outputs": [
    {
     "data": {
      "text/plain": [
       "(300, 9)"
      ]
     },
     "execution_count": 29,
     "metadata": {},
     "output_type": "execute_result"
    }
   ],
   "execution_count": 29
  },
  {
   "metadata": {
    "ExecuteTime": {
     "end_time": "2024-05-21T10:40:51.153804Z",
     "start_time": "2024-05-21T10:40:51.142899Z"
    }
   },
   "cell_type": "code",
   "source": [
    "https_proxies = proxy_list[proxy_list[\"Https\"] == \"yes\"]\n",
    "https_proxies.count()"
   ],
   "id": "56495603d9b28367",
   "outputs": [
    {
     "data": {
      "text/plain": [
       "IP Address      16\n",
       "Port            16\n",
       "Code            16\n",
       "Country         16\n",
       "Anonymity       16\n",
       "Google          16\n",
       "Https           16\n",
       "Last Checked    16\n",
       "url             16\n",
       "dtype: int64"
      ]
     },
     "execution_count": 30,
     "metadata": {},
     "output_type": "execute_result"
    }
   ],
   "execution_count": 30
  },
  {
   "metadata": {
    "ExecuteTime": {
     "end_time": "2024-05-21T10:41:14.719413Z",
     "start_time": "2024-05-21T10:41:14.706898Z"
    }
   },
   "cell_type": "code",
   "source": "https_proxies.head()",
   "id": "780b699c978d8bcf",
   "outputs": [
    {
     "data": {
      "text/plain": [
       "        IP Address   Port Code        Country    Anonymity Google Https  \\\n",
       "0     8.219.97.248     80   SG      Singapore    anonymous     no   yes   \n",
       "7    18.188.32.159   3128   US  United States  elite proxy     no   yes   \n",
       "118   16.16.25.252  20202   SE         Sweden  elite proxy     no   yes   \n",
       "123   117.250.3.58   8080   IN          India  elite proxy     no   yes   \n",
       "125   114.129.2.82   8081   JP          Japan  elite proxy     no   yes   \n",
       "\n",
       "    Last Checked                        url  \n",
       "0    14 secs ago     http://8.219.97.248:80  \n",
       "7    16 secs ago  http://18.188.32.159:3128  \n",
       "118  10 mins ago  http://16.16.25.252:20202  \n",
       "123  10 mins ago   http://117.250.3.58:8080  \n",
       "125  10 mins ago   http://114.129.2.82:8081  "
      ],
      "text/html": [
       "<div>\n",
       "<style scoped>\n",
       "    .dataframe tbody tr th:only-of-type {\n",
       "        vertical-align: middle;\n",
       "    }\n",
       "\n",
       "    .dataframe tbody tr th {\n",
       "        vertical-align: top;\n",
       "    }\n",
       "\n",
       "    .dataframe thead th {\n",
       "        text-align: right;\n",
       "    }\n",
       "</style>\n",
       "<table border=\"1\" class=\"dataframe\">\n",
       "  <thead>\n",
       "    <tr style=\"text-align: right;\">\n",
       "      <th></th>\n",
       "      <th>IP Address</th>\n",
       "      <th>Port</th>\n",
       "      <th>Code</th>\n",
       "      <th>Country</th>\n",
       "      <th>Anonymity</th>\n",
       "      <th>Google</th>\n",
       "      <th>Https</th>\n",
       "      <th>Last Checked</th>\n",
       "      <th>url</th>\n",
       "    </tr>\n",
       "  </thead>\n",
       "  <tbody>\n",
       "    <tr>\n",
       "      <th>0</th>\n",
       "      <td>8.219.97.248</td>\n",
       "      <td>80</td>\n",
       "      <td>SG</td>\n",
       "      <td>Singapore</td>\n",
       "      <td>anonymous</td>\n",
       "      <td>no</td>\n",
       "      <td>yes</td>\n",
       "      <td>14 secs ago</td>\n",
       "      <td>http://8.219.97.248:80</td>\n",
       "    </tr>\n",
       "    <tr>\n",
       "      <th>7</th>\n",
       "      <td>18.188.32.159</td>\n",
       "      <td>3128</td>\n",
       "      <td>US</td>\n",
       "      <td>United States</td>\n",
       "      <td>elite proxy</td>\n",
       "      <td>no</td>\n",
       "      <td>yes</td>\n",
       "      <td>16 secs ago</td>\n",
       "      <td>http://18.188.32.159:3128</td>\n",
       "    </tr>\n",
       "    <tr>\n",
       "      <th>118</th>\n",
       "      <td>16.16.25.252</td>\n",
       "      <td>20202</td>\n",
       "      <td>SE</td>\n",
       "      <td>Sweden</td>\n",
       "      <td>elite proxy</td>\n",
       "      <td>no</td>\n",
       "      <td>yes</td>\n",
       "      <td>10 mins ago</td>\n",
       "      <td>http://16.16.25.252:20202</td>\n",
       "    </tr>\n",
       "    <tr>\n",
       "      <th>123</th>\n",
       "      <td>117.250.3.58</td>\n",
       "      <td>8080</td>\n",
       "      <td>IN</td>\n",
       "      <td>India</td>\n",
       "      <td>elite proxy</td>\n",
       "      <td>no</td>\n",
       "      <td>yes</td>\n",
       "      <td>10 mins ago</td>\n",
       "      <td>http://117.250.3.58:8080</td>\n",
       "    </tr>\n",
       "    <tr>\n",
       "      <th>125</th>\n",
       "      <td>114.129.2.82</td>\n",
       "      <td>8081</td>\n",
       "      <td>JP</td>\n",
       "      <td>Japan</td>\n",
       "      <td>elite proxy</td>\n",
       "      <td>no</td>\n",
       "      <td>yes</td>\n",
       "      <td>10 mins ago</td>\n",
       "      <td>http://114.129.2.82:8081</td>\n",
       "    </tr>\n",
       "  </tbody>\n",
       "</table>\n",
       "</div>"
      ]
     },
     "execution_count": 31,
     "metadata": {},
     "output_type": "execute_result"
    }
   ],
   "execution_count": 31
  },
  {
   "metadata": {},
   "cell_type": "markdown",
   "source": "### Définir les headers",
   "id": "bb8b703b2c6b6c67"
  },
  {
   "metadata": {
    "ExecuteTime": {
     "end_time": "2024-05-21T10:30:14.293871Z",
     "start_time": "2024-05-21T10:30:14.281975Z"
    }
   },
   "cell_type": "code",
   "source": [
    "with open(\"headers.yml\") as f_headers:\n",
    "    browser_headers = yaml.safe_load(f_headers)\n",
    "f_headers.close()"
   ],
   "id": "a942b057df9a8142",
   "outputs": [],
   "execution_count": 23
  },
  {
   "metadata": {},
   "cell_type": "markdown",
   "source": "### Configurer le proxy",
   "id": "a9981c3bac80321c"
  },
  {
   "metadata": {
    "ExecuteTime": {
     "end_time": "2024-05-21T10:29:02.288003Z",
     "start_time": "2024-05-21T10:29:02.283236Z"
    }
   },
   "cell_type": "code",
   "source": [
    "chrome_options = Options()\n",
    "# URL cible\n",
    "url = \"https://www.largus.fr/Bmw.html\""
   ],
   "id": "9c6c6a3324700675",
   "outputs": [],
   "execution_count": 22
  },
  {
   "metadata": {},
   "cell_type": "code",
   "outputs": [],
   "execution_count": null,
   "source": [
    "# Incorporer le proxy dans les options de Chrome\n",
    "capabilities = webdriver.DesiredCapabilities.CHROME\n",
    "proxy.add_to_capabilities(capabilities)"
   ],
   "id": "6620a0dcea5ff58c"
  },
  {
   "metadata": {},
   "cell_type": "markdown",
   "source": "### Sélectionner les proxies valides",
   "id": "1163bd6be8de39c2"
  },
  {
   "metadata": {
    "ExecuteTime": {
     "end_time": "2024-05-21T10:50:33.722833Z",
     "start_time": "2024-05-21T10:50:33.719715Z"
    }
   },
   "cell_type": "code",
   "source": [
    "# Désactiver les avertissements InsecureRequestWarning\n",
    "urllib3.disable_warnings(urllib3.exceptions.InsecureRequestWarning)"
   ],
   "id": "170d9c5e9b97503b",
   "outputs": [],
   "execution_count": 37
  },
  {
   "metadata": {
    "ExecuteTime": {
     "end_time": "2024-05-21T10:56:17.960884Z",
     "start_time": "2024-05-21T10:56:11.238560Z"
    }
   },
   "cell_type": "code",
   "source": [
    "# Trouver le premier proxy valide\n",
    "url_marque = \"https://www.largus.fr/Bmw.html\"\n",
    "url_ip = \"https://httpbin.org/ip\"\n",
    "good_proxies = set()\n",
    "headers = browser_headers[\"Chrome\"]\n",
    "\n",
    "for proxy_url in https_proxies[\"url\"]:\n",
    "    proxies = {\n",
    "        \"http\": proxy_url,\n",
    "        \"https\": proxy_url,\n",
    "    }\n",
    "\n",
    "    try:\n",
    "        response = requests.get(url_ip, headers=headers, proxies=proxies, timeout=10, verify=False)\n",
    "        if response.status_code == 200:\n",
    "            good_proxies.add(proxy_url)\n",
    "            print(f\"Proxy {proxy_url} OK, added to good_proxy list\")\n",
    "            break  # On arrête la boucle dès qu'on trouve un bon proxy\n",
    "    except Exception as e:\n",
    "        print(f\"Proxy {proxy_url} failed: {e}\")\n",
    "        pass"
   ],
   "id": "926fae44bc009ab8",
   "outputs": [
    {
     "name": "stdout",
     "output_type": "stream",
     "text": [
      "Proxy http://8.219.97.248:80 OK, added to good_proxy list\n"
     ]
    }
   ],
   "execution_count": 39
  },
  {
   "metadata": {
    "ExecuteTime": {
     "end_time": "2024-05-21T10:57:51.271764Z",
     "start_time": "2024-05-21T10:57:51.264795Z"
    }
   },
   "cell_type": "code",
   "source": "good_proxies",
   "id": "ff223b58e772ba61",
   "outputs": [
    {
     "data": {
      "text/plain": [
       "{'http://8.219.97.248:80'}"
      ]
     },
     "execution_count": 40,
     "metadata": {},
     "output_type": "execute_result"
    }
   ],
   "execution_count": 40
  },
  {
   "metadata": {
    "ExecuteTime": {
     "end_time": "2024-05-21T11:01:00.239123Z",
     "start_time": "2024-05-21T11:01:00.233833Z"
    }
   },
   "cell_type": "code",
   "source": "https_proxies_good = proxy_list[proxy_list[\"url\"] == list(good_proxies)[0]]",
   "id": "cd8f6be55655cfb3",
   "outputs": [],
   "execution_count": 41
  },
  {
   "metadata": {
    "ExecuteTime": {
     "end_time": "2024-05-21T11:01:06.733913Z",
     "start_time": "2024-05-21T11:01:06.722880Z"
    }
   },
   "cell_type": "code",
   "source": "https_proxies_good",
   "id": "6da758b8c04e23aa",
   "outputs": [
    {
     "data": {
      "text/plain": [
       "     IP Address  Port Code    Country  Anonymity Google Https Last Checked  \\\n",
       "0  8.219.97.248    80   SG  Singapore  anonymous     no   yes  14 secs ago   \n",
       "\n",
       "                      url  \n",
       "0  http://8.219.97.248:80  "
      ],
      "text/html": [
       "<div>\n",
       "<style scoped>\n",
       "    .dataframe tbody tr th:only-of-type {\n",
       "        vertical-align: middle;\n",
       "    }\n",
       "\n",
       "    .dataframe tbody tr th {\n",
       "        vertical-align: top;\n",
       "    }\n",
       "\n",
       "    .dataframe thead th {\n",
       "        text-align: right;\n",
       "    }\n",
       "</style>\n",
       "<table border=\"1\" class=\"dataframe\">\n",
       "  <thead>\n",
       "    <tr style=\"text-align: right;\">\n",
       "      <th></th>\n",
       "      <th>IP Address</th>\n",
       "      <th>Port</th>\n",
       "      <th>Code</th>\n",
       "      <th>Country</th>\n",
       "      <th>Anonymity</th>\n",
       "      <th>Google</th>\n",
       "      <th>Https</th>\n",
       "      <th>Last Checked</th>\n",
       "      <th>url</th>\n",
       "    </tr>\n",
       "  </thead>\n",
       "  <tbody>\n",
       "    <tr>\n",
       "      <th>0</th>\n",
       "      <td>8.219.97.248</td>\n",
       "      <td>80</td>\n",
       "      <td>SG</td>\n",
       "      <td>Singapore</td>\n",
       "      <td>anonymous</td>\n",
       "      <td>no</td>\n",
       "      <td>yes</td>\n",
       "      <td>14 secs ago</td>\n",
       "      <td>http://8.219.97.248:80</td>\n",
       "    </tr>\n",
       "  </tbody>\n",
       "</table>\n",
       "</div>"
      ]
     },
     "execution_count": 42,
     "metadata": {},
     "output_type": "execute_result"
    }
   ],
   "execution_count": 42
  },
  {
   "metadata": {
    "ExecuteTime": {
     "end_time": "2024-05-21T11:04:37.660897Z",
     "start_time": "2024-05-21T11:04:37.656422Z"
    }
   },
   "cell_type": "code",
   "source": "",
   "id": "5d826affabf66894",
   "outputs": [],
   "execution_count": 44
  },
  {
   "metadata": {},
   "cell_type": "code",
   "outputs": [],
   "execution_count": null,
   "source": "proxy_ip_port = https_proxies_good[0]",
   "id": "4bb024a80ac0a4c7"
  },
  {
   "metadata": {
    "ExecuteTime": {
     "end_time": "2024-05-21T11:17:52.758636Z",
     "start_time": "2024-05-21T11:17:52.672662Z"
    }
   },
   "cell_type": "code",
   "source": [
    "if good_proxies:\n",
    "    YOUR_PROXY_IP = https_proxies_good.iloc[0][\"IP Address\"]\n",
    "    PORT = https_proxies_good.iloc[0][\"Port\"]\n",
    "    \n",
    "    proxy_ip_port = f\"{YOUR_PROXY_IP}:{PORT}\"\n",
    "\n",
    "    # Configurer les options de Chrome\n",
    "    options = Options()\n",
    "    options.add_argument(\"--headless\")  # Exécute le navigateur en mode headless\n",
    "\n",
    "    # Configurer le proxy\n",
    "    proxy = Proxy()\n",
    "    proxy.proxy_type = ProxyType.MANUAL\n",
    "    proxy.http_proxy = proxy_ip_port\n",
    "    proxy.ssl_proxy = proxy_ip_port\n",
    "\n",
    "    # Incorporer le proxy dans les options de Chrome\n",
    "    capabilities = webdriver.DesiredCapabilities.CHROME\n",
    "    # caps = webdriver.DesiredCapabilities.CHROME.copy()\n",
    "    # caps['acceptInsecureCerts'] = True\n",
    "    # driver = webdriver.Chrome(desired_capabilities=caps)\n",
    "    \n",
    "    proxy.add_to_capabilities(capabilities)\n",
    "\n",
    "    # Initialiser le driver avec les options et capacités configurées\n",
    "    driver = webdriver.Chrome(service=Service(ChromeDriverManager().install()), options=chrome_options, desired_capabilities=capabilities)\n",
    "    \n",
    "    # Définir les headers en utilisant des scripts JavaScript\n",
    "    driver.execute_cdp_cmd('Network.setExtraHTTPHeaders', {\"headers\": headers})\n",
    "\n",
    "\n",
    "    driver.get(url_marque)\n",
    "    driver.implicitly_wait(30)\n",
    "\n",
    "    html_content = driver.page_source"
   ],
   "id": "53bce8ecd65ed863",
   "outputs": [
    {
     "ename": "AttributeError",
     "evalue": "'Proxy' object has no attribute 'add_to_capabilities'",
     "output_type": "error",
     "traceback": [
      "\u001B[0;31m---------------------------------------------------------------------------\u001B[0m",
      "\u001B[0;31mAttributeError\u001B[0m                            Traceback (most recent call last)",
      "Cell \u001B[0;32mIn[45], line 23\u001B[0m\n\u001B[1;32m     18\u001B[0m capabilities \u001B[38;5;241m=\u001B[39m webdriver\u001B[38;5;241m.\u001B[39mDesiredCapabilities\u001B[38;5;241m.\u001B[39mCHROME\n\u001B[1;32m     19\u001B[0m \u001B[38;5;66;03m# caps = webdriver.DesiredCapabilities.CHROME.copy()\u001B[39;00m\n\u001B[1;32m     20\u001B[0m \u001B[38;5;66;03m# caps['acceptInsecureCerts'] = True\u001B[39;00m\n\u001B[1;32m     21\u001B[0m \u001B[38;5;66;03m# driver = webdriver.Chrome(desired_capabilities=caps)\u001B[39;00m\n\u001B[0;32m---> 23\u001B[0m \u001B[43mproxy\u001B[49m\u001B[38;5;241;43m.\u001B[39;49m\u001B[43madd_to_capabilities\u001B[49m(capabilities)\n\u001B[1;32m     25\u001B[0m \u001B[38;5;66;03m# Initialiser le driver avec les options et capacités configurées\u001B[39;00m\n\u001B[1;32m     26\u001B[0m driver \u001B[38;5;241m=\u001B[39m webdriver\u001B[38;5;241m.\u001B[39mChrome(service\u001B[38;5;241m=\u001B[39mService(ChromeDriverManager()\u001B[38;5;241m.\u001B[39minstall()), options\u001B[38;5;241m=\u001B[39mchrome_options, desired_capabilities\u001B[38;5;241m=\u001B[39mcapabilities)\n",
      "\u001B[0;31mAttributeError\u001B[0m: 'Proxy' object has no attribute 'add_to_capabilities'"
     ]
    }
   ],
   "execution_count": 45
  },
  {
   "metadata": {
    "ExecuteTime": {
     "end_time": "2024-05-21T11:26:03.526536Z",
     "start_time": "2024-05-21T11:25:49.572800Z"
    }
   },
   "cell_type": "code",
   "source": [
    "if good_proxies:\n",
    "    YOUR_PROXY_IP = https_proxies_good.iloc[0][\"IP Address\"]\n",
    "    PORT = https_proxies_good.iloc[0][\"Port\"]\n",
    "\n",
    "    proxy_ip_port = f\"{YOUR_PROXY_IP}:{PORT}\"\n",
    "\n",
    "    # Configurer les options de Chrome\n",
    "    options = Options()\n",
    "    options.add_argument(\"--headless\")  # Exécute le navigateur en mode headless\n",
    "\n",
    "    # Configurer le proxy\n",
    "    options.add_argument(f'--proxy-server={proxy_ip_port}')\n",
    "\n",
    "    # Initialiser le driver avec les options et capacités configurées\n",
    "    driver = webdriver.Chrome(service=Service(ChromeDriverManager().install()), options=options)\n",
    "\n",
    "    # Définir les headers en utilisant des scripts JavaScript\n",
    "    driver.execute_cdp_cmd('Network.setExtraHTTPHeaders', {\"headers\": headers})\n",
    "\n",
    "\n",
    "    driver.get(url_marque)\n",
    "    driver.implicitly_wait(30)\n",
    "\n",
    "    html_content = driver.page_source"
   ],
   "id": "f33128f8e4c53801",
   "outputs": [],
   "execution_count": 49
  },
  {
   "metadata": {
    "ExecuteTime": {
     "end_time": "2024-05-21T11:26:12.598730Z",
     "start_time": "2024-05-21T11:26:12.593274Z"
    }
   },
   "cell_type": "code",
   "source": "html_content",
   "id": "15e66decc59e838b",
   "outputs": [
    {
     "data": {
      "text/plain": [
       "'<html><head><title>largus.fr</title><style>#cmsg{animation: A 1.5s;}@keyframes A{0%{opacity:0;}99%{opacity:0;}100%{opacity:1;}}</style><meta name=\"viewport\" content=\"width=device-width, initial-scale=1.0\"></head><body style=\"margin:0\"><script data-cfasync=\"false\">var dd={\\'rt\\':\\'c\\',\\'cid\\':\\'AHrlqAAAAAMAXnOr20wW8DcACNtA7A==\\',\\'hsh\\':\\'E84522F41A6A0984F588C31251DC3F\\',\\'t\\':\\'fe\\',\\'s\\':2501,\\'e\\':\\'35d9cba96a6f991c959f13b3d6bbe9834088ee2518f3b9ebb225b1c9aab437a2\\',\\'host\\':\\'geo.captcha-delivery.com\\'}</script><script data-cfasync=\"false\" src=\"https://ct.captcha-delivery.com/c.js\"></script><iframe src=\"https://geo.captcha-delivery.com/captcha/?initialCid=AHrlqAAAAAMAXnOr20wW8DcACNtA7A%3D%3D&amp;hash=E84522F41A6A0984F588C31251DC3F&amp;cid=861w4f_dqmLleJyCcCvaMGYZbQcX6VotR0dSOVr32eAcXEHWULEmdeZGI7_Yfb4Muq2_Uv_9x9tGwUtFWr8IzL5N4NKl4vvIVO5mXudrNqrB6WX2DAKAy~Tt0aRdtHM2&amp;t=fe&amp;referer=https%3A%2F%2Fwww.largus.fr%2FBmw.html&amp;s=2501&amp;e=35d9cba96a6f991c959f13b3d6bbe9834088ee2518f3b9ebb225b1c9aab437a2&amp;dm=cd\" sandbox=\"allow-scripts allow-same-origin allow-forms\" width=\"100%\" height=\"100%\" style=\"height:100vh;\" frameborder=\"0\" border=\"0\" scrolling=\"yes\"></iframe></body></html>'"
      ]
     },
     "execution_count": 50,
     "metadata": {},
     "output_type": "execute_result"
    }
   ],
   "execution_count": 50
  },
  {
   "metadata": {
    "ExecuteTime": {
     "end_time": "2024-05-21T09:04:20.884994Z",
     "start_time": "2024-05-21T09:04:20.405813Z"
    }
   },
   "cell_type": "code",
   "source": "",
   "id": "94916b1e2a52dd15",
   "outputs": [],
   "execution_count": 2
  },
  {
   "metadata": {
    "ExecuteTime": {
     "end_time": "2024-05-21T09:19:56.720057Z",
     "start_time": "2024-05-21T09:19:56.716200Z"
    }
   },
   "cell_type": "code",
   "source": "",
   "id": "e45ff9f65c84bdfc",
   "outputs": [],
   "execution_count": 8
  },
  {
   "metadata": {
    "ExecuteTime": {
     "end_time": "2024-05-21T10:01:04.785192Z",
     "start_time": "2024-05-21T10:01:04.773858Z"
    }
   },
   "cell_type": "code",
   "source": "",
   "id": "3051d43674dae33a",
   "outputs": [],
   "execution_count": 14
  },
  {
   "metadata": {},
   "cell_type": "code",
   "outputs": [],
   "execution_count": null,
   "source": "",
   "id": "e5446cf556be74"
  },
  {
   "metadata": {},
   "cell_type": "code",
   "outputs": [],
   "execution_count": null,
   "source": "",
   "id": "79bf6e75ae380e41"
  },
  {
   "metadata": {},
   "cell_type": "markdown",
   "source": "",
   "id": "46c8ccb86b1c822d"
  }
 ],
 "metadata": {
  "kernelspec": {
   "display_name": "Python 3",
   "language": "python",
   "name": "python3"
  },
  "language_info": {
   "codemirror_mode": {
    "name": "ipython",
    "version": 2
   },
   "file_extension": ".py",
   "mimetype": "text/x-python",
   "name": "python",
   "nbconvert_exporter": "python",
   "pygments_lexer": "ipython2",
   "version": "2.7.6"
  }
 },
 "nbformat": 4,
 "nbformat_minor": 5
}
