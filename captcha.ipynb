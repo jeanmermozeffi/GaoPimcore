{
 "cells": [
  {
   "cell_type": "code",
   "id": "initial_id",
   "metadata": {
    "collapsed": true,
    "ExecuteTime": {
     "end_time": "2024-05-21T14:39:51.178024Z",
     "start_time": "2024-05-21T14:39:51.062125Z"
    }
   },
   "source": [
    "import requests\n",
    "import time"
   ],
   "outputs": [],
   "execution_count": 1
  },
  {
   "metadata": {
    "ExecuteTime": {
     "end_time": "2024-05-21T14:42:59.270081Z",
     "start_time": "2024-05-21T14:42:59.265543Z"
    }
   },
   "cell_type": "code",
   "source": "API_KEY = '20d4be259387741902c479dc5968d39a'",
   "id": "4c586c5ba722aacc",
   "outputs": [],
   "execution_count": 2
  },
  {
   "metadata": {
    "ExecuteTime": {
     "end_time": "2024-05-21T14:43:01.853597Z",
     "start_time": "2024-05-21T14:43:01.849616Z"
    }
   },
   "cell_type": "code",
   "source": [
    "# Détails de la tâche captcha\n",
    "task = {\n",
    "    \"type\": \"DataDomeSliderTask\",\n",
    "    \"websiteURL\": \"https://www.pokemoncenter.com/\",\n",
    "    \"captchaUrl\": \"https://geo.captcha-delivery.com/captcha/?initialCid=AHrlqAAAAAMAlk-FmAyNOW8AUyTH_g%3D%3D&hash=5B45875B653A484CC79E57036CE9FC&cid=noJuZstmvINksqOxaXWQogbPBd01y3VaH3r-CZ4eqK4roZuelJMHVhO2rR0IySRieoAivkg74B4UpJ.xj.jVNB6-aLaW.Bwvik7__EncryD6COavwx8RmOqgZ7DK_3v&t=fe&referer=https%3A%2F%2Fwww.pokemoncenter.com%2F&s=9817&e=2b1d5a78107ded0dcdc8317aa879979ed5083a2b3a95b734dbe7871679e1403\",\n",
    "    \"userAgent\": \"Mozilla/5.0 (Linux; Android 10; K) AppleWebKit/537.36 (KHTML, like Gecko) Chrome/119.0.0.0 Mobile Safari/537.3\",\n",
    "    \"proxyType\":\"http\",\n",
    "    \"proxyAddress\":\"1.2.3.4\",\n",
    "    \"proxyPort\": \"8080\",\n",
    "    \"proxyLogin\":\"user23\",\n",
    "    \"proxyPassword\":\"p4$w0rd\"\n",
    "}"
   ],
   "id": "699da3e67cfc5642",
   "outputs": [],
   "execution_count": 3
  },
  {
   "metadata": {
    "ExecuteTime": {
     "end_time": "2024-05-21T14:44:28.940630Z",
     "start_time": "2024-05-21T14:44:28.936149Z"
    }
   },
   "cell_type": "code",
   "source": [
    "# Créer la tâche captcha\n",
    "create_task_url = \"https://api.2captcha.com/createTask\"\n",
    "create_task_payload = {\n",
    "    \"clientKey\": API_KEY,\n",
    "    \"task\": task\n",
    "}"
   ],
   "id": "ad8e7286593af7e7",
   "outputs": [],
   "execution_count": 4
  },
  {
   "metadata": {
    "ExecuteTime": {
     "end_time": "2024-05-21T14:44:33.320394Z",
     "start_time": "2024-05-21T14:44:32.483602Z"
    }
   },
   "cell_type": "code",
   "source": [
    "response = requests.post(create_task_url, json=create_task_payload)\n",
    "task_id = response.json().get('taskId')\n",
    "\n",
    "if not task_id:\n",
    "    raise Exception(\"Failed to create task: \", response.json())"
   ],
   "id": "9dfc0878f7e5dbfc",
   "outputs": [
    {
     "ename": "Exception",
     "evalue": "('Failed to create task: ', {'errorId': 10, 'errorCode': 'ERROR_ZERO_BALANCE', 'errorDescription': 'Your balance is zero or negative. Please top up your balance.'})",
     "output_type": "error",
     "traceback": [
      "\u001B[0;31m---------------------------------------------------------------------------\u001B[0m",
      "\u001B[0;31mException\u001B[0m                                 Traceback (most recent call last)",
      "Cell \u001B[0;32mIn[5], line 5\u001B[0m\n\u001B[1;32m      2\u001B[0m task_id \u001B[38;5;241m=\u001B[39m response\u001B[38;5;241m.\u001B[39mjson()\u001B[38;5;241m.\u001B[39mget(\u001B[38;5;124m'\u001B[39m\u001B[38;5;124mtaskId\u001B[39m\u001B[38;5;124m'\u001B[39m)\n\u001B[1;32m      4\u001B[0m \u001B[38;5;28;01mif\u001B[39;00m \u001B[38;5;129;01mnot\u001B[39;00m task_id:\n\u001B[0;32m----> 5\u001B[0m     \u001B[38;5;28;01mraise\u001B[39;00m \u001B[38;5;167;01mException\u001B[39;00m(\u001B[38;5;124m\"\u001B[39m\u001B[38;5;124mFailed to create task: \u001B[39m\u001B[38;5;124m\"\u001B[39m, response\u001B[38;5;241m.\u001B[39mjson())\n",
      "\u001B[0;31mException\u001B[0m: ('Failed to create task: ', {'errorId': 10, 'errorCode': 'ERROR_ZERO_BALANCE', 'errorDescription': 'Your balance is zero or negative. Please top up your balance.'})"
     ]
    }
   ],
   "execution_count": 5
  },
  {
   "metadata": {},
   "cell_type": "code",
   "outputs": [],
   "execution_count": null,
   "source": [
    "# Vérifier le résultat du captcha\n",
    "get_result_url = \"https://api.2captcha.com/getTaskResult\"\n",
    "result_payload = {\n",
    "    \"clientKey\": API_KEY,\n",
    "    \"taskId\": task_id\n",
    "}"
   ],
   "id": "cfcab10ab4ce44bf"
  },
  {
   "metadata": {},
   "cell_type": "code",
   "outputs": [],
   "execution_count": null,
   "source": [
    "while True:\n",
    "    response = requests.post(get_result_url, json=result_payload)\n",
    "    result = response.json()\n",
    "\n",
    "    if result.get('status') == 'ready':\n",
    "        solution = result['solution']\n",
    "        print(\"Captcha solved: \", solution)\n",
    "        break\n",
    "    else:\n",
    "        print(\"Captcha not solved yet, waiting 5 seconds...\")\n",
    "        time.sleep(5)"
   ],
   "id": "5b6fe5ce554c6f5f"
  }
 ],
 "metadata": {
  "kernelspec": {
   "display_name": "Python 3",
   "language": "python",
   "name": "python3"
  },
  "language_info": {
   "codemirror_mode": {
    "name": "ipython",
    "version": 2
   },
   "file_extension": ".py",
   "mimetype": "text/x-python",
   "name": "python",
   "nbconvert_exporter": "python",
   "pygments_lexer": "ipython2",
   "version": "2.7.6"
  }
 },
 "nbformat": 4,
 "nbformat_minor": 5
}
